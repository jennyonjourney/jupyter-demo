{
 "cells": [
  {
   "cell_type": "markdown",
   "id": "72ce1586-f4eb-4138-930b-344cddb5c11e",
   "metadata": {},
   "source": [
    "# w3schools - Reveiw Basic"
   ]
  },
  {
   "cell_type": "code",
   "execution_count": null,
   "id": "37e303ad-0b72-4e17-9216-6ed2b074dd7f",
   "metadata": {},
   "outputs": [],
   "source": [
    "n = 18 #Correct : Weird\n",
    "\n",
    "if (n % 2) != 0:\n",
    "    print(\"Weird\")\n",
    "elif (n % 2) == 0 and n > 2 and n < 5:\n",
    "    print(\"Not Weird\")\n",
    "elif (n % 2) == 0 and n > 6 and n <= 20:\n",
    "    print(\"Weird\")\n",
    "else:\n",
    "    print(\"Not Weird\")"
   ]
  },
  {
   "cell_type": "code",
   "execution_count": 24,
   "id": "f7277d1d-b972-4194-8588-8ee6dd527982",
   "metadata": {},
   "outputs": [
    {
     "name": "stdout",
     "output_type": "stream",
     "text": [
      "fantastic\n"
     ]
    }
   ],
   "source": [
    "# global variables\n",
    "global x\n",
    "x = \"fantastic\"\n",
    "\n",
    "print(x)"
   ]
  },
  {
   "cell_type": "markdown",
   "id": "b02730b7-b6dd-41aa-bcdf-295f76b33f49",
   "metadata": {},
   "source": [
    "## Python random module"
   ]
  },
  {
   "cell_type": "code",
   "execution_count": 36,
   "id": "c14ec848-2ea6-49ef-abff-0b51c7f50abd",
   "metadata": {},
   "outputs": [
    {
     "data": {
      "text/plain": [
       "1.1119138199030736"
      ]
     },
     "execution_count": 36,
     "metadata": {},
     "output_type": "execute_result"
    }
   ],
   "source": [
    "import random as random\n",
    "random.seed()\n",
    "random.randrange(1,10) #returns a random number between given range\n",
    "random.randint(1,10)\n",
    "myoption = [\"apple\",\"banna\",\"cherry\"]\n",
    "random.choice(myoption)\n",
    "random.random() #random between 0 and 1\n",
    "random.uniform(1,10)\n",
    "random.normalvariate(1,10)"
   ]
  },
  {
   "cell_type": "markdown",
   "id": "46f35d5b-c57b-4560-b6e1-db32163e1e8d",
   "metadata": {},
   "source": [
    "# Python Strings"
   ]
  },
  {
   "cell_type": "code",
   "execution_count": 41,
   "id": "2cfc569e-bf20-43fd-8fc8-73985f65a101",
   "metadata": {},
   "outputs": [
    {
     "data": {
      "text/plain": [
       "'I'"
      ]
     },
     "execution_count": 41,
     "metadata": {},
     "output_type": "execute_result"
    }
   ],
   "source": [
    "# strings\n",
    "a = \"I am a movie star\"\n",
    "a[1]\n",
    "a[0]"
   ]
  },
  {
   "cell_type": "code",
   "execution_count": 42,
   "id": "32474805-8620-4514-8658-6914a5db5aab",
   "metadata": {},
   "outputs": [
    {
     "name": "stdout",
     "output_type": "stream",
     "text": [
      "I\n",
      " \n",
      "a\n",
      "m\n",
      " \n",
      "a\n",
      " \n",
      "m\n",
      "o\n",
      "v\n",
      "i\n",
      "e\n",
      " \n",
      "s\n",
      "t\n",
      "a\n",
      "r\n"
     ]
    }
   ],
   "source": [
    "# looping through a string\n",
    "for x in \"I am a movie star\":\n",
    "    print(x)"
   ]
  },
  {
   "cell_type": "code",
   "execution_count": 43,
   "id": "9b188a95-4b7a-44b3-a5ff-b8183a223680",
   "metadata": {},
   "outputs": [
    {
     "name": "stdout",
     "output_type": "stream",
     "text": [
      "True\n"
     ]
    }
   ],
   "source": [
    "# string checking\n",
    "txt = \"I am a movie star\"\n",
    "print(\"movie\" in txt)"
   ]
  },
  {
   "cell_type": "code",
   "execution_count": 45,
   "id": "2cf32eb4-bdc7-4db7-8e0c-069a6833e8dc",
   "metadata": {},
   "outputs": [
    {
     "name": "stdout",
     "output_type": "stream",
     "text": [
      "star is in txt.\n"
     ]
    }
   ],
   "source": [
    "# string checking2\n",
    "txt = \"I am a movie star\"\n",
    "if \"tar\" in txt:\n",
    "    print(\"star is in txt.\")\n",
    "elif \"tarr\" not in txt:\n",
    "    print(\"starr is wrong. it is not in txt.\")"
   ]
  },
  {
   "cell_type": "code",
   "execution_count": 53,
   "id": "e9025141-af7e-4620-9417-60f9c7af4031",
   "metadata": {},
   "outputs": [
    {
     "data": {
      "text/plain": [
       "' HELLO, WORLDS '"
      ]
     },
     "execution_count": 53,
     "metadata": {},
     "output_type": "execute_result"
    }
   ],
   "source": [
    "a = \" HELLO, WORLDS \"\n",
    "a.upper()"
   ]
  },
  {
   "cell_type": "code",
   "execution_count": 54,
   "id": "cc153811-1b54-4470-b1ba-9c66efe27094",
   "metadata": {},
   "outputs": [
    {
     "data": {
      "text/plain": [
       "'HELLO, WORLDS'"
      ]
     },
     "execution_count": 54,
     "metadata": {},
     "output_type": "execute_result"
    }
   ],
   "source": [
    "#remove white space\n",
    "a.strip()"
   ]
  },
  {
   "cell_type": "code",
   "execution_count": 55,
   "id": "ea6ca035-413a-4d03-8e80-de5cb7f6085c",
   "metadata": {},
   "outputs": [
    {
     "data": {
      "text/plain": [
       "' JELLO, WORLDS '"
      ]
     },
     "execution_count": 55,
     "metadata": {},
     "output_type": "execute_result"
    }
   ],
   "source": [
    "a.replace(\"H\",\"J\")"
   ]
  },
  {
   "cell_type": "code",
   "execution_count": 56,
   "id": "06469294-17e0-4bca-97a4-79143c4e6c67",
   "metadata": {},
   "outputs": [
    {
     "data": {
      "text/plain": [
       "[' HELLO', ' WORLDS ']"
      ]
     },
     "execution_count": 56,
     "metadata": {},
     "output_type": "execute_result"
    }
   ],
   "source": [
    "a.split(\",\")"
   ]
  },
  {
   "cell_type": "code",
   "execution_count": 59,
   "id": "3335a71e-2bf4-427c-a826-cf5fefe12993",
   "metadata": {},
   "outputs": [
    {
     "name": "stdout",
     "output_type": "stream",
     "text": [
      "My age is 36\n"
     ]
    },
    {
     "data": {
      "text/plain": [
       "'My age is 36'"
      ]
     },
     "execution_count": 59,
     "metadata": {},
     "output_type": "execute_result"
    }
   ],
   "source": [
    "age = 36\n",
    "txt = \"My age is {}\"\n",
    "print(txt.format(age))\n",
    "txt.format(age)"
   ]
  },
  {
   "cell_type": "code",
   "execution_count": 60,
   "id": "14556e76-0554-4681-a43a-013f70f50b5d",
   "metadata": {},
   "outputs": [
    {
     "name": "stdout",
     "output_type": "stream",
     "text": [
      "6\n"
     ]
    },
    {
     "data": {
      "text/plain": [
       "6"
      ]
     },
     "execution_count": 60,
     "metadata": {},
     "output_type": "execute_result"
    }
   ],
   "source": [
    "print(2+4)\n",
    "2+4"
   ]
  },
  {
   "cell_type": "markdown",
   "id": "4b1b697f-f0e6-4d7c-92f5-4393ec686257",
   "metadata": {},
   "source": [
    "# Python Lists"
   ]
  },
  {
   "cell_type": "code",
   "execution_count": 64,
   "id": "724b457e-3618-4cbf-bf0d-3b2bcb6f62fd",
   "metadata": {},
   "outputs": [
    {
     "ename": "TypeError",
     "evalue": "'list' object is not callable",
     "output_type": "error",
     "traceback": [
      "\u001b[0;31m---------------------------------------------------------------------------\u001b[0m",
      "\u001b[0;31mTypeError\u001b[0m                                 Traceback (most recent call last)",
      "\u001b[0;32m/var/folders/0m/966_8tjn5pddy9gxt6rqdwh00000gn/T/ipykernel_6231/427625023.py\u001b[0m in \u001b[0;36m<module>\u001b[0;34m\u001b[0m\n\u001b[1;32m      1\u001b[0m \u001b[0;31m# using list() contrcutor to make a list\u001b[0m\u001b[0;34m\u001b[0m\u001b[0;34m\u001b[0m\u001b[0m\n\u001b[0;32m----> 2\u001b[0;31m \u001b[0mthislist\u001b[0m \u001b[0;34m=\u001b[0m \u001b[0mlist\u001b[0m\u001b[0;34m(\u001b[0m\u001b[0;34m(\u001b[0m\u001b[0;34m\"apple\"\u001b[0m\u001b[0;34m,\u001b[0m \u001b[0;34m\"banana\"\u001b[0m\u001b[0;34m,\u001b[0m \u001b[0;34m\"cherry\"\u001b[0m\u001b[0;34m)\u001b[0m\u001b[0;34m)\u001b[0m\u001b[0;34m\u001b[0m\u001b[0;34m\u001b[0m\u001b[0m\n\u001b[0m\u001b[1;32m      3\u001b[0m \u001b[0mprint\u001b[0m\u001b[0;34m(\u001b[0m\u001b[0mthislist\u001b[0m\u001b[0;34m)\u001b[0m\u001b[0;34m\u001b[0m\u001b[0;34m\u001b[0m\u001b[0m\n",
      "\u001b[0;31mTypeError\u001b[0m: 'list' object is not callable"
     ]
    }
   ],
   "source": [
    "# using list() contrcutor to make a list\n",
    "thislist = list((\"apple\", \"banana\", \"cherry\"))\n",
    "print(thislist)"
   ]
  },
  {
   "cell_type": "code",
   "execution_count": 76,
   "id": "38b6609d-5622-4855-9953-3e05619ddb08",
   "metadata": {},
   "outputs": [
    {
     "name": "stdout",
     "output_type": "stream",
     "text": [
      "['apple', 'banana', 'watermelon', 'cherry']\n"
     ]
    }
   ],
   "source": [
    "thislist = [\"apple\",\"banana\",\"cherry\"]\n",
    "thislist.insert(2, \"watermelon\")\n",
    "print(thislist)"
   ]
  },
  {
   "cell_type": "code",
   "execution_count": 77,
   "id": "e3bb56fd-1502-4455-a04f-2964a0194ada",
   "metadata": {},
   "outputs": [
    {
     "data": {
      "text/plain": [
       "['apple', 'banana', 'watermelon', 'cherry', 'oragne']"
      ]
     },
     "execution_count": 77,
     "metadata": {},
     "output_type": "execute_result"
    }
   ],
   "source": [
    "thislist.append(\"oragne\")\n",
    "thislist"
   ]
  },
  {
   "cell_type": "code",
   "execution_count": 78,
   "id": "62512d08-293d-42eb-b1bf-08e7052ce3da",
   "metadata": {},
   "outputs": [
    {
     "name": "stdout",
     "output_type": "stream",
     "text": [
      "['apple', 'banana', 'watermelon', 'cherry', 'oragne', 'mango', 'pineapple', 'papaya']\n"
     ]
    }
   ],
   "source": [
    "tropical = [\"mango\",\"pineapple\",\"papaya\"]\n",
    "thislist.extend(tropical)\n",
    "print(thislist)"
   ]
  },
  {
   "cell_type": "code",
   "execution_count": 79,
   "id": "cc30387d-ce98-476f-9cbf-7652a274323c",
   "metadata": {},
   "outputs": [
    {
     "name": "stdout",
     "output_type": "stream",
     "text": [
      "['apple', 'banana', 'watermelon', 'cherry', 'oragne', 'mango', 'pineapple', 'papaya', 'kiwi', 'orange']\n"
     ]
    }
   ],
   "source": [
    "# extend() method does not have to append lists, you can add any iterable object\n",
    "thistuple = (\"kiwi\",\"orange\")\n",
    "thislist.extend(thistuple)\n",
    "print(thislist)"
   ]
  },
  {
   "cell_type": "code",
   "execution_count": 80,
   "id": "bbe1b997-a9c9-4b65-a5d4-e9e59a0800ca",
   "metadata": {},
   "outputs": [
    {
     "name": "stdout",
     "output_type": "stream",
     "text": [
      "['apple', 'watermelon', 'cherry', 'oragne', 'mango', 'pineapple', 'papaya', 'kiwi', 'orange']\n"
     ]
    }
   ],
   "source": [
    "thislist.remove(\"banana\")\n",
    "print(thislist)"
   ]
  },
  {
   "cell_type": "code",
   "execution_count": 81,
   "id": "438acf66-c9bd-4fa9-a1f0-1eb597f17d6d",
   "metadata": {},
   "outputs": [
    {
     "data": {
      "text/plain": [
       "'watermelon'"
      ]
     },
     "execution_count": 81,
     "metadata": {},
     "output_type": "execute_result"
    }
   ],
   "source": [
    "# pop() method removes the specified index\n",
    "thislist.pop(1) # just pop then result position"
   ]
  },
  {
   "cell_type": "code",
   "execution_count": 82,
   "id": "915aaec5-a827-45e7-bc43-681b557553b0",
   "metadata": {},
   "outputs": [
    {
     "name": "stdout",
     "output_type": "stream",
     "text": [
      "['apple', 'cherry', 'oragne', 'mango', 'pineapple', 'papaya', 'kiwi', 'orange']\n"
     ]
    }
   ],
   "source": [
    "print(thislist) # remove that pop word"
   ]
  },
  {
   "cell_type": "code",
   "execution_count": 83,
   "id": "9e5121ac-0071-40e1-80bc-918e96ac12af",
   "metadata": {},
   "outputs": [
    {
     "name": "stdout",
     "output_type": "stream",
     "text": [
      "['apple', 'cherry', 'oragne', 'mango', 'pineapple', 'papaya', 'kiwi']\n"
     ]
    }
   ],
   "source": [
    "# if not sepicify index then Pop() will remove the last word\n",
    "thislist.pop()\n",
    "print(thislist)"
   ]
  },
  {
   "cell_type": "code",
   "execution_count": 84,
   "id": "14ad709a-7462-42b8-ba2e-fc4f21d9507c",
   "metadata": {},
   "outputs": [
    {
     "name": "stdout",
     "output_type": "stream",
     "text": [
      "['cherry', 'oragne', 'mango', 'pineapple', 'papaya', 'kiwi']\n"
     ]
    }
   ],
   "source": [
    "del thislist[0]\n",
    "print(thislist)"
   ]
  },
  {
   "cell_type": "code",
   "execution_count": 85,
   "id": "48d80b16-fe7c-433e-a7bd-f27ee6126cf7",
   "metadata": {},
   "outputs": [
    {
     "name": "stdout",
     "output_type": "stream",
     "text": [
      "[]\n"
     ]
    }
   ],
   "source": [
    "# clear() method empties the list\n",
    "thislist.clear()\n",
    "print(thislist)"
   ]
  },
  {
   "cell_type": "code",
   "execution_count": 86,
   "id": "bb52cd10-107c-40b9-8cc0-dd09dc495d38",
   "metadata": {},
   "outputs": [
    {
     "name": "stdout",
     "output_type": "stream",
     "text": [
      "apple\n",
      "banana\n",
      "cherry\n"
     ]
    }
   ],
   "source": [
    "# loop list\n",
    "thislist = [\"apple\",\"banana\",\"cherry\"]\n",
    "for x in thislist:\n",
    "    print(x)"
   ]
  },
  {
   "cell_type": "code",
   "execution_count": 88,
   "id": "dbe8a9d2-4669-4c1b-be52-8db99544a1d3",
   "metadata": {},
   "outputs": [
    {
     "name": "stdout",
     "output_type": "stream",
     "text": [
      "apple\n",
      "banana\n",
      "cherry\n"
     ]
    }
   ],
   "source": [
    "thislist = [\"apple\",\"banana\",\"cherry\"]\n",
    "for i in range(len(thislist)):\n",
    "    print(thislist[i])"
   ]
  },
  {
   "cell_type": "code",
   "execution_count": 89,
   "id": "333a26e0-240b-4581-9e6e-b7ca687b04c2",
   "metadata": {},
   "outputs": [
    {
     "name": "stdout",
     "output_type": "stream",
     "text": [
      "apple\n",
      "banana\n",
      "cherry\n"
     ]
    }
   ],
   "source": [
    "thislist=[\"apple\",\"banana\",\"cherry\"]\n",
    "i=0\n",
    "while i < len(thislist):\n",
    "    print(thislist[i])\n",
    "    i=i+1"
   ]
  },
  {
   "cell_type": "code",
   "execution_count": 90,
   "id": "2c8f40a7-f655-448e-afcc-0e477b5bf67c",
   "metadata": {},
   "outputs": [
    {
     "name": "stdout",
     "output_type": "stream",
     "text": [
      "apple\n",
      "banana\n",
      "cherry\n"
     ]
    },
    {
     "data": {
      "text/plain": [
       "[None, None, None]"
      ]
     },
     "execution_count": 90,
     "metadata": {},
     "output_type": "execute_result"
    }
   ],
   "source": [
    "[print(x) for x in thislist]"
   ]
  },
  {
   "cell_type": "code",
   "execution_count": 93,
   "id": "bf050077-04f6-42d0-83ac-16db3dd56111",
   "metadata": {},
   "outputs": [
    {
     "name": "stdout",
     "output_type": "stream",
     "text": [
      "['apple', 'banana', 'mango']\n"
     ]
    }
   ],
   "source": [
    "fruits = [\"apple\",\"banana\",\"cherry\",\"kiwi\",\"mango\"]\n",
    "newlist = []\n",
    "for x in fruits:\n",
    "    if \"a\" in x:\n",
    "        newlist.append(x)\n",
    "print(newlist)"
   ]
  },
  {
   "cell_type": "code",
   "execution_count": null,
   "id": "6a5f07ce-8be3-4bf3-8b25-e12932d1487a",
   "metadata": {},
   "outputs": [],
   "source": [
    "newlist = [x for x in fruits if \"a\" in x]"
   ]
  },
  {
   "cell_type": "code",
   "execution_count": 96,
   "id": "610116d8-1e65-428d-8105-ad8c9030bd16",
   "metadata": {},
   "outputs": [
    {
     "data": {
      "text/plain": [
       "['apple', 'orange', 'cherry', 'kiwi', 'mango']"
      ]
     },
     "execution_count": 96,
     "metadata": {},
     "output_type": "execute_result"
    }
   ],
   "source": [
    "newlist = [x if x != \"banana\" else \"orange\" for x in fruits]\n",
    "newlist"
   ]
  },
  {
   "cell_type": "code",
   "execution_count": 97,
   "id": "cb7efa36-377f-4f87-a478-ef57c6f596d6",
   "metadata": {},
   "outputs": [
    {
     "name": "stdout",
     "output_type": "stream",
     "text": [
      "['banana', 'kiwi', 'mango', 'orange', 'pineapple']\n"
     ]
    }
   ],
   "source": [
    "thislist = [\"orange\", \"mango\", \"kiwi\", \"pineapple\", \"banana\"]\n",
    "thislist.sort()\n",
    "print(thislist)"
   ]
  },
  {
   "cell_type": "code",
   "execution_count": 98,
   "id": "5aa8ab97-f3db-4c6c-b80f-e7d74cacfbef",
   "metadata": {},
   "outputs": [
    {
     "name": "stdout",
     "output_type": "stream",
     "text": [
      "['pineapple', 'orange', 'mango', 'kiwi', 'banana']\n"
     ]
    }
   ],
   "source": [
    "thislist.sort(reverse = True)\n",
    "print(thislist)"
   ]
  },
  {
   "cell_type": "code",
   "execution_count": 101,
   "id": "62bc9150-7c38-4772-a85a-67d7afd7aae4",
   "metadata": {},
   "outputs": [
    {
     "name": "stdout",
     "output_type": "stream",
     "text": [
      "[50, 65, 23, 82, 100]\n"
     ]
    }
   ],
   "source": [
    "# customize sort function\n",
    "def myfunc(n):\n",
    "    return abs(n-50)\n",
    "thislist = [100, 50, 65, 82, 23]\n",
    "thislist.sort(key=myfunc)\n",
    "print(thislist)"
   ]
  },
  {
   "cell_type": "code",
   "execution_count": 102,
   "id": "c243bd48-38d5-4261-88d9-ed5baa6c8fc2",
   "metadata": {},
   "outputs": [
    {
     "name": "stdout",
     "output_type": "stream",
     "text": [
      "['banana', 'cherry', 'Kiwi', 'Orange']\n"
     ]
    }
   ],
   "source": [
    "# insensitive sort : capital letters first\n",
    "# if you ignore it, str.lower() as key\n",
    "Thislist = [\"banana\", \"Orange\", \"Kiwi\", \"cherry\"]\n",
    "Thislist.sort(key = str.lower)\n",
    "print(Thislist)"
   ]
  },
  {
   "cell_type": "code",
   "execution_count": 103,
   "id": "94078f8e-5da1-4592-8fa0-b30acf4fdf0f",
   "metadata": {},
   "outputs": [
    {
     "name": "stdout",
     "output_type": "stream",
     "text": [
      "[100, 82, 23, 65, 50]\n"
     ]
    }
   ],
   "source": [
    "thislist.reverse() #just simple reverse\n",
    "print(thislist)"
   ]
  },
  {
   "cell_type": "code",
   "execution_count": 108,
   "id": "c3c3ebb4-907e-4bda-a34f-95bb262f1f0e",
   "metadata": {},
   "outputs": [
    {
     "name": "stdout",
     "output_type": "stream",
     "text": [
      "['apple', 'banana', 'cherry']\n"
     ]
    }
   ],
   "source": [
    "# copy a list\n",
    "mylist = thislist.copy()\n",
    "print(mylist)"
   ]
  },
  {
   "cell_type": "code",
   "execution_count": 134,
   "id": "e7bc0404-ac93-47c0-9155-5ac06c73480a",
   "metadata": {},
   "outputs": [
    {
     "ename": "TypeError",
     "evalue": "'list' object is not callable",
     "output_type": "error",
     "traceback": [
      "\u001b[0;31m---------------------------------------------------------------------------\u001b[0m",
      "\u001b[0;31mTypeError\u001b[0m                                 Traceback (most recent call last)",
      "\u001b[0;32m/var/folders/0m/966_8tjn5pddy9gxt6rqdwh00000gn/T/ipykernel_6231/928789614.py\u001b[0m in \u001b[0;36m<module>\u001b[0;34m\u001b[0m\n\u001b[1;32m      1\u001b[0m \u001b[0;31m# another way of copying\u001b[0m\u001b[0;34m\u001b[0m\u001b[0;34m\u001b[0m\u001b[0m\n\u001b[1;32m      2\u001b[0m \u001b[0maList\u001b[0m \u001b[0;34m=\u001b[0m \u001b[0;34m(\u001b[0m\u001b[0;34m\"apple\"\u001b[0m\u001b[0;34m,\u001b[0m \u001b[0;34m\"banana\"\u001b[0m\u001b[0;34m,\u001b[0m \u001b[0;34m\"cherry\"\u001b[0m\u001b[0;34m)\u001b[0m\u001b[0;34m\u001b[0m\u001b[0;34m\u001b[0m\u001b[0m\n\u001b[0;32m----> 3\u001b[0;31m \u001b[0mcopyaList\u001b[0m \u001b[0;34m=\u001b[0m \u001b[0mlist\u001b[0m\u001b[0;34m(\u001b[0m\u001b[0maList\u001b[0m\u001b[0;34m)\u001b[0m\u001b[0;34m\u001b[0m\u001b[0;34m\u001b[0m\u001b[0m\n\u001b[0m\u001b[1;32m      4\u001b[0m \u001b[0mprint\u001b[0m\u001b[0;34m(\u001b[0m\u001b[0mcopyaList\u001b[0m\u001b[0;34m)\u001b[0m\u001b[0;34m\u001b[0m\u001b[0;34m\u001b[0m\u001b[0m\n",
      "\u001b[0;31mTypeError\u001b[0m: 'list' object is not callable"
     ]
    }
   ],
   "source": [
    "# another way of copying\n",
    "aList = (\"apple\", \"banana\", \"cherry\")\n",
    "copyaList = list(aList)\n",
    "print(copyaList)"
   ]
  },
  {
   "cell_type": "code",
   "execution_count": 122,
   "id": "7d835418-65bd-4ccb-beb0-886036f9afbc",
   "metadata": {},
   "outputs": [
    {
     "name": "stdout",
     "output_type": "stream",
     "text": [
      "('apple', 'banana', 'cherry', 'orange')\n"
     ]
    }
   ],
   "source": [
    "# tuples => convert list first => append\n",
    "# or add tuple to tuple\n",
    "thistuple = (\"apple\", \"banana\", \"cherry\")\n",
    "y = (\"orange\",)\n",
    "thistuple += y\n",
    "print(thistuple)"
   ]
  },
  {
   "cell_type": "code",
   "execution_count": 123,
   "id": "8546972f-efdc-4f4f-922e-d534df332a99",
   "metadata": {},
   "outputs": [
    {
     "name": "stdout",
     "output_type": "stream",
     "text": [
      "['apple', 'banana', 'cherry', 'orange']\n"
     ]
    }
   ],
   "source": [
    "# tuples => convert list first => append\n",
    "# or add tuple to tuple\n",
    "trylist = [\"apple\", \"banana\", \"cherry\"]\n",
    "y = [\"orange\",]\n",
    "trylist += y\n",
    "print(trylist)"
   ]
  },
  {
   "cell_type": "code",
   "execution_count": 124,
   "id": "0a77ffe6-65b1-4c48-a7dd-bd1941d1055e",
   "metadata": {},
   "outputs": [
    {
     "name": "stdout",
     "output_type": "stream",
     "text": [
      "apple\n",
      "banana\n",
      "cherry\n"
     ]
    }
   ],
   "source": [
    "fruits = (\"apple\", \"banana\", \"cherry\")\n",
    "\n",
    "(green, yellow, red) = fruits\n",
    "\n",
    "print(green)\n",
    "print(yellow)\n",
    "print(red)"
   ]
  },
  {
   "cell_type": "code",
   "execution_count": 125,
   "id": "080e42f2-3240-4a8b-bfde-ef78f0bfd6ed",
   "metadata": {},
   "outputs": [
    {
     "name": "stdout",
     "output_type": "stream",
     "text": [
      "apple\n",
      "banana\n",
      "cherry\n"
     ]
    }
   ],
   "source": [
    "fruits = [\"apple\", \"banana\", \"cherry\"]\n",
    "\n",
    "[green, yellow, red] = fruits\n",
    "\n",
    "print(green)\n",
    "print(yellow)\n",
    "print(red)"
   ]
  },
  {
   "cell_type": "code",
   "execution_count": 133,
   "id": "ee91b43c-13d1-4505-bfce-c8169d5966a8",
   "metadata": {},
   "outputs": [
    {
     "name": "stdout",
     "output_type": "stream",
     "text": [
      "{'apple', 'cherry', 'orange', 'banana'}\n",
      "{'apple', 'banana', 'cherry', 'papaya', 'pineapple', 'mango'}\n"
     ]
    }
   ],
   "source": [
    "# set use add() not append() or extend()\n",
    "# set use update() not replace()\n",
    "# set use list, tuple, dictionary\n",
    "# discard is better than remove in terms of non-existing one\n",
    "# add one item\n",
    "thisset = {\"apple\", \"banana\", \"cherry\"}\n",
    "thisset.add(\"orange\")\n",
    "print(thisset)\n",
    "# add multiple items\n",
    "thisset = {\"apple\", \"banana\", \"cherry\"}\n",
    "tropical = {\"pineapple\", \"mango\", \"papaya\"}\n",
    "thisset.update(tropical)\n",
    "print(thisset)"
   ]
  },
  {
   "cell_type": "code",
   "execution_count": 137,
   "id": "2b0060ba-bdfb-4800-be67-f17724221b76",
   "metadata": {},
   "outputs": [
    {
     "data": {
      "text/plain": [
       "dict_keys(['brand', 'model', 'year'])"
      ]
     },
     "execution_count": 137,
     "metadata": {},
     "output_type": "execute_result"
    }
   ],
   "source": [
    "car = {\n",
    "\"brand\":\"Ford\",\n",
    "\"model\":\"Mustang\",\n",
    "\"year\":1964\n",
    "}\n",
    "car.keys()"
   ]
  },
  {
   "cell_type": "code",
   "execution_count": 138,
   "id": "29f2d046-dcb6-457c-91e3-909c13da46dc",
   "metadata": {},
   "outputs": [
    {
     "data": {
      "text/plain": [
       "dict_keys(['brand', 'model', 'year', 'color'])"
      ]
     },
     "execution_count": 138,
     "metadata": {},
     "output_type": "execute_result"
    }
   ],
   "source": [
    "car[\"color\"]=\"white\"\n",
    "car.keys()"
   ]
  },
  {
   "cell_type": "code",
   "execution_count": 139,
   "id": "d3bb5749-6309-4ca4-8369-be132d9ffc3b",
   "metadata": {},
   "outputs": [
    {
     "data": {
      "text/plain": [
       "dict_items([('brand', 'Ford'), ('model', 'Mustang'), ('year', 1964), ('color', 'white')])"
      ]
     },
     "execution_count": 139,
     "metadata": {},
     "output_type": "execute_result"
    }
   ],
   "source": [
    "# return tuples in a list (리스트 안에 수정이 불가한 튜플)\n",
    "car.items()"
   ]
  },
  {
   "cell_type": "code",
   "execution_count": 142,
   "id": "9d42e205-6f77-4b3b-a96d-4e127579aca7",
   "metadata": {},
   "outputs": [
    {
     "name": "stdout",
     "output_type": "stream",
     "text": [
      "{'brand': 'Ford', 'year': 1964}\n"
     ]
    }
   ],
   "source": [
    "# dictionary use update({})\n",
    "thisdict = {\n",
    "  \"brand\": \"Ford\",\n",
    "  \"model\": \"Mustang\",\n",
    "  \"year\": 1964\n",
    "}\n",
    "thisdict.pop(\"model\")\n",
    "print(thisdict)"
   ]
  },
  {
   "cell_type": "code",
   "execution_count": 145,
   "id": "8838191c-7edc-4425-9cd1-c1ef329920c3",
   "metadata": {},
   "outputs": [
    {
     "name": "stdout",
     "output_type": "stream",
     "text": [
      "{'brand': 'Ford', 'model': 'Mustang'}\n"
     ]
    }
   ],
   "source": [
    "# dictionary use update({})\n",
    "thisdict = {\n",
    "  \"brand\": \"Ford\",\n",
    "  \"model\": \"Mustang\",\n",
    "  \"year\": 1964\n",
    "}\n",
    "thisdict.popitem()\n",
    "print(thisdict)"
   ]
  },
  {
   "cell_type": "code",
   "execution_count": 147,
   "id": "91ae74cd-9717-4515-a6e1-caaead14d2fb",
   "metadata": {},
   "outputs": [
    {
     "name": "stdout",
     "output_type": "stream",
     "text": [
      "brand\n",
      "model\n",
      "year\n"
     ]
    }
   ],
   "source": [
    "# print all key names \n",
    "thisdict = {\n",
    "  \"brand\": \"Ford\",\n",
    "  \"model\": \"Mustang\",\n",
    "  \"year\": 1964\n",
    "}\n",
    "for x in thisdict:#thisdict.keys() same result\n",
    "    print(x)"
   ]
  },
  {
   "cell_type": "code",
   "execution_count": 148,
   "id": "22954e2d-fc6f-4230-8896-7f6a8f746adc",
   "metadata": {},
   "outputs": [
    {
     "name": "stdout",
     "output_type": "stream",
     "text": [
      "Ford\n",
      "Mustang\n",
      "1964\n"
     ]
    }
   ],
   "source": [
    "# print all values\n",
    "thisdict = {\n",
    "  \"brand\": \"Ford\",\n",
    "  \"model\": \"Mustang\",\n",
    "  \"year\": 1964\n",
    "}\n",
    "for x in thisdict.values():\n",
    "    print(x)"
   ]
  },
  {
   "cell_type": "code",
   "execution_count": 150,
   "id": "386c5e54-9238-4059-bec6-36e5646b2b7b",
   "metadata": {},
   "outputs": [
    {
     "name": "stdout",
     "output_type": "stream",
     "text": [
      "('brand', 'Ford')\n",
      "('model', 'Mustang')\n",
      "('year', 1964)\n"
     ]
    }
   ],
   "source": [
    "# print all keys\n",
    "thisdict = {\n",
    "  \"brand\": \"Ford\",\n",
    "  \"model\": \"Mustang\",\n",
    "  \"year\": 1964\n",
    "}\n",
    "for x in thisdict.items():\n",
    "    print(x)"
   ]
  },
  {
   "cell_type": "code",
   "execution_count": 152,
   "id": "ade0a8c6-2ca0-4350-840a-30fe50febcd7",
   "metadata": {},
   "outputs": [
    {
     "data": {
      "text/plain": [
       "{'brand': 'Ford', 'model': 'Mustang', 'year': 1964}"
      ]
     },
     "execution_count": 152,
     "metadata": {},
     "output_type": "execute_result"
    }
   ],
   "source": [
    "mydict = dict(thisdict)\n",
    "mydict"
   ]
  },
  {
   "cell_type": "code",
   "execution_count": 153,
   "id": "afbea2c3-69f3-4ed7-8518-4cd04739a778",
   "metadata": {},
   "outputs": [],
   "source": [
    "myfavorite = {\n",
    "    \"webtoon1\" : {\n",
    "        \"name\" : \"trap\",\n",
    "        \"publisher\" : \"naver\"\n",
    "    },\n",
    "    \"webtoon2\" : {\n",
    "        \"name\" : \"a man who can't taste\",\n",
    "        \"publisher\" : \"kakaogpage\"\n",
    "    },\n",
    "    \"webtoon3\" : {\n",
    "        \"name\" : \"secret lady\",\n",
    "        \"publisher\" : \"kakaopage\"\n",
    "    }\n",
    "}"
   ]
  }
 ],
 "metadata": {
  "kernelspec": {
   "display_name": "Python 3 (ipykernel)",
   "language": "python",
   "name": "python3"
  },
  "language_info": {
   "codemirror_mode": {
    "name": "ipython",
    "version": 3
   },
   "file_extension": ".py",
   "mimetype": "text/x-python",
   "name": "python",
   "nbconvert_exporter": "python",
   "pygments_lexer": "ipython3",
   "version": "3.9.13"
  }
 },
 "nbformat": 4,
 "nbformat_minor": 5
}
