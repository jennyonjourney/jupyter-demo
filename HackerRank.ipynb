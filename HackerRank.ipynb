{
 "cells": [
  {
   "cell_type": "markdown",
   "id": "7103e119-51fb-480c-8c24-f94241e9168c",
   "metadata": {},
   "source": [
    "# Printing Pattern "
   ]
  },
  {
   "cell_type": "code",
   "execution_count": null,
   "id": "cec91e86-a7c9-487c-b75c-2355909df599",
   "metadata": {},
   "outputs": [
    {
     "name": "stdout",
     "output_type": "stream",
     "text": [
      "*\n",
      "*\n",
      "*\n",
      "*\n",
      ".\n",
      "*\n",
      "*\n",
      "*\n",
      "*\n",
      ".\n",
      "*\n",
      "*\n",
      "*\n",
      "*\n",
      ".\n",
      "*\n",
      "*\n",
      "*\n",
      "*\n",
      ".\n"
     ]
    }
   ],
   "source": [
    "for i in range(4):\n",
    "    for j in range(4):\n",
    "        print(\"*\")\n",
    "    print(\".\")"
   ]
  },
  {
   "cell_type": "code",
   "execution_count": 25,
   "id": "e7789ab4-052e-4514-a82e-6b61f395e842",
   "metadata": {},
   "outputs": [
    {
     "name": "stdout",
     "output_type": "stream",
     "text": [
      "****.\n",
      "****.\n",
      "****.\n",
      "****.\n"
     ]
    }
   ],
   "source": [
    "for i in range(4):\n",
    "    for j in range(4):\n",
    "        print(\"*\",end=\"\")\n",
    "    print(\".\")"
   ]
  },
  {
   "cell_type": "code",
   "execution_count": 14,
   "id": "bda93a6c-bd9f-4465-b7f6-8f85526a22bd",
   "metadata": {},
   "outputs": [
    {
     "name": "stdout",
     "output_type": "stream",
     "text": [
      "*\n",
      "*\n",
      "*\n",
      "*\n"
     ]
    }
   ],
   "source": [
    "for j in range(4):\n",
    "        print(\"*\")"
   ]
  },
  {
   "cell_type": "code",
   "execution_count": 15,
   "id": "91e44ea1-46dc-437d-8717-c33c7f248804",
   "metadata": {},
   "outputs": [
    {
     "name": "stdout",
     "output_type": "stream",
     "text": [
      "0\n",
      "1\n",
      "2\n",
      "3\n"
     ]
    }
   ],
   "source": [
    "for j in range(4):\n",
    "        print(j)"
   ]
  },
  {
   "cell_type": "code",
   "execution_count": 17,
   "id": "c1269518-d908-48ec-ad80-0a43993485d8",
   "metadata": {},
   "outputs": [
    {
     "name": "stdout",
     "output_type": "stream",
     "text": [
      "1\n",
      "2\n",
      "3\n"
     ]
    }
   ],
   "source": [
    "for j in range(1,4):\n",
    "        print(j)"
   ]
  },
  {
   "cell_type": "code",
   "execution_count": 28,
   "id": "929124b1-8f59-48e9-9bde-a2ab6ffb45bf",
   "metadata": {},
   "outputs": [
    {
     "name": "stdout",
     "output_type": "stream",
     "text": [
      "1234 \n",
      "1234 \n",
      "1234 \n",
      "1234 \n"
     ]
    }
   ],
   "source": [
    "for i in range(1,5):\n",
    "    for j in range(1,5):\n",
    "        print(j,end=\"\")\n",
    "    print(\" \")"
   ]
  },
  {
   "cell_type": "code",
   "execution_count": 32,
   "id": "37c08a43-4213-447b-8103-4f22aabdf8ef",
   "metadata": {},
   "outputs": [
    {
     "name": "stdout",
     "output_type": "stream",
     "text": [
      "4444 \n",
      "3333 \n",
      "2222 \n",
      "1111 \n"
     ]
    }
   ],
   "source": [
    "for i in reversed(range(1,5)):\n",
    "    for j in reversed(range(1,5)):\n",
    "        print(i,end=\"\")\n",
    "    print(\" \")"
   ]
  },
  {
   "cell_type": "code",
   "execution_count": 29,
   "id": "f7c42c29-e793-4b44-bdcd-08317d747e97",
   "metadata": {},
   "outputs": [
    {
     "name": "stdout",
     "output_type": "stream",
     "text": [
      "1111 \n",
      "2222 \n",
      "3333 \n",
      "4444 \n"
     ]
    }
   ],
   "source": [
    "for i in range(1,5):\n",
    "    for j in range(1,5):\n",
    "        print(i,end=\"\")\n",
    "    print(\" \")"
   ]
  },
  {
   "cell_type": "code",
   "execution_count": null,
   "id": "9c238ed3-e954-4ec7-869d-6e8429dc33fa",
   "metadata": {},
   "outputs": [],
   "source": [
    "for i in range(1, int(input())):  \n",
    "    print(i * ((pow(10, i) - 1) // 9))\n"
   ]
  },
  {
   "cell_type": "code",
   "execution_count": 34,
   "id": "1df4555b-b650-423b-b2a0-e8a474e7f194",
   "metadata": {},
   "outputs": [
    {
     "data": {
      "text/plain": [
       "100"
      ]
     },
     "execution_count": 34,
     "metadata": {},
     "output_type": "execute_result"
    }
   ],
   "source": [
    "pow(10,2)"
   ]
  },
  {
   "cell_type": "code",
   "execution_count": 36,
   "id": "61e67ce0-bffc-46bc-95ce-6f3cd8d9d724",
   "metadata": {},
   "outputs": [
    {
     "data": {
      "text/plain": [
       "22"
      ]
     },
     "execution_count": 36,
     "metadata": {},
     "output_type": "execute_result"
    }
   ],
   "source": [
    "2*(100-1)//9"
   ]
  },
  {
   "cell_type": "markdown",
   "id": "f797e822-b5c0-45c4-9b94-557e9bf60189",
   "metadata": {},
   "source": [
    "# List comprehension & print array"
   ]
  },
  {
   "cell_type": "code",
   "execution_count": 37,
   "id": "cdac1b33-a016-42f9-9289-ddec370c9baf",
   "metadata": {},
   "outputs": [
    {
     "name": "stdout",
     "output_type": "stream",
     "text": [
      "[[0, 0, 0], [0, 0, 1], [0, 0, 2], [0, 1, 0], [0, 1, 1], [1, 0, 0], [1, 0, 1], [1, 1, 0], [1, 1, 2]]\n"
     ]
    }
   ],
   "source": [
    "# Final correct list comprehension\n",
    "x = 1\n",
    "y = 1\n",
    "z = 2\n",
    "n = 3\n",
    "ls = [[i,j,k] for i in range(x+1) for j in range(y+1) for k in range(z+1) if i+j+k != n]\n",
    "print(ls)"
   ]
  },
  {
   "cell_type": "code",
   "execution_count": 54,
   "id": "f99a0533-de2e-45ba-b559-82a5cea9fbaf",
   "metadata": {},
   "outputs": [
    {
     "name": "stdout",
     "output_type": "stream",
     "text": [
      "[0, 0, 0][0, 0, 1][0, 0, 2][0, 1, 0][0, 1, 1][1, 0, 0][1, 0, 1][1, 1, 0][1, 1, 2]"
     ]
    }
   ],
   "source": [
    "# my incorrect answer first\n",
    "x = 1\n",
    "y = 1\n",
    "z = 2\n",
    "n = 3\n",
    "l=[]\n",
    "for i in range(0,x+1):\n",
    "    for j in range(0,y+1):\n",
    "        for z in range(0,z+1):\n",
    "            if i+j+z != n:\n",
    "                print([i,j,z],end=\"\")"
   ]
  },
  {
   "cell_type": "code",
   "execution_count": 55,
   "id": "f43aac6f-11ba-4616-8781-7e9bc54d24a6",
   "metadata": {},
   "outputs": [
    {
     "name": "stdout",
     "output_type": "stream",
     "text": [
      "[[0, 0, 0], [0, 0, 1], [0, 0, 2], [0, 1, 0], [0, 1, 1], [1, 0, 0], [1, 0, 1], [1, 1, 0], [1, 1, 2]]\n"
     ]
    }
   ],
   "source": [
    "# another partially correct answer\n",
    "x = 1\n",
    "y = 1\n",
    "z = 2\n",
    "n = 3\n",
    "l=[]\n",
    "for i in range(0,x+1):\n",
    "    for j in range(0,y+1):\n",
    "        for k in range(0,z+1):\n",
    "            if i+j+k == n:\n",
    "                continue\n",
    "            l.append([i,j,k])\n",
    "print(l)"
   ]
  },
  {
   "cell_type": "markdown",
   "id": "214771ee-f5fb-44d5-a6a9-abff35fc3074",
   "metadata": {},
   "source": [
    "# 2D Array practice"
   ]
  },
  {
   "cell_type": "code",
   "execution_count": 4,
   "id": "fbc19e72-1274-4d65-bfb7-3030ae379aae",
   "metadata": {},
   "outputs": [
    {
     "data": {
      "text/plain": [
       "[[1, 2, 3], [5, 99, 7]]"
      ]
     },
     "execution_count": 4,
     "metadata": {},
     "output_type": "execute_result"
    }
   ],
   "source": [
    "a = [[1,2,3],\n",
    "     [5,6,7]]\n",
    "a[1][1]=99\n",
    "a"
   ]
  },
  {
   "cell_type": "code",
   "execution_count": 5,
   "id": "692b8c5c-4793-45b8-845b-a47dfd34bf40",
   "metadata": {},
   "outputs": [
    {
     "name": "stdout",
     "output_type": "stream",
     "text": [
      "1\n",
      "2\n",
      "3\n",
      "5\n",
      "99\n",
      "7\n"
     ]
    }
   ],
   "source": [
    "for i in a:\n",
    "    for j in i:\n",
    "        print(j)"
   ]
  },
  {
   "cell_type": "code",
   "execution_count": 6,
   "id": "b4ed0320-f3d0-4e5a-ba42-6ac65ae0ed37",
   "metadata": {},
   "outputs": [
    {
     "name": "stdout",
     "output_type": "stream",
     "text": [
      "1\n",
      "2\n",
      "3\n",
      "5\n",
      "99\n",
      "7\n"
     ]
    }
   ],
   "source": [
    "for row in a:\n",
    "    for item in row:\n",
    "        print(item)"
   ]
  },
  {
   "cell_type": "code",
   "execution_count": 7,
   "id": "dd6de279-c5a8-4680-80bd-c434b296467c",
   "metadata": {},
   "outputs": [
    {
     "name": "stdout",
     "output_type": "stream",
     "text": [
      "1\n",
      "2\n",
      "3\n",
      "5\n",
      "99\n",
      "7\n"
     ]
    }
   ],
   "source": [
    "for i in range(len(a)):\n",
    "    for j in range(len(a[i])):\n",
    "        print(a[i][j])"
   ]
  },
  {
   "cell_type": "code",
   "execution_count": 12,
   "id": "030dfd04-0fcd-45b3-aab5-7f4d12e1c6d4",
   "metadata": {},
   "outputs": [
    {
     "name": "stdout",
     "output_type": "stream",
     "text": [
      "1\n",
      "5\n",
      "9\n"
     ]
    }
   ],
   "source": [
    "# get the sum of diagonal 15\n",
    "d = [[1,2,3],\n",
    "     [4,5,6],\n",
    "     [7,8,9]]\n",
    "\n",
    "d[0][0]+d[1][1]+d[2][2] #15 how to make it with for loop?"
   ]
  },
  {
   "cell_type": "code",
   "execution_count": 16,
   "id": "a0b5ee32-8a8a-46ed-9cc8-1caecc6439e1",
   "metadata": {},
   "outputs": [
    {
     "data": {
      "text/plain": [
       "15"
      ]
     },
     "execution_count": 16,
     "metadata": {},
     "output_type": "execute_result"
    }
   ],
   "source": [
    "def diag(d):\n",
    "    total = 0\n",
    "    for i in range(len(d)):\n",
    "        total += d[i][i]\n",
    "    return total\n",
    "\n",
    "diag(d)"
   ]
  },
  {
   "cell_type": "code",
   "execution_count": 25,
   "id": "8b33bf29-6725-4903-8943-11fe1f502dba",
   "metadata": {},
   "outputs": [],
   "source": [
    "# chess question\n",
    "def rooks_are_safe(chessboard):\n",
    "    n = len(chessboard)\n",
    "    for row_i in range(n):\n",
    "        row_count = 0 #initialize\n",
    "        for col_i in range(n):\n",
    "            row_count += chessboard[row_i][col_i]\n",
    "        if row_count > 1:\n",
    "            return False\n",
    "    for col_i in range(n):\n",
    "        col_count = 0 #initalize\n",
    "        for row_i in range(n):\n",
    "            col_count += chessboard[row_i][col_i]\n",
    "        if col_count > 1:\n",
    "            return False\n",
    "    return True"
   ]
  },
  {
   "cell_type": "code",
   "execution_count": 26,
   "id": "79fbeb17-0982-4ebe-ac89-c8fa41de9bd0",
   "metadata": {},
   "outputs": [
    {
     "data": {
      "text/plain": [
       "True"
      ]
     },
     "execution_count": 26,
     "metadata": {},
     "output_type": "execute_result"
    }
   ],
   "source": [
    "t1 = [[1,0,0,0],\n",
    "      [0,1,0,0],\n",
    "      [0,0,0,1],\n",
    "      [0,0,0,0]]\n",
    "\n",
    "rooks_are_safe(t1)"
   ]
  },
  {
   "cell_type": "markdown",
   "id": "e8647c76-783f-454b-be34-80205cf67397",
   "metadata": {},
   "source": [
    "## 2d array sort"
   ]
  },
  {
   "cell_type": "code",
   "execution_count": 2,
   "id": "e3b5d2e1-f5d5-4c76-b998-9752050e4c3c",
   "metadata": {},
   "outputs": [
    {
     "data": {
      "text/plain": [
       "[[4, 3, 1, 2], [12, 18, 6, 3], [15, 8, 9, 6]]"
      ]
     },
     "execution_count": 2,
     "metadata": {},
     "output_type": "execute_result"
    }
   ],
   "source": [
    "# 2d array sort?\n",
    "k = [\n",
    "     [12, 18, 6, 3], \n",
    "     [ 4,  3, 1, 2], \n",
    "     [15,  8, 9, 6]\n",
    "]\n",
    "k.sort()\n",
    "k"
   ]
  },
  {
   "cell_type": "code",
   "execution_count": 3,
   "id": "0ce43f30-7c17-43aa-bdc6-2f4b286f1fdc",
   "metadata": {},
   "outputs": [
    {
     "data": {
      "text/plain": [
       "[[37.21, 'Harry'],\n",
       " [37.21, 'Berry'],\n",
       " [37.2, 'Tina'],\n",
       " [41, 'Akriti'],\n",
       " [39, 'Harsh']]"
      ]
     },
     "execution_count": 3,
     "metadata": {},
     "output_type": "execute_result"
    }
   ],
   "source": [
    "matrix = [[37.21, \"Harry\"],\n",
    "          [37.21, \"Berry\"],\n",
    "          [37.2, \"Tina\"],\n",
    "          [41, \"Akriti\"],\n",
    "          [39, \"Harsh\"]\n",
    "]\n",
    "matrix"
   ]
  },
  {
   "cell_type": "code",
   "execution_count": 5,
   "id": "23911584-6188-4708-a46e-8f8d39aea7aa",
   "metadata": {},
   "outputs": [
    {
     "data": {
      "text/plain": [
       "[[37.2, 'Tina'],\n",
       " [37.21, 'Berry'],\n",
       " [37.21, 'Harry'],\n",
       " [39, 'Harsh'],\n",
       " [41, 'Akriti']]"
      ]
     },
     "execution_count": 5,
     "metadata": {},
     "output_type": "execute_result"
    }
   ],
   "source": [
    "matrix.sort()\n",
    "matrix"
   ]
  },
  {
   "cell_type": "code",
   "execution_count": 6,
   "id": "f1ca73ff-f993-4ff1-9a8b-e57f195ff81e",
   "metadata": {},
   "outputs": [
    {
     "data": {
      "text/plain": [
       "[['Harry', 37.21],\n",
       " ['Berry', 37.21],\n",
       " ['Tina', 37.2],\n",
       " ['Akriti', 41],\n",
       " ['Harsh', 39]]"
      ]
     },
     "execution_count": 6,
     "metadata": {},
     "output_type": "execute_result"
    }
   ],
   "source": [
    "matrix2 = [[\"Harry\", 37.21],\n",
    "          [\"Berry\", 37.21],\n",
    "          [\"Tina\", 37.2],\n",
    "          [\"Akriti\", 41],\n",
    "          [\"Harsh\", 39]\n",
    "]\n",
    "matrix2"
   ]
  },
  {
   "cell_type": "code",
   "execution_count": 8,
   "id": "ab3b9d34-cd95-4859-bb09-0e7bdc986665",
   "metadata": {},
   "outputs": [
    {
     "data": {
      "text/plain": [
       "[['Akriti', 41],\n",
       " ['Berry', 37.21],\n",
       " ['Harry', 37.21],\n",
       " ['Harsh', 39],\n",
       " ['Tina', 37.2]]"
      ]
     },
     "execution_count": 8,
     "metadata": {},
     "output_type": "execute_result"
    }
   ],
   "source": [
    "matrix2.sort()\n",
    "matrix2"
   ]
  },
  {
   "cell_type": "code",
   "execution_count": 9,
   "id": "b8d950b2-b49c-4b86-a367-b44b0e8bb135",
   "metadata": {},
   "outputs": [
    {
     "data": {
      "text/plain": [
       "28.0"
      ]
     },
     "execution_count": 9,
     "metadata": {},
     "output_type": "execute_result"
    }
   ],
   "source": [
    "(26+28+30)/3"
   ]
  },
  {
   "cell_type": "markdown",
   "id": "9e7295bc-26b3-4950-b2e0-b263eda784b3",
   "metadata": {},
   "source": [
    "# string"
   ]
  },
  {
   "cell_type": "code",
   "execution_count": 4,
   "id": "d523f031-848f-4fe4-9b96-a660e3d7d74f",
   "metadata": {},
   "outputs": [
    {
     "name": "stdout",
     "output_type": "stream",
     "text": [
      "hELLO wORLD\n"
     ]
    }
   ],
   "source": [
    "txt=\"Hello World\"\n",
    "x=txt.swapcase()\n",
    "print(x)"
   ]
  },
  {
   "cell_type": "code",
   "execution_count": 5,
   "id": "bcbfd573-03f2-4e0e-830c-6cc4dbceef54",
   "metadata": {},
   "outputs": [
    {
     "data": {
      "text/plain": [
       "'H-e-l-l-o- -W-o-r-l-d'"
      ]
     },
     "execution_count": 5,
     "metadata": {},
     "output_type": "execute_result"
    }
   ],
   "source": [
    "txt2=\"-\".join(txt)\n",
    "txt2"
   ]
  },
  {
   "cell_type": "code",
   "execution_count": 7,
   "id": "0adaa662-67ab-4441-a34a-60e5f8ac0bca",
   "metadata": {},
   "outputs": [
    {
     "data": {
      "text/plain": [
       "'hello-world'"
      ]
     },
     "execution_count": 7,
     "metadata": {},
     "output_type": "execute_result"
    }
   ],
   "source": [
    "txtlist = ['hello','world']\n",
    "'-'.join(txtlist)"
   ]
  },
  {
   "cell_type": "code",
   "execution_count": 9,
   "id": "346a8c9f-7cca-456c-87a4-1458997cf720",
   "metadata": {},
   "outputs": [],
   "source": [
    "txt = \"python is FUN!\""
   ]
  },
  {
   "cell_type": "code",
   "execution_count": 10,
   "id": "9935d61c-4c89-4de7-a227-af678ea75789",
   "metadata": {},
   "outputs": [
    {
     "data": {
      "text/plain": [
       "'Python is fun!'"
      ]
     },
     "execution_count": 10,
     "metadata": {},
     "output_type": "execute_result"
    }
   ],
   "source": [
    "txt.capitalize()"
   ]
  },
  {
   "cell_type": "code",
   "execution_count": 14,
   "id": "d70cc643-98bd-44e4-b74f-b7822cce34d4",
   "metadata": {},
   "outputs": [
    {
     "data": {
      "text/plain": [
       "'********python is FUN!********'"
      ]
     },
     "execution_count": 14,
     "metadata": {},
     "output_type": "execute_result"
    }
   ],
   "source": [
    "txt.center(30,\"*\")"
   ]
  },
  {
   "cell_type": "code",
   "execution_count": 15,
   "id": "740bb3df-45ef-4a32-ab7f-866c1847fa55",
   "metadata": {},
   "outputs": [
    {
     "name": "stdout",
     "output_type": "stream",
     "text": [
      "b'My name is St\\\\xe5le'\n"
     ]
    }
   ],
   "source": [
    "txt = \"My name is Ståle\"\n",
    "print(txt.encode(encoding=\"ascii\",errors=\"backslashreplace\"))"
   ]
  },
  {
   "cell_type": "code",
   "execution_count": 16,
   "id": "97a4caf9-aef9-4bb2-af71-6446889ad38c",
   "metadata": {},
   "outputs": [
    {
     "name": "stdout",
     "output_type": "stream",
     "text": [
      "H e l l o\n"
     ]
    }
   ],
   "source": [
    "# set the tab size to 2 whitespaces\n",
    "txt = \"H\\te\\tl\\tl\\to\"\n",
    "x =  txt.expandtabs(2)\n",
    "print(x)"
   ]
  },
  {
   "cell_type": "code",
   "execution_count": 20,
   "id": "650fb4d7-6437-4a2f-8c61-3d10060d05d4",
   "metadata": {},
   "outputs": [
    {
     "name": "stdout",
     "output_type": "stream",
     "text": [
      "False\n",
      "True\n"
     ]
    }
   ],
   "source": [
    "# check if the string ends with a punctuation sign\n",
    "txt = \"world.!\"\n",
    "x = txt.endswith(\".\")\n",
    "print(x)\n",
    "y = txt[:6].endswith(\".\")\n",
    "print(y)"
   ]
  },
  {
   "cell_type": "code",
   "execution_count": 35,
   "id": "69e4ec99-1bfe-4486-8117-9f059e1e4cb8",
   "metadata": {},
   "outputs": [
    {
     "name": "stdout",
     "output_type": "stream",
     "text": [
      "True\n"
     ]
    }
   ],
   "source": [
    "# Check if the string starts with \"Hello\":\n",
    "txt = \"Hello, welcome to my world.\"\n",
    "x = txt.startswith(\"Hello\")\n",
    "print(x)"
   ]
  },
  {
   "cell_type": "code",
   "execution_count": 21,
   "id": "b0f03918-7890-4e30-9737-635b6ae09ad7",
   "metadata": {},
   "outputs": [
    {
     "name": "stdout",
     "output_type": "stream",
     "text": [
      "7\n"
     ]
    }
   ],
   "source": [
    "# The find() method is almost the same as the index() method, the only difference is that the index() method raises an exception if the value is not found. \n",
    "txt = \"Hello, welcome to my world.\"\n",
    "x = txt.find(\"welcome\")\n",
    "print(x)"
   ]
  },
  {
   "cell_type": "code",
   "execution_count": 24,
   "id": "29128b88-60e5-44b4-a3fd-3f678eeeaa9e",
   "metadata": {},
   "outputs": [
    {
     "data": {
      "text/plain": [
       "'For only 29.00 dollars!'"
      ]
     },
     "execution_count": 24,
     "metadata": {},
     "output_type": "execute_result"
    }
   ],
   "source": [
    "# format : insert string in the placeholder\n",
    "txt = \"For only {price:.2f} dollars!\"\n",
    "txt.format(price=29)"
   ]
  },
  {
   "cell_type": "code",
   "execution_count": 27,
   "id": "ad94c1a4-61cf-42cd-a6c4-bd8f78f83151",
   "metadata": {},
   "outputs": [
    {
     "name": "stdout",
     "output_type": "stream",
     "text": [
      "My name is John, I'm 36\n",
      "My name is John, I'm 36\n",
      "My name is John, I'm 36\n"
     ]
    }
   ],
   "source": [
    "txt1 = \"My name is {fname}, I'm {age}\".format(fname = \"John\", age = 36)\n",
    "txt2 = \"My name is {0}, I'm {1}\".format(\"John\",36)\n",
    "txt3 = \"My name is {}, I'm {}\".format(\"John\",36)\n",
    "print(txt1)\n",
    "print(txt2)\n",
    "print(txt3)"
   ]
  },
  {
   "cell_type": "code",
   "execution_count": 28,
   "id": "62c7a02f-2b58-4b60-8e44-5f463c48911c",
   "metadata": {},
   "outputs": [
    {
     "name": "stdout",
     "output_type": "stream",
     "text": [
      "Hello Pam!\n"
     ]
    }
   ],
   "source": [
    "# translate\n",
    "txt = \"Hello Sam!\"\n",
    "mytable = txt.maketrans(\"S\", \"P\")\n",
    "print(txt.translate(mytable))"
   ]
  },
  {
   "cell_type": "code",
   "execution_count": 29,
   "id": "3b376975-bf4e-4ea2-a418-b87dbc03dcbd",
   "metadata": {},
   "outputs": [
    {
     "name": "stdout",
     "output_type": "stream",
     "text": [
      "of all fruits      banana is my favorite\n"
     ]
    }
   ],
   "source": [
    "# rstrip\n",
    "txt = \"     banana     \"\n",
    "x = txt.rstrip()\n",
    "print(\"of all fruits\", x, \"is my favorite\")"
   ]
  },
  {
   "cell_type": "code",
   "execution_count": 33,
   "id": "d528b5e2-bba7-4ea1-9204-94ab256af35a",
   "metadata": {},
   "outputs": [
    {
     "name": "stdout",
     "output_type": "stream",
     "text": [
      "banqana,qsw,!\n"
     ]
    }
   ],
   "source": [
    "txt = \"banqana,qsw,!q,,,ssqqqww.....\"\n",
    "x = txt.rstrip(\",.qsw\")\n",
    "print(x)"
   ]
  },
  {
   "cell_type": "code",
   "execution_count": 34,
   "id": "a96391be-9acb-4a23-bb5b-c1d71f0e9bc1",
   "metadata": {},
   "outputs": [
    {
     "name": "stdout",
     "output_type": "stream",
     "text": [
      "['Thank you for the music', 'Welcome to the jungle']\n"
     ]
    }
   ],
   "source": [
    "txt = \"Thank you for the music\\nWelcome to the jungle\"\n",
    "x = txt.splitlines()\n",
    "print(x)"
   ]
  },
  {
   "cell_type": "code",
   "execution_count": 36,
   "id": "792addce-c2c9-432f-a3ec-dc2f66b58da9",
   "metadata": {},
   "outputs": [
    {
     "name": "stdout",
     "output_type": "stream",
     "text": [
      "0000000050\n"
     ]
    }
   ],
   "source": [
    "# Fill the string with zeros until it is 10 characters long:\n",
    "txt = \"50\"\n",
    "x = txt.zfill(10)\n",
    "print(x)"
   ]
  },
  {
   "cell_type": "code",
   "execution_count": null,
   "id": "9c2db1f7-1413-4b07-89d2-83ca1c338679",
   "metadata": {},
   "outputs": [],
   "source": []
  }
 ],
 "metadata": {
  "kernelspec": {
   "display_name": "Python 3 (ipykernel)",
   "language": "python",
   "name": "python3"
  },
  "language_info": {
   "codemirror_mode": {
    "name": "ipython",
    "version": 3
   },
   "file_extension": ".py",
   "mimetype": "text/x-python",
   "name": "python",
   "nbconvert_exporter": "python",
   "pygments_lexer": "ipython3",
   "version": "3.9.13"
  }
 },
 "nbformat": 4,
 "nbformat_minor": 5
}
