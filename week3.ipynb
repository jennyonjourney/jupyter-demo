{
 "cells": [
  {
   "cell_type": "markdown",
   "id": "754ce060-776d-40db-ac0c-bb5422ff8974",
   "metadata": {},
   "source": [
    "# Advanced Indexing & Broadcasting"
   ]
  },
  {
   "cell_type": "code",
   "execution_count": 4,
   "id": "0fd3dfcb-37bd-4cf0-a175-2c353a1ab256",
   "metadata": {},
   "outputs": [
    {
     "data": {
      "text/plain": [
       "array([0, 1, 2, 3, 4, 5])"
      ]
     },
     "execution_count": 4,
     "metadata": {},
     "output_type": "execute_result"
    }
   ],
   "source": [
    "import numpy as np\n",
    "\n",
    "x = np.arange(6);x"
   ]
  },
  {
   "cell_type": "code",
   "execution_count": 12,
   "id": "4b012f91-054c-482e-b278-dc7931c9cd87",
   "metadata": {},
   "outputs": [
    {
     "data": {
      "text/plain": [
       "array([0, 1, 3])"
      ]
     },
     "execution_count": 12,
     "metadata": {},
     "output_type": "execute_result"
    }
   ],
   "source": [
    "# tuples\n",
    "x[(0,1,3),]"
   ]
  },
  {
   "cell_type": "code",
   "execution_count": 14,
   "id": "f41e0ab6-fd5e-43cf-b877-e322ae0b9c77",
   "metadata": {},
   "outputs": [
    {
     "ename": "IndexError",
     "evalue": "too many indices for array: array is 1-dimensional, but 3 were indexed",
     "output_type": "error",
     "traceback": [
      "\u001b[0;31m---------------------------------------------------------------------------\u001b[0m",
      "\u001b[0;31mIndexError\u001b[0m                                Traceback (most recent call last)",
      "\u001b[0;32m/var/folders/0m/966_8tjn5pddy9gxt6rqdwh00000gn/T/ipykernel_45380/4110749297.py\u001b[0m in \u001b[0;36m<module>\u001b[0;34m\u001b[0m\n\u001b[0;32m----> 1\u001b[0;31m \u001b[0mx\u001b[0m\u001b[0;34m[\u001b[0m\u001b[0;34m(\u001b[0m\u001b[0;36m0\u001b[0m\u001b[0;34m,\u001b[0m\u001b[0;36m1\u001b[0m\u001b[0;34m,\u001b[0m\u001b[0;36m3\u001b[0m\u001b[0;34m)\u001b[0m\u001b[0;34m]\u001b[0m\u001b[0;34m\u001b[0m\u001b[0;34m\u001b[0m\u001b[0m\n\u001b[0m",
      "\u001b[0;31mIndexError\u001b[0m: too many indices for array: array is 1-dimensional, but 3 were indexed"
     ]
    }
   ],
   "source": [
    "x[(0,1,3)]"
   ]
  },
  {
   "cell_type": "code",
   "execution_count": 15,
   "id": "8050d54b-32cb-4b37-9d29-20b29af96414",
   "metadata": {},
   "outputs": [
    {
     "ename": "IndexError",
     "evalue": "too many indices for array: array is 1-dimensional, but 3 were indexed",
     "output_type": "error",
     "traceback": [
      "\u001b[0;31m---------------------------------------------------------------------------\u001b[0m",
      "\u001b[0;31mIndexError\u001b[0m                                Traceback (most recent call last)",
      "\u001b[0;32m/var/folders/0m/966_8tjn5pddy9gxt6rqdwh00000gn/T/ipykernel_45380/548334436.py\u001b[0m in \u001b[0;36m<module>\u001b[0;34m\u001b[0m\n\u001b[0;32m----> 1\u001b[0;31m \u001b[0mx\u001b[0m\u001b[0;34m[\u001b[0m\u001b[0;36m0\u001b[0m\u001b[0;34m,\u001b[0m\u001b[0;36m1\u001b[0m\u001b[0;34m,\u001b[0m\u001b[0;36m3\u001b[0m\u001b[0;34m]\u001b[0m\u001b[0;34m\u001b[0m\u001b[0;34m\u001b[0m\u001b[0m\n\u001b[0m",
      "\u001b[0;31mIndexError\u001b[0m: too many indices for array: array is 1-dimensional, but 3 were indexed"
     ]
    }
   ],
   "source": [
    "x[0,1,3]"
   ]
  },
  {
   "cell_type": "code",
   "execution_count": 16,
   "id": "a9c504db-831e-4e9c-bb2f-9657b1bce3ee",
   "metadata": {},
   "outputs": [
    {
     "data": {
      "text/plain": [
       "array([0, 1])"
      ]
     },
     "execution_count": 16,
     "metadata": {},
     "output_type": "execute_result"
    }
   ],
   "source": [
    "x[[0,1]]"
   ]
  },
  {
   "cell_type": "markdown",
   "id": "e1e017fc-f5c7-42c7-b4b5-4368566cd6d8",
   "metadata": {},
   "source": [
    "# Exercise 1"
   ]
  },
  {
   "cell_type": "code",
   "execution_count": 18,
   "id": "1a44f616-bb09-4ed8-bf3c-0f02e4c8cd2d",
   "metadata": {},
   "outputs": [
    {
     "data": {
      "text/plain": [
       "array([[ 0,  1,  2,  3],\n",
       "       [ 4,  5,  6,  7],\n",
       "       [ 8,  9, 10, 11],\n",
       "       [12, 13, 14, 15]])"
      ]
     },
     "execution_count": 18,
     "metadata": {},
     "output_type": "execute_result"
    }
   ],
   "source": [
    "# Subset to get the 2x2 with 5,6,9,10\n",
    "x = np.arange(16).reshape((4,4));x"
   ]
  },
  {
   "cell_type": "code",
   "execution_count": 23,
   "id": "49a8b310-9901-4028-8d25-ca7eddd00726",
   "metadata": {},
   "outputs": [
    {
     "data": {
      "text/plain": [
       "array([[ 5,  6],\n",
       "       [ 9, 10]])"
      ]
     },
     "execution_count": 23,
     "metadata": {},
     "output_type": "execute_result"
    }
   ],
   "source": [
    "x[[1,2],1:3] #my answer"
   ]
  },
  {
   "cell_type": "code",
   "execution_count": 24,
   "id": "68ef5b86-495d-46a5-934e-93a87c8d0fe7",
   "metadata": {},
   "outputs": [
    {
     "data": {
      "text/plain": [
       "array([[ 5,  6],\n",
       "       [ 9, 10]])"
      ]
     },
     "execution_count": 24,
     "metadata": {},
     "output_type": "execute_result"
    }
   ],
   "source": [
    "x[1:3,1:3] #answer"
   ]
  },
  {
   "cell_type": "code",
   "execution_count": 25,
   "id": "2c15a4ec-ccd7-4436-a898-fe135056a822",
   "metadata": {},
   "outputs": [
    {
     "data": {
      "text/plain": [
       "array([ 5, 10])"
      ]
     },
     "execution_count": 25,
     "metadata": {},
     "output_type": "execute_result"
    }
   ],
   "source": [
    "x[[1,2],[1,2]] #false"
   ]
  },
  {
   "cell_type": "code",
   "execution_count": 26,
   "id": "1d1b1f72-008a-49f8-87cb-75b3d6213dc5",
   "metadata": {},
   "outputs": [
    {
     "data": {
      "text/plain": [
       "array([[12, 13, 14, 15],\n",
       "       [12, 13, 14, 15],\n",
       "       [12, 13, 14, 15],\n",
       "       [ 0,  1,  2,  3]])"
      ]
     },
     "execution_count": 26,
     "metadata": {},
     "output_type": "execute_result"
    }
   ],
   "source": [
    "x[[3,3,3,0],] # duplicate possible"
   ]
  },
  {
   "cell_type": "markdown",
   "id": "a47c5774-30f5-40ce-a704-2207ff277932",
   "metadata": {},
   "source": [
    "# Boolean indexing"
   ]
  },
  {
   "cell_type": "code",
   "execution_count": 30,
   "id": "078d135e-e46d-4940-976e-b8897edbc7c7",
   "metadata": {},
   "outputs": [
    {
     "data": {
      "text/plain": [
       "array([0, 1, 2, 3, 4, 5])"
      ]
     },
     "execution_count": 30,
     "metadata": {},
     "output_type": "execute_result"
    }
   ],
   "source": [
    "# true => keep, false => discard\n",
    "x=np.arange(6);x"
   ]
  },
  {
   "cell_type": "code",
   "execution_count": 31,
   "id": "0c8d300c-f48f-4981-82b1-79ba55ee49d1",
   "metadata": {},
   "outputs": [
    {
     "data": {
      "text/plain": [
       "array([], shape=(0, 6), dtype=int64)"
      ]
     },
     "execution_count": 31,
     "metadata": {},
     "output_type": "execute_result"
    }
   ],
   "source": [
    "x[(True, False, True, False, True, False)]"
   ]
  },
  {
   "cell_type": "code",
   "execution_count": 33,
   "id": "4309e721-8c28-4884-9f13-adfbb5d98210",
   "metadata": {},
   "outputs": [
    {
     "data": {
      "text/plain": [
       "array([False, False, False, False,  True,  True])"
      ]
     },
     "execution_count": 33,
     "metadata": {},
     "output_type": "execute_result"
    }
   ],
   "source": [
    "x>3 #vectorized comparison operations"
   ]
  },
  {
   "cell_type": "code",
   "execution_count": 34,
   "id": "75a17053-0f6b-45b0-bc4d-090d17fedda5",
   "metadata": {},
   "outputs": [
    {
     "data": {
      "text/plain": [
       "array([0, 1, 2, 3, 4, 5])"
      ]
     },
     "execution_count": 34,
     "metadata": {},
     "output_type": "execute_result"
    }
   ],
   "source": [
    "# numpy and boolean operators\n",
    "x = np.arange(6);x"
   ]
  },
  {
   "cell_type": "code",
   "execution_count": 35,
   "id": "89bbd2d9-b0d9-4b85-a613-e22ed9bbbaa3",
   "metadata": {},
   "outputs": [
    {
     "data": {
      "text/plain": [
       "array([ True, False,  True, False,  True, False])"
      ]
     },
     "execution_count": 35,
     "metadata": {},
     "output_type": "execute_result"
    }
   ],
   "source": [
    "y = x % 2 == 0 ; y"
   ]
  },
  {
   "cell_type": "code",
   "execution_count": 36,
   "id": "c9d68a48-7962-4c9e-a730-9cad7f02d704",
   "metadata": {},
   "outputs": [
    {
     "data": {
      "text/plain": [
       "array([False,  True, False,  True, False,  True])"
      ]
     },
     "execution_count": 36,
     "metadata": {},
     "output_type": "execute_result"
    }
   ],
   "source": [
    "~y #inverse"
   ]
  },
  {
   "cell_type": "code",
   "execution_count": 37,
   "id": "929c3fe1-184e-4c8d-8cde-89a7b27ec5f6",
   "metadata": {},
   "outputs": [
    {
     "data": {
      "text/plain": [
       "array([False, False, False, False,  True, False])"
      ]
     },
     "execution_count": 37,
     "metadata": {},
     "output_type": "execute_result"
    }
   ],
   "source": [
    "y & (x > 3)"
   ]
  },
  {
   "cell_type": "code",
   "execution_count": 38,
   "id": "e935a9a2-8824-4b79-9438-5fcb363a7cc7",
   "metadata": {},
   "outputs": [
    {
     "data": {
      "text/plain": [
       "array([ True, False,  True, False,  True,  True])"
      ]
     },
     "execution_count": 38,
     "metadata": {},
     "output_type": "execute_result"
    }
   ],
   "source": [
    "y | (x > 3)"
   ]
  },
  {
   "cell_type": "code",
   "execution_count": 40,
   "id": "2a6d1cd7-403d-40a3-8e85-14e445df4147",
   "metadata": {},
   "outputs": [
    {
     "name": "stdout",
     "output_type": "stream",
     "text": [
      "[[0 1 2]\n",
      " [0 1 2]\n",
      " [0 1 2]]\n",
      "[[0 0 0]\n",
      " [1 1 1]\n",
      " [2 2 2]]\n"
     ]
    }
   ],
   "source": [
    "# useful function = meshgrid\n",
    "# all combinations\n",
    "pts = np.arange(3)\n",
    "x, y = np.meshgrid(pts, pts)\n",
    "print(x)\n",
    "print(y)"
   ]
  },
  {
   "cell_type": "code",
   "execution_count": null,
   "id": "fe8848fd-83d3-4dfe-898d-c5731d76fa40",
   "metadata": {},
   "outputs": [],
   "source": [
    "y"
   ]
  },
  {
   "cell_type": "markdown",
   "id": "a1757a8d-3f42-4662-a5f4-a6b69f1f146d",
   "metadata": {},
   "source": [
    "# Exercise 2"
   ]
  },
  {
   "cell_type": "code",
   "execution_count": 42,
   "id": "aefc7f21-ebee-4993-aa61-d72f1c6bcf7e",
   "metadata": {},
   "outputs": [
    {
     "data": {
      "text/plain": [
       "array([-1.        , -0.99919984, -0.99839968, ...,  2.99839968,\n",
       "        2.99919984,  3.        ])"
      ]
     },
     "execution_count": 42,
     "metadata": {},
     "output_type": "execute_result"
    }
   ],
   "source": [
    "pts = np.linspace(-1,3,5000); pts"
   ]
  },
  {
   "cell_type": "code",
   "execution_count": 44,
   "id": "a236db27-8f63-4398-a072-d02d1d25849b",
   "metadata": {},
   "outputs": [],
   "source": [
    "x, y = np.meshgrid(pts, pts)"
   ]
  },
  {
   "cell_type": "code",
   "execution_count": 45,
   "id": "4c448efc-dac1-4f6b-a97c-e308593c27ea",
   "metadata": {},
   "outputs": [
    {
     "data": {
      "text/plain": [
       "array([[  404.        ,   403.35718397,   402.71539241, ...,\n",
       "         9984.80409733,  9994.39846444, 10004.        ],\n",
       "       [  403.68000001,   403.03743999,   402.39590422, ...,\n",
       "         9983.2053775 ,  9992.7989766 , 10002.39974396],\n",
       "       [  403.36012808,   402.71782405,   402.07654408, ...,\n",
       "         9981.60678572,  9991.19961682, 10000.79961597],\n",
       "       ...,\n",
       "       [  403.36012808,   403.9965439 ,   404.63296018, ...,\n",
       "         3594.40115259,  3600.15782415,  3605.92064018],\n",
       "       [  403.68000001,   404.31667183,   404.95334391, ...,\n",
       "         3593.44230468,  3599.19820824,  3604.96025606],\n",
       "       [  404.        ,   404.63692782,   405.27385569, ...,\n",
       "         3592.48358482,  3598.23872038,  3604.        ]])"
      ]
     },
     "execution_count": 45,
     "metadata": {},
     "output_type": "execute_result"
    }
   ],
   "source": [
    "f = (1-x)**2 + 100*(y-x**2)**2 ; f"
   ]
  },
  {
   "cell_type": "code",
   "execution_count": 48,
   "id": "c0c67272-e97c-4c4b-860a-ed87105f7162",
   "metadata": {},
   "outputs": [
    {
     "name": "stdout",
     "output_type": "stream",
     "text": [
      "[0.99959992] [0.99959992]\n"
     ]
    }
   ],
   "source": [
    "mn = np.min(f)\n",
    "print(x[f == mn], y[f == mn]) # use boolean"
   ]
  },
  {
   "cell_type": "code",
   "execution_count": 51,
   "id": "549b3964-a28a-4642-989d-f8b4e971adc6",
   "metadata": {},
   "outputs": [
    {
     "name": "stdout",
     "output_type": "stream",
     "text": [
      "12497499\n",
      "0.9995999199839969 0.9995999199839969\n"
     ]
    }
   ],
   "source": [
    "min_i = np.argmin(f, axis=None)\n",
    "print(min_i)\n",
    "print(x.ravel()[min_i], y.ravel()[min_i]) #ravel does not change data but just change view as flatten"
   ]
  },
  {
   "cell_type": "markdown",
   "id": "1f045438-bd02-4aec-816a-afd4fa456d63",
   "metadata": {},
   "source": [
    "# Broadcasting "
   ]
  },
  {
   "cell_type": "code",
   "execution_count": 52,
   "id": "5619c71f-346a-43af-8f89-7eacffa1efbf",
   "metadata": {},
   "outputs": [
    {
     "data": {
      "text/plain": [
       "array([2, 4, 6])"
      ]
     },
     "execution_count": 52,
     "metadata": {},
     "output_type": "execute_result"
    }
   ],
   "source": [
    "# change format with arithmetic operation generalization\n",
    "# twice faster and memoery efficiency\n",
    "x = np.array([1,2,3])\n",
    "x * 2;\n",
    "x * np.array([2]);\n",
    "x * np.array([2,2,2])"
   ]
  },
  {
   "cell_type": "markdown",
   "id": "60f1fb70-b31f-43d6-9135-5d5d01792139",
   "metadata": {},
   "source": [
    "# Example - Standardizing"
   ]
  },
  {
   "cell_type": "code",
   "execution_count": 56,
   "id": "f70ee39a-f6d6-422e-be5b-731dd72c89fd",
   "metadata": {},
   "outputs": [
    {
     "data": {
      "text/plain": [
       "array([[-1.98912135, -0.7355733 ,  4.86377578],\n",
       "       [-0.80602558,  1.8404618 ,  2.73131137],\n",
       "       [-1.63646365,  1.08390444,  0.05021365],\n",
       "       ...,\n",
       "       [-1.14459772,  0.51459755, -3.58042238],\n",
       "       [-1.67891212,  1.4087411 ,  2.07708115],\n",
       "       [-0.90922757,  0.83887759, -2.34997427]])"
      ]
     },
     "execution_count": 56,
     "metadata": {},
     "output_type": "execute_result"
    }
   ],
   "source": [
    "# standardize the three columns to have mean 0 and std dev1\n",
    "rng = np.random.default_rng(123)\n",
    "d = rng.normal(loc=[-1,0,1],scale=[1,2,3],size=(1000,3))\n",
    "d"
   ]
  },
  {
   "cell_type": "code",
   "execution_count": 57,
   "id": "887b396a-d127-4bf0-a3cf-348acc1eb920",
   "metadata": {},
   "outputs": [
    {
     "data": {
      "text/plain": [
       "(1000, 3)"
      ]
     },
     "execution_count": 57,
     "metadata": {},
     "output_type": "execute_result"
    }
   ],
   "source": [
    "d_stand = (d - d.mean(axis=0))/d.std(axis=0)\n",
    "d_stand.shape"
   ]
  },
  {
   "cell_type": "markdown",
   "id": "5b592b91-a91b-4722-a1b5-0dfc5c3edf0c",
   "metadata": {},
   "source": [
    "# Numpy - Basic file IO"
   ]
  },
  {
   "cell_type": "code",
   "execution_count": null,
   "id": "b12299ef-911b-4c98-90d7-509885c2b80e",
   "metadata": {},
   "outputs": [],
   "source": [
    "# reading and writing arrays\n",
    "x = np.arange(1e5)\n",
    "np.save(\"data/x.npy\",x)\n",
    "new_x = np.load(\"data/x.npy\") #binary format\n",
    "np.all(x == new_x)"
   ]
  },
  {
   "cell_type": "markdown",
   "id": "8392a6d6-5b37-4962-a458-badc6523d763",
   "metadata": {},
   "source": [
    "# Scipy "
   ]
  },
  {
   "cell_type": "markdown",
   "id": "bbdaa999-7ef6-4826-bf75-cab7ec138aee",
   "metadata": {},
   "source": [
    "## Example 1 - K-means clustering"
   ]
  },
  {
   "cell_type": "code",
   "execution_count": 4,
   "id": "64f0d251-8adc-4755-83fa-28ead3a20089",
   "metadata": {},
   "outputs": [],
   "source": [
    "import scipy\n",
    "import numpy as np\n",
    "import matplotlib.pyplot as plt"
   ]
  },
  {
   "cell_type": "code",
   "execution_count": 13,
   "id": "f79dc659-2a0b-4e3d-8e02-075edb32af87",
   "metadata": {},
   "outputs": [],
   "source": [
    "# Create random data\n",
    "rng = np.random.default_rng(seed = 123)\n",
    "\n",
    "# Clustered data\n",
    "cl1 = rng.multivariate_normal([-2,-2], [[1,-0.5],[-0.5,1]], size=100)\n",
    "cl2 = rng.multivariate_normal([1,0], [[1,0],[0,1]], size=150)\n",
    "cl3 = rng.multivariate_normal([3,2], [[1,-0.7],[-0.7,1]], size=200)\n",
    "\n",
    "# Combine clustered data into one data set\n",
    "pts = np.concatenate((cl1,cl2,cl3))"
   ]
  },
  {
   "cell_type": "code",
   "execution_count": 10,
   "id": "2f319ec0-3dd6-4d4e-87ee-75c01aa4673c",
   "metadata": {},
   "outputs": [
    {
     "data": {
      "image/png": "[encoded data removed]",
      "text/plain": [
       "<Figure size 640x480 with 1 Axes>"
      ]
     },
     "metadata": {},
     "output_type": "display_data"
    }
   ],
   "source": [
    "plt.cla() # Create empty plot\n",
    "plt.scatter(cl1[:,0], cl1[:,1], c=\"r\", marker = \".\")\n",
    "plt.scatter(cl2[:,0], cl2[:,1], c=\"b\", marker = \"*\")\n",
    "plt.scatter(cl3[:,0], cl3[:,1], c=\"c\", marker = \"D\")\n",
    "plt.show() # Show three data sets' scatters"
   ]
  },
  {
   "cell_type": "code",
   "execution_count": 7,
   "id": "7205e734-c3c7-474b-af81-70168ca3dc5d",
   "metadata": {},
   "outputs": [
    {
     "data": {
      "text/plain": [
       "array([[ 2.8434388 ,  2.03852015],\n",
       "       [ 0.9972847 , -0.17610249],\n",
       "       [-2.01390637, -1.8207127 ]])"
      ]
     },
     "execution_count": 7,
     "metadata": {},
     "output_type": "execute_result"
    }
   ],
   "source": [
    "from scipy.cluster.vq import kmeans\n",
    "\n",
    "ctr, dist = kmeans(pts, 3)\n",
    "ctr"
   ]
  },
  {
   "cell_type": "code",
   "execution_count": 8,
   "id": "fc45987b-7fca-4a83-a3af-86128839bc30",
   "metadata": {},
   "outputs": [
    {
     "data": {
      "text/plain": [
       "1.2155239295112092"
      ]
     },
     "execution_count": 8,
     "metadata": {},
     "output_type": "execute_result"
    }
   ],
   "source": [
    "dist"
   ]
  },
  {
   "cell_type": "code",
   "execution_count": 9,
   "id": "c3db95f6-5e73-482f-b366-908f905324f2",
   "metadata": {},
   "outputs": [
    {
     "data": {
      "text/plain": [
       "array([2.86992451, 2.09721887])"
      ]
     },
     "execution_count": 9,
     "metadata": {},
     "output_type": "execute_result"
    }
   ],
   "source": [
    "cl1.mean(axis=0)\n",
    "cl2.mean(axis=0)\n",
    "cl3.mean(axis=0)"
   ]
  },
  {
   "cell_type": "code",
   "execution_count": 17,
   "id": "41803381-2224-4338-969c-770d1495bc4f",
   "metadata": {},
   "outputs": [
    {
     "data": {
      "text/plain": [
       "array([[2.5975078 ],\n",
       "       [1.59341892],\n",
       "       [1.21552393],\n",
       "       [1.01502763],\n",
       "       [0.93958236]])"
      ]
     },
     "execution_count": 17,
     "metadata": {},
     "output_type": "execute_result"
    }
   ],
   "source": [
    "ks = range(1,6)\n",
    "dists = [kmeans(pts,k)[1] for k in ks]\n",
    "np.array(dists).reshape((-1,1))"
   ]
  },
  {
   "cell_type": "code",
   "execution_count": 18,
   "id": "6342e07f-25b8-4e78-b968-3826bb448495",
   "metadata": {},
   "outputs": [
    {
     "data": {
      "image/png": "[encoded data removed]",
      "text/plain": [
       "<Figure size 640x480 with 1 Axes>"
      ]
     },
     "metadata": {},
     "output_type": "display_data"
    }
   ],
   "source": [
    "plt.cla()\n",
    "p = plt.plot(ks, dists, \"-ok\")\n",
    "plt.show()"
   ]
  },
  {
   "cell_type": "markdown",
   "id": "2b41ed5f-2aab-4423-86f5-d3071a9f183d",
   "metadata": {},
   "source": [
    "## Example 2 - Numerical Integration"
   ]
  },
  {
   "cell_type": "code",
   "execution_count": 19,
   "id": "93f03efe-aa34-4847-b663-129b598455c7",
   "metadata": {},
   "outputs": [
    {
     "data": {
      "text/plain": [
       "(0.5, 5.551115123125783e-15)"
      ]
     },
     "execution_count": 19,
     "metadata": {},
     "output_type": "execute_result"
    }
   ],
   "source": [
    "from scipy.integrate import quad # integral\n",
    "quad(lambda x: x, 0, 1)"
   ]
  },
  {
   "cell_type": "code",
   "execution_count": 20,
   "id": "2f7a6aee-fe9a-4628-a675-6ee262da0841",
   "metadata": {},
   "outputs": [
    {
     "data": {
      "text/plain": [
       "(2.0, 2.220446049250313e-14)"
      ]
     },
     "execution_count": 20,
     "metadata": {},
     "output_type": "execute_result"
    }
   ],
   "source": [
    "quad(np.sin, 0, np.pi)"
   ]
  },
  {
   "cell_type": "code",
   "execution_count": 21,
   "id": "1fef5f70-5ac8-4ab4-a0af-2182754be645",
   "metadata": {},
   "outputs": [
    {
     "data": {
      "text/plain": [
       "(2.221501482512777e-16, 4.3998892617845996e-14)"
      ]
     },
     "execution_count": 21,
     "metadata": {},
     "output_type": "execute_result"
    }
   ],
   "source": [
    "quad(np.sin, 0, np.pi)\n",
    "quad(np.sin, 0, 2*np.pi)"
   ]
  },
  {
   "cell_type": "code",
   "execution_count": 22,
   "id": "2b5dddb5-3635-44e0-b97a-91c5d53da3c8",
   "metadata": {},
   "outputs": [
    {
     "data": {
      "text/plain": [
       "(1.7182818284590453, 1.9076760487502457e-14)"
      ]
     },
     "execution_count": 22,
     "metadata": {},
     "output_type": "execute_result"
    }
   ],
   "source": [
    "quad(np.exp, 0, 1)"
   ]
  },
  {
   "cell_type": "code",
   "execution_count": 23,
   "id": "c9c4bbb4-6439-47ec-b8d0-0e40ff4ceb67",
   "metadata": {},
   "outputs": [],
   "source": [
    "# Normal PDF\n",
    "def norm_pdf(x, mu, sigma):\n",
    "    return(1/(sigma*np.sqrt(2*np.pi)))*np.exp(-0.5 * ((x-mu)/sigma)**2)"
   ]
  },
  {
   "cell_type": "code",
   "execution_count": 24,
   "id": "48010557-43e2-4a3f-a106-cfb3c634b835",
   "metadata": {},
   "outputs": [
    {
     "data": {
      "text/plain": [
       "0.3989422804014327"
      ]
     },
     "execution_count": 24,
     "metadata": {},
     "output_type": "execute_result"
    }
   ],
   "source": [
    "norm_pdf(0,0,1)"
   ]
  },
  {
   "cell_type": "code",
   "execution_count": 25,
   "id": "ce860292-db60-4d49-b160-c3a128c3f6a6",
   "metadata": {},
   "outputs": [
    {
     "data": {
      "text/plain": [
       "0.0"
      ]
     },
     "execution_count": 25,
     "metadata": {},
     "output_type": "execute_result"
    }
   ],
   "source": [
    "norm_pdf(-np.Inf, 0, 1) # work well with numpy inf value"
   ]
  },
  {
   "cell_type": "code",
   "execution_count": 28,
   "id": "0398a8e1-fab7-471c-afac-07b212ecf9f8",
   "metadata": {},
   "outputs": [
    {
     "name": "stdout",
     "output_type": "stream",
     "text": [
      "overall result: (0.33333333333333337, 3.700743415417189e-15)\n",
      "integral: 0.33333333333333337\n",
      "error: 3.700743415417189e-15\n"
     ]
    }
   ],
   "source": [
    "# Good reference in Korean https://zephyrus1111.tistory.com/275\n",
    "def f(x):\n",
    "    return x**2\n",
    "result = quad(f,0,1) #lower0, upper1 x belongs to (0,1)\n",
    "print(\"overall result:\",result)\n",
    "print(\"integral:\", result[0])\n",
    "print(\"error:\", result[1])"
   ]
  },
  {
   "cell_type": "code",
   "execution_count": 31,
   "id": "49a5e3c8-b0d0-4408-9afa-f1cc00e39862",
   "metadata": {},
   "outputs": [],
   "source": [
    "# Truncated normals\n",
    "def trunc_norm_pdf(x, μ=0, σ=1, a=-np.inf, b=np.inf):\n",
    "  if (b < a):\n",
    "      raise ValueError(\"b must be greater than a\")\n",
    "  x = np.asarray(x).reshape(-1)\n",
    "  full_pdf = (1/(σ * np.sqrt(2*np.pi))) * np.exp(-0.5 * ((x - μ)/σ)**2)\n",
    "  full_pdf[(x < a) | (x > b)] = 0\n",
    "  return full_pdf"
   ]
  },
  {
   "cell_type": "code",
   "execution_count": 33,
   "id": "a192c4d1-3204-430a-ae74-ac55f548014a",
   "metadata": {},
   "outputs": [],
   "source": [
    "def trunc_norm_pdf(x, μ=0, σ=1, a=-np.inf, b=np.inf):\n",
    "  if (b < a):\n",
    "      raise ValueError(\"b must be greater than a\")\n",
    "  x = np.asarray(x).reshape(-1)\n",
    "  nc = 1 / quad(lambda x: norm_pdf(x, μ, σ), a, b)[0] #modified\n",
    "  full_pdf = nc * (1/(σ * np.sqrt(2*np.pi))) * np.exp(-0.5 * ((x - μ)/σ)**2)\n",
    "  full_pdf[(x < a) | (x > b)] = 0\n",
    "  return full_pdf"
   ]
  },
  {
   "cell_type": "code",
   "execution_count": 34,
   "id": "59b8d0ce-2ae4-4e5b-a169-0c319fe10b6b",
   "metadata": {},
   "outputs": [
    {
     "data": {
      "text/plain": [
       "array([0.        , 0.35443745, 0.58436857, 0.35443745, 0.        ])"
      ]
     },
     "execution_count": 34,
     "metadata": {},
     "output_type": "execute_result"
    }
   ],
   "source": [
    "trunc_norm_pdf(0, a=-1, b=1)\n",
    "trunc_norm_pdf(2, a=-1, b=1)\n",
    "trunc_norm_pdf(-2, a=-1, b=1)\n",
    "trunc_norm_pdf([-2,1,0,1,2], a=-1, b=1)"
   ]
  },
  {
   "cell_type": "code",
   "execution_count": 37,
   "id": "60877a71-31d7-4596-9268-c9f0a9e0d991",
   "metadata": {},
   "outputs": [],
   "source": [
    "# Multivariate normal\n",
    "def mv_norm(x,mu,sig):\n",
    "    x=np.asarray(x)\n",
    "    mu=np.asarray(mu)\n",
    "    sig=np.asarray(sig)\n",
    "    return np.linalg.det(2*np.pi*sig)**(-0.5)*np.exp(-0.5*(x-mu).T@np.linalg.solve(sig, (x-mu)))"
   ]
  },
  {
   "cell_type": "code",
   "execution_count": 38,
   "id": "253d8955-049d-4329-bd98-9599b47d9c65",
   "metadata": {},
   "outputs": [
    {
     "data": {
      "text/plain": [
       "0.3989422804014327"
      ]
     },
     "execution_count": 38,
     "metadata": {},
     "output_type": "execute_result"
    }
   ],
   "source": [
    "norm_pdf(0,0,1)"
   ]
  },
  {
   "cell_type": "code",
   "execution_count": 39,
   "id": "2794a1ed-41c8-455b-891b-fdcb884ba0f3",
   "metadata": {},
   "outputs": [
    {
     "data": {
      "text/plain": [
       "0.06349363593424098"
      ]
     },
     "execution_count": 39,
     "metadata": {},
     "output_type": "execute_result"
    }
   ],
   "source": [
    "mv_norm([0], [0], [[1]])\n",
    "mv_norm([0,0], [0,0], [[1,0],[0,1]])\n",
    "mv_norm([0,0,0], [0,0,0], [[1,0,0],[0,1,0],[0,0,1]])"
   ]
  },
  {
   "cell_type": "markdown",
   "id": "70025bb2-3ba2-4c62-812d-9f85846b6f06",
   "metadata": {},
   "source": [
    "## Example 3 - Basic Optimization"
   ]
  },
  {
   "cell_type": "code",
   "execution_count": 41,
   "id": "7f79ad31-6d78-4bc9-a819-8835371fc17c",
   "metadata": {},
   "outputs": [
    {
     "data": {
      "text/plain": [
       "[<matplotlib.lines.Line2D at 0x7f90980437f0>]"
      ]
     },
     "execution_count": 41,
     "metadata": {},
     "output_type": "execute_result"
    },
    {
     "data": {
      "image/png": "[encoded data removed]",
      "text/plain": [
       "<Figure size 640x480 with 1 Axes>"
      ]
     },
     "metadata": {},
     "output_type": "display_data"
    }
   ],
   "source": [
    "# minimization\n",
    "def f(x):\n",
    "    return x**4 + 3*(x-2)**3 - 15*(x)**2 + 1\n",
    "x = np.linspace(-8, 5, 100)\n",
    "plt.plot(x, f(x))"
   ]
  },
  {
   "cell_type": "code",
   "execution_count": 42,
   "id": "835dba4f-cdf1-462b-9bba-3d79fb9c3d76",
   "metadata": {},
   "outputs": [
    {
     "data": {
      "text/plain": [
       "     fun: -803.3955308825871\n",
       " message: 'Solution found.'\n",
       "    nfev: 12\n",
       "  status: 0\n",
       " success: True\n",
       "       x: -5.528801009134004"
      ]
     },
     "execution_count": 42,
     "metadata": {},
     "output_type": "execute_result"
    }
   ],
   "source": [
    "from scipy.optimize import minimize_scalar\n",
    "minimize_scalar(f, method=\"Brent\") #local minimum\n",
    "minimize_scalar(f, method=\"bounded\", bounds=[0,6]) #bounded minimum"
   ]
  },
  {
   "cell_type": "code",
   "execution_count": 43,
   "id": "05804566-16c8-4328-b311-f676dc26a0a8",
   "metadata": {},
   "outputs": [
    {
     "name": "stdout",
     "output_type": "stream",
     "text": [
      "\n",
      "\n",
      "brent\n",
      "=====\n",
      "\n",
      "Options\n",
      "-------\n",
      "maxiter : int\n",
      "    Maximum number of iterations to perform.\n",
      "xtol : float\n",
      "    Relative error in solution `xopt` acceptable for convergence.\n",
      "\n",
      "Notes\n",
      "-----\n",
      "Uses inverse parabolic interpolation when possible to speed up\n",
      "convergence of golden section method.\n",
      "\n",
      "bounded\n",
      "=======\n",
      "\n",
      "Options\n",
      "-------\n",
      "maxiter : int\n",
      "    Maximum number of iterations to perform.\n",
      "disp: int, optional\n",
      "    If non-zero, print messages.\n",
      "        0 : no message printing.\n",
      "        1 : non-convergence notification messages only.\n",
      "        2 : print a message on convergence too.\n",
      "        3 : print iteration results.\n",
      "xatol : float\n",
      "    Absolute error in solution `xopt` acceptable for convergence.\n",
      "\n",
      "golden\n",
      "======\n",
      "\n",
      "Options\n",
      "-------\n",
      "maxiter : int\n",
      "    Maximum number of iterations to perform.\n",
      "xtol : float\n",
      "    Relative error in solution `xopt` acceptable for convergence.\n"
     ]
    }
   ],
   "source": [
    "from scipy.optimize import show_options\n",
    "show_options(solver=\"minimize_scalar\")"
   ]
  },
  {
   "cell_type": "code",
   "execution_count": 46,
   "id": "51efe7c5-4a8f-4005-891e-454f44bc8e99",
   "metadata": {},
   "outputs": [
    {
     "data": {
      "image/png": "[encoded data removed]",
      "text/plain": [
       "<Figure size 640x480 with 1 Axes>"
      ]
     },
     "metadata": {},
     "output_type": "display_data"
    },
    {
     "data": {
      "image/png": "[encoded data removed]",
      "text/plain": [
       "<Figure size 640x480 with 1 Axes>"
      ]
     },
     "metadata": {},
     "output_type": "display_data"
    }
   ],
   "source": [
    "# local minima\n",
    "def f(x):\n",
    "  return -np.sinc(x-5)\n",
    "x = np.linspace(-20, 20, 500)\n",
    "plt.cla()\n",
    "p = plt.plot(x, f(x));\n",
    "plt.show()\n",
    "res = minimize_scalar(f)\n",
    "res\n",
    "x = np.linspace(-20, 20, 500)\n",
    "plt.cla()\n",
    "p = plt.plot(x, f(x));\n",
    "plt.axvline(res.x, c='red')\n",
    "plt.show()"
   ]
  },
  {
   "cell_type": "code",
   "execution_count": 49,
   "id": "32867475-7eb8-4dbb-8fc3-ddb18f14261b",
   "metadata": {},
   "outputs": [
    {
     "name": "stdout",
     "output_type": "stream",
     "text": [
      "     fun: -1.0\n",
      "    nfev: 12\n",
      "     nit: 8\n",
      " success: True\n",
      "       x: 5.000000000618556\n"
     ]
    },
    {
     "data": {
      "image/png": "[encoded data removed]",
      "text/plain": [
       "<Figure size 640x480 with 1 Axes>"
      ]
     },
     "metadata": {},
     "output_type": "display_data"
    }
   ],
   "source": [
    "rng = np.random.default_rng(seed=1234)\n",
    "\n",
    "lower = rng.uniform(-20, 20, 100)\n",
    "upper = lower + 1\n",
    "\n",
    "# opt class objects in sols\n",
    "sols = [minimize_scalar(f, bracket=(l,u)) for l,u in zip(lower, upper)]\n",
    "funs = [sol.fun for sol in sols]\n",
    "\n",
    "# value to make minimum sols\n",
    "best = sols[np.argmin(funs)]\n",
    "print(best)\n",
    "\n",
    "plt.cla()\n",
    "p = plt.plot(x, f(x));\n",
    "plt.axvline(best.x, c='red')\n",
    "plt.show()"
   ]
  },
  {
   "cell_type": "code",
   "execution_count": 51,
   "id": "c1ec5006-8482-40ba-b5d4-becd3e965237",
   "metadata": {},
   "outputs": [
    {
     "name": "stdout",
     "output_type": "stream",
     "text": [
      "      fun: 2.8440316101421118e-11\n",
      " hess_inv: array([[0.49482454, 0.98957634],\n",
      "       [0.98957634, 1.98394215]])\n",
      "      jac: array([ 3.98673709e-06, -2.84416559e-06])\n",
      "  message: 'Optimization terminated successfully.'\n",
      "     nfev: 72\n",
      "      nit: 19\n",
      "     njev: 24\n",
      "   status: 0\n",
      "  success: True\n",
      "        x: array([0.99999467, 0.99998932])\n"
     ]
    },
    {
     "data": {
      "text/plain": [
       "array([0.99999553, 0.99999106])"
      ]
     },
     "execution_count": 51,
     "metadata": {},
     "output_type": "execute_result"
    }
   ],
   "source": [
    "# Rosenbrock's funciton minima\n",
    "def f(x):\n",
    "  return (1-x[0])**2 + 100*(x[1]-x[0]**2)**2\n",
    "\n",
    "from scipy.optimize import minimize\n",
    "print(minimize(f, [0,0]))\n",
    "minimize(f, [-1,-1]).x"
   ]
  },
  {
   "cell_type": "markdown",
   "id": "a19970a5-9380-4ebc-9507-2241d66c1a26",
   "metadata": {},
   "source": [
    "## Example 4 - Spatial Tools"
   ]
  },
  {
   "cell_type": "code",
   "execution_count": 52,
   "id": "fbfde5b7-fa40-4636-9ceb-f90547a2f6ed",
   "metadata": {},
   "outputs": [
    {
     "data": {
      "text/plain": [
       "array([[ 0.951133  ,  1.75038506],\n",
       "       [ 0.90794002,  0.74402448],\n",
       "       [ 0.30576524, -0.16281136],\n",
       "       [ 1.09240417,  1.50280001],\n",
       "       [ 0.27501972, -0.96007933],\n",
       "       [-2.53321395, -1.92068272],\n",
       "       [ 0.43511779,  1.00571808],\n",
       "       [ 0.46218239,  0.42379897],\n",
       "       [-0.3509701 , -1.14575681],\n",
       "       [-0.98870241, -0.1039104 ]])"
      ]
     },
     "execution_count": 52,
     "metadata": {},
     "output_type": "execute_result"
    }
   ],
   "source": [
    "# Nearest Neighbors\n",
    "rng = np.random.default_rng(seed=12345)\n",
    "pts = rng.multivariate_normal(\n",
    "  [0,0], [[1,.8],[.8,1]], \n",
    "  size=10\n",
    ") #generate 10 points in space\n",
    "pts"
   ]
  },
  {
   "cell_type": "code",
   "execution_count": 56,
   "id": "981b682f-e040-41f6-be1d-caf9c8dd3d4c",
   "metadata": {},
   "outputs": [
    {
     "data": {
      "image/png": "[encoded data removed]",
      "text/plain": [
       "<Figure size 640x480 with 1 Axes>"
      ]
     },
     "metadata": {},
     "output_type": "display_data"
    }
   ],
   "source": [
    "plt.cla()\n",
    "plt.scatter(pts[:,0], pts[:,1], c='w')\n",
    "\n",
    "for i in range(10):\n",
    "    plt.annotate(str(i), (pts[i,0], pts[i,1]), weight=\"bold\", size=16, ha='center', va='center')\n",
    "\n",
    "plt.show()"
   ]
  },
  {
   "cell_type": "code",
   "execution_count": 57,
   "id": "145ef29e-2e73-43eb-965b-898330d74bb6",
   "metadata": {},
   "outputs": [
    {
     "data": {
      "text/plain": [
       "['__class__',\n",
       " '__delattr__',\n",
       " '__dict__',\n",
       " '__dir__',\n",
       " '__doc__',\n",
       " '__eq__',\n",
       " '__format__',\n",
       " '__ge__',\n",
       " '__getattribute__',\n",
       " '__getstate__',\n",
       " '__gt__',\n",
       " '__hash__',\n",
       " '__init__',\n",
       " '__init_subclass__',\n",
       " '__le__',\n",
       " '__lt__',\n",
       " '__module__',\n",
       " '__ne__',\n",
       " '__new__',\n",
       " '__pyx_vtable__',\n",
       " '__reduce__',\n",
       " '__reduce_cython__',\n",
       " '__reduce_ex__',\n",
       " '__repr__',\n",
       " '__setattr__',\n",
       " '__setstate__',\n",
       " '__setstate_cython__',\n",
       " '__sizeof__',\n",
       " '__str__',\n",
       " '__subclasshook__',\n",
       " '__weakref__',\n",
       " '_build_weights',\n",
       " 'boxsize',\n",
       " 'count_neighbors',\n",
       " 'data',\n",
       " 'indices',\n",
       " 'innernode',\n",
       " 'leafnode',\n",
       " 'leafsize',\n",
       " 'm',\n",
       " 'maxes',\n",
       " 'mins',\n",
       " 'n',\n",
       " 'node',\n",
       " 'query',\n",
       " 'query_ball_point',\n",
       " 'query_ball_tree',\n",
       " 'query_pairs',\n",
       " 'size',\n",
       " 'sparse_distance_matrix',\n",
       " 'tree']"
      ]
     },
     "execution_count": 57,
     "metadata": {},
     "output_type": "execute_result"
    }
   ],
   "source": [
    "# KD Trees\n",
    "from scipy.spatial import KDTree\n",
    "\n",
    "kd = KDTree(pts)\n",
    "kd\n",
    "dir(kd)"
   ]
  },
  {
   "cell_type": "code",
   "execution_count": 58,
   "id": "bbf0258b-802c-4d6a-bfbe-e62e2da0e7de",
   "metadata": {},
   "outputs": [
    {
     "data": {
      "text/plain": [
       "array([6, 1, 7])"
      ]
     },
     "execution_count": 58,
     "metadata": {},
     "output_type": "execute_result"
    }
   ],
   "source": [
    "#what is three nearest neighbors?\n",
    "dist, i = kd.query(pts[6,:], k=3)\n",
    "dist\n",
    "i"
   ]
  },
  {
   "cell_type": "code",
   "execution_count": 59,
   "id": "f3ff3dad-d0f9-4e79-b33b-e8e1a6fd7dde",
   "metadata": {},
   "outputs": [
    {
     "data": {
      "image/png": "[encoded data removed]",
      "text/plain": [
       "<Figure size 640x480 with 1 Axes>"
      ]
     },
     "metadata": {},
     "output_type": "display_data"
    }
   ],
   "source": [
    "plt.cla()\n",
    "plt.scatter(pts[:,0], pts[:,1], c='w')\n",
    "\n",
    "for i in range(10):\n",
    "    plt.annotate(str(i), (pts[i,0], pts[i,1]), weight=\"bold\", size=16, ha='center', va='center')\n",
    "\n",
    "plt.show()"
   ]
  },
  {
   "cell_type": "code",
   "execution_count": 60,
   "id": "2e3c3a3e-a39d-4fa3-ae80-0104dc8aab39",
   "metadata": {},
   "outputs": [
    {
     "data": {
      "text/plain": [
       "array([[0, 3],\n",
       "       [4, 5],\n",
       "       [9, 5],\n",
       "       [9, 0],\n",
       "       [1, 3],\n",
       "       [1, 4]], dtype=int32)"
      ]
     },
     "execution_count": 60,
     "metadata": {},
     "output_type": "execute_result"
    }
   ],
   "source": [
    "from scipy.spatial import ConvexHull\n",
    "\n",
    "# \n",
    "hull = ConvexHull(pts)\n",
    "hull\n",
    "dir(hull)\n",
    "\n",
    "hull.simplices"
   ]
  },
  {
   "cell_type": "markdown",
   "id": "2a2a249b-52d7-457b-8cd0-ee7fc692326e",
   "metadata": {},
   "source": [
    "## Example 5 - stats"
   ]
  },
  {
   "cell_type": "code",
   "execution_count": 61,
   "id": "d3789d40-9cc3-4705-bff2-8246a8ab8891",
   "metadata": {},
   "outputs": [
    {
     "data": {
      "text/plain": [
       "(array(0.), array(1.), array(0.), array(0.))"
      ]
     },
     "execution_count": 61,
     "metadata": {},
     "output_type": "execute_result"
    }
   ],
   "source": [
    "from scipy.stats import norm, gamma, binom, uniform\n",
    "\n",
    "norm().rvs(size=5)\n",
    "uniform.pdf([0,0.5,1,2])\n",
    "\n",
    "\n",
    "binom.mean(n=10, p=0.25)\n",
    "binom.median(n=10, p=0.25)\n",
    "\n",
    "gamma(a=1,scale=1).stats()\n",
    "norm().stats(moments=\"mvsk\")"
   ]
  },
  {
   "cell_type": "code",
   "execution_count": 62,
   "id": "01a3a225-b0ed-4a49-8838-8d0def52887b",
   "metadata": {},
   "outputs": [
    {
     "data": {
      "text/plain": [
       "array([ 1.01905466,  0.07300133, -0.66376124,  0.6724747 ,  0.79680041])"
      ]
     },
     "execution_count": 62,
     "metadata": {},
     "output_type": "execute_result"
    }
   ],
   "source": [
    "norm().rvs(size=5)"
   ]
  },
  {
   "cell_type": "code",
   "execution_count": 63,
   "id": "578e8ec6-13d1-4f48-abfe-2d873a531787",
   "metadata": {},
   "outputs": [
    {
     "data": {
      "text/plain": [
       "(array(0.), array(1.), array(0.), array(0.))"
      ]
     },
     "execution_count": 63,
     "metadata": {},
     "output_type": "execute_result"
    }
   ],
   "source": [
    "norm().stats(moments=\"mvsk\") #mean, variance, fisher's skew, fisher's kurtosis"
   ]
  },
  {
   "cell_type": "code",
   "execution_count": 64,
   "id": "764c5532-b1fd-401c-8a43-0eafcb545e4a",
   "metadata": {},
   "outputs": [
    {
     "data": {
      "text/plain": [
       "<matplotlib.lines.Line2D at 0x7f90da1f75b0>"
      ]
     },
     "execution_count": 64,
     "metadata": {},
     "output_type": "execute_result"
    },
    {
     "data": {
      "image/png": "[encoded data removed]",
      "text/plain": [
       "<Figure size 640x480 with 1 Axes>"
      ]
     },
     "metadata": {},
     "output_type": "display_data"
    }
   ],
   "source": [
    "g = gamma(a=2, loc=0, scale=1.2) #freezing\n",
    "\n",
    "x = np.linspace(0, 10, 100)\n",
    "plt.plot(x, g.pdf(x), \"k-\")\n",
    "plt.axvline(x=g.mean(), c=\"r\")\n",
    "plt.axvline(x=g.median(), c=\"b\")"
   ]
  },
  {
   "cell_type": "code",
   "execution_count": 65,
   "id": "f089dce7-0364-41fe-9004-227f18fb09b7",
   "metadata": {},
   "outputs": [
    {
     "data": {
      "text/plain": [
       "(2.5314811643075235, 1.946132398754459)"
      ]
     },
     "execution_count": 65,
     "metadata": {},
     "output_type": "execute_result"
    }
   ],
   "source": [
    "x = norm.rvs(loc=2.5, scale=2, size=1000, random_state=1234)\n",
    "norm.fit(x)\n",
    "norm.fit(x, loc=2.5) # provide a guess for the parameter"
   ]
  },
  {
   "cell_type": "code",
   "execution_count": 66,
   "id": "9762c255-73a3-44b3-9c39-6bdefe3d58fe",
   "metadata": {},
   "outputs": [
    {
     "data": {
      "text/plain": [
       "(2.410329471161071, -0.9816978958643232, 2.120321321085349)"
      ]
     },
     "execution_count": 66,
     "metadata": {},
     "output_type": "execute_result"
    }
   ],
   "source": [
    "x = gamma.rvs(a=2.5, size=1000)\n",
    "gamma.fit(x) # shape, loc, scale\n",
    "\n",
    "y = gamma.rvs(a=2.5, loc=-1, scale=2, size=1000)\n",
    "gamma.fit(y) # shape, loc, scale"
   ]
  }
 ],
 "metadata": {
  "kernelspec": {
   "display_name": "Python 3 (ipykernel)",
   "language": "python",
   "name": "python3"
  },
  "language_info": {
   "codemirror_mode": {
    "name": "ipython",
    "version": 3
   },
   "file_extension": ".py",
   "mimetype": "text/x-python",
   "name": "python",
   "nbconvert_exporter": "python",
   "pygments_lexer": "ipython3",
   "version": "3.9.13"
  }
 },
 "nbformat": 4,
 "nbformat_minor": 5
}
