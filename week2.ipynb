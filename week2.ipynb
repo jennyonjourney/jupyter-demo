{
 "cells": [
  {
   "cell_type": "markdown",
   "id": "afffc130-6ac5-48ec-b01e-b6d3b440dbcb",
   "metadata": {
    "tags": []
   },
   "source": [
    "# Dictionaries/Sets/deques"
   ]
  },
  {
   "cell_type": "code",
   "execution_count": 1,
   "id": "ead6c683-2e28-4493-91bd-00693b1a2803",
   "metadata": {
    "tags": []
   },
   "outputs": [
    {
     "data": {
      "text/plain": [
       "{'abc': 123, 'def': 456}"
      ]
     },
     "execution_count": 1,
     "metadata": {},
     "output_type": "execute_result"
    }
   ],
   "source": [
    "# each entry consists of a key should be immutable (tuple)\n",
    "# purpose : efficient look up based on the key\n",
    "{'abc' : 123, 'def' : 456}"
   ]
  },
  {
   "cell_type": "code",
   "execution_count": 2,
   "id": "00e14f0d-9434-4db8-8dbc-31258392abf4",
   "metadata": {},
   "outputs": [
    {
     "data": {
      "text/plain": [
       "{'abc': 123, 'def': 456}"
      ]
     },
     "execution_count": 2,
     "metadata": {},
     "output_type": "execute_result"
    }
   ],
   "source": [
    "dict([('abc',123), ('def', 456)])"
   ]
  },
  {
   "cell_type": "code",
   "execution_count": 3,
   "id": "a8584028-7d02-44c7-926e-f0cde0fc4d06",
   "metadata": {},
   "outputs": [
    {
     "data": {
      "text/plain": [
       "{1: 'abc',\n",
       " 1.1: (1, 1),\n",
       " 'one': ['a', 'n'],\n",
       " (1, 1): <function __main__.<lambda>(x)>}"
      ]
     },
     "execution_count": 3,
     "metadata": {},
     "output_type": "execute_result"
    }
   ],
   "source": [
    "# key hash table\n",
    "{1:'abc', 1.1:(1,1),'one':['a','n'], (1,1): lambda x: x**2}"
   ]
  },
  {
   "cell_type": "code",
   "execution_count": 4,
   "id": "b16a48d7-24dd-4b7d-b0ff-1adb2bc358dd",
   "metadata": {},
   "outputs": [],
   "source": [
    "x = {1:'abc', 'y':'hello', (1,1):3.14159}"
   ]
  },
  {
   "cell_type": "code",
   "execution_count": 7,
   "id": "2eaf89fa-3860-4c49-bd74-bb158e91c1ff",
   "metadata": {},
   "outputs": [],
   "source": [
    "x['def'] = -1"
   ]
  },
  {
   "cell_type": "code",
   "execution_count": 9,
   "id": "dffa8346-bc4f-4398-9cc9-fef499ff0132",
   "metadata": {},
   "outputs": [],
   "source": [
    "x['y'] = 'goodbye'"
   ]
  },
  {
   "cell_type": "code",
   "execution_count": 13,
   "id": "953296ac-871f-437e-a89e-d12127472f8d",
   "metadata": {},
   "outputs": [],
   "source": [
    "x.clear() #not x.clear but x.clear()"
   ]
  },
  {
   "cell_type": "code",
   "execution_count": 14,
   "id": "28b3988c-a157-41bb-a532-7bf04b3e759d",
   "metadata": {},
   "outputs": [
    {
     "data": {
      "text/plain": [
       "{}"
      ]
     },
     "execution_count": 14,
     "metadata": {},
     "output_type": "execute_result"
    }
   ],
   "source": [
    "x"
   ]
  },
  {
   "cell_type": "code",
   "execution_count": 16,
   "id": "ea7c6391-723d-4b2b-9106-3e179a4dcc0d",
   "metadata": {},
   "outputs": [
    {
     "data": {
      "text/plain": [
       "{0, 1, 2, 3, 4}"
      ]
     },
     "execution_count": 16,
     "metadata": {},
     "output_type": "execute_result"
    }
   ],
   "source": [
    "x = set(range(5))\n",
    "x"
   ]
  },
  {
   "cell_type": "code",
   "execution_count": 24,
   "id": "69803f2b-8787-4459-a18e-c1b4753aba9b",
   "metadata": {},
   "outputs": [
    {
     "data": {
      "text/plain": [
       "{0, 1, 2, 3, 4, 9}"
      ]
     },
     "execution_count": 24,
     "metadata": {},
     "output_type": "execute_result"
    }
   ],
   "source": [
    "x.add(9)\n",
    "x"
   ]
  },
  {
   "cell_type": "code",
   "execution_count": 25,
   "id": "c60f8364-c6f7-474c-a640-93fa5ac13260",
   "metadata": {},
   "outputs": [
    {
     "data": {
      "text/plain": [
       "{0, 1, 2, 3, 4}"
      ]
     },
     "execution_count": 25,
     "metadata": {},
     "output_type": "execute_result"
    }
   ],
   "source": [
    "x.remove(9)\n",
    "x"
   ]
  },
  {
   "cell_type": "code",
   "execution_count": 27,
   "id": "03f44db2-8614-4ab2-a003-5bcf07e73a55",
   "metadata": {},
   "outputs": [
    {
     "data": {
      "text/plain": [
       "{0, 1, 2, 3, 4}"
      ]
     },
     "execution_count": 27,
     "metadata": {},
     "output_type": "execute_result"
    }
   ],
   "source": [
    "x.discard(7) # no error even with not existing one\n",
    "x"
   ]
  },
  {
   "cell_type": "markdown",
   "id": "b34c1323-9bd9-4a86-9bbd-561c13fb7b4b",
   "metadata": {
    "tags": []
   },
   "source": [
    "# Sets comprehensions"
   ]
  },
  {
   "cell_type": "code",
   "execution_count": 28,
   "id": "1700669f-c857-4f6e-a5e1-3fc4e6c6715c",
   "metadata": {},
   "outputs": [
    {
     "data": {
      "text/plain": [
       "{' ',\n",
       " '.',\n",
       " 'a',\n",
       " 'b',\n",
       " 'c',\n",
       " 'd',\n",
       " 'e',\n",
       " 'f',\n",
       " 'g',\n",
       " 'h',\n",
       " 'i',\n",
       " 'j',\n",
       " 'k',\n",
       " 'l',\n",
       " 'm',\n",
       " 'n',\n",
       " 'o',\n",
       " 'p',\n",
       " 'q',\n",
       " 'r',\n",
       " 't',\n",
       " 'u',\n",
       " 'w',\n",
       " 'x',\n",
       " 'y',\n",
       " 'z'}"
      ]
     },
     "execution_count": 28,
     "metadata": {},
     "output_type": "execute_result"
    }
   ],
   "source": [
    "{x.lower() for x in \"The quick brown fox jumped a lazy dog.\"}"
   ]
  },
  {
   "cell_type": "code",
   "execution_count": 29,
   "id": "4b2b51b7-220e-4449-8573-deea94cbf40d",
   "metadata": {},
   "outputs": [
    {
     "data": {
      "text/plain": [
       "{'alice': 'A', 'bob': 'B', 'carol': 'C', 'dave': 'D'}"
      ]
     },
     "execution_count": 29,
     "metadata": {},
     "output_type": "execute_result"
    }
   ],
   "source": [
    "names = [\"alice\", \"bob\", \"carol\", \"dave\"]\n",
    "grades = [\"A\",\"B\",\"C\",\"D\"]\n",
    "{name: grade for name, grade in zip(names,grades)}"
   ]
  },
  {
   "cell_type": "code",
   "execution_count": 30,
   "id": "55c00b61-adbb-4e1c-aa83-a235dc38bc4b",
   "metadata": {},
   "outputs": [
    {
     "data": {
      "text/plain": [
       "deque([1, 2, 3])"
      ]
     },
     "execution_count": 30,
     "metadata": {},
     "output_type": "execute_result"
    }
   ],
   "source": [
    "import collections\n",
    "collections.deque([1,2,3])"
   ]
  },
  {
   "cell_type": "code",
   "execution_count": 31,
   "id": "68ec8b07-7cd1-4e64-90ef-d928d3a91db8",
   "metadata": {},
   "outputs": [
    {
     "data": {
      "text/plain": [
       "deque(['A', 2, True])"
      ]
     },
     "execution_count": 31,
     "metadata": {},
     "output_type": "execute_result"
    }
   ],
   "source": [
    "from collections import deque\n",
    "deque((\"A\",2,True))"
   ]
  },
  {
   "cell_type": "code",
   "execution_count": 33,
   "id": "cf0541fb-e3b1-4c6b-85af-d25bb4274673",
   "metadata": {},
   "outputs": [],
   "source": [
    "x = deque(range(3))"
   ]
  },
  {
   "cell_type": "code",
   "execution_count": 34,
   "id": "74f0a00f-4e9e-49f0-ae6c-004cccd8fdc5",
   "metadata": {},
   "outputs": [],
   "source": [
    "x.appendleft(-1)"
   ]
  },
  {
   "cell_type": "code",
   "execution_count": 35,
   "id": "49a6d926-2e1c-4371-9b25-e73791f0fa82",
   "metadata": {},
   "outputs": [
    {
     "data": {
      "text/plain": [
       "deque([-1, 0, 1, 2])"
      ]
     },
     "execution_count": 35,
     "metadata": {},
     "output_type": "execute_result"
    }
   ],
   "source": [
    "x"
   ]
  },
  {
   "cell_type": "code",
   "execution_count": 36,
   "id": "ae6a9f7d-d37c-4237-9d4c-be1fcaf701a5",
   "metadata": {},
   "outputs": [
    {
     "data": {
      "text/plain": [
       "deque([-1, 0, 1, 2, 3])"
      ]
     },
     "execution_count": 36,
     "metadata": {},
     "output_type": "execute_result"
    }
   ],
   "source": [
    "x.append(3)\n",
    "x"
   ]
  },
  {
   "cell_type": "code",
   "execution_count": 37,
   "id": "145533b7-87e9-4256-a8ae-fe06e895fc45",
   "metadata": {},
   "outputs": [
    {
     "data": {
      "text/plain": [
       "-1"
      ]
     },
     "execution_count": 37,
     "metadata": {},
     "output_type": "execute_result"
    }
   ],
   "source": [
    "x.popleft() # the left one left, others disappear"
   ]
  },
  {
   "cell_type": "code",
   "execution_count": 38,
   "id": "c58e7f85-0191-4fd5-8d26-c2e1d8d1f93a",
   "metadata": {},
   "outputs": [
    {
     "data": {
      "text/plain": [
       "deque([0, 1, 2, 3])"
      ]
     },
     "execution_count": 38,
     "metadata": {},
     "output_type": "execute_result"
    }
   ],
   "source": [
    "x"
   ]
  },
  {
   "cell_type": "code",
   "execution_count": 39,
   "id": "4c74a01f-5dd7-43d1-be10-1fa42024430e",
   "metadata": {},
   "outputs": [
    {
     "data": {
      "text/plain": [
       "3"
      ]
     },
     "execution_count": 39,
     "metadata": {},
     "output_type": "execute_result"
    }
   ],
   "source": [
    "x.pop() # the right one left, others disappear"
   ]
  },
  {
   "cell_type": "code",
   "execution_count": 40,
   "id": "2121030e-4390-46c6-8a1d-ba5b1abbcc11",
   "metadata": {},
   "outputs": [
    {
     "data": {
      "text/plain": [
       "deque([0, 1, 2])"
      ]
     },
     "execution_count": 40,
     "metadata": {},
     "output_type": "execute_result"
    }
   ],
   "source": [
    "x"
   ]
  },
  {
   "cell_type": "markdown",
   "id": "dccccefc-b510-43e6-8351-cd1018364a74",
   "metadata": {
    "tags": []
   },
   "source": [
    "# Exercise 2"
   ]
  },
  {
   "cell_type": "code",
   "execution_count": null,
   "id": "d7ab0dbb-3455-4d4d-a48f-ebf241399ae9",
   "metadata": {},
   "outputs": [],
   "source": [
    "# Which is the most appropriate data structure and why? (It seems I got this question in a totally wrong way..)\n",
    "\n",
    "# 1. a fixed collection of 100 integers => My answer : Tuple (immutable)\n",
    "# ==> wrong. mean, stdev, .... For summary operation \"Lists\" are better than deques (simple)\n",
    "# ==> A homogeneous collection (like 100 integers), then \"Lists\" are preferred.\n",
    "\n",
    "# 2. a stack (first in last out) of customer records => My answer : Sets (no duplicate & immutable)\n",
    "# ==> wrong. \"Lists\" are better and simple. Deques is good but overkill.\n",
    "\n",
    "# a queue (first in first out) of customer records => My answer : Deques (mutable collection)\n",
    "# ==> correct. \"Deques\" are good.\n",
    "\n",
    "# a count of word occurances without a document => My answer : vector/array\n",
    "# ==> wrong. \"Dictionaries\" are good for unique key and values."
   ]
  },
  {
   "cell_type": "markdown",
   "id": "64cb945a-af17-4934-9878-36301a2dfbf0",
   "metadata": {
    "tags": []
   },
   "source": [
    "# Numpy"
   ]
  },
  {
   "cell_type": "code",
   "execution_count": 41,
   "id": "e444704e-423d-4e8e-9bee-77f908feb3c7",
   "metadata": {},
   "outputs": [],
   "source": [
    "import numpy as np"
   ]
  },
  {
   "cell_type": "code",
   "execution_count": 42,
   "id": "447d17e9-9b1b-4562-9498-0de9821a82f7",
   "metadata": {},
   "outputs": [
    {
     "data": {
      "text/plain": [
       "array([1, 2, 3])"
      ]
     },
     "execution_count": 42,
     "metadata": {},
     "output_type": "execute_result"
    }
   ],
   "source": [
    "np.array([1,2,3]) #one dimension"
   ]
  },
  {
   "cell_type": "code",
   "execution_count": 44,
   "id": "fec56834-68c9-4892-8fd2-1a026bd8de26",
   "metadata": {},
   "outputs": [
    {
     "data": {
      "text/plain": [
       "array([[1, 2],\n",
       "       [3, 4]])"
      ]
     },
     "execution_count": 44,
     "metadata": {},
     "output_type": "execute_result"
    }
   ],
   "source": [
    "np.array([[1,2],[3,4]]) #two dimensions [[]] two sqaures"
   ]
  },
  {
   "cell_type": "code",
   "execution_count": 45,
   "id": "463e2285-9e1e-4364-8347-53e0a24bc744",
   "metadata": {},
   "outputs": [
    {
     "data": {
      "text/plain": [
       "dtype('int64')"
      ]
     },
     "execution_count": 45,
     "metadata": {},
     "output_type": "execute_result"
    }
   ],
   "source": [
    "np.array([1,1]).dtype"
   ]
  },
  {
   "cell_type": "code",
   "execution_count": 47,
   "id": "9902bca3-267c-43f5-9ec2-f869175f2b1e",
   "metadata": {},
   "outputs": [
    {
     "data": {
      "text/plain": [
       "dtype('bool')"
      ]
     },
     "execution_count": 47,
     "metadata": {},
     "output_type": "execute_result"
    }
   ],
   "source": [
    "np.array([True, False]).dtype"
   ]
  },
  {
   "cell_type": "code",
   "execution_count": 49,
   "id": "ea26a10f-78b2-4139-84ec-83ee3e752550",
   "metadata": {},
   "outputs": [
    {
     "data": {
      "text/plain": [
       "array([0, 1, 2, 3, 4, 5, 6, 7, 8, 9])"
      ]
     },
     "execution_count": 49,
     "metadata": {},
     "output_type": "execute_result"
    }
   ],
   "source": [
    "np.arange(10)"
   ]
  },
  {
   "cell_type": "code",
   "execution_count": 51,
   "id": "f1b3a845-8708-4c2e-a903-6dfc03149876",
   "metadata": {},
   "outputs": [
    {
     "data": {
      "text/plain": [
       "array([3.  , 3.25, 3.5 , 3.75, 4.  , 4.25, 4.5 , 4.75])"
      ]
     },
     "execution_count": 51,
     "metadata": {},
     "output_type": "execute_result"
    }
   ],
   "source": [
    "np.arange(3,5,0.25) #not including last value"
   ]
  },
  {
   "cell_type": "code",
   "execution_count": 52,
   "id": "9e323640-bb42-4f8a-89a1-feebff234f77",
   "metadata": {},
   "outputs": [
    {
     "data": {
      "text/plain": [
       "array([0. , 0.1, 0.2, 0.3, 0.4, 0.5, 0.6, 0.7, 0.8, 0.9, 1. ])"
      ]
     },
     "execution_count": 52,
     "metadata": {},
     "output_type": "execute_result"
    }
   ],
   "source": [
    "np.linspace(0,1,11) #seems really important like rep(0,1,0.1) in R"
   ]
  },
  {
   "cell_type": "code",
   "execution_count": 53,
   "id": "ddc6239e-8148-4eda-9ab7-aebc0bb310b2",
   "metadata": {},
   "outputs": [
    {
     "data": {
      "text/plain": [
       "array([  1.        ,   1.58489319,   2.51188643,   3.98107171,\n",
       "         6.30957344,  10.        ,  15.84893192,  25.11886432,\n",
       "        39.81071706,  63.09573445, 100.        ])"
      ]
     },
     "execution_count": 53,
     "metadata": {},
     "output_type": "execute_result"
    }
   ],
   "source": [
    "np.logspace(0,2,11)"
   ]
  },
  {
   "cell_type": "code",
   "execution_count": 54,
   "id": "870126ca-38b0-48ac-a7b3-ed7a466f601f",
   "metadata": {},
   "outputs": [
    {
     "data": {
      "text/plain": [
       "array([1., 1., 1., 1.])"
      ]
     },
     "execution_count": 54,
     "metadata": {},
     "output_type": "execute_result"
    }
   ],
   "source": [
    "np.ones(4)"
   ]
  },
  {
   "cell_type": "code",
   "execution_count": 55,
   "id": "6e34928d-4a93-4f66-88e2-5d906adcdfc6",
   "metadata": {},
   "outputs": [
    {
     "data": {
      "text/plain": [
       "array([0., 0., 0., 0., 0., 0.])"
      ]
     },
     "execution_count": 55,
     "metadata": {},
     "output_type": "execute_result"
    }
   ],
   "source": [
    "np.zeros(6) #rep(NA,6) in r"
   ]
  },
  {
   "cell_type": "code",
   "execution_count": 57,
   "id": "bb5dad0a-ad64-4863-bd57-137afffd9171",
   "metadata": {},
   "outputs": [
    {
     "data": {
      "text/plain": [
       "array([False, False, False])"
      ]
     },
     "execution_count": 57,
     "metadata": {},
     "output_type": "execute_result"
    }
   ],
   "source": [
    "np.full(3, False)"
   ]
  },
  {
   "cell_type": "code",
   "execution_count": 58,
   "id": "336a10bb-71bb-4303-a171-00a99c8790fb",
   "metadata": {},
   "outputs": [
    {
     "data": {
      "text/plain": [
       "array([1., 1., 1., 1.])"
      ]
     },
     "execution_count": 58,
     "metadata": {},
     "output_type": "execute_result"
    }
   ],
   "source": [
    "np.empty(4) #assign values later"
   ]
  },
  {
   "cell_type": "code",
   "execution_count": 59,
   "id": "c78bbb0e-d30e-4278-9153-2710143e6451",
   "metadata": {},
   "outputs": [
    {
     "data": {
      "text/plain": [
       "array([[1., 0., 0.],\n",
       "       [0., 1., 0.],\n",
       "       [0., 0., 1.]])"
      ]
     },
     "execution_count": 59,
     "metadata": {},
     "output_type": "execute_result"
    }
   ],
   "source": [
    "np.eye(3)"
   ]
  },
  {
   "cell_type": "code",
   "execution_count": 60,
   "id": "1f599f6a-3268-456c-81b4-63299fa2a38c",
   "metadata": {},
   "outputs": [
    {
     "data": {
      "text/plain": [
       "array([[1., 0.],\n",
       "       [0., 1.]])"
      ]
     },
     "execution_count": 60,
     "metadata": {},
     "output_type": "execute_result"
    }
   ],
   "source": [
    "np.identity(2)"
   ]
  },
  {
   "cell_type": "code",
   "execution_count": 61,
   "id": "6089588d-e525-410e-9c76-8f42de0bf2be",
   "metadata": {},
   "outputs": [
    {
     "data": {
      "text/plain": [
       "array([[0., 0.],\n",
       "       [0., 0.]])"
      ]
     },
     "execution_count": 61,
     "metadata": {},
     "output_type": "execute_result"
    }
   ],
   "source": [
    "np.zeros((2,2))"
   ]
  },
  {
   "cell_type": "code",
   "execution_count": 62,
   "id": "a4eb18dd-1f22-4167-a53c-57121b4d66f9",
   "metadata": {},
   "outputs": [
    {
     "data": {
      "text/plain": [
       "array([[3, 0, 0],\n",
       "       [0, 2, 0],\n",
       "       [0, 0, 1]])"
      ]
     },
     "execution_count": 62,
     "metadata": {},
     "output_type": "execute_result"
    }
   ],
   "source": [
    "np.diag([3,2,1])"
   ]
  },
  {
   "cell_type": "code",
   "execution_count": 63,
   "id": "5e66cdaa-cdc5-4bf3-bdd2-a042ede21cee",
   "metadata": {},
   "outputs": [
    {
     "data": {
      "text/plain": [
       "array([[1., 0., 0.],\n",
       "       [1., 1., 0.],\n",
       "       [1., 1., 1.]])"
      ]
     },
     "execution_count": 63,
     "metadata": {},
     "output_type": "execute_result"
    }
   ],
   "source": [
    "np.tri(3) #lower triangular matrix"
   ]
  },
  {
   "cell_type": "code",
   "execution_count": 65,
   "id": "4652fe70-b260-4048-813b-530b4fb03d87",
   "metadata": {},
   "outputs": [
    {
     "data": {
      "text/plain": [
       "array([[3, 3, 3],\n",
       "       [0, 3, 3],\n",
       "       [0, 0, 3]])"
      ]
     },
     "execution_count": 65,
     "metadata": {},
     "output_type": "execute_result"
    }
   ],
   "source": [
    "np.triu(np.full((3,3),3)) #upper triangular matrix"
   ]
  },
  {
   "cell_type": "code",
   "execution_count": 138,
   "id": "c6f80292-3420-4d85-b64b-0481b1ce684d",
   "metadata": {},
   "outputs": [
    {
     "data": {
      "text/plain": [
       "array([[1, 2, 3],\n",
       "       [4, 5, 6],\n",
       "       [7, 8, 9]])"
      ]
     },
     "execution_count": 138,
     "metadata": {},
     "output_type": "execute_result"
    }
   ],
   "source": [
    "x = np.array([[1,2,3],[4,5,6],[7,8,9]])\n",
    "x"
   ]
  },
  {
   "cell_type": "code",
   "execution_count": 75,
   "id": "aeca1289-854c-449a-9145-2c4c4fbe170e",
   "metadata": {},
   "outputs": [
    {
     "data": {
      "text/plain": [
       "3"
      ]
     },
     "execution_count": 75,
     "metadata": {},
     "output_type": "execute_result"
    }
   ],
   "source": [
    "x[0,2] #1st array's element and 2nd element that element"
   ]
  },
  {
   "cell_type": "code",
   "execution_count": 76,
   "id": "960ed942-ab86-4560-b3bb-c846348d4084",
   "metadata": {},
   "outputs": [
    {
     "data": {
      "text/plain": [
       "3"
      ]
     },
     "execution_count": 76,
     "metadata": {},
     "output_type": "execute_result"
    }
   ],
   "source": [
    "x[0][2] #1st array's element and 2nd element that element"
   ]
  },
  {
   "cell_type": "code",
   "execution_count": 77,
   "id": "1dfa0803-7221-4073-97ef-d81fdfd13018",
   "metadata": {},
   "outputs": [
    {
     "data": {
      "text/plain": [
       "array([[1, 2, 3],\n",
       "       [7, 8, 9]])"
      ]
     },
     "execution_count": 77,
     "metadata": {},
     "output_type": "execute_result"
    }
   ],
   "source": [
    "x[0:3:2,:] #: means all"
   ]
  },
  {
   "cell_type": "code",
   "execution_count": 78,
   "id": "5393b5c6-1ccb-4842-93cf-aa2a94e67b98",
   "metadata": {},
   "outputs": [
    {
     "data": {
      "text/plain": [
       "array([[1, 2, 3],\n",
       "       [7, 8, 9]])"
      ]
     },
     "execution_count": 78,
     "metadata": {},
     "output_type": "execute_result"
    }
   ],
   "source": [
    "x[0:3:2]"
   ]
  },
  {
   "cell_type": "code",
   "execution_count": 92,
   "id": "60a347a7-d4d7-4fbe-9080-cdf175997f3a",
   "metadata": {},
   "outputs": [
    {
     "data": {
      "text/plain": [
       "array([], shape=(2, 0), dtype=int64)"
      ]
     },
     "execution_count": 92,
     "metadata": {},
     "output_type": "execute_result"
    }
   ],
   "source": [
    "#<value> = <array>[index] in 1D array\n",
    "#<value> = <array>[row,col] in 2D array\n",
    "#<array>[index] = <value> \n",
    "#<array>[row,col] = <value>\n",
    "#<slice> = <array>[start:stop]\n",
    "#<slice> = <array>[start_row:end_row, start_col:end_col]"
   ]
  },
  {
   "cell_type": "code",
   "execution_count": 95,
   "id": "c2fa9687-e01c-48e5-8d9d-2fb70e5da741",
   "metadata": {},
   "outputs": [
    {
     "data": {
      "text/plain": [
       "array([[1, 2, 3],\n",
       "       [4, 5, 6],\n",
       "       [7, 8, 9]])"
      ]
     },
     "execution_count": 95,
     "metadata": {},
     "output_type": "execute_result"
    }
   ],
   "source": [
    "x[0:3] # It means returning x[0], x[1], x[2]."
   ]
  },
  {
   "cell_type": "code",
   "execution_count": 97,
   "id": "1d95500e-077c-47eb-8a42-25769716064c",
   "metadata": {},
   "outputs": [
    {
     "data": {
      "text/plain": [
       "array([[2],\n",
       "       [5],\n",
       "       [8]])"
      ]
     },
     "execution_count": 97,
     "metadata": {},
     "output_type": "execute_result"
    }
   ],
   "source": [
    "x[0:3, 1:2]"
   ]
  },
  {
   "cell_type": "code",
   "execution_count": 139,
   "id": "d515c8d6-5ed6-46c5-bf31-13b1d420b06a",
   "metadata": {},
   "outputs": [
    {
     "data": {
      "text/plain": [
       "array([[8, 9]])"
      ]
     },
     "execution_count": 139,
     "metadata": {},
     "output_type": "execute_result"
    }
   ],
   "source": [
    "x[2:3,1:3]"
   ]
  },
  {
   "cell_type": "code",
   "execution_count": 141,
   "id": "89050de1-be93-4730-afc2-c524ad1b7ee7",
   "metadata": {},
   "outputs": [
    {
     "data": {
      "text/plain": [
       "array([8, 9])"
      ]
     },
     "execution_count": 141,
     "metadata": {},
     "output_type": "execute_result"
    }
   ],
   "source": [
    "x[2,1:3]"
   ]
  },
  {
   "cell_type": "code",
   "execution_count": 136,
   "id": "2f055ca8-86a2-44af-b7be-841bcfb9dd15",
   "metadata": {},
   "outputs": [
    {
     "data": {
      "text/plain": [
       "array([8])"
      ]
     },
     "execution_count": 136,
     "metadata": {},
     "output_type": "execute_result"
    }
   ],
   "source": [
    "x[2,2:4]"
   ]
  },
  {
   "cell_type": "code",
   "execution_count": 100,
   "id": "173c410b-90f5-4503-a4ac-d35cf6d0ab4e",
   "metadata": {},
   "outputs": [
    {
     "data": {
      "text/plain": [
       "array([[1, 2, 3],\n",
       "       [4, 5, 6]])"
      ]
     },
     "execution_count": 101,
     "metadata": {},
     "output_type": "execute_result"
    }
   ],
   "source": [
    "x[0:2]"
   ]
  },
  {
   "cell_type": "code",
   "execution_count": 109,
   "id": "6dac85a3-4fa7-4de9-8036-a23b62776e5a",
   "metadata": {},
   "outputs": [
    {
     "data": {
      "text/plain": [
       "array([[1, 2, 3],\n",
       "       [4, 5, 6]])"
      ]
     },
     "execution_count": 109,
     "metadata": {},
     "output_type": "execute_result"
    }
   ],
   "source": [
    "x[:2]"
   ]
  },
  {
   "cell_type": "code",
   "execution_count": 104,
   "id": "d10a1d7f-091c-40b1-bb66-61a304c082f8",
   "metadata": {},
   "outputs": [
    {
     "data": {
      "text/plain": [
       "array([2, 5])"
      ]
     },
     "execution_count": 104,
     "metadata": {},
     "output_type": "execute_result"
    }
   ],
   "source": [
    "x[:2,1] #[row, col] "
   ]
  },
  {
   "cell_type": "code",
   "execution_count": 108,
   "id": "f5f47de1-e9c0-495a-a086-1f3518cc7e63",
   "metadata": {},
   "outputs": [
    {
     "data": {
      "text/plain": [
       "array([[2],\n",
       "       [5]])"
      ]
     },
     "execution_count": 108,
     "metadata": {},
     "output_type": "execute_result"
    }
   ],
   "source": [
    "x[:2,1:2]"
   ]
  },
  {
   "cell_type": "code",
   "execution_count": 110,
   "id": "0dbc1887-ca11-4fb2-ac87-a6b7192af4da",
   "metadata": {},
   "outputs": [
    {
     "data": {
      "text/plain": [
       "array([[1, 2, 3],\n",
       "       [4, 5, 6],\n",
       "       [7, 8, 9]])"
      ]
     },
     "execution_count": 110,
     "metadata": {},
     "output_type": "execute_result"
    }
   ],
   "source": [
    "x[:,:]"
   ]
  },
  {
   "cell_type": "code",
   "execution_count": 111,
   "id": "9a231a6b-b70f-4bae-8e95-95b004c51de7",
   "metadata": {},
   "outputs": [
    {
     "data": {
      "text/plain": [
       "array([[1, 2, 3],\n",
       "       [4, 5, 6],\n",
       "       [7, 8, 9]])"
      ]
     },
     "execution_count": 111,
     "metadata": {},
     "output_type": "execute_result"
    }
   ],
   "source": [
    "x[:,]"
   ]
  },
  {
   "cell_type": "code",
   "execution_count": 112,
   "id": "1c722520-3ebb-4077-9207-d06b0e9becc7",
   "metadata": {},
   "outputs": [
    {
     "ename": "SyntaxError",
     "evalue": "invalid syntax (81718787.py, line 1)",
     "output_type": "error",
     "traceback": [
      "\u001b[0;36m  File \u001b[0;32m\"/var/folders/0m/966_8tjn5pddy9gxt6rqdwh00000gn/T/ipykernel_31320/81718787.py\"\u001b[0;36m, line \u001b[0;32m1\u001b[0m\n\u001b[0;31m    x[,:]\u001b[0m\n\u001b[0m      ^\u001b[0m\n\u001b[0;31mSyntaxError\u001b[0m\u001b[0;31m:\u001b[0m invalid syntax\n"
     ]
    }
   ],
   "source": [
    "x[,:]"
   ]
  },
  {
   "cell_type": "code",
   "execution_count": 113,
   "id": "8c700f18-a028-48f0-a6fb-64272698e428",
   "metadata": {},
   "outputs": [],
   "source": [
    "x = np.arange(10)\n",
    "y = x[2:5]\n",
    "z = x[2:5].copy()"
   ]
  },
  {
   "cell_type": "code",
   "execution_count": 117,
   "id": "08334d60-af09-41e5-82b7-6305b197c2ec",
   "metadata": {},
   "outputs": [
    {
     "name": "stdout",
     "output_type": "stream",
     "text": [
      "x= [0 1 2 3 4 5 6 7 8 9] , x.base= None\n"
     ]
    }
   ],
   "source": [
    "print(\"x=\",x,\", x.base=\",x.base)"
   ]
  },
  {
   "cell_type": "code",
   "execution_count": 118,
   "id": "b560495a-3ff2-44ad-9bb7-7d3112d86f94",
   "metadata": {},
   "outputs": [
    {
     "name": "stdout",
     "output_type": "stream",
     "text": [
      "y= [2 3 4] , y.base= [0 1 2 3 4 5 6 7 8 9]\n"
     ]
    }
   ],
   "source": [
    "print(\"y=\",y,\", y.base=\",y.base)"
   ]
  },
  {
   "cell_type": "code",
   "execution_count": 119,
   "id": "59569ba2-7616-486c-9585-cc1dad82b36e",
   "metadata": {},
   "outputs": [
    {
     "name": "stdout",
     "output_type": "stream",
     "text": [
      "z= [2 3 4] , z.base= None\n"
     ]
    }
   ],
   "source": [
    "print(\"z=\",z,\", z.base=\",z.base)"
   ]
  },
  {
   "cell_type": "code",
   "execution_count": 120,
   "id": "d09375d0-4779-430a-83b6-e44b63dd259f",
   "metadata": {},
   "outputs": [
    {
     "data": {
      "text/plain": [
       "True"
      ]
     },
     "execution_count": 120,
     "metadata": {},
     "output_type": "execute_result"
    }
   ],
   "source": [
    "np.shares_memory(x,y)"
   ]
  },
  {
   "cell_type": "code",
   "execution_count": 121,
   "id": "bc669a57-ba44-4e34-becc-84f3fd81dcbd",
   "metadata": {},
   "outputs": [
    {
     "data": {
      "text/plain": [
       "False"
      ]
     },
     "execution_count": 121,
     "metadata": {},
     "output_type": "execute_result"
    }
   ],
   "source": [
    "np.shares_memory(y,z)"
   ]
  },
  {
   "cell_type": "code",
   "execution_count": 122,
   "id": "78c3b0e6-07f7-4a0f-9d33-fc6110427eeb",
   "metadata": {},
   "outputs": [
    {
     "data": {
      "text/plain": [
       "  C_CONTIGUOUS : True\n",
       "  F_CONTIGUOUS : True\n",
       "  OWNDATA : False\n",
       "  WRITEABLE : True\n",
       "  ALIGNED : True\n",
       "  WRITEBACKIFCOPY : False\n",
       "  UPDATEIFCOPY : False"
      ]
     },
     "execution_count": 122,
     "metadata": {},
     "output_type": "execute_result"
    }
   ],
   "source": [
    "y.flags"
   ]
  },
  {
   "cell_type": "code",
   "execution_count": 123,
   "id": "d4a6e41a-d460-4667-b637-ea674aede8fe",
   "metadata": {},
   "outputs": [
    {
     "data": {
      "text/plain": [
       "array([[0, 1, 2],\n",
       "       [3, 4, 5],\n",
       "       [6, 7, 8]])"
      ]
     },
     "execution_count": 123,
     "metadata": {},
     "output_type": "execute_result"
    }
   ],
   "source": [
    "x = np.arange(9).reshape((3,3)); x\n",
    "y = x.copy() ; y"
   ]
  },
  {
   "cell_type": "code",
   "execution_count": 144,
   "id": "efe15773-3baa-4971-8a35-7a86dbb9b317",
   "metadata": {},
   "outputs": [
    {
     "data": {
      "text/plain": [
       "array([[-4,  2,  3],\n",
       "       [ 4, -4,  6],\n",
       "       [ 7,  8, -4]])"
      ]
     },
     "execution_count": 144,
     "metadata": {},
     "output_type": "execute_result"
    }
   ],
   "source": [
    "x[(0,1,2),(0,1,2)] = -4 ;x"
   ]
  },
  {
   "cell_type": "code",
   "execution_count": 146,
   "id": "b5149ba9-f235-4b89-aed7-db5a7474f625",
   "metadata": {},
   "outputs": [
    {
     "data": {
      "text/plain": [
       "array([0, 1, 2, 3, 4, 5])"
      ]
     },
     "execution_count": 146,
     "metadata": {},
     "output_type": "execute_result"
    }
   ],
   "source": [
    "# reshaping arrays\n",
    "x = np.arange(6);x"
   ]
  },
  {
   "cell_type": "code",
   "execution_count": 148,
   "id": "b7f14436-cc3e-4134-b949-cb41492b8f6b",
   "metadata": {},
   "outputs": [
    {
     "data": {
      "text/plain": [
       "array([[0, 1, 2],\n",
       "       [3, 4, 5]])"
      ]
     },
     "execution_count": 148,
     "metadata": {},
     "output_type": "execute_result"
    }
   ],
   "source": [
    "y = x.reshape((2,3));y"
   ]
  },
  {
   "cell_type": "code",
   "execution_count": 149,
   "id": "f840eaf2-b05d-4dcd-a63f-b44c526be66a",
   "metadata": {},
   "outputs": [
    {
     "data": {
      "text/plain": [
       "array([[0, 1, 2],\n",
       "       [3, 4, 5]])"
      ]
     },
     "execution_count": 149,
     "metadata": {},
     "output_type": "execute_result"
    }
   ],
   "source": [
    "x.reshape((2,-1)) #-1 is just auto calculation of dimension"
   ]
  },
  {
   "cell_type": "code",
   "execution_count": 150,
   "id": "c457865b-3d00-4fe1-9f9a-d8c4cef6b774",
   "metadata": {},
   "outputs": [
    {
     "data": {
      "text/plain": [
       "array([0, 1, 2, 3, 4, 5])"
      ]
     },
     "execution_count": 150,
     "metadata": {},
     "output_type": "execute_result"
    }
   ],
   "source": [
    "x.reshape(-1) # flattening way1"
   ]
  },
  {
   "cell_type": "code",
   "execution_count": 151,
   "id": "35fa5256-3f4a-4f2a-856c-cd15ef6a0386",
   "metadata": {},
   "outputs": [
    {
     "data": {
      "text/plain": [
       "array([0, 1, 2, 3, 4, 5])"
      ]
     },
     "execution_count": 151,
     "metadata": {},
     "output_type": "execute_result"
    }
   ],
   "source": [
    "x.ravel() # flattening way2"
   ]
  },
  {
   "cell_type": "code",
   "execution_count": 152,
   "id": "26d09488-2d52-4e83-bbeb-7fcb785fa34f",
   "metadata": {},
   "outputs": [
    {
     "data": {
      "text/plain": [
       "array([0, 1, 2, 3, 4, 5])"
      ]
     },
     "execution_count": 152,
     "metadata": {},
     "output_type": "execute_result"
    }
   ],
   "source": [
    "x.flatten() # flattening way3 = copy"
   ]
  },
  {
   "cell_type": "code",
   "execution_count": 153,
   "id": "a27b94ef-54c3-470c-84b4-ee116fc297f1",
   "metadata": {},
   "outputs": [
    {
     "data": {
      "text/plain": [
       "array([[1., 1., 1.],\n",
       "       [1., 1., 1.],\n",
       "       [1., 1., 1.]])"
      ]
     },
     "execution_count": 153,
     "metadata": {},
     "output_type": "execute_result"
    }
   ],
   "source": [
    "np.resize(np.ones((2,2)), (3,3)) #resize needs copy"
   ]
  },
  {
   "cell_type": "code",
   "execution_count": 157,
   "id": "325436c4-555a-4f20-938f-db44a027b649",
   "metadata": {},
   "outputs": [
    {
     "data": {
      "text/plain": [
       "array([[1., 1.],\n",
       "       [1., 1.]])"
      ]
     },
     "execution_count": 157,
     "metadata": {},
     "output_type": "execute_result"
    }
   ],
   "source": [
    "y = np.ones((2,2))\n",
    "y"
   ]
  },
  {
   "cell_type": "code",
   "execution_count": 159,
   "id": "51dde299-81b9-48a6-87ec-b1745eb2d3e1",
   "metadata": {},
   "outputs": [
    {
     "data": {
      "text/plain": [
       "array([[1., 1., 1.],\n",
       "       [1., 0., 0.],\n",
       "       [0., 0., 0.]])"
      ]
     },
     "execution_count": 159,
     "metadata": {},
     "output_type": "execute_result"
    }
   ],
   "source": [
    "y.resize((3,3), refcheck=False)\n",
    "y"
   ]
  },
  {
   "cell_type": "code",
   "execution_count": 160,
   "id": "f5c7df71-4e40-4851-b0dc-8e79cd61b60e",
   "metadata": {},
   "outputs": [
    {
     "data": {
      "text/plain": [
       "array([[0, 1],\n",
       "       [2, 3]])"
      ]
     },
     "execution_count": 160,
     "metadata": {},
     "output_type": "execute_result"
    }
   ],
   "source": [
    "x = np.arange(4).reshape((2,2));x"
   ]
  },
  {
   "cell_type": "markdown",
   "id": "69b8b370-fed4-4482-868e-eeee58d00d36",
   "metadata": {
    "tags": []
   },
   "source": [
    "# Numpy Numerics"
   ]
  },
  {
   "cell_type": "code",
   "execution_count": 162,
   "id": "05d1f11d-473f-433a-b204-7aa94c61f73f",
   "metadata": {},
   "outputs": [
    {
     "data": {
      "text/plain": [
       "array([0, 1, 2])"
      ]
     },
     "execution_count": 162,
     "metadata": {},
     "output_type": "execute_result"
    }
   ],
   "source": [
    "np.arange(3)"
   ]
  },
  {
   "cell_type": "code",
   "execution_count": 163,
   "id": "507993c3-cdee-4c63-95e8-2ee37df719fa",
   "metadata": {},
   "outputs": [
    {
     "data": {
      "text/plain": [
       "array([0, 2, 4])"
      ]
     },
     "execution_count": 163,
     "metadata": {},
     "output_type": "execute_result"
    }
   ],
   "source": [
    "np.arange(3) + np.arange(3)"
   ]
  },
  {
   "cell_type": "code",
   "execution_count": 164,
   "id": "bd59fc10-8ce6-45bd-8050-6b4e0b897666",
   "metadata": {},
   "outputs": [
    {
     "data": {
      "text/plain": [
       "array([[2, 2],\n",
       "       [2, 2]])"
      ]
     },
     "execution_count": 164,
     "metadata": {},
     "output_type": "execute_result"
    }
   ],
   "source": [
    "np.full((2,2),2)"
   ]
  },
  {
   "cell_type": "code",
   "execution_count": 166,
   "id": "c755d2ac-5f34-4f3a-bb77-c31e31f3c3f1",
   "metadata": {},
   "outputs": [
    {
     "data": {
      "text/plain": [
       "array([[0, 1],\n",
       "       [2, 3]])"
      ]
     },
     "execution_count": 166,
     "metadata": {},
     "output_type": "execute_result"
    }
   ],
   "source": [
    "np.arange(4).reshape((2,2))"
   ]
  },
  {
   "cell_type": "code",
   "execution_count": 169,
   "id": "7f6d3097-c2a3-4a93-8b09-3e7c69b852a3",
   "metadata": {},
   "outputs": [
    {
     "name": "stdout",
     "output_type": "stream",
     "text": [
      "6.84 µs ± 27.3 ns per loop (mean ± std. dev. of 7 runs, 100000 loops each)\n"
     ]
    }
   ],
   "source": [
    "%timeit np.sum(np.arange(1000)) #numpy sum"
   ]
  },
  {
   "cell_type": "code",
   "execution_count": 171,
   "id": "8d1e0e15-3bbd-471f-974b-2341790d277d",
   "metadata": {},
   "outputs": [
    {
     "name": "stdout",
     "output_type": "stream",
     "text": [
      "139 µs ± 1.42 µs per loop (mean ± std. dev. of 7 runs, 10000 loops each)\n"
     ]
    }
   ],
   "source": [
    "%timeit sum(np.arange(1000)) #basic python sum"
   ]
  },
  {
   "cell_type": "code",
   "execution_count": 173,
   "id": "ed762f6b-9ddb-4eff-b05e-828712d1b735",
   "metadata": {},
   "outputs": [
    {
     "data": {
      "text/plain": [
       "array([[1., 0.],\n",
       "       [1., 1.]])"
      ]
     },
     "execution_count": 173,
     "metadata": {},
     "output_type": "execute_result"
    }
   ],
   "source": [
    "# matrix multiplication\n",
    "x=np.arange(6).reshape(3,2)\n",
    "y=np.tri(2,2)"
   ]
  },
  {
   "cell_type": "code",
   "execution_count": 174,
   "id": "53004227-abcc-4232-a385-636ec1ecd6b7",
   "metadata": {},
   "outputs": [
    {
     "data": {
      "text/plain": [
       "array([[0, 1],\n",
       "       [2, 3],\n",
       "       [4, 5]])"
      ]
     },
     "execution_count": 174,
     "metadata": {},
     "output_type": "execute_result"
    }
   ],
   "source": [
    "x"
   ]
  },
  {
   "cell_type": "code",
   "execution_count": 175,
   "id": "3bb530d2-7896-4896-98db-37b9e0284691",
   "metadata": {},
   "outputs": [
    {
     "data": {
      "text/plain": [
       "array([[1., 0.],\n",
       "       [1., 1.]])"
      ]
     },
     "execution_count": 175,
     "metadata": {},
     "output_type": "execute_result"
    }
   ],
   "source": [
    "y"
   ]
  },
  {
   "cell_type": "code",
   "execution_count": 176,
   "id": "433183db-4800-4023-a621-8f864429c37f",
   "metadata": {},
   "outputs": [
    {
     "data": {
      "text/plain": [
       "array([[1., 1.],\n",
       "       [5., 3.],\n",
       "       [9., 5.]])"
      ]
     },
     "execution_count": 176,
     "metadata": {},
     "output_type": "execute_result"
    }
   ],
   "source": [
    "x @ y"
   ]
  },
  {
   "cell_type": "code",
   "execution_count": 180,
   "id": "24f69efe-23ea-45e9-8c12-8012c33404ae",
   "metadata": {},
   "outputs": [
    {
     "data": {
      "text/plain": [
       "array([[1., 1.],\n",
       "       [5., 3.],\n",
       "       [9., 5.]])"
      ]
     },
     "execution_count": 180,
     "metadata": {},
     "output_type": "execute_result"
    }
   ],
   "source": [
    "np.matmul(x, y)"
   ]
  },
  {
   "cell_type": "code",
   "execution_count": 177,
   "id": "3782bed1-31d2-4051-b87a-297de723bd48",
   "metadata": {},
   "outputs": [
    {
     "data": {
      "text/plain": [
       "array([[2., 1.],\n",
       "       [1., 1.]])"
      ]
     },
     "execution_count": 177,
     "metadata": {},
     "output_type": "execute_result"
    }
   ],
   "source": [
    "y.T @ y"
   ]
  },
  {
   "cell_type": "code",
   "execution_count": 178,
   "id": "dfeb9853-e190-4b5b-a2e1-32bbe0d5966e",
   "metadata": {},
   "outputs": [
    {
     "data": {
      "text/plain": [
       "array([[20, 26],\n",
       "       [26, 35]])"
      ]
     },
     "execution_count": 178,
     "metadata": {},
     "output_type": "execute_result"
    }
   ],
   "source": [
    "np.matmul(x.T, x)"
   ]
  },
  {
   "cell_type": "code",
   "execution_count": 182,
   "id": "59763a2c-1048-4a20-a3be-c86c625b948b",
   "metadata": {},
   "outputs": [
    {
     "data": {
      "text/plain": [
       "array([[4.47213595, 0.        ],\n",
       "       [5.81377674, 1.09544512]])"
      ]
     },
     "execution_count": 182,
     "metadata": {},
     "output_type": "execute_result"
    }
   ],
   "source": [
    "# other linear algebra functions\n",
    "np.linalg.det(y)\n",
    "np.linalg.eig(x.T @ x)\n",
    "np.linalg.inv(x.T @ x)\n",
    "np.linalg.cholesky(x.T @ x)"
   ]
  },
  {
   "cell_type": "code",
   "execution_count": 183,
   "id": "8a49f36d-62a0-407b-878f-55d067435ccb",
   "metadata": {},
   "outputs": [
    {
     "data": {
      "text/plain": [
       "array([0.68235186, 0.05382102, 0.22035987])"
      ]
     },
     "execution_count": 183,
     "metadata": {},
     "output_type": "execute_result"
    }
   ],
   "source": [
    "# random values\n",
    "rng = np.random.default_rng(seed =123)\n",
    "rng.random(3) # uniform[0,1)"
   ]
  },
  {
   "cell_type": "code",
   "execution_count": 190,
   "id": "4df297be-7928-4d51-81a0-b11e40c7587e",
   "metadata": {},
   "outputs": [
    {
     "data": {
      "text/plain": [
       "array([[0.59312059, 0.35347072]])"
      ]
     },
     "execution_count": 190,
     "metadata": {},
     "output_type": "execute_result"
    }
   ],
   "source": [
    "rng.random((1,2)) #row 1, col 2"
   ]
  },
  {
   "cell_type": "code",
   "execution_count": 184,
   "id": "9bff1909-d4e5-4d9d-bc63-5fe13142110a",
   "metadata": {},
   "outputs": [
    {
     "data": {
      "text/plain": [
       "array([[ 0.38794884,  1.8404618 ],\n",
       "       [ 1.15420758, -1.27292729]])"
      ]
     },
     "execution_count": 184,
     "metadata": {},
     "output_type": "execute_result"
    }
   ],
   "source": [
    "rng.normal(0,2,size=(2,2))"
   ]
  },
  {
   "cell_type": "code",
   "execution_count": 185,
   "id": "a113d715-414a-417c-982e-74dcdd2ab4c4",
   "metadata": {},
   "outputs": [
    {
     "data": {
      "text/plain": [
       "array([2, 4, 4, 3, 2, 4, 2, 3, 3, 4])"
      ]
     },
     "execution_count": 185,
     "metadata": {},
     "output_type": "execute_result"
    }
   ],
   "source": [
    "rng.binomial(n=5, p=0.5, size=10)"
   ]
  },
  {
   "cell_type": "code",
   "execution_count": 193,
   "id": "2a3428c4-a438-41ca-978a-5c4e48a9ba01",
   "metadata": {},
   "outputs": [
    {
     "data": {
      "text/plain": [
       "(1000, 5)"
      ]
     },
     "execution_count": 193,
     "metadata": {},
     "output_type": "execute_result"
    }
   ],
   "source": [
    "# linear regression\n",
    "rng = np.random.default_rng(seed=123)\n",
    "n = 1000\n",
    "X = rng.random((n,5)) #row n, col 5\n",
    "X.shape "
   ]
  },
  {
   "cell_type": "code",
   "execution_count": 195,
   "id": "3ccb775b-7cc8-4d68-a2c2-83f68bf02896",
   "metadata": {},
   "outputs": [
    {
     "data": {
      "text/plain": [
       "array([[1.        , 0.85555695, 0.52814892, 0.61197368, 0.80950203,\n",
       "        0.99968105],\n",
       "       [1.        , 0.26192535, 0.48029289, 0.36100934, 0.84397882,\n",
       "        0.59661069],\n",
       "       [1.        , 0.00265024, 0.70523588, 0.54712876, 0.8194718 ,\n",
       "        0.70562937],\n",
       "       ...,\n",
       "       [1.        , 0.97426674, 0.72561194, 0.991348  , 0.36509882,\n",
       "        0.4767504 ],\n",
       "       [1.        , 0.69232758, 0.46069786, 0.24016681, 0.78119413,\n",
       "        0.09648325],\n",
       "       [1.        , 0.69386465, 0.30527185, 0.77865176, 0.24356845,\n",
       "        0.6028071 ]])"
      ]
     },
     "execution_count": 195,
     "metadata": {},
     "output_type": "execute_result"
    }
   ],
   "source": [
    "# add intercept\n",
    "X = np.hstack([\n",
    "    np.ones((n,1)),\n",
    "    rng.random((n,5))\n",
    "])\n",
    "X"
   ]
  },
  {
   "cell_type": "code",
   "execution_count": 197,
   "id": "6c3cc056-7fac-4497-8d21-117ed8becf69",
   "metadata": {},
   "outputs": [
    {
     "data": {
      "text/plain": [
       "array([  7. ,  -3.3,   2.4,   1.5,   9.7, -10. ])"
      ]
     },
     "execution_count": 197,
     "metadata": {},
     "output_type": "execute_result"
    }
   ],
   "source": [
    "beta = np.array([7, -3.3, 2.4, 1.5, 9.7, -10]) #coefficient\n",
    "beta"
   ]
  },
  {
   "cell_type": "code",
   "execution_count": 199,
   "id": "e477623d-6459-429a-babe-99a04f9269f5",
   "metadata": {},
   "outputs": [],
   "source": [
    "err = rng.normal(0, 0.1, size=n) #stdev 0.1 to make error small"
   ]
  },
  {
   "cell_type": "code",
   "execution_count": 202,
   "id": "3c4de4ae-011a-4dc9-86ca-961d363478bd",
   "metadata": {},
   "outputs": [],
   "source": [
    "y = X @ beta + err"
   ]
  },
  {
   "cell_type": "code",
   "execution_count": 209,
   "id": "7c356377-8f46-4972-b149-108964f03ef8",
   "metadata": {},
   "outputs": [
    {
     "name": "stdout",
     "output_type": "stream",
     "text": [
      "[  7.0098066   -3.28112581   2.38883789   1.50895041   9.67341049\n",
      " -10.00511203]\n",
      "[  7.   -3.3   2.4   1.5   9.7 -10. ]\n"
     ]
    }
   ],
   "source": [
    "# fit model\n",
    "beta_hat = np.linalg.inv(X.T @ X) @ X.T @ y\n",
    "print(beta_hat)\n",
    "print(beta)"
   ]
  }
 ],
 "metadata": {
  "kernelspec": {
   "display_name": "Python 3 (ipykernel)",
   "language": "python",
   "name": "python3"
  },
  "language_info": {
   "codemirror_mode": {
    "name": "ipython",
    "version": 3
   },
   "file_extension": ".py",
   "mimetype": "text/x-python",
   "name": "python",
   "nbconvert_exporter": "python",
   "pygments_lexer": "ipython3",
   "version": "3.9.13"
  }
 },
 "nbformat": 4,
 "nbformat_minor": 5
}
