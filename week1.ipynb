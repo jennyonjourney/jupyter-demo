{
 "cells": [
  {
   "cell_type": "markdown",
   "id": "b86a8068-8dcc-45a0-9279-e99c1553a329",
   "metadata": {
    "tags": []
   },
   "source": [
    "# Exercise1"
   ]
  },
  {
   "cell_type": "code",
   "execution_count": 31,
   "id": "e8c9b0eb-d973-40f4-a098-17c32c4d8a17",
   "metadata": {},
   "outputs": [],
   "source": [
    "d=[0,1,2,3,4,5,6,7,8,9]"
   ]
  },
  {
   "cell_type": "code",
   "execution_count": null,
   "id": "89d85d42-f21f-4e22-b173-c3364b9599c5",
   "metadata": {},
   "outputs": [
    {
     "data": {
      "text/plain": [
       "[1, 3, 5, 7, 9]"
      ]
     },
     "execution_count": 47,
     "metadata": {},
     "output_type": "execute_result"
    }
   ],
   "source": [
    "# select only the odd values in this list\n",
    "d[1::2]"
   ]
  },
  {
   "cell_type": "code",
   "execution_count": 48,
   "id": "3c5ff225-4567-4f03-8049-969512d8ed02",
   "metadata": {},
   "outputs": [
    {
     "data": {
      "text/plain": [
       "[1, 4, 7]"
      ]
     },
     "execution_count": 48,
     "metadata": {},
     "output_type": "execute_result"
    }
   ],
   "source": [
    "# select every 3rd value starting form the 2nd element\n",
    "d[1::3]"
   ]
  },
  {
   "cell_type": "code",
   "execution_count": 50,
   "id": "87e8bd30-371c-472d-b655-ea9d7a4f692f",
   "metadata": {},
   "outputs": [
    {
     "data": {
      "text/plain": [
       "[8, 6, 4, 2, 0]"
      ]
     },
     "execution_count": 50,
     "metadata": {},
     "output_type": "execute_result"
    }
   ],
   "source": [
    "#select every other value, in reverse order, starting from the 9th element.\n",
    "d[-2::-2] "
   ]
  },
  {
   "cell_type": "code",
   "execution_count": 54,
   "id": "5f15cbb7-f476-41be-a47b-915fb6ad2253",
   "metadata": {},
   "outputs": [
    {
     "data": {
      "text/plain": [
       "[2, 4, 9]"
      ]
     },
     "execution_count": 54,
     "metadata": {},
     "output_type": "execute_result"
    }
   ],
   "source": [
    "# select the 3rd element, the 5th element, and the 10th element\n",
    "d[2:5:2] + [ d[-1] ]"
   ]
  },
  {
   "cell_type": "code",
   "execution_count": 55,
   "id": "10135ca9-bfe6-45df-951b-c775149159f6",
   "metadata": {},
   "outputs": [],
   "source": [
    "# value unpacking - most useful one\n",
    "x, y = [1,2]"
   ]
  },
  {
   "cell_type": "markdown",
   "id": "dbe62612-e92c-493a-a844-6aaa6e8dc0fa",
   "metadata": {
    "tags": []
   },
   "source": [
    "## Packing/Unpacking of Tuple"
   ]
  },
  {
   "cell_type": "code",
   "execution_count": 69,
   "id": "6abbe3ef-3142-4128-9808-9e65d50fea0f",
   "metadata": {},
   "outputs": [
    {
     "name": "stdout",
     "output_type": "stream",
     "text": [
      "Name: Alex Smith\n",
      "Age: 34\n",
      "Country: United States\n",
      "State: Colorado\n"
     ]
    }
   ],
   "source": [
    "# packing\n",
    "person_detail = (\"Alex Smith\", 34, \"United States\", \"Colorado\")\n",
    "person_detail\n",
    "# unpacking\n",
    "name, age, country, state = person_detail\n",
    "# printing results\n",
    "print(\"Name:\", name)\n",
    "print(\"Age:\", age)\n",
    "print(\"Country:\", country)\n",
    "print(\"State:\", state)"
   ]
  },
  {
   "cell_type": "code",
   "execution_count": 72,
   "id": "5a5bc53f-4a87-469e-bfce-97bf0573dc18",
   "metadata": {},
   "outputs": [
    {
     "name": "stdout",
     "output_type": "stream",
     "text": [
      "Name: Alex Smith\n",
      "Country: United States\n"
     ]
    }
   ],
   "source": [
    "# unpacking (underscore (_) is for ignoring)\n",
    "name, _, country, _ = person_detail\n",
    "# printing results\n",
    "print(\"Name:\", name)\n",
    "print(\"Country:\", country)"
   ]
  },
  {
   "cell_type": "code",
   "execution_count": 73,
   "id": "7611d820-c09c-4c0c-a8a8-d235ae3145e4",
   "metadata": {},
   "outputs": [
    {
     "name": "stdout",
     "output_type": "stream",
     "text": [
      "Name:  Alex Smith\n",
      "Sate:  Colorado\n"
     ]
    }
   ],
   "source": [
    "# Packing\n",
    "person_detail = (\"Alex Smith\", 34, \"United States\", \"Colorado\")\n",
    "\n",
    "# unpacking \n",
    "name,*_, state = person_detail\n",
    "\n",
    "# printing results\n",
    "print(\"Name: \", name)\n",
    "print(\"Sate: \", state)"
   ]
  },
  {
   "cell_type": "code",
   "execution_count": 79,
   "id": "75bef7ee-9dda-438f-89f6-864cfa5be25c",
   "metadata": {},
   "outputs": [
    {
     "name": "stdout",
     "output_type": "stream",
     "text": [
      "(1, 2, 3)\n",
      "(1, True, 'abc')\n",
      "(1, (2, 3))\n",
      "(1, [2, 3])\n"
     ]
    }
   ],
   "source": [
    "x=(1,2,3)\n",
    "y=(1, True, \"abc\")\n",
    "z=(1,(2,3))\n",
    "i=(1,[2,3])\n",
    "print(x)\n",
    "print(y)\n",
    "print(z)\n",
    "print(i)"
   ]
  },
  {
   "cell_type": "markdown",
   "id": "14c0d092-9a6a-40fc-9a8b-6a824024efc4",
   "metadata": {
    "tags": []
   },
   "source": [
    "# Ranges"
   ]
  },
  {
   "cell_type": "code",
   "execution_count": 84,
   "id": "c3db3b83-026f-4b2a-bca0-9d9e81b77004",
   "metadata": {},
   "outputs": [
    {
     "data": {
      "text/plain": [
       "[10, 9, 8, 7, 6, 5, 4, 3, 2, 1]"
      ]
     },
     "execution_count": 84,
     "metadata": {},
     "output_type": "execute_result"
    }
   ],
   "source": [
    "list(range(10,0,-1))"
   ]
  },
  {
   "cell_type": "code",
   "execution_count": 89,
   "id": "74ad251e-88e8-4e04-a5d9-cbd967c52494",
   "metadata": {},
   "outputs": [
    {
     "data": {
      "text/plain": [
       "'ac'"
      ]
     },
     "execution_count": 89,
     "metadata": {},
     "output_type": "execute_result"
    }
   ],
   "source": [
    "x=\"abcde\"\n",
    "len(x)\n",
    "\"bd\" in x\n",
    "x[0] + x[2]"
   ]
  },
  {
   "cell_type": "markdown",
   "id": "32357feb-0ada-46d1-8851-ff8d5f3f2150",
   "metadata": {
    "tags": []
   },
   "source": [
    "# String methods"
   ]
  },
  {
   "cell_type": "code",
   "execution_count": 90,
   "id": "b4effc4b-7f3e-48fd-bf8a-5492cbbafeef",
   "metadata": {},
   "outputs": [
    {
     "data": {
      "text/plain": [
       "'Hello|World!|1234'"
      ]
     },
     "execution_count": 90,
     "metadata": {},
     "output_type": "execute_result"
    }
   ],
   "source": [
    "x = \"Hello World! 1234\"\n",
    "\"|\".join(x.split(\" \"))"
   ]
  },
  {
   "cell_type": "markdown",
   "id": "b28deab8-d9ab-459f-b8f5-33ef1e55fc71",
   "metadata": {
    "tags": []
   },
   "source": [
    "# Exercise 2"
   ]
  },
  {
   "cell_type": "code",
   "execution_count": 100,
   "id": "13a2bcbc-11c4-4744-9139-d0a2a8877faa",
   "metadata": {},
   "outputs": [],
   "source": [
    "source = \"the quick Brown   fox Jumped  over   a Lazy  dog\"\n",
    "target = \"The quick brown fox jumped over a lazy dog.\""
   ]
  },
  {
   "cell_type": "code",
   "execution_count": 96,
   "id": "c6f8ad47-5a7b-4a21-ab18-b2b80a69f154",
   "metadata": {},
   "outputs": [
    {
     "data": {
      "text/plain": [
       "'the quick Brown fox Jumped over a Lazy dog'"
      ]
     },
     "execution_count": 96,
     "metadata": {},
     "output_type": "execute_result"
    }
   ],
   "source": [
    "soln = source.replace(\"   \",\" \").replace(\"  \",\" \")\n",
    "soln"
   ]
  },
  {
   "cell_type": "code",
   "execution_count": 101,
   "id": "31366027-b6d1-47d7-8bfa-9ccae95f985b",
   "metadata": {},
   "outputs": [
    {
     "data": {
      "text/plain": [
       "'The quick brown fox jumped over a lazy dog.'"
      ]
     },
     "execution_count": 101,
     "metadata": {},
     "output_type": "execute_result"
    }
   ],
   "source": [
    "soln = source.replace(\"   \",\" \").replace(\"  \",\" \").lower().capitalize() + \".\"\n",
    "soln"
   ]
  },
  {
   "cell_type": "code",
   "execution_count": 102,
   "id": "0140df4e-6366-4ab4-9afa-fa3a1ca91772",
   "metadata": {},
   "outputs": [
    {
     "data": {
      "text/plain": [
       "True"
      ]
     },
     "execution_count": 102,
     "metadata": {},
     "output_type": "execute_result"
    }
   ],
   "source": [
    "target == soln"
   ]
  }
 ],
 "metadata": {
  "kernelspec": {
   "display_name": "Python 3 (ipykernel)",
   "language": "python",
   "name": "python3"
  },
  "language_info": {
   "codemirror_mode": {
    "name": "ipython",
    "version": 3
   },
   "file_extension": ".py",
   "mimetype": "text/x-python",
   "name": "python",
   "nbconvert_exporter": "python",
   "pygments_lexer": "ipython3",
   "version": "3.9.13"
  }
 },
 "nbformat": 4,
 "nbformat_minor": 5
}
