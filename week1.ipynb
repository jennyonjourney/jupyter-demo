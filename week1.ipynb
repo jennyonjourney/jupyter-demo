{
 "cells": [
  {
   "cell_type": "markdown",
   "id": "b86a8068-8dcc-45a0-9279-e99c1553a329",
   "metadata": {
    "tags": []
   },
   "source": [
    "# Exercise1"
   ]
  },
  {
   "cell_type": "code",
   "execution_count": 31,
   "id": "e8c9b0eb-d973-40f4-a098-17c32c4d8a17",
   "metadata": {},
   "outputs": [],
   "source": [
    "d=[0,1,2,3,4,5,6,7,8,9]"
   ]
  },
  {
   "cell_type": "code",
   "execution_count": null,
   "id": "89d85d42-f21f-4e22-b173-c3364b9599c5",
   "metadata": {},
   "outputs": [
    {
     "data": {
      "text/plain": [
       "[1, 3, 5, 7, 9]"
      ]
     },
     "execution_count": 47,
     "metadata": {},
     "output_type": "execute_result"
    }
   ],
   "source": [
    "# select only the odd values in this list\n",
    "d[1::2]"
   ]
  },
  {
   "cell_type": "code",
   "execution_count": 48,
   "id": "3c5ff225-4567-4f03-8049-969512d8ed02",
   "metadata": {},
   "outputs": [
    {
     "data": {
      "text/plain": [
       "[1, 4, 7]"
      ]
     },
     "execution_count": 48,
     "metadata": {},
     "output_type": "execute_result"
    }
   ],
   "source": [
    "# select every 3rd value starting form the 2nd element\n",
    "d[1::3]"
   ]
  },
  {
   "cell_type": "code",
   "execution_count": 50,
   "id": "87e8bd30-371c-472d-b655-ea9d7a4f692f",
   "metadata": {},
   "outputs": [
    {
     "data": {
      "text/plain": [
       "[8, 6, 4, 2, 0]"
      ]
     },
     "execution_count": 50,
     "metadata": {},
     "output_type": "execute_result"
    }
   ],
   "source": [
    "#select every other value, in reverse order, starting from the 9th element.\n",
    "d[-2::-2] "
   ]
  },
  {
   "cell_type": "code",
   "execution_count": 54,
   "id": "5f15cbb7-f476-41be-a47b-915fb6ad2253",
   "metadata": {},
   "outputs": [
    {
     "data": {
      "text/plain": [
       "[2, 4, 9]"
      ]
     },
     "execution_count": 54,
     "metadata": {},
     "output_type": "execute_result"
    }
   ],
   "source": [
    "# select the 3rd element, the 5th element, and the 10th element\n",
    "d[2:5:2] + [ d[-1] ]"
   ]
  },
  {
   "cell_type": "code",
   "execution_count": 55,
   "id": "10135ca9-bfe6-45df-951b-c775149159f6",
   "metadata": {},
   "outputs": [],
   "source": [
    "# value unpacking - most useful one\n",
    "x, y = [1,2]"
   ]
  },
  {
   "cell_type": "markdown",
   "id": "dbe62612-e92c-493a-a844-6aaa6e8dc0fa",
   "metadata": {
    "tags": []
   },
   "source": [
    "## Packing/Unpacking of Tuple"
   ]
  },
  {
   "cell_type": "code",
   "execution_count": 69,
   "id": "6abbe3ef-3142-4128-9808-9e65d50fea0f",
   "metadata": {},
   "outputs": [
    {
     "name": "stdout",
     "output_type": "stream",
     "text": [
      "Name: Alex Smith\n",
      "Age: 34\n",
      "Country: United States\n",
      "State: Colorado\n"
     ]
    }
   ],
   "source": [
    "# packing\n",
    "person_detail = (\"Alex Smith\", 34, \"United States\", \"Colorado\")\n",
    "person_detail\n",
    "# unpacking\n",
    "name, age, country, state = person_detail\n",
    "# printing results\n",
    "print(\"Name:\", name)\n",
    "print(\"Age:\", age)\n",
    "print(\"Country:\", country)\n",
    "print(\"State:\", state)"
   ]
  },
  {
   "cell_type": "code",
   "execution_count": 72,
   "id": "5a5bc53f-4a87-469e-bfce-97bf0573dc18",
   "metadata": {},
   "outputs": [
    {
     "name": "stdout",
     "output_type": "stream",
     "text": [
      "Name: Alex Smith\n",
      "Country: United States\n"
     ]
    }
   ],
   "source": [
    "# unpacking (underscore (_) is for ignoring)\n",
    "name, _, country, _ = person_detail\n",
    "# printing results\n",
    "print(\"Name:\", name)\n",
    "print(\"Country:\", country)"
   ]
  },
  {
   "cell_type": "code",
   "execution_count": 73,
   "id": "7611d820-c09c-4c0c-a8a8-d235ae3145e4",
   "metadata": {},
   "outputs": [
    {
     "name": "stdout",
     "output_type": "stream",
     "text": [
      "Name:  Alex Smith\n",
      "Sate:  Colorado\n"
     ]
    }
   ],
   "source": [
    "# Packing\n",
    "person_detail = (\"Alex Smith\", 34, \"United States\", \"Colorado\")\n",
    "\n",
    "# unpacking \n",
    "name,*_, state = person_detail\n",
    "\n",
    "# printing results\n",
    "print(\"Name: \", name)\n",
    "print(\"Sate: \", state)"
   ]
  },
  {
   "cell_type": "code",
   "execution_count": 79,
   "id": "75bef7ee-9dda-438f-89f6-864cfa5be25c",
   "metadata": {},
   "outputs": [
    {
     "name": "stdout",
     "output_type": "stream",
     "text": [
      "(1, 2, 3)\n",
      "(1, True, 'abc')\n",
      "(1, (2, 3))\n",
      "(1, [2, 3])\n"
     ]
    }
   ],
   "source": [
    "x=(1,2,3)\n",
    "y=(1, True, \"abc\")\n",
    "z=(1,(2,3))\n",
    "i=(1,[2,3])\n",
    "print(x)\n",
    "print(y)\n",
    "print(z)\n",
    "print(i)"
   ]
  },
  {
   "cell_type": "markdown",
   "id": "14c0d092-9a6a-40fc-9a8b-6a824024efc4",
   "metadata": {
    "tags": []
   },
   "source": [
    "# Ranges"
   ]
  },
  {
   "cell_type": "code",
   "execution_count": 84,
   "id": "c3db3b83-026f-4b2a-bca0-9d9e81b77004",
   "metadata": {},
   "outputs": [
    {
     "data": {
      "text/plain": [
       "[10, 9, 8, 7, 6, 5, 4, 3, 2, 1]"
      ]
     },
     "execution_count": 84,
     "metadata": {},
     "output_type": "execute_result"
    }
   ],
   "source": [
    "list(range(10,0,-1))"
   ]
  },
  {
   "cell_type": "code",
   "execution_count": 89,
   "id": "74ad251e-88e8-4e04-a5d9-cbd967c52494",
   "metadata": {},
   "outputs": [
    {
     "data": {
      "text/plain": [
       "'ac'"
      ]
     },
     "execution_count": 89,
     "metadata": {},
     "output_type": "execute_result"
    }
   ],
   "source": [
    "x=\"abcde\"\n",
    "len(x)\n",
    "\"bd\" in x\n",
    "x[0] + x[2]"
   ]
  },
  {
   "cell_type": "markdown",
   "id": "32357feb-0ada-46d1-8851-ff8d5f3f2150",
   "metadata": {
    "tags": []
   },
   "source": [
    "# String methods"
   ]
  },
  {
   "cell_type": "code",
   "execution_count": 90,
   "id": "b4effc4b-7f3e-48fd-bf8a-5492cbbafeef",
   "metadata": {},
   "outputs": [
    {
     "data": {
      "text/plain": [
       "'Hello|World!|1234'"
      ]
     },
     "execution_count": 90,
     "metadata": {},
     "output_type": "execute_result"
    }
   ],
   "source": [
    "x = \"Hello World! 1234\"\n",
    "\"|\".join(x.split(\" \"))"
   ]
  },
  {
   "cell_type": "markdown",
   "id": "b28deab8-d9ab-459f-b8f5-33ef1e55fc71",
   "metadata": {
    "tags": []
   },
   "source": [
    "# Exercise 2"
   ]
  },
  {
   "cell_type": "code",
   "execution_count": 100,
   "id": "13a2bcbc-11c4-4744-9139-d0a2a8877faa",
   "metadata": {},
   "outputs": [],
   "source": [
    "source = \"the quick Brown   fox Jumped  over   a Lazy  dog\"\n",
    "target = \"The quick brown fox jumped over a lazy dog.\""
   ]
  },
  {
   "cell_type": "code",
   "execution_count": 96,
   "id": "c6f8ad47-5a7b-4a21-ab18-b2b80a69f154",
   "metadata": {},
   "outputs": [
    {
     "data": {
      "text/plain": [
       "'the quick Brown fox Jumped over a Lazy dog'"
      ]
     },
     "execution_count": 96,
     "metadata": {},
     "output_type": "execute_result"
    }
   ],
   "source": [
    "soln = source.replace(\"   \",\" \").replace(\"  \",\" \")\n",
    "soln"
   ]
  },
  {
   "cell_type": "code",
   "execution_count": 101,
   "id": "31366027-b6d1-47d7-8bfa-9ccae95f985b",
   "metadata": {},
   "outputs": [
    {
     "data": {
      "text/plain": [
       "'The quick brown fox jumped over a lazy dog.'"
      ]
     },
     "execution_count": 101,
     "metadata": {},
     "output_type": "execute_result"
    }
   ],
   "source": [
    "soln = source.replace(\"   \",\" \").replace(\"  \",\" \").lower().capitalize() + \".\"\n",
    "soln"
   ]
  },
  {
   "cell_type": "code",
   "execution_count": 102,
   "id": "0140df4e-6366-4ab4-9afa-fa3a1ca91772",
   "metadata": {},
   "outputs": [
    {
     "data": {
      "text/plain": [
       "True"
      ]
     },
     "execution_count": 102,
     "metadata": {},
     "output_type": "execute_result"
    }
   ],
   "source": [
    "target == soln"
   ]
  },
  {
   "cell_type": "markdown",
   "id": "07ecfdc8-6521-4835-b8ef-77359b13b111",
   "metadata": {
    "tags": []
   },
   "source": [
    "# Conditionals"
   ]
  },
  {
   "cell_type": "code",
   "execution_count": 103,
   "id": "ea744ddc-5076-4107-8667-671c6b50570b",
   "metadata": {},
   "outputs": [
    {
     "name": "stdout",
     "output_type": "stream",
     "text": [
      "X is positive\n"
     ]
    }
   ],
   "source": [
    "x = 42\n",
    "if x < 0:\n",
    "    print(\"X is negative\")\n",
    "elif x > 0:\n",
    "    print(\"X is positive\")\n",
    "else:\n",
    "    print(\"X is zero\")"
   ]
  },
  {
   "cell_type": "code",
   "execution_count": 105,
   "id": "f031d561-8323-4103-ad8b-c339d489667f",
   "metadata": {},
   "outputs": [
    {
     "data": {
      "text/plain": [
       "[17, 52, 40.0, 16.0]"
      ]
     },
     "execution_count": 105,
     "metadata": {},
     "output_type": "execute_result"
    }
   ],
   "source": [
    "i = 17\n",
    "seq = [i]\n",
    "while i != 1:\n",
    "    if i % 2 == 0:\n",
    "        i /= 2\n",
    "    else:\n",
    "        i = 3*i + 1\n",
    "        \n",
    "        seq.append(i)\n",
    "\n",
    "seq"
   ]
  },
  {
   "cell_type": "code",
   "execution_count": 108,
   "id": "202ba90e-782e-4fc7-94e9-dfbbc55ca833",
   "metadata": {},
   "outputs": [
    {
     "name": "stdout",
     "output_type": "stream",
     "text": [
      "Hello 5\n",
      "world! 6\n"
     ]
    }
   ],
   "source": [
    "for w in [\"Hello\", \"world!\"]:\n",
    "    print(w, len(w))"
   ]
  },
  {
   "cell_type": "code",
   "execution_count": 109,
   "id": "576036c1-9644-4d57-b27d-36b35198ea6a",
   "metadata": {},
   "outputs": [
    {
     "data": {
      "text/plain": [
       "10"
      ]
     },
     "execution_count": 109,
     "metadata": {},
     "output_type": "execute_result"
    }
   ],
   "source": [
    "sum=0\n",
    "for v in (1,2,3,4):\n",
    "    sum += v\n",
    "sum"
   ]
  },
  {
   "cell_type": "code",
   "execution_count": 110,
   "id": "92e289cb-f5fd-4f83-906b-15355ef611bc",
   "metadata": {},
   "outputs": [
    {
     "data": {
      "text/plain": [
       "[1, 2, 3, 5, 6, 7]"
      ]
     },
     "execution_count": 110,
     "metadata": {},
     "output_type": "execute_result"
    }
   ],
   "source": [
    "res = []\n",
    "for c in \"abc123def567\":\n",
    "    if (c.isnumeric()):\n",
    "        res.append(int(c))\n",
    "res"
   ]
  },
  {
   "cell_type": "code",
   "execution_count": 111,
   "id": "92d5c69a-3687-4ef5-b6e7-66732f3c93b5",
   "metadata": {},
   "outputs": [
    {
     "data": {
      "text/plain": [
       "[0, 1, 2, 3, 4, 5, 6, 7, 8, 9]"
      ]
     },
     "execution_count": 111,
     "metadata": {},
     "output_type": "execute_result"
    }
   ],
   "source": [
    "res = []\n",
    "for i in range(0,10):\n",
    "    res += [i]\n",
    "res"
   ]
  },
  {
   "cell_type": "code",
   "execution_count": 122,
   "id": "f4bc2d83-4a0f-43e1-83df-74e5446359eb",
   "metadata": {},
   "outputs": [
    {
     "name": "stdout",
     "output_type": "stream",
     "text": [
      "0 1 2 3 4 \n"
     ]
    }
   ],
   "source": [
    "for i in range(10):\n",
    "    if i == 5:\n",
    "        break\n",
    "    print(i, end=\" \") #\" \" means new line\n",
    "print()"
   ]
  },
  {
   "cell_type": "code",
   "execution_count": 123,
   "id": "d5662022-9da6-4405-9a31-cd62c7b4f0fa",
   "metadata": {},
   "outputs": [
    {
     "name": "stdout",
     "output_type": "stream",
     "text": [
      "1 3 5 7 9 \n"
     ]
    }
   ],
   "source": [
    "for i in range(10):\n",
    "    if i % 2 == 0:\n",
    "        continue\n",
    "    print(i,end=\" \")\n",
    "print()"
   ]
  },
  {
   "cell_type": "code",
   "execution_count": 129,
   "id": "730efa36-4c99-4c7e-8f74-2268467c3a61",
   "metadata": {},
   "outputs": [
    {
     "name": "stdout",
     "output_type": "stream",
     "text": [
      "2 is a prime number\n",
      "3 is a prime number\n",
      "4 equals 2 * 2\n",
      "5 is a prime number\n",
      "6 equals 2 * 3\n",
      "7 is a prime number\n",
      "8 equals 2 * 4\n",
      "9 equals 3 * 3\n"
     ]
    }
   ],
   "source": [
    "for n in range(2, 10):\n",
    "    for x in range(2,n):\n",
    "        if n % x == 0:\n",
    "            print(n, 'equals', x, '*', n//x)\n",
    "            break\n",
    "    else:\n",
    "        print(n, 'is a prime number')"
   ]
  },
  {
   "cell_type": "code",
   "execution_count": 135,
   "id": "aa4aa9e2-a585-49c3-8a6f-70775f81201c",
   "metadata": {},
   "outputs": [],
   "source": [
    "x = -3\n",
    "if x < 0:\n",
    "    pass #continue return right answers, pass returns all numbers, literally means nothing\n",
    "elif x % 2 == 0:\n",
    "    print(\"x is even\")\n",
    "elif x % 2 == 1:\n",
    "    print(\"x is odd\")"
   ]
  },
  {
   "cell_type": "markdown",
   "id": "5457b489-2455-4d52-946a-ed0b45c83077",
   "metadata": {
    "tags": []
   },
   "source": [
    "# List comprehensions (super useful**)"
   ]
  },
  {
   "cell_type": "code",
   "execution_count": 139,
   "id": "fc6cb179-606e-445c-bf97-ac30ecab4644",
   "metadata": {},
   "outputs": [
    {
     "name": "stdout",
     "output_type": "stream",
     "text": [
      "[0]\n",
      "[0, 1]\n",
      "[0, 1, 4]\n",
      "[0, 1, 4, 9]\n",
      "[0, 1, 4, 9, 16]\n",
      "[0, 1, 4, 9, 16, 25]\n",
      "[0, 1, 4, 9, 16, 25, 36]\n",
      "[0, 1, 4, 9, 16, 25, 36, 49]\n",
      "[0, 1, 4, 9, 16, 25, 36, 49, 64]\n",
      "[0, 1, 4, 9, 16, 25, 36, 49, 64, 81]\n"
     ]
    }
   ],
   "source": [
    "res = []\n",
    "for x in range(10):\n",
    "    res.append(x**2)\n",
    "    print(res)"
   ]
  },
  {
   "cell_type": "code",
   "execution_count": 138,
   "id": "8862bce8-d8a0-49ed-9bac-f40463700627",
   "metadata": {},
   "outputs": [
    {
     "data": {
      "text/plain": [
       "[0, 1, 4, 9, 16, 25, 36, 49, 64, 81]"
      ]
     },
     "execution_count": 138,
     "metadata": {},
     "output_type": "execute_result"
    }
   ],
   "source": [
    "[x**2 for x in range(10)] #final result"
   ]
  },
  {
   "cell_type": "code",
   "execution_count": 141,
   "id": "951ef201-46e9-425a-8828-6bb963ecc420",
   "metadata": {},
   "outputs": [
    {
     "data": {
      "text/plain": [
       "['h', 'e', 'l', 'l', 'o', ' ', 'w', 'o', 'r', 'l', 'd', '!']"
      ]
     },
     "execution_count": 141,
     "metadata": {},
     "output_type": "execute_result"
    }
   ],
   "source": [
    "[x**2 for x in [1,2,3]] #list or tuple are all okay\n",
    "[x**2 for x in (1,2,3)]\n",
    "[c.lower() for c in \"Hello world!\"] #string function is better"
   ]
  },
  {
   "cell_type": "code",
   "execution_count": 145,
   "id": "80811555-afb8-4e93-bb53-f930c96a7e07",
   "metadata": {},
   "outputs": [
    {
     "data": {
      "text/plain": [
       "[0, 36]"
      ]
     },
     "execution_count": 145,
     "metadata": {},
     "output_type": "execute_result"
    }
   ],
   "source": [
    "[x**2 for x in range(10) if x%2==0] #true then keep, false then remove\n",
    "[x**2 for x in range(10) if x%2==1] #true then keep, false then remove\n",
    "[x**2 for x in range(10) if x%2==0 if x%3==0] #true then keep, false then remove\n",
    "[x**2 for x in range(10) if x%2==0 and x%3==0] #true then keep, false then remove"
   ]
  },
  {
   "cell_type": "code",
   "execution_count": 149,
   "id": "b1ce019f-4abc-4aa4-b14f-199fa91a735d",
   "metadata": {},
   "outputs": [
    {
     "data": {
      "text/plain": [
       "[(0, 0), (0, 1), (0, 2), (1, 0), (1, 1), (1, 2), (2, 0), (2, 1), (2, 2)]"
      ]
     },
     "execution_count": 149,
     "metadata": {},
     "output_type": "execute_result"
    }
   ],
   "source": [
    "# Multiple for loops\n",
    "[(x,y) for x in range(3) for y in range(3)]\n",
    "\n",
    "# Normal for loop\n",
    "res=[]\n",
    "for x in range(3):\n",
    "    for y in range(3):\n",
    "        res.append((x,y))\n",
    "res"
   ]
  },
  {
   "cell_type": "markdown",
   "id": "fafd3ed0-2f82-417c-921c-07a64b608a33",
   "metadata": {
    "tags": []
   },
   "source": [
    "# zip"
   ]
  },
  {
   "cell_type": "code",
   "execution_count": 151,
   "id": "cf9a28e2-d0ce-4b33-8d20-c409de3292c9",
   "metadata": {},
   "outputs": [
    {
     "data": {
      "text/plain": [
       "[(1, 3), (2, 2), (3, 1)]"
      ]
     },
     "execution_count": 151,
     "metadata": {},
     "output_type": "execute_result"
    }
   ],
   "source": [
    "# zip function (very useful) for joining elements of a sequence\n",
    "x = [1,2,3]\n",
    "y = [3,2,1]\n",
    "z = zip(x,y)\n",
    "z # zip just creates the accessibility, does not create the real result \n",
    "list(z)"
   ]
  },
  {
   "cell_type": "code",
   "execution_count": 152,
   "id": "6cb3b3ff-502b-497d-a918-689c2f9a5143",
   "metadata": {},
   "outputs": [
    {
     "data": {
      "text/plain": [
       "[1, 4, 3]"
      ]
     },
     "execution_count": 152,
     "metadata": {},
     "output_type": "execute_result"
    }
   ],
   "source": [
    "[a**b for a,b in zip(x,y)] #zip function list elements' muliplication"
   ]
  },
  {
   "cell_type": "code",
   "execution_count": 155,
   "id": "a7945205-90d6-43f1-97c8-1cf28494d885",
   "metadata": {},
   "outputs": [
    {
     "data": {
      "text/plain": [
       "[(1, 0, 'A'), (2, 1, 'B'), (3, 2, 'C')]"
      ]
     },
     "execution_count": 155,
     "metadata": {},
     "output_type": "execute_result"
    }
   ],
   "source": [
    "# zip length will give us only short one\n",
    "x = [1,2,3,4]\n",
    "y = range(3)\n",
    "z = \"ABCDE\"\n",
    "list(zip(x,y))\n",
    "list(zip(x,z))\n",
    "list(zip(x,y,z))"
   ]
  },
  {
   "cell_type": "markdown",
   "id": "02ce373d-4ee7-40d9-9b86-b48d765c7ce8",
   "metadata": {
    "tags": []
   },
   "source": [
    "# Exercise 3"
   ]
  },
  {
   "cell_type": "code",
   "execution_count": 174,
   "id": "79af91b9-53f9-4b88-a573-c456af8f3dc9",
   "metadata": {},
   "outputs": [
    {
     "data": {
      "text/plain": [
       "121"
      ]
     },
     "execution_count": 174,
     "metadata": {},
     "output_type": "execute_result"
    }
   ],
   "source": [
    "g = [(x,y) for x in range(11) for y in range(11)]\n",
    "len(g)"
   ]
  },
  {
   "cell_type": "code",
   "execution_count": 175,
   "id": "1cc518a3-50ac-4b0b-81e9-f1cfa7ddc722",
   "metadata": {},
   "outputs": [
    {
     "data": {
      "text/plain": [
       "55"
      ]
     },
     "execution_count": 175,
     "metadata": {},
     "output_type": "execute_result"
    }
   ],
   "source": [
    "g2 = [(x,y) for x in range(11) for y in range(11) if y > x]\n",
    "len(g2)"
   ]
  },
  {
   "cell_type": "code",
   "execution_count": 173,
   "id": "d9bbd33b-665b-4f09-afa2-c5748680964e",
   "metadata": {},
   "outputs": [
    {
     "data": {
      "text/plain": [
       "72"
      ]
     },
     "execution_count": 173,
     "metadata": {},
     "output_type": "execute_result"
    }
   ],
   "source": [
    "primes = (2,3,5,7)\n",
    "len([(x,y) for x,y in g if x in primes or y in primes])"
   ]
  },
  {
   "cell_type": "markdown",
   "id": "15aae1b0-d969-4882-9e5c-30689a4c0ef4",
   "metadata": {
    "tags": []
   },
   "source": [
    "# functions"
   ]
  },
  {
   "cell_type": "code",
   "execution_count": 178,
   "id": "87f82746-8da0-4d41-8880-f3cf30d45944",
   "metadata": {},
   "outputs": [
    {
     "name": "stdout",
     "output_type": "stream",
     "text": [
      "x=1,y=2,z=3\n"
     ]
    }
   ],
   "source": [
    "def f(x, y=2, z=3):\n",
    "    print(f\"x={x},y={y},z={z}\") # f prefix\n",
    "f(1)"
   ]
  },
  {
   "cell_type": "code",
   "execution_count": 182,
   "id": "185dd9a3-6ae5-4b3e-9048-dc122173594e",
   "metadata": {},
   "outputs": [
    {
     "name": "stdout",
     "output_type": "stream",
     "text": [
      "x=1,y=2,z=-1\n"
     ]
    }
   ],
   "source": [
    "f(1, z=-1)"
   ]
  },
  {
   "cell_type": "code",
   "execution_count": 181,
   "id": "62a955cd-7e5f-463a-aeb8-e8a340090cf9",
   "metadata": {},
   "outputs": [
    {
     "name": "stdout",
     "output_type": "stream",
     "text": [
      "x=abc,y=True,z=3\n"
     ]
    }
   ],
   "source": [
    "f(\"abc\", y=True)"
   ]
  },
  {
   "cell_type": "code",
   "execution_count": 186,
   "id": "cfe23d3e-be01-465e-8682-4bb841088279",
   "metadata": {},
   "outputs": [
    {
     "data": {
      "text/plain": [
       "NoneType"
      ]
     },
     "execution_count": 186,
     "metadata": {},
     "output_type": "execute_result"
    }
   ],
   "source": [
    "def f(x):\n",
    "    x**2\n",
    "f(2)\n",
    "type(f(2)) #NonType"
   ]
  },
  {
   "cell_type": "code",
   "execution_count": 188,
   "id": "35fb4e99-49ee-4419-98f9-0d4f8ebd8af7",
   "metadata": {},
   "outputs": [
    {
     "data": {
      "text/plain": [
       "4"
      ]
     },
     "execution_count": 188,
     "metadata": {},
     "output_type": "execute_result"
    }
   ],
   "source": [
    "def g(x):\n",
    "    return x**2\n",
    "g(2)\n",
    "type(g(2)) #Int"
   ]
  },
  {
   "cell_type": "code",
   "execution_count": 189,
   "id": "27ec1133-3633-4457-93cf-a0574e132fbc",
   "metadata": {},
   "outputs": [
    {
     "data": {
      "text/plain": [
       "False"
      ]
     },
     "execution_count": 189,
     "metadata": {},
     "output_type": "execute_result"
    }
   ],
   "source": [
    "# multiple return\n",
    "def is_odd(x):\n",
    "    if x%2==0: return False\n",
    "    else:      return True\n",
    "\n",
    "is_odd(2)"
   ]
  },
  {
   "cell_type": "code",
   "execution_count": 197,
   "id": "7d58a99f-7a27-48de-8c87-ba4f94c77473",
   "metadata": {},
   "outputs": [
    {
     "data": {
      "text/plain": [
       "(1, 2, 3)"
      ]
     },
     "execution_count": 197,
     "metadata": {},
     "output_type": "execute_result"
    }
   ],
   "source": [
    "# mutiple return values\n",
    "def f():\n",
    "    return(1,2,3)\n",
    "f()"
   ]
  },
  {
   "cell_type": "code",
   "execution_count": 198,
   "id": "f8f544f9-98fa-4f57-9982-c1d5fdb797f6",
   "metadata": {},
   "outputs": [
    {
     "data": {
      "text/plain": [
       "[1, 2, 3]"
      ]
     },
     "execution_count": 198,
     "metadata": {},
     "output_type": "execute_result"
    }
   ],
   "source": [
    "def g():\n",
    "    return[1,2,3]\n",
    "g()"
   ]
  },
  {
   "cell_type": "code",
   "execution_count": 199,
   "id": "008fbcb7-b2a5-4734-b435-f53ada07446b",
   "metadata": {},
   "outputs": [
    {
     "data": {
      "text/plain": [
       "(1, [2, 3])"
      ]
     },
     "execution_count": 199,
     "metadata": {},
     "output_type": "execute_result"
    }
   ],
   "source": [
    "def h():\n",
    "    return 1,[2,3]\n",
    "h()"
   ]
  },
  {
   "cell_type": "code",
   "execution_count": 201,
   "id": "d7eeaaac-1006-4786-b9fc-b92510a281ab",
   "metadata": {},
   "outputs": [
    {
     "data": {
      "text/plain": [
       "'Hello.'"
      ]
     },
     "execution_count": 201,
     "metadata": {},
     "output_type": "execute_result"
    }
   ],
   "source": [
    "# Doc strings\n",
    "def f():\n",
    "    \"Hello.\" #1st line string will be attached to the result\n",
    "    pass\n",
    "\n",
    "f.__doc__"
   ]
  },
  {
   "cell_type": "code",
   "execution_count": 204,
   "id": "16315788-5e56-4ae3-810d-375b150f37b0",
   "metadata": {},
   "outputs": [
    {
     "data": {
      "text/plain": [
       "'A'"
      ]
     },
     "execution_count": 204,
     "metadata": {},
     "output_type": "execute_result"
    }
   ],
   "source": [
    "# varidadic arguments - the number of arguments is unknown\n",
    "def paste(*args, sep=\" \"):\n",
    "    return sep.join(args)\n",
    "paste(\"A\")"
   ]
  },
  {
   "cell_type": "code",
   "execution_count": null,
   "id": "4428df28-1c76-472b-b5e6-4cac3773fe32",
   "metadata": {},
   "outputs": [],
   "source": [
    "def f(pos1, pos2, /, pos_or_kwd, *, kwd1, kwd2)"
   ]
  },
  {
   "cell_type": "code",
   "execution_count": 206,
   "id": "a84cffaf-4e9f-4e7e-9825-75e8c4ae6d6a",
   "metadata": {},
   "outputs": [
    {
     "data": {
      "text/plain": [
       "13"
      ]
     },
     "execution_count": 206,
     "metadata": {},
     "output_type": "execute_result"
    }
   ],
   "source": [
    "# lamda - short term function\n",
    "g = lambda x, y: x**2 + y**2 # only single line\n",
    "g(2,3)"
   ]
  },
  {
   "cell_type": "code",
   "execution_count": 211,
   "id": "0c199342-2092-4df9-af59-b9dfd4ca6602",
   "metadata": {},
   "outputs": [
    {
     "data": {
      "text/plain": [
       "{'x': str, 'y': str, 'z': str, 'return': str}"
      ]
     },
     "execution_count": 211,
     "metadata": {},
     "output_type": "execute_result"
    }
   ],
   "source": [
    "# support syntax\n",
    "def f(x: str, y: str, z: str) -> str:\n",
    "    return x + y + z\n",
    "\n",
    "f.__annotations__"
   ]
  },
  {
   "cell_type": "code",
   "execution_count": 212,
   "id": "90365ad9-6816-455d-8ba9-a5af87d61c06",
   "metadata": {},
   "outputs": [
    {
     "data": {
      "text/plain": [
       "'ABC'"
      ]
     },
     "execution_count": 212,
     "metadata": {},
     "output_type": "execute_result"
    }
   ],
   "source": [
    "f(\"A\",\"B\",\"C\")"
   ]
  },
  {
   "cell_type": "code",
   "execution_count": 213,
   "id": "e603ec61-43d2-4575-83bf-5d0d3ff82a98",
   "metadata": {},
   "outputs": [
    {
     "data": {
      "text/plain": [
       "6"
      ]
     },
     "execution_count": 213,
     "metadata": {},
     "output_type": "execute_result"
    }
   ],
   "source": [
    "f(1,2,3)"
   ]
  },
  {
   "cell_type": "markdown",
   "id": "2c157624-ba0b-409d-a287-a604f246979a",
   "metadata": {
    "tags": []
   },
   "source": [
    "# Exercise 4"
   ]
  },
  {
   "cell_type": "code",
   "execution_count": 223,
   "id": "ce3d1200-2097-44da-817b-a27e116db444",
   "metadata": {},
   "outputs": [
    {
     "data": {
      "text/plain": [
       "[2.20462, 4.40924, 11.0231, 6.613859999999999]"
      ]
     },
     "execution_count": 223,
     "metadata": {},
     "output_type": "execute_result"
    }
   ],
   "source": [
    "def kg_to_lb(wt:list) -> list: #result is list\n",
    "    \"\"\"Convert weights in kilograms to \n",
    "    pountds\"\"\"\n",
    "    \n",
    "    return [x*2.20462 for x in wt]\n",
    "\n",
    "kg_to_lb([1,2,5,3])"
   ]
  },
  {
   "cell_type": "code",
   "execution_count": 232,
   "id": "527bace6-c1bc-46a6-bcda-f76b4ece2954",
   "metadata": {},
   "outputs": [
    {
     "ename": "TypeError",
     "evalue": "'int' object is not callable",
     "output_type": "error",
     "traceback": [
      "\u001b[0;31m---------------------------------------------------------------------------\u001b[0m",
      "\u001b[0;31mTypeError\u001b[0m                                 Traceback (most recent call last)",
      "\u001b[0;32m/var/folders/0m/966_8tjn5pddy9gxt6rqdwh00000gn/T/ipykernel_6620/1630358291.py\u001b[0m in \u001b[0;36m<module>\u001b[0;34m\u001b[0m\n\u001b[1;32m     10\u001b[0m     \u001b[0;32mreturn\u001b[0m \u001b[0msum\u001b[0m\u001b[0;34m(\u001b[0m\u001b[0;34m[\u001b[0m\u001b[0mx\u001b[0m \u001b[0;34m*\u001b[0m \u001b[0my\u001b[0m \u001b[0;34m*\u001b[0m \u001b[0;36m2.20462\u001b[0m \u001b[0;32mfor\u001b[0m \u001b[0mx\u001b[0m\u001b[0;34m,\u001b[0m\u001b[0my\u001b[0m \u001b[0;32min\u001b[0m \u001b[0mzip\u001b[0m\u001b[0;34m(\u001b[0m\u001b[0mwt\u001b[0m\u001b[0;34m,\u001b[0m \u001b[0mn\u001b[0m\u001b[0;34m)\u001b[0m\u001b[0;34m]\u001b[0m\u001b[0;34m)\u001b[0m\u001b[0;34m\u001b[0m\u001b[0;34m\u001b[0m\u001b[0m\n\u001b[1;32m     11\u001b[0m \u001b[0;34m\u001b[0m\u001b[0m\n\u001b[0;32m---> 12\u001b[0;31m \u001b[0mtotal_lb\u001b[0m\u001b[0;34m(\u001b[0m\u001b[0;34m[\u001b[0m\u001b[0;36m1\u001b[0m\u001b[0;34m,\u001b[0m\u001b[0;36m2\u001b[0m\u001b[0;34m,\u001b[0m\u001b[0;36m5\u001b[0m\u001b[0;34m,\u001b[0m\u001b[0;36m3\u001b[0m\u001b[0;34m]\u001b[0m\u001b[0;34m,\u001b[0m \u001b[0;34m[\u001b[0m\u001b[0;36m1\u001b[0m\u001b[0;34m,\u001b[0m\u001b[0;36m2\u001b[0m\u001b[0;34m,\u001b[0m\u001b[0;36m2\u001b[0m\u001b[0;34m,\u001b[0m\u001b[0;36m1\u001b[0m\u001b[0;34m]\u001b[0m\u001b[0;34m)\u001b[0m\u001b[0;34m\u001b[0m\u001b[0;34m\u001b[0m\u001b[0m\n\u001b[0m",
      "\u001b[0;32m/var/folders/0m/966_8tjn5pddy9gxt6rqdwh00000gn/T/ipykernel_6620/1630358291.py\u001b[0m in \u001b[0;36mtotal_lb\u001b[0;34m(wt, n)\u001b[0m\n\u001b[1;32m      8\u001b[0m     \"\"\"\n\u001b[1;32m      9\u001b[0m \u001b[0;34m\u001b[0m\u001b[0m\n\u001b[0;32m---> 10\u001b[0;31m     \u001b[0;32mreturn\u001b[0m \u001b[0msum\u001b[0m\u001b[0;34m(\u001b[0m\u001b[0;34m[\u001b[0m\u001b[0mx\u001b[0m \u001b[0;34m*\u001b[0m \u001b[0my\u001b[0m \u001b[0;34m*\u001b[0m \u001b[0;36m2.20462\u001b[0m \u001b[0;32mfor\u001b[0m \u001b[0mx\u001b[0m\u001b[0;34m,\u001b[0m\u001b[0my\u001b[0m \u001b[0;32min\u001b[0m \u001b[0mzip\u001b[0m\u001b[0;34m(\u001b[0m\u001b[0mwt\u001b[0m\u001b[0;34m,\u001b[0m \u001b[0mn\u001b[0m\u001b[0;34m)\u001b[0m\u001b[0;34m]\u001b[0m\u001b[0;34m)\u001b[0m\u001b[0;34m\u001b[0m\u001b[0;34m\u001b[0m\u001b[0m\n\u001b[0m\u001b[1;32m     11\u001b[0m \u001b[0;34m\u001b[0m\u001b[0m\n\u001b[1;32m     12\u001b[0m \u001b[0mtotal_lb\u001b[0m\u001b[0;34m(\u001b[0m\u001b[0;34m[\u001b[0m\u001b[0;36m1\u001b[0m\u001b[0;34m,\u001b[0m\u001b[0;36m2\u001b[0m\u001b[0;34m,\u001b[0m\u001b[0;36m5\u001b[0m\u001b[0;34m,\u001b[0m\u001b[0;36m3\u001b[0m\u001b[0;34m]\u001b[0m\u001b[0;34m,\u001b[0m \u001b[0;34m[\u001b[0m\u001b[0;36m1\u001b[0m\u001b[0;34m,\u001b[0m\u001b[0;36m2\u001b[0m\u001b[0;34m,\u001b[0m\u001b[0;36m2\u001b[0m\u001b[0;34m,\u001b[0m\u001b[0;36m1\u001b[0m\u001b[0;34m]\u001b[0m\u001b[0;34m)\u001b[0m\u001b[0;34m\u001b[0m\u001b[0;34m\u001b[0m\u001b[0m\n",
      "\u001b[0;31mTypeError\u001b[0m: 'int' object is not callable"
     ]
    }
   ],
   "source": [
    "# Write a second function, total_lb, that calculates the total weight in pounds \n",
    "# of an order, the input arguments should be a list of item weights in kilograms \n",
    "# and a list of the number of each item ordered.\n",
    "\n",
    "def total_lb(wt: list, n: list) -> list:\n",
    "    \"\"\"Calculate the total weight of an order (in pounds)\n",
    "    given the item weights (in kgs) and the number ordered\n",
    "    \"\"\"\n",
    "    \n",
    "    return sum([x * y * 2.20462 for x,y in zip(wt, n)])\n",
    "\n",
    "total_lb([1,2,5,3], [1,2,2,1])"
   ]
  }
 ],
 "metadata": {
  "kernelspec": {
   "display_name": "Python 3 (ipykernel)",
   "language": "python",
   "name": "python3"
  },
  "language_info": {
   "codemirror_mode": {
    "name": "ipython",
    "version": 3
   },
   "file_extension": ".py",
   "mimetype": "text/x-python",
   "name": "python",
   "nbconvert_exporter": "python",
   "pygments_lexer": "ipython3",
   "version": "3.9.13"
  }
 },
 "nbformat": 4,
 "nbformat_minor": 5
}
