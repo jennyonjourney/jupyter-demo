{
 "cells": [
  {
   "cell_type": "markdown",
   "id": "72ce1586-f4eb-4138-930b-344cddb5c11e",
   "metadata": {},
   "source": [
    "# w3schools - Reveiw Basic"
   ]
  },
  {
   "cell_type": "code",
   "execution_count": null,
   "id": "37e303ad-0b72-4e17-9216-6ed2b074dd7f",
   "metadata": {},
   "outputs": [],
   "source": [
    "n = 18 #Correct : Weird\n",
    "\n",
    "if (n % 2) != 0:\n",
    "    print(\"Weird\")\n",
    "elif (n % 2) == 0 and n > 2 and n < 5:\n",
    "    print(\"Not Weird\")\n",
    "elif (n % 2) == 0 and n > 6 and n <= 20:\n",
    "    print(\"Weird\")\n",
    "else:\n",
    "    print(\"Not Weird\")"
   ]
  },
  {
   "cell_type": "code",
   "execution_count": 24,
   "id": "f7277d1d-b972-4194-8588-8ee6dd527982",
   "metadata": {},
   "outputs": [
    {
     "name": "stdout",
     "output_type": "stream",
     "text": [
      "fantastic\n"
     ]
    }
   ],
   "source": [
    "# global variables\n",
    "global x\n",
    "x = \"fantastic\"\n",
    "\n",
    "print(x)"
   ]
  },
  {
   "cell_type": "markdown",
   "id": "b02730b7-b6dd-41aa-bcdf-295f76b33f49",
   "metadata": {},
   "source": [
    "## Python random module"
   ]
  },
  {
   "cell_type": "code",
   "execution_count": 36,
   "id": "c14ec848-2ea6-49ef-abff-0b51c7f50abd",
   "metadata": {},
   "outputs": [
    {
     "data": {
      "text/plain": [
       "1.1119138199030736"
      ]
     },
     "execution_count": 36,
     "metadata": {},
     "output_type": "execute_result"
    }
   ],
   "source": [
    "import random as random\n",
    "random.seed()\n",
    "random.randrange(1,10) #returns a random number between given range\n",
    "random.randint(1,10)\n",
    "myoption = [\"apple\",\"banna\",\"cherry\"]\n",
    "random.choice(myoption)\n",
    "random.random() #random between 0 and 1\n",
    "random.uniform(1,10)\n",
    "random.normalvariate(1,10)"
   ]
  },
  {
   "cell_type": "markdown",
   "id": "46f35d5b-c57b-4560-b6e1-db32163e1e8d",
   "metadata": {},
   "source": [
    "# Python Strings"
   ]
  },
  {
   "cell_type": "code",
   "execution_count": 41,
   "id": "2cfc569e-bf20-43fd-8fc8-73985f65a101",
   "metadata": {},
   "outputs": [
    {
     "data": {
      "text/plain": [
       "'I'"
      ]
     },
     "execution_count": 41,
     "metadata": {},
     "output_type": "execute_result"
    }
   ],
   "source": [
    "# strings\n",
    "a = \"I am a movie star\"\n",
    "a[1]\n",
    "a[0]"
   ]
  },
  {
   "cell_type": "code",
   "execution_count": 42,
   "id": "32474805-8620-4514-8658-6914a5db5aab",
   "metadata": {},
   "outputs": [
    {
     "name": "stdout",
     "output_type": "stream",
     "text": [
      "I\n",
      " \n",
      "a\n",
      "m\n",
      " \n",
      "a\n",
      " \n",
      "m\n",
      "o\n",
      "v\n",
      "i\n",
      "e\n",
      " \n",
      "s\n",
      "t\n",
      "a\n",
      "r\n"
     ]
    }
   ],
   "source": [
    "# looping through a string\n",
    "for x in \"I am a movie star\":\n",
    "    print(x)"
   ]
  },
  {
   "cell_type": "code",
   "execution_count": 43,
   "id": "9b188a95-4b7a-44b3-a5ff-b8183a223680",
   "metadata": {},
   "outputs": [
    {
     "name": "stdout",
     "output_type": "stream",
     "text": [
      "True\n"
     ]
    }
   ],
   "source": [
    "# string checking\n",
    "txt = \"I am a movie star\"\n",
    "print(\"movie\" in txt)"
   ]
  },
  {
   "cell_type": "code",
   "execution_count": 45,
   "id": "2cf32eb4-bdc7-4db7-8e0c-069a6833e8dc",
   "metadata": {},
   "outputs": [
    {
     "name": "stdout",
     "output_type": "stream",
     "text": [
      "star is in txt.\n"
     ]
    }
   ],
   "source": [
    "# string checking2\n",
    "txt = \"I am a movie star\"\n",
    "if \"tar\" in txt:\n",
    "    print(\"star is in txt.\")\n",
    "elif \"tarr\" not in txt:\n",
    "    print(\"starr is wrong. it is not in txt.\")"
   ]
  },
  {
   "cell_type": "code",
   "execution_count": 53,
   "id": "e9025141-af7e-4620-9417-60f9c7af4031",
   "metadata": {},
   "outputs": [
    {
     "data": {
      "text/plain": [
       "' HELLO, WORLDS '"
      ]
     },
     "execution_count": 53,
     "metadata": {},
     "output_type": "execute_result"
    }
   ],
   "source": [
    "a = \" HELLO, WORLDS \"\n",
    "a.upper()"
   ]
  },
  {
   "cell_type": "code",
   "execution_count": 54,
   "id": "cc153811-1b54-4470-b1ba-9c66efe27094",
   "metadata": {},
   "outputs": [
    {
     "data": {
      "text/plain": [
       "'HELLO, WORLDS'"
      ]
     },
     "execution_count": 54,
     "metadata": {},
     "output_type": "execute_result"
    }
   ],
   "source": [
    "#remove white space\n",
    "a.strip()"
   ]
  },
  {
   "cell_type": "code",
   "execution_count": 55,
   "id": "ea6ca035-413a-4d03-8e80-de5cb7f6085c",
   "metadata": {},
   "outputs": [
    {
     "data": {
      "text/plain": [
       "' JELLO, WORLDS '"
      ]
     },
     "execution_count": 55,
     "metadata": {},
     "output_type": "execute_result"
    }
   ],
   "source": [
    "a.replace(\"H\",\"J\")"
   ]
  },
  {
   "cell_type": "code",
   "execution_count": 56,
   "id": "06469294-17e0-4bca-97a4-79143c4e6c67",
   "metadata": {},
   "outputs": [
    {
     "data": {
      "text/plain": [
       "[' HELLO', ' WORLDS ']"
      ]
     },
     "execution_count": 56,
     "metadata": {},
     "output_type": "execute_result"
    }
   ],
   "source": [
    "a.split(\",\")"
   ]
  },
  {
   "cell_type": "code",
   "execution_count": 59,
   "id": "3335a71e-2bf4-427c-a826-cf5fefe12993",
   "metadata": {},
   "outputs": [
    {
     "name": "stdout",
     "output_type": "stream",
     "text": [
      "My age is 36\n"
     ]
    },
    {
     "data": {
      "text/plain": [
       "'My age is 36'"
      ]
     },
     "execution_count": 59,
     "metadata": {},
     "output_type": "execute_result"
    }
   ],
   "source": [
    "age = 36\n",
    "txt = \"My age is {}\"\n",
    "print(txt.format(age))\n",
    "txt.format(age)"
   ]
  },
  {
   "cell_type": "code",
   "execution_count": 60,
   "id": "14556e76-0554-4681-a43a-013f70f50b5d",
   "metadata": {},
   "outputs": [
    {
     "name": "stdout",
     "output_type": "stream",
     "text": [
      "6\n"
     ]
    },
    {
     "data": {
      "text/plain": [
       "6"
      ]
     },
     "execution_count": 60,
     "metadata": {},
     "output_type": "execute_result"
    }
   ],
   "source": [
    "print(2+4)\n",
    "2+4"
   ]
  },
  {
   "cell_type": "markdown",
   "id": "4b1b697f-f0e6-4d7c-92f5-4393ec686257",
   "metadata": {},
   "source": [
    "# Python Lists"
   ]
  },
  {
   "cell_type": "code",
   "execution_count": 64,
   "id": "724b457e-3618-4cbf-bf0d-3b2bcb6f62fd",
   "metadata": {},
   "outputs": [
    {
     "ename": "TypeError",
     "evalue": "'list' object is not callable",
     "output_type": "error",
     "traceback": [
      "\u001b[0;31m---------------------------------------------------------------------------\u001b[0m",
      "\u001b[0;31mTypeError\u001b[0m                                 Traceback (most recent call last)",
      "\u001b[0;32m/var/folders/0m/966_8tjn5pddy9gxt6rqdwh00000gn/T/ipykernel_6231/427625023.py\u001b[0m in \u001b[0;36m<module>\u001b[0;34m\u001b[0m\n\u001b[1;32m      1\u001b[0m \u001b[0;31m# using list() contrcutor to make a list\u001b[0m\u001b[0;34m\u001b[0m\u001b[0;34m\u001b[0m\u001b[0m\n\u001b[0;32m----> 2\u001b[0;31m \u001b[0mthislist\u001b[0m \u001b[0;34m=\u001b[0m \u001b[0mlist\u001b[0m\u001b[0;34m(\u001b[0m\u001b[0;34m(\u001b[0m\u001b[0;34m\"apple\"\u001b[0m\u001b[0;34m,\u001b[0m \u001b[0;34m\"banana\"\u001b[0m\u001b[0;34m,\u001b[0m \u001b[0;34m\"cherry\"\u001b[0m\u001b[0;34m)\u001b[0m\u001b[0;34m)\u001b[0m\u001b[0;34m\u001b[0m\u001b[0;34m\u001b[0m\u001b[0m\n\u001b[0m\u001b[1;32m      3\u001b[0m \u001b[0mprint\u001b[0m\u001b[0;34m(\u001b[0m\u001b[0mthislist\u001b[0m\u001b[0;34m)\u001b[0m\u001b[0;34m\u001b[0m\u001b[0;34m\u001b[0m\u001b[0m\n",
      "\u001b[0;31mTypeError\u001b[0m: 'list' object is not callable"
     ]
    }
   ],
   "source": [
    "# using list() contrcutor to make a list\n",
    "thislist = list((\"apple\", \"banana\", \"cherry\"))\n",
    "print(thislist)"
   ]
  },
  {
   "cell_type": "code",
   "execution_count": 76,
   "id": "38b6609d-5622-4855-9953-3e05619ddb08",
   "metadata": {},
   "outputs": [
    {
     "name": "stdout",
     "output_type": "stream",
     "text": [
      "['apple', 'banana', 'watermelon', 'cherry']\n"
     ]
    }
   ],
   "source": [
    "thislist = [\"apple\",\"banana\",\"cherry\"]\n",
    "thislist.insert(2, \"watermelon\")\n",
    "print(thislist)"
   ]
  },
  {
   "cell_type": "code",
   "execution_count": 77,
   "id": "e3bb56fd-1502-4455-a04f-2964a0194ada",
   "metadata": {},
   "outputs": [
    {
     "data": {
      "text/plain": [
       "['apple', 'banana', 'watermelon', 'cherry', 'oragne']"
      ]
     },
     "execution_count": 77,
     "metadata": {},
     "output_type": "execute_result"
    }
   ],
   "source": [
    "thislist.append(\"oragne\")\n",
    "thislist"
   ]
  },
  {
   "cell_type": "code",
   "execution_count": 78,
   "id": "62512d08-293d-42eb-b1bf-08e7052ce3da",
   "metadata": {},
   "outputs": [
    {
     "name": "stdout",
     "output_type": "stream",
     "text": [
      "['apple', 'banana', 'watermelon', 'cherry', 'oragne', 'mango', 'pineapple', 'papaya']\n"
     ]
    }
   ],
   "source": [
    "tropical = [\"mango\",\"pineapple\",\"papaya\"]\n",
    "thislist.extend(tropical)\n",
    "print(thislist)"
   ]
  },
  {
   "cell_type": "code",
   "execution_count": 79,
   "id": "cc30387d-ce98-476f-9cbf-7652a274323c",
   "metadata": {},
   "outputs": [
    {
     "name": "stdout",
     "output_type": "stream",
     "text": [
      "['apple', 'banana', 'watermelon', 'cherry', 'oragne', 'mango', 'pineapple', 'papaya', 'kiwi', 'orange']\n"
     ]
    }
   ],
   "source": [
    "# extend() method does not have to append lists, you can add any iterable object\n",
    "thistuple = (\"kiwi\",\"orange\")\n",
    "thislist.extend(thistuple)\n",
    "print(thislist)"
   ]
  },
  {
   "cell_type": "code",
   "execution_count": 80,
   "id": "bbe1b997-a9c9-4b65-a5d4-e9e59a0800ca",
   "metadata": {},
   "outputs": [
    {
     "name": "stdout",
     "output_type": "stream",
     "text": [
      "['apple', 'watermelon', 'cherry', 'oragne', 'mango', 'pineapple', 'papaya', 'kiwi', 'orange']\n"
     ]
    }
   ],
   "source": [
    "thislist.remove(\"banana\")\n",
    "print(thislist)"
   ]
  },
  {
   "cell_type": "code",
   "execution_count": 81,
   "id": "438acf66-c9bd-4fa9-a1f0-1eb597f17d6d",
   "metadata": {},
   "outputs": [
    {
     "data": {
      "text/plain": [
       "'watermelon'"
      ]
     },
     "execution_count": 81,
     "metadata": {},
     "output_type": "execute_result"
    }
   ],
   "source": [
    "# pop() method removes the specified index\n",
    "thislist.pop(1) # just pop then result position"
   ]
  },
  {
   "cell_type": "code",
   "execution_count": 82,
   "id": "915aaec5-a827-45e7-bc43-681b557553b0",
   "metadata": {},
   "outputs": [
    {
     "name": "stdout",
     "output_type": "stream",
     "text": [
      "['apple', 'cherry', 'oragne', 'mango', 'pineapple', 'papaya', 'kiwi', 'orange']\n"
     ]
    }
   ],
   "source": [
    "print(thislist) # remove that pop word"
   ]
  },
  {
   "cell_type": "code",
   "execution_count": 83,
   "id": "9e5121ac-0071-40e1-80bc-918e96ac12af",
   "metadata": {},
   "outputs": [
    {
     "name": "stdout",
     "output_type": "stream",
     "text": [
      "['apple', 'cherry', 'oragne', 'mango', 'pineapple', 'papaya', 'kiwi']\n"
     ]
    }
   ],
   "source": [
    "# if not sepicify index then Pop() will remove the last word\n",
    "thislist.pop()\n",
    "print(thislist)"
   ]
  },
  {
   "cell_type": "code",
   "execution_count": 84,
   "id": "14ad709a-7462-42b8-ba2e-fc4f21d9507c",
   "metadata": {},
   "outputs": [
    {
     "name": "stdout",
     "output_type": "stream",
     "text": [
      "['cherry', 'oragne', 'mango', 'pineapple', 'papaya', 'kiwi']\n"
     ]
    }
   ],
   "source": [
    "del thislist[0]\n",
    "print(thislist)"
   ]
  },
  {
   "cell_type": "code",
   "execution_count": 85,
   "id": "48d80b16-fe7c-433e-a7bd-f27ee6126cf7",
   "metadata": {},
   "outputs": [
    {
     "name": "stdout",
     "output_type": "stream",
     "text": [
      "[]\n"
     ]
    }
   ],
   "source": [
    "# clear() method empties the list\n",
    "thislist.clear()\n",
    "print(thislist)"
   ]
  },
  {
   "cell_type": "code",
   "execution_count": 86,
   "id": "bb52cd10-107c-40b9-8cc0-dd09dc495d38",
   "metadata": {},
   "outputs": [
    {
     "name": "stdout",
     "output_type": "stream",
     "text": [
      "apple\n",
      "banana\n",
      "cherry\n"
     ]
    }
   ],
   "source": [
    "# loop list\n",
    "thislist = [\"apple\",\"banana\",\"cherry\"]\n",
    "for x in thislist:\n",
    "    print(x)"
   ]
  },
  {
   "cell_type": "code",
   "execution_count": 88,
   "id": "dbe8a9d2-4669-4c1b-be52-8db99544a1d3",
   "metadata": {},
   "outputs": [
    {
     "name": "stdout",
     "output_type": "stream",
     "text": [
      "apple\n",
      "banana\n",
      "cherry\n"
     ]
    }
   ],
   "source": [
    "thislist = [\"apple\",\"banana\",\"cherry\"]\n",
    "for i in range(len(thislist)):\n",
    "    print(thislist[i])"
   ]
  },
  {
   "cell_type": "code",
   "execution_count": 89,
   "id": "333a26e0-240b-4581-9e6e-b7ca687b04c2",
   "metadata": {},
   "outputs": [
    {
     "name": "stdout",
     "output_type": "stream",
     "text": [
      "apple\n",
      "banana\n",
      "cherry\n"
     ]
    }
   ],
   "source": [
    "thislist=[\"apple\",\"banana\",\"cherry\"]\n",
    "i=0\n",
    "while i < len(thislist):\n",
    "    print(thislist[i])\n",
    "    i=i+1"
   ]
  },
  {
   "cell_type": "code",
   "execution_count": 90,
   "id": "2c8f40a7-f655-448e-afcc-0e477b5bf67c",
   "metadata": {},
   "outputs": [
    {
     "name": "stdout",
     "output_type": "stream",
     "text": [
      "apple\n",
      "banana\n",
      "cherry\n"
     ]
    },
    {
     "data": {
      "text/plain": [
       "[None, None, None]"
      ]
     },
     "execution_count": 90,
     "metadata": {},
     "output_type": "execute_result"
    }
   ],
   "source": [
    "[print(x) for x in thislist]"
   ]
  },
  {
   "cell_type": "code",
   "execution_count": 93,
   "id": "bf050077-04f6-42d0-83ac-16db3dd56111",
   "metadata": {},
   "outputs": [
    {
     "name": "stdout",
     "output_type": "stream",
     "text": [
      "['apple', 'banana', 'mango']\n"
     ]
    }
   ],
   "source": [
    "fruits = [\"apple\",\"banana\",\"cherry\",\"kiwi\",\"mango\"]\n",
    "newlist = []\n",
    "for x in fruits:\n",
    "    if \"a\" in x:\n",
    "        newlist.append(x)\n",
    "print(newlist)"
   ]
  },
  {
   "cell_type": "code",
   "execution_count": null,
   "id": "6a5f07ce-8be3-4bf3-8b25-e12932d1487a",
   "metadata": {},
   "outputs": [],
   "source": [
    "newlist = [x for x in fruits if \"a\" in x]"
   ]
  },
  {
   "cell_type": "code",
   "execution_count": 96,
   "id": "610116d8-1e65-428d-8105-ad8c9030bd16",
   "metadata": {},
   "outputs": [
    {
     "data": {
      "text/plain": [
       "['apple', 'orange', 'cherry', 'kiwi', 'mango']"
      ]
     },
     "execution_count": 96,
     "metadata": {},
     "output_type": "execute_result"
    }
   ],
   "source": [
    "newlist = [x if x != \"banana\" else \"orange\" for x in fruits]\n",
    "newlist"
   ]
  },
  {
   "cell_type": "code",
   "execution_count": 97,
   "id": "cb7efa36-377f-4f87-a478-ef57c6f596d6",
   "metadata": {},
   "outputs": [
    {
     "name": "stdout",
     "output_type": "stream",
     "text": [
      "['banana', 'kiwi', 'mango', 'orange', 'pineapple']\n"
     ]
    }
   ],
   "source": [
    "thislist = [\"orange\", \"mango\", \"kiwi\", \"pineapple\", \"banana\"]\n",
    "thislist.sort()\n",
    "print(thislist)"
   ]
  },
  {
   "cell_type": "code",
   "execution_count": 98,
   "id": "5aa8ab97-f3db-4c6c-b80f-e7d74cacfbef",
   "metadata": {},
   "outputs": [
    {
     "name": "stdout",
     "output_type": "stream",
     "text": [
      "['pineapple', 'orange', 'mango', 'kiwi', 'banana']\n"
     ]
    }
   ],
   "source": [
    "thislist.sort(reverse = True)\n",
    "print(thislist)"
   ]
  },
  {
   "cell_type": "code",
   "execution_count": 101,
   "id": "62bc9150-7c38-4772-a85a-67d7afd7aae4",
   "metadata": {},
   "outputs": [
    {
     "name": "stdout",
     "output_type": "stream",
     "text": [
      "[50, 65, 23, 82, 100]\n"
     ]
    }
   ],
   "source": [
    "# customize sort function\n",
    "def myfunc(n):\n",
    "    return abs(n-50)\n",
    "thislist = [100, 50, 65, 82, 23]\n",
    "thislist.sort(key=myfunc)\n",
    "print(thislist)"
   ]
  },
  {
   "cell_type": "code",
   "execution_count": 102,
   "id": "c243bd48-38d5-4261-88d9-ed5baa6c8fc2",
   "metadata": {},
   "outputs": [
    {
     "name": "stdout",
     "output_type": "stream",
     "text": [
      "['banana', 'cherry', 'Kiwi', 'Orange']\n"
     ]
    }
   ],
   "source": [
    "# insensitive sort : capital letters first\n",
    "# if you ignore it, str.lower() as key\n",
    "Thislist = [\"banana\", \"Orange\", \"Kiwi\", \"cherry\"]\n",
    "Thislist.sort(key = str.lower)\n",
    "print(Thislist)"
   ]
  },
  {
   "cell_type": "code",
   "execution_count": 103,
   "id": "94078f8e-5da1-4592-8fa0-b30acf4fdf0f",
   "metadata": {},
   "outputs": [
    {
     "name": "stdout",
     "output_type": "stream",
     "text": [
      "[100, 82, 23, 65, 50]\n"
     ]
    }
   ],
   "source": [
    "thislist.reverse() #just simple reverse\n",
    "print(thislist)"
   ]
  },
  {
   "cell_type": "code",
   "execution_count": 108,
   "id": "c3c3ebb4-907e-4bda-a34f-95bb262f1f0e",
   "metadata": {},
   "outputs": [
    {
     "name": "stdout",
     "output_type": "stream",
     "text": [
      "['apple', 'banana', 'cherry']\n"
     ]
    }
   ],
   "source": [
    "# copy a list\n",
    "mylist = thislist.copy()\n",
    "print(mylist)"
   ]
  },
  {
   "cell_type": "code",
   "execution_count": 134,
   "id": "e7bc0404-ac93-47c0-9155-5ac06c73480a",
   "metadata": {},
   "outputs": [
    {
     "ename": "TypeError",
     "evalue": "'list' object is not callable",
     "output_type": "error",
     "traceback": [
      "\u001b[0;31m---------------------------------------------------------------------------\u001b[0m",
      "\u001b[0;31mTypeError\u001b[0m                                 Traceback (most recent call last)",
      "\u001b[0;32m/var/folders/0m/966_8tjn5pddy9gxt6rqdwh00000gn/T/ipykernel_6231/928789614.py\u001b[0m in \u001b[0;36m<module>\u001b[0;34m\u001b[0m\n\u001b[1;32m      1\u001b[0m \u001b[0;31m# another way of copying\u001b[0m\u001b[0;34m\u001b[0m\u001b[0;34m\u001b[0m\u001b[0m\n\u001b[1;32m      2\u001b[0m \u001b[0maList\u001b[0m \u001b[0;34m=\u001b[0m \u001b[0;34m(\u001b[0m\u001b[0;34m\"apple\"\u001b[0m\u001b[0;34m,\u001b[0m \u001b[0;34m\"banana\"\u001b[0m\u001b[0;34m,\u001b[0m \u001b[0;34m\"cherry\"\u001b[0m\u001b[0;34m)\u001b[0m\u001b[0;34m\u001b[0m\u001b[0;34m\u001b[0m\u001b[0m\n\u001b[0;32m----> 3\u001b[0;31m \u001b[0mcopyaList\u001b[0m \u001b[0;34m=\u001b[0m \u001b[0mlist\u001b[0m\u001b[0;34m(\u001b[0m\u001b[0maList\u001b[0m\u001b[0;34m)\u001b[0m\u001b[0;34m\u001b[0m\u001b[0;34m\u001b[0m\u001b[0m\n\u001b[0m\u001b[1;32m      4\u001b[0m \u001b[0mprint\u001b[0m\u001b[0;34m(\u001b[0m\u001b[0mcopyaList\u001b[0m\u001b[0;34m)\u001b[0m\u001b[0;34m\u001b[0m\u001b[0;34m\u001b[0m\u001b[0m\n",
      "\u001b[0;31mTypeError\u001b[0m: 'list' object is not callable"
     ]
    }
   ],
   "source": [
    "# another way of copying\n",
    "aList = (\"apple\", \"banana\", \"cherry\")\n",
    "copyaList = list(aList)\n",
    "print(copyaList)"
   ]
  },
  {
   "cell_type": "code",
   "execution_count": 122,
   "id": "7d835418-65bd-4ccb-beb0-886036f9afbc",
   "metadata": {},
   "outputs": [
    {
     "name": "stdout",
     "output_type": "stream",
     "text": [
      "('apple', 'banana', 'cherry', 'orange')\n"
     ]
    }
   ],
   "source": [
    "# tuples => convert list first => append\n",
    "# or add tuple to tuple\n",
    "thistuple = (\"apple\", \"banana\", \"cherry\")\n",
    "y = (\"orange\",)\n",
    "thistuple += y\n",
    "print(thistuple)"
   ]
  },
  {
   "cell_type": "code",
   "execution_count": 123,
   "id": "8546972f-efdc-4f4f-922e-d534df332a99",
   "metadata": {},
   "outputs": [
    {
     "name": "stdout",
     "output_type": "stream",
     "text": [
      "['apple', 'banana', 'cherry', 'orange']\n"
     ]
    }
   ],
   "source": [
    "# tuples => convert list first => append\n",
    "# or add tuple to tuple\n",
    "trylist = [\"apple\", \"banana\", \"cherry\"]\n",
    "y = [\"orange\",]\n",
    "trylist += y\n",
    "print(trylist)"
   ]
  },
  {
   "cell_type": "code",
   "execution_count": 124,
   "id": "0a77ffe6-65b1-4c48-a7dd-bd1941d1055e",
   "metadata": {},
   "outputs": [
    {
     "name": "stdout",
     "output_type": "stream",
     "text": [
      "apple\n",
      "banana\n",
      "cherry\n"
     ]
    }
   ],
   "source": [
    "fruits = (\"apple\", \"banana\", \"cherry\")\n",
    "\n",
    "(green, yellow, red) = fruits\n",
    "\n",
    "print(green)\n",
    "print(yellow)\n",
    "print(red)"
   ]
  },
  {
   "cell_type": "code",
   "execution_count": 125,
   "id": "080e42f2-3240-4a8b-bfde-ef78f0bfd6ed",
   "metadata": {},
   "outputs": [
    {
     "name": "stdout",
     "output_type": "stream",
     "text": [
      "apple\n",
      "banana\n",
      "cherry\n"
     ]
    }
   ],
   "source": [
    "fruits = [\"apple\", \"banana\", \"cherry\"]\n",
    "\n",
    "[green, yellow, red] = fruits\n",
    "\n",
    "print(green)\n",
    "print(yellow)\n",
    "print(red)"
   ]
  },
  {
   "cell_type": "code",
   "execution_count": 133,
   "id": "ee91b43c-13d1-4505-bfce-c8169d5966a8",
   "metadata": {},
   "outputs": [
    {
     "name": "stdout",
     "output_type": "stream",
     "text": [
      "{'apple', 'cherry', 'orange', 'banana'}\n",
      "{'apple', 'banana', 'cherry', 'papaya', 'pineapple', 'mango'}\n"
     ]
    }
   ],
   "source": [
    "# set use add() not append() or extend()\n",
    "# set use update() not replace()\n",
    "# set use list, tuple, dictionary\n",
    "# discard is better than remove in terms of non-existing one\n",
    "# add one item\n",
    "thisset = {\"apple\", \"banana\", \"cherry\"}\n",
    "thisset.add(\"orange\")\n",
    "print(thisset)\n",
    "# add multiple items\n",
    "thisset = {\"apple\", \"banana\", \"cherry\"}\n",
    "tropical = {\"pineapple\", \"mango\", \"papaya\"}\n",
    "thisset.update(tropical)\n",
    "print(thisset)"
   ]
  },
  {
   "cell_type": "code",
   "execution_count": 137,
   "id": "2b0060ba-bdfb-4800-be67-f17724221b76",
   "metadata": {},
   "outputs": [
    {
     "data": {
      "text/plain": [
       "dict_keys(['brand', 'model', 'year'])"
      ]
     },
     "execution_count": 137,
     "metadata": {},
     "output_type": "execute_result"
    }
   ],
   "source": [
    "car = {\n",
    "\"brand\":\"Ford\",\n",
    "\"model\":\"Mustang\",\n",
    "\"year\":1964\n",
    "}\n",
    "car.keys()"
   ]
  },
  {
   "cell_type": "code",
   "execution_count": 138,
   "id": "29f2d046-dcb6-457c-91e3-909c13da46dc",
   "metadata": {},
   "outputs": [
    {
     "data": {
      "text/plain": [
       "dict_keys(['brand', 'model', 'year', 'color'])"
      ]
     },
     "execution_count": 138,
     "metadata": {},
     "output_type": "execute_result"
    }
   ],
   "source": [
    "car[\"color\"]=\"white\"\n",
    "car.keys()"
   ]
  },
  {
   "cell_type": "code",
   "execution_count": 139,
   "id": "d3bb5749-6309-4ca4-8369-be132d9ffc3b",
   "metadata": {},
   "outputs": [
    {
     "data": {
      "text/plain": [
       "dict_items([('brand', 'Ford'), ('model', 'Mustang'), ('year', 1964), ('color', 'white')])"
      ]
     },
     "execution_count": 139,
     "metadata": {},
     "output_type": "execute_result"
    }
   ],
   "source": [
    "# return tuples in a list (리스트 안에 수정이 불가한 튜플)\n",
    "car.items()"
   ]
  },
  {
   "cell_type": "code",
   "execution_count": 142,
   "id": "9d42e205-6f77-4b3b-a96d-4e127579aca7",
   "metadata": {},
   "outputs": [
    {
     "name": "stdout",
     "output_type": "stream",
     "text": [
      "{'brand': 'Ford', 'year': 1964}\n"
     ]
    }
   ],
   "source": [
    "# dictionary use update({})\n",
    "thisdict = {\n",
    "  \"brand\": \"Ford\",\n",
    "  \"model\": \"Mustang\",\n",
    "  \"year\": 1964\n",
    "}\n",
    "thisdict.pop(\"model\")\n",
    "print(thisdict)"
   ]
  },
  {
   "cell_type": "code",
   "execution_count": 145,
   "id": "8838191c-7edc-4425-9cd1-c1ef329920c3",
   "metadata": {},
   "outputs": [
    {
     "name": "stdout",
     "output_type": "stream",
     "text": [
      "{'brand': 'Ford', 'model': 'Mustang'}\n"
     ]
    }
   ],
   "source": [
    "# dictionary use update({})\n",
    "thisdict = {\n",
    "  \"brand\": \"Ford\",\n",
    "  \"model\": \"Mustang\",\n",
    "  \"year\": 1964\n",
    "}\n",
    "thisdict.popitem()\n",
    "print(thisdict)"
   ]
  },
  {
   "cell_type": "code",
   "execution_count": 147,
   "id": "91ae74cd-9717-4515-a6e1-caaead14d2fb",
   "metadata": {},
   "outputs": [
    {
     "name": "stdout",
     "output_type": "stream",
     "text": [
      "brand\n",
      "model\n",
      "year\n"
     ]
    }
   ],
   "source": [
    "# print all key names \n",
    "thisdict = {\n",
    "  \"brand\": \"Ford\",\n",
    "  \"model\": \"Mustang\",\n",
    "  \"year\": 1964\n",
    "}\n",
    "for x in thisdict:#thisdict.keys() same result\n",
    "    print(x)"
   ]
  },
  {
   "cell_type": "code",
   "execution_count": 148,
   "id": "22954e2d-fc6f-4230-8896-7f6a8f746adc",
   "metadata": {},
   "outputs": [
    {
     "name": "stdout",
     "output_type": "stream",
     "text": [
      "Ford\n",
      "Mustang\n",
      "1964\n"
     ]
    }
   ],
   "source": [
    "# print all values\n",
    "thisdict = {\n",
    "  \"brand\": \"Ford\",\n",
    "  \"model\": \"Mustang\",\n",
    "  \"year\": 1964\n",
    "}\n",
    "for x in thisdict.values():\n",
    "    print(x)"
   ]
  },
  {
   "cell_type": "code",
   "execution_count": 150,
   "id": "386c5e54-9238-4059-bec6-36e5646b2b7b",
   "metadata": {},
   "outputs": [
    {
     "name": "stdout",
     "output_type": "stream",
     "text": [
      "('brand', 'Ford')\n",
      "('model', 'Mustang')\n",
      "('year', 1964)\n"
     ]
    }
   ],
   "source": [
    "# print all keys\n",
    "thisdict = {\n",
    "  \"brand\": \"Ford\",\n",
    "  \"model\": \"Mustang\",\n",
    "  \"year\": 1964\n",
    "}\n",
    "for x in thisdict.items():\n",
    "    print(x)"
   ]
  },
  {
   "cell_type": "code",
   "execution_count": 152,
   "id": "ade0a8c6-2ca0-4350-840a-30fe50febcd7",
   "metadata": {},
   "outputs": [
    {
     "data": {
      "text/plain": [
       "{'brand': 'Ford', 'model': 'Mustang', 'year': 1964}"
      ]
     },
     "execution_count": 152,
     "metadata": {},
     "output_type": "execute_result"
    }
   ],
   "source": [
    "mydict = dict(thisdict)\n",
    "mydict"
   ]
  },
  {
   "cell_type": "code",
   "execution_count": 153,
   "id": "afbea2c3-69f3-4ed7-8518-4cd04739a778",
   "metadata": {},
   "outputs": [],
   "source": [
    "myfavorite = {\n",
    "    \"webtoon1\" : {\n",
    "        \"name\" : \"trap\",\n",
    "        \"publisher\" : \"naver\"\n",
    "    },\n",
    "    \"webtoon2\" : {\n",
    "        \"name\" : \"a man who can't taste\",\n",
    "        \"publisher\" : \"kakaogpage\"\n",
    "    },\n",
    "    \"webtoon3\" : {\n",
    "        \"name\" : \"secret lady\",\n",
    "        \"publisher\" : \"kakaopage\"\n",
    "    }\n",
    "}"
   ]
  },
  {
   "cell_type": "markdown",
   "id": "2863880a-1a1f-4063-a3ae-447da97abccb",
   "metadata": {},
   "source": [
    "# if else"
   ]
  },
  {
   "cell_type": "code",
   "execution_count": 5,
   "id": "16069802-ffa6-4d34-87ac-c3ea5a0d1593",
   "metadata": {},
   "outputs": [
    {
     "name": "stdout",
     "output_type": "stream",
     "text": [
      "=\n"
     ]
    }
   ],
   "source": [
    "# short hand if else\n",
    "a=330\n",
    "b=330\n",
    "print(\"A\") if a>b else print(\"=\") if a==b else print(\"B\")"
   ]
  },
  {
   "cell_type": "code",
   "execution_count": 8,
   "id": "41054e31-d0f3-4dbb-bbe0-988c6519ac52",
   "metadata": {},
   "outputs": [
    {
     "name": "stdout",
     "output_type": "stream",
     "text": [
      "Above ten,\n",
      "and also above 20\n"
     ]
    }
   ],
   "source": [
    "# nested if\n",
    "x=41\n",
    "if x>10:\n",
    "    print(\"Above ten,\")\n",
    "    if x>20:\n",
    "        print(\"and also above 20\")\n",
    "    else:\n",
    "        print(\"but not above 20\")"
   ]
  },
  {
   "cell_type": "code",
   "execution_count": 9,
   "id": "56d88c76-85f7-436a-be01-447ef4860af6",
   "metadata": {},
   "outputs": [],
   "source": [
    "# pass statement\n",
    "a=33\n",
    "b=200\n",
    "if b>a:\n",
    "    pass"
   ]
  },
  {
   "cell_type": "code",
   "execution_count": 10,
   "id": "49ea16a1-838c-425d-a8a9-e36a5a899604",
   "metadata": {},
   "outputs": [
    {
     "name": "stdout",
     "output_type": "stream",
     "text": [
      "Both conditions are True\n"
     ]
    }
   ],
   "source": [
    "# short hand if else : either keep one line or change the order\n",
    "a = 200\n",
    "b = 33\n",
    "c = 500\n",
    "if a > b and c > a: print(\"Both conditions are True\")"
   ]
  },
  {
   "cell_type": "markdown",
   "id": "15b4930f-2211-47ea-9132-a2be08b067f1",
   "metadata": {},
   "source": [
    "## for loop and while loop"
   ]
  },
  {
   "cell_type": "code",
   "execution_count": 11,
   "id": "de6ef140-03cc-4456-aed3-514cf1d25728",
   "metadata": {},
   "outputs": [
    {
     "name": "stdout",
     "output_type": "stream",
     "text": [
      "1\n",
      "2\n",
      "3\n",
      "4\n",
      "5\n"
     ]
    }
   ],
   "source": [
    "#+- is the addition assignment operator\n",
    "#https://careerkarma.com/blog/python-operator/\n",
    "i=1\n",
    "while i < 6:\n",
    "    print(i)\n",
    "    i += 1"
   ]
  },
  {
   "cell_type": "code",
   "execution_count": 13,
   "id": "13875268-8185-4701-b78f-1c0de31505ad",
   "metadata": {},
   "outputs": [
    {
     "name": "stdout",
     "output_type": "stream",
     "text": [
      "1\n",
      "2\n",
      "3\n",
      "4\n",
      "5\n"
     ]
    }
   ],
   "source": [
    "# take care of the location of print(i) (line & spacing)\n",
    "i=1\n",
    "while i < 6:\n",
    "    print(i)\n",
    "    if i==3:\n",
    "        break\n",
    "    i += 1"
   ]
  },
  {
   "cell_type": "code",
   "execution_count": 17,
   "id": "9eb45310-390e-4810-93c3-b9306c6583c5",
   "metadata": {},
   "outputs": [
    {
     "name": "stdout",
     "output_type": "stream",
     "text": [
      "2\n"
     ]
    }
   ],
   "source": [
    "i=1\n",
    "while i < 6:\n",
    "    i += 1\n",
    "    if i==3:\n",
    "        break\n",
    "    print(i)"
   ]
  },
  {
   "cell_type": "code",
   "execution_count": 19,
   "id": "dcf999b5-ec2a-48d8-8b77-431f96166108",
   "metadata": {},
   "outputs": [
    {
     "name": "stdout",
     "output_type": "stream",
     "text": [
      "2\n",
      "4\n",
      "5\n",
      "6\n"
     ]
    }
   ],
   "source": [
    "i=1\n",
    "while i < 6:\n",
    "    i += 1\n",
    "    if i == 3:\n",
    "        continue\n",
    "    print(i)"
   ]
  },
  {
   "cell_type": "code",
   "execution_count": 20,
   "id": "dfdf447d-2269-446b-beea-b496832354d9",
   "metadata": {},
   "outputs": [
    {
     "name": "stdout",
     "output_type": "stream",
     "text": [
      "1\n",
      "2\n",
      "3\n",
      "4\n",
      "5\n",
      "i is no longer less than 6\n"
     ]
    }
   ],
   "source": [
    "i=1\n",
    "while i < 6:\n",
    "    print(i)\n",
    "    i+=1\n",
    "else:\n",
    "    print(\"i is no longer less than 6\")"
   ]
  },
  {
   "cell_type": "code",
   "execution_count": 21,
   "id": "ee39ce05-f9da-4308-92cc-dba7b8b40fea",
   "metadata": {},
   "outputs": [
    {
     "name": "stdout",
     "output_type": "stream",
     "text": [
      "apple\n"
     ]
    }
   ],
   "source": [
    "# break for loop\n",
    "fruits = [\"apple\", \"banana\", \"cherry\"]\n",
    "for x in fruits:\n",
    "    if x == \"banana\":\n",
    "        break\n",
    "    print(x)"
   ]
  },
  {
   "cell_type": "code",
   "execution_count": 22,
   "id": "856fa139-67c5-4c88-8270-53fd0aa222b2",
   "metadata": {},
   "outputs": [
    {
     "name": "stdout",
     "output_type": "stream",
     "text": [
      "0\n",
      "1\n",
      "2\n",
      "3\n",
      "4\n",
      "5\n"
     ]
    }
   ],
   "source": [
    "# note that range(6) is not the value of 0 to 6, but the values 0 to 5\n",
    "for x in range(6):\n",
    "    print(x)"
   ]
  },
  {
   "cell_type": "code",
   "execution_count": 24,
   "id": "44d2346a-d077-4e06-9d39-15bd7d16776a",
   "metadata": {},
   "outputs": [
    {
     "name": "stdout",
     "output_type": "stream",
     "text": [
      "2\n",
      "3\n",
      "4\n",
      "5\n"
     ]
    }
   ],
   "source": [
    "for x in range(2,6):\n",
    "    print(x)"
   ]
  },
  {
   "cell_type": "code",
   "execution_count": 25,
   "id": "b9fce701-b854-466a-834a-cad57ca081ea",
   "metadata": {},
   "outputs": [
    {
     "name": "stdout",
     "output_type": "stream",
     "text": [
      "2\n",
      "5\n",
      "8\n",
      "11\n",
      "14\n",
      "17\n",
      "20\n",
      "23\n",
      "26\n",
      "29\n"
     ]
    }
   ],
   "source": [
    "for x in range(2,30,3):\n",
    "    print(x)"
   ]
  },
  {
   "cell_type": "code",
   "execution_count": 27,
   "id": "913970c8-247e-45d8-baca-60009f5047a8",
   "metadata": {},
   "outputs": [
    {
     "name": "stdout",
     "output_type": "stream",
     "text": [
      "0\n",
      "1\n",
      "2\n"
     ]
    }
   ],
   "source": [
    "# for else statement\n",
    "# BUT, the else block will not work if the loop is stopped by a break\n",
    "for x in range(6):\n",
    "    if x == 3: break\n",
    "    print(x)\n",
    "else:\n",
    "    print(\"Finally finished!\")"
   ]
  },
  {
   "cell_type": "code",
   "execution_count": 30,
   "id": "2b51fb7e-1891-4727-8e14-8ef47fb3c270",
   "metadata": {},
   "outputs": [
    {
     "name": "stdout",
     "output_type": "stream",
     "text": [
      "red apple\n",
      "red banana\n",
      "red cherry\n",
      "big apple\n",
      "big banana\n",
      "big cherry\n",
      "tasty apple\n",
      "tasty banana\n",
      "tasty cherry\n"
     ]
    }
   ],
   "source": [
    "# nested loop\n",
    "adj = [\"red\", \"big\", \"tasty\"]\n",
    "fruits = [\"apple\", \"banana\", \"cherry\"]\n",
    "for x in adj:\n",
    "    for y in fruits:\n",
    "        print(x,y)"
   ]
  },
  {
   "cell_type": "markdown",
   "id": "76e13262-4353-4773-b70a-b781c7680476",
   "metadata": {},
   "source": [
    "# function"
   ]
  },
  {
   "cell_type": "code",
   "execution_count": 31,
   "id": "c342f2d5-39ff-4e82-9d6a-6c80c1c26ef1",
   "metadata": {},
   "outputs": [
    {
     "name": "stdout",
     "output_type": "stream",
     "text": [
      "Hello\n"
     ]
    }
   ],
   "source": [
    "def my_function():\n",
    "    print(\"Hello\")\n",
    "my_function()"
   ]
  },
  {
   "cell_type": "code",
   "execution_count": 32,
   "id": "88a60e64-86b0-4a1f-a2a6-845177d81858",
   "metadata": {},
   "outputs": [
    {
     "name": "stdout",
     "output_type": "stream",
     "text": [
      "The youngest child isLinus\n"
     ]
    }
   ],
   "source": [
    "# arbitrary arguments, *args : when you do not know the number of arguments\n",
    "# This is for tuple arguments\n",
    "def my_function(*kids):\n",
    "    print(\"The youngest child is\" + kids[2])\n",
    "\n",
    "my_function(\"Email\",\"Tobias\",\"Linus\")"
   ]
  },
  {
   "cell_type": "code",
   "execution_count": 33,
   "id": "65ba28de-66cb-448e-a6bd-40543532a199",
   "metadata": {},
   "outputs": [
    {
     "name": "stdout",
     "output_type": "stream",
     "text": [
      "His last name isRefsns\n"
     ]
    }
   ],
   "source": [
    "# arbitrary arguments, **kwargs\n",
    "# This is for dictionary arguments\n",
    "def my_function(**kid):\n",
    "    print(\"His last name is\" + kid[\"lname\"])\n",
    "\n",
    "my_function(fname = \"Tobias\", lname = \"Refsns\")"
   ]
  },
  {
   "cell_type": "code",
   "execution_count": 36,
   "id": "6f88696a-1b49-4cfa-ae8a-a507fa76047c",
   "metadata": {},
   "outputs": [
    {
     "name": "stdout",
     "output_type": "stream",
     "text": [
      "I'm from Korea\n",
      "I'm from Brazil\n",
      "I'm from Norway\n"
     ]
    }
   ],
   "source": [
    "# default parameter\n",
    "def my_function(country = \"Norway\"):\n",
    "    print(\"I'm from \" + country)\n",
    "my_function(\"Korea\")\n",
    "my_function(\"Brazil\")\n",
    "my_function()"
   ]
  },
  {
   "cell_type": "code",
   "execution_count": 37,
   "id": "3067fcdb-b37e-4c3f-ad67-1f908f8b7c95",
   "metadata": {},
   "outputs": [
    {
     "name": "stdout",
     "output_type": "stream",
     "text": [
      "apple\n",
      "banana\n",
      "cherry\n"
     ]
    }
   ],
   "source": [
    "fruits = [\"apple\", \"banana\", \"cherry\"]\n",
    "def my_function(food):\n",
    "    for x in food:\n",
    "        print(x)\n",
    "my_function(fruits)"
   ]
  },
  {
   "cell_type": "markdown",
   "id": "a5d2ff25-9d00-4b18-aa8f-8a5a803452b9",
   "metadata": {},
   "source": [
    "### Recursion"
   ]
  },
  {
   "cell_type": "code",
   "execution_count": 41,
   "id": "a956ebc9-ff46-4f8a-ab2d-df3eb751c07c",
   "metadata": {},
   "outputs": [
    {
     "name": "stdout",
     "output_type": "stream",
     "text": [
      "1\n",
      "3\n",
      "6\n",
      "10\n",
      "15\n",
      "21\n"
     ]
    },
    {
     "data": {
      "text/plain": [
       "21"
      ]
     },
     "execution_count": 41,
     "metadata": {},
     "output_type": "execute_result"
    }
   ],
   "source": [
    "# recursion means that a function calls itself : why o for tri_recursion(0) is not shown up??\n",
    "def tri_recursion(k):\n",
    "    if(k>0):\n",
    "        result=k+tri_recursion(k-1)\n",
    "        print(result)\n",
    "    else:\n",
    "        result=0\n",
    "    return result\n",
    "\n",
    "tri_recursion(6)"
   ]
  },
  {
   "cell_type": "markdown",
   "id": "e53c0fd8-5859-437b-984a-6ce4bcea10c6",
   "metadata": {},
   "source": [
    "# lambda"
   ]
  },
  {
   "cell_type": "code",
   "execution_count": 44,
   "id": "985e983b-d9d3-4ac5-a612-05b0b738fc2b",
   "metadata": {},
   "outputs": [
    {
     "name": "stdout",
     "output_type": "stream",
     "text": [
      "15\n"
     ]
    }
   ],
   "source": [
    "x = lambda a : a + 10\n",
    "x(5)"
   ]
  },
  {
   "cell_type": "code",
   "execution_count": 45,
   "id": "a5c2dcf8-d4b5-4df4-a253-05c3447a4ea2",
   "metadata": {},
   "outputs": [
    {
     "data": {
      "text/plain": [
       "30"
      ]
     },
     "execution_count": 45,
     "metadata": {},
     "output_type": "execute_result"
    }
   ],
   "source": [
    "y = lambda a,b : a*b\n",
    "y(5,6)"
   ]
  },
  {
   "cell_type": "code",
   "execution_count": 48,
   "id": "c03d78a9-9ee9-4695-b838-708d23129147",
   "metadata": {},
   "outputs": [
    {
     "data": {
      "text/plain": [
       "22"
      ]
     },
     "execution_count": 48,
     "metadata": {},
     "output_type": "execute_result"
    }
   ],
   "source": [
    "# lambda is for inner function => double function!!\n",
    "def myfunc(n):\n",
    "    return lambda a : a * n\n",
    "mydoubler = myfunc(2)\n",
    "mydoubler(11) # make a function that always doubles input"
   ]
  },
  {
   "cell_type": "code",
   "execution_count": 53,
   "id": "0d9e5943-b9fc-433b-8ab8-0e85e2937013",
   "metadata": {},
   "outputs": [
    {
     "data": {
      "text/plain": [
       "33"
      ]
     },
     "execution_count": 53,
     "metadata": {},
     "output_type": "execute_result"
    }
   ],
   "source": [
    "mytripler = myfunc(3)\n",
    "mytripler(11)"
   ]
  },
  {
   "cell_type": "code",
   "execution_count": 51,
   "id": "c4c69558-adbe-4be2-ab0c-cd5f50bf7b23",
   "metadata": {},
   "outputs": [
    {
     "name": "stdout",
     "output_type": "stream",
     "text": [
      "22\n",
      "33\n"
     ]
    }
   ],
   "source": [
    "def myfunc(n):\n",
    "  return lambda a : a * n\n",
    "\n",
    "mydoubler = myfunc(2)\n",
    "mytripler = myfunc(3)\n",
    "\n",
    "print(mydoubler(11))\n",
    "print(mytripler(11))"
   ]
  },
  {
   "cell_type": "markdown",
   "id": "8f279324-2417-418b-b61d-f658bdc7ce8b",
   "metadata": {},
   "source": [
    "# Python arrays"
   ]
  },
  {
   "cell_type": "code",
   "execution_count": null,
   "id": "df0548c6-5b49-44c6-ab25-52a409e567cd",
   "metadata": {},
   "outputs": [],
   "source": [
    "# python does not have built-in support for arrays\n",
    "# how to use lists as arrays\n",
    "# if you want to use arrays directly, import numpy\n",
    "# array : spcial variable which can hold more than one value at a time. common in R"
   ]
  },
  {
   "cell_type": "markdown",
   "id": "385acba0-c916-4e75-943f-75ed1276880b",
   "metadata": {},
   "source": [
    "# Python class"
   ]
  },
  {
   "cell_type": "code",
   "execution_count": 56,
   "id": "c40a5420-22ac-4ab3-882c-196dc1b19cc7",
   "metadata": {},
   "outputs": [
    {
     "name": "stdout",
     "output_type": "stream",
     "text": [
      "5\n"
     ]
    }
   ],
   "source": [
    "class MyClass:\n",
    "    x = 5\n",
    "p1 = MyClass()\n",
    "print(p1.x)"
   ]
  },
  {
   "cell_type": "code",
   "execution_count": 57,
   "id": "4607e263-792e-421b-b47d-57424c8be3af",
   "metadata": {},
   "outputs": [
    {
     "name": "stdout",
     "output_type": "stream",
     "text": [
      "John\n",
      "46\n"
     ]
    }
   ],
   "source": [
    "# __init__() : things always initiated with all class\n",
    "class Person:\n",
    "    def __init__(self, name, age):\n",
    "        self.name = name\n",
    "        self.age = age\n",
    "p1 = Person(\"John\",46)\n",
    "print(p1.name)\n",
    "print(p1.age)"
   ]
  },
  {
   "cell_type": "code",
   "execution_count": 60,
   "id": "59f7c0d1-d8ec-4cd3-97ac-97b40fbd1f2f",
   "metadata": {},
   "outputs": [
    {
     "name": "stdout",
     "output_type": "stream",
     "text": [
      "John(36)\n"
     ]
    }
   ],
   "source": [
    "# __str__() : string initiating function\n",
    "class Person:\n",
    "    def __init__(self, name, age):\n",
    "        self.name = name\n",
    "        self.age = age\n",
    "    def __str__(self):\n",
    "        return f\"{self.name}({self.age})\"\n",
    "\n",
    "p1 = Person(\"John\", 36)\n",
    "\n",
    "print(p1)"
   ]
  },
  {
   "cell_type": "code",
   "execution_count": 62,
   "id": "424541a6-5c7c-4a29-94e1-34a70a2aa957",
   "metadata": {},
   "outputs": [
    {
     "name": "stdout",
     "output_type": "stream",
     "text": [
      "His name is John\n"
     ]
    }
   ],
   "source": [
    "# Object methods\n",
    "class Person:\n",
    "    def __init__(self, name, age):\n",
    "        self.name = name\n",
    "        self.age = age\n",
    "    def myfunc(self):\n",
    "        print(\"His name is \" + self.name) \n",
    "\n",
    "p1 = Person(\"John\", 36)\n",
    "p1.myfunc()"
   ]
  },
  {
   "cell_type": "code",
   "execution_count": 63,
   "id": "9cf220c9-efc1-46ba-9b7a-f4da50302b7c",
   "metadata": {},
   "outputs": [
    {
     "name": "stdout",
     "output_type": "stream",
     "text": [
      "Hello my name is John\n"
     ]
    }
   ],
   "source": [
    "class Person:\n",
    "    def __init__(mysillyobject, name, age):\n",
    "        mysillyobject.name = name\n",
    "        mysillyobject.age = age\n",
    "    def myfunc(abc):\n",
    "        print(\"Hello my name is \" + abc.name)\n",
    "\n",
    "p1 = Person(\"John\", 36)\n",
    "p1.myfunc()"
   ]
  },
  {
   "cell_type": "code",
   "execution_count": 64,
   "id": "0d0b893c-2133-40fd-b5df-f37b49aa23cd",
   "metadata": {},
   "outputs": [],
   "source": [
    "# modify object properties\n",
    "p1.age = 40"
   ]
  },
  {
   "cell_type": "code",
   "execution_count": 65,
   "id": "9aacb382-69a3-4fa8-9461-f2e855ac85e9",
   "metadata": {},
   "outputs": [],
   "source": [
    "# delete object properties\n",
    "del p1.age"
   ]
  },
  {
   "cell_type": "code",
   "execution_count": 66,
   "id": "7b503b01-bcae-447e-9b84-d4ef84dec17f",
   "metadata": {},
   "outputs": [],
   "source": [
    "# delete object\n",
    "del p1"
   ]
  },
  {
   "cell_type": "markdown",
   "id": "8fad566a-291b-4021-8b41-dbcbf984b0f0",
   "metadata": {},
   "source": [
    "# Python Inheritance"
   ]
  },
  {
   "cell_type": "code",
   "execution_count": 69,
   "id": "f8527beb-e029-4297-8360-63067f149f1e",
   "metadata": {},
   "outputs": [
    {
     "name": "stdout",
     "output_type": "stream",
     "text": [
      "John Doe\n"
     ]
    }
   ],
   "source": [
    "# parent class is the class being inherited from, base class, and child class is derived class.\n",
    "class Person:\n",
    "    def __init__(self, fname, lname):\n",
    "        self.firstname = fname\n",
    "        self.lastname = lname\n",
    "\n",
    "    def printname(self):\n",
    "        print(self.firstname, self.lastname)\n",
    "\n",
    "#Use the Person class to create an object, and then execute the printname method:\n",
    "x = Person(\"John\", \"Doe\")\n",
    "x.printname()"
   ]
  },
  {
   "cell_type": "code",
   "execution_count": null,
   "id": "0476d6e2-d6e3-4577-838d-e8eaf5c2366f",
   "metadata": {},
   "outputs": [],
   "source": [
    "#The child's __init__() function overrides the inheritance of the parent's __init__() function.\n",
    "class Student(Person):\n",
    "    def __init__(self, fname, lname):\n",
    "        Person.__init__(self, fname, lname)"
   ]
  },
  {
   "cell_type": "code",
   "execution_count": 79,
   "id": "fc2db127-66d1-43e4-bf78-5008f33a1775",
   "metadata": {},
   "outputs": [
    {
     "data": {
      "text/plain": [
       "<__main__.Student at 0x7fd3188bd730>"
      ]
     },
     "execution_count": 79,
     "metadata": {},
     "output_type": "execute_result"
    }
   ],
   "source": [
    "# super() function will make child class inherit all parent class properties\n",
    "# class 새로운 클래스 이름(부모 클래스 이름)\n",
    "class Student(Person):\n",
    "    def __init__(self, fname, lname):\n",
    "        super().__init__(fname, lname)\n",
    "x = Student(\"Mike\",\"Olsen\")\n",
    "x*"
   ]
  },
  {
   "cell_type": "code",
   "execution_count": 74,
   "id": "c582b83e-7593-412c-804b-80382499f6f4",
   "metadata": {},
   "outputs": [
    {
     "name": "stdout",
     "output_type": "stream",
     "text": [
      "2019\n"
     ]
    }
   ],
   "source": [
    "# add property\n",
    "class Student(Person):\n",
    "    def __init__(self, fname, lname):\n",
    "        super().__init__(fname, lname)\n",
    "        self.graduationyear = 2019\n",
    "x = Student(\"Mike\",\"Olsen\")\n",
    "print(x.graduationyear)"
   ]
  },
  {
   "cell_type": "markdown",
   "id": "858f39f3-bae0-4f15-961d-fc952a2298d7",
   "metadata": {},
   "source": [
    "# Python Iterators"
   ]
  },
  {
   "cell_type": "code",
   "execution_count": 83,
   "id": "4c7937a8-000d-4011-a15a-deade5142a9a",
   "metadata": {},
   "outputs": [
    {
     "data": {
      "text/plain": [
       "'banana'"
      ]
     },
     "execution_count": 83,
     "metadata": {},
     "output_type": "execute_result"
    }
   ],
   "source": [
    "mytuple = (\"apple\",\"banana\",\"cherry\")\n",
    "myit = iter(mytuple)\n",
    "next(myit)\n",
    "next(myit)\n",
    "next(myit)"
   ]
  },
  {
   "cell_type": "code",
   "execution_count": 86,
   "id": "84ba5058-f390-4c87-9bf7-93025fd39492",
   "metadata": {},
   "outputs": [
    {
     "data": {
      "text/plain": [
       "'a'"
      ]
     },
     "execution_count": 86,
     "metadata": {},
     "output_type": "execute_result"
    }
   ],
   "source": [
    "mystr = \"banana\"\n",
    "myit = iter(mystr)\n",
    "next(myit)\n",
    "next(myit)"
   ]
  },
  {
   "cell_type": "code",
   "execution_count": 88,
   "id": "9d06141a-7fa8-434d-b362-e39452e1a154",
   "metadata": {},
   "outputs": [
    {
     "data": {
      "text/plain": [
       "2"
      ]
     },
     "execution_count": 88,
     "metadata": {},
     "output_type": "execute_result"
    }
   ],
   "source": [
    "# So hard to understand iteration and next class! What they are for?\n",
    "class Mynumbers:\n",
    "    def __iter__(self):\n",
    "        self.a = 1\n",
    "        return self\n",
    "    def __next__(self):\n",
    "        x = self.a\n",
    "        self.a += 1\n",
    "        return x\n",
    "myiter = iter(Mynumbers())\n",
    "next(myiter)\n",
    "next(myiter)"
   ]
  },
  {
   "cell_type": "code",
   "execution_count": 90,
   "id": "2133c57b-afce-4eae-9969-c13798398cc9",
   "metadata": {},
   "outputs": [
    {
     "name": "stdout",
     "output_type": "stream",
     "text": [
      "1\n",
      "2\n",
      "3\n",
      "4\n",
      "5\n",
      "6\n",
      "7\n",
      "8\n",
      "9\n",
      "10\n",
      "11\n",
      "12\n",
      "13\n",
      "14\n",
      "15\n",
      "16\n",
      "17\n",
      "18\n",
      "19\n",
      "20\n"
     ]
    }
   ],
   "source": [
    "# stop iteration\n",
    "class MyNumbers:\n",
    "    def __iter__(self):\n",
    "        self.a = 1\n",
    "        return self\n",
    "    def __next__(self):\n",
    "        if self.a <= 20:\n",
    "            x = self.a\n",
    "            self.a += 1\n",
    "            return x\n",
    "        else:\n",
    "            raise StopIteration\n",
    "\n",
    "myclass = MyNumbers()\n",
    "myiter = iter(myclass)\n",
    "\n",
    "for x in myiter:\n",
    "    print(x)"
   ]
  },
  {
   "cell_type": "markdown",
   "id": "902938d4-14c5-4961-bea9-1d22b0a73c0e",
   "metadata": {},
   "source": [
    "# local and global scope"
   ]
  },
  {
   "cell_type": "code",
   "execution_count": 95,
   "id": "7b7106b4-9781-412b-9e60-b1b7dd5eae08",
   "metadata": {},
   "outputs": [
    {
     "name": "stdout",
     "output_type": "stream",
     "text": [
      "innerfunction result 300\n"
     ]
    }
   ],
   "source": [
    "# function insdie funciton\n",
    "def myfunc():\n",
    "    x = 300\n",
    "    def myinnerfunc():\n",
    "        print(\"innerfunction result\", x)\n",
    "    myinnerfunc()\n",
    "\n",
    "myfunc()"
   ]
  },
  {
   "cell_type": "code",
   "execution_count": 98,
   "id": "a1a39f5e-bb99-4bb7-8dee-1c817fcd131b",
   "metadata": {},
   "outputs": [
    {
     "name": "stdout",
     "output_type": "stream",
     "text": [
      "300\n",
      "300\n"
     ]
    }
   ],
   "source": [
    "# global scope\n",
    "x = 300\n",
    "def myfunc():\n",
    "    print(x)\n",
    "myfunc()\n",
    "print(x)"
   ]
  },
  {
   "cell_type": "code",
   "execution_count": 101,
   "id": "e0c5cf53-d658-4b54-9a00-8056f0f062b7",
   "metadata": {},
   "outputs": [
    {
     "name": "stdout",
     "output_type": "stream",
     "text": [
      "myfunc() result: None\n",
      "bare x: 300\n"
     ]
    }
   ],
   "source": [
    "# global key\n",
    "def myfunc():\n",
    "    global x\n",
    "    x=300\n",
    "print(\"myfunc() result:\", myfunc())\n",
    "print(\"bare x:\", x)"
   ]
  },
  {
   "cell_type": "code",
   "execution_count": 104,
   "id": "8914b97f-64c4-4497-9d6e-97861e9dbe1b",
   "metadata": {},
   "outputs": [
    {
     "name": "stdout",
     "output_type": "stream",
     "text": [
      "None\n"
     ]
    },
    {
     "data": {
      "text/plain": [
       "200"
      ]
     },
     "execution_count": 104,
     "metadata": {},
     "output_type": "execute_result"
    }
   ],
   "source": [
    "# global keyword is the best\n",
    "\n",
    "x = 300\n",
    "def myfunc():\n",
    "    global x\n",
    "    x = 200\n",
    "print(myfunc())\n",
    "x"
   ]
  },
  {
   "cell_type": "markdown",
   "id": "0082f567-1841-454e-9f72-c42c864545b1",
   "metadata": {},
   "source": [
    "# Python Module"
   ]
  },
  {
   "cell_type": "code",
   "execution_count": null,
   "id": "8c9a74ff-8f71-497b-be0f-26bb9e139dc0",
   "metadata": {},
   "outputs": [],
   "source": [
    "# module is the same as a code library\n",
    "# a file containing a set of functions"
   ]
  },
  {
   "cell_type": "code",
   "execution_count": 106,
   "id": "52e92192-8a6b-4afd-b5c8-c36cac055c9a",
   "metadata": {},
   "outputs": [
    {
     "ename": "ModuleNotFoundError",
     "evalue": "No module named 'mymodule'",
     "output_type": "error",
     "traceback": [
      "\u001b[0;31m---------------------------------------------------------------------------\u001b[0m",
      "\u001b[0;31mModuleNotFoundError\u001b[0m                       Traceback (most recent call last)",
      "\u001b[0;32m/var/folders/0m/966_8tjn5pddy9gxt6rqdwh00000gn/T/ipykernel_10306/1923833646.py\u001b[0m in \u001b[0;36m<module>\u001b[0;34m\u001b[0m\n\u001b[1;32m      4\u001b[0m \u001b[0;34m\u001b[0m\u001b[0m\n\u001b[1;32m      5\u001b[0m \u001b[0;31m# import statement\u001b[0m\u001b[0;34m\u001b[0m\u001b[0;34m\u001b[0m\u001b[0m\n\u001b[0;32m----> 6\u001b[0;31m \u001b[0;32mimport\u001b[0m \u001b[0mmymodule\u001b[0m\u001b[0;34m\u001b[0m\u001b[0;34m\u001b[0m\u001b[0m\n\u001b[0m\u001b[1;32m      7\u001b[0m \u001b[0mmymodule\u001b[0m\u001b[0;34m.\u001b[0m\u001b[0mgreeting\u001b[0m\u001b[0;34m(\u001b[0m\u001b[0;34m\"John\"\u001b[0m\u001b[0;34m)\u001b[0m\u001b[0;34m\u001b[0m\u001b[0;34m\u001b[0m\u001b[0m\n",
      "\u001b[0;31mModuleNotFoundError\u001b[0m: No module named 'mymodule'"
     ]
    }
   ],
   "source": [
    "# save the code in a file name mymodule.py\n",
    "def greeting(name):\n",
    "    print(\"Hello\" + name)\n",
    "    \n",
    "# import statement\n",
    "import mymodule\n",
    "mymodule.greeting(\"John\")"
   ]
  },
  {
   "cell_type": "code",
   "execution_count": null,
   "id": "7833137a-bfdf-4734-b96f-74b82a48af69",
   "metadata": {},
   "outputs": [],
   "source": [
    "# save the code in a file name mymodule.dict.py\n",
    "person1 = {\n",
    "    \"name\": \"John\",\n",
    "    \"age\" : 46,\n",
    "    \"country\": \"Norway\"\n",
    "}\n",
    "\n",
    "import mymodule.dict\n",
    "a = mymodule.person1[\"age\"]\n",
    "\n",
    "# the result should be 46"
   ]
  },
  {
   "cell_type": "code",
   "execution_count": 109,
   "id": "fa6f2992-caa3-4309-97dd-6630664b36e2",
   "metadata": {},
   "outputs": [
    {
     "data": {
      "text/plain": [
       "['_Processor',\n",
       " '_WIN32_CLIENT_RELEASES',\n",
       " '_WIN32_SERVER_RELEASES',\n",
       " '__builtins__',\n",
       " '__cached__',\n",
       " '__copyright__',\n",
       " '__doc__',\n",
       " '__file__',\n",
       " '__loader__',\n",
       " '__name__',\n",
       " '__package__',\n",
       " '__spec__',\n",
       " '__version__',\n",
       " '_comparable_version',\n",
       " '_component_re',\n",
       " '_default_architecture',\n",
       " '_follow_symlinks',\n",
       " '_get_machine_win32',\n",
       " '_ironpython26_sys_version_parser',\n",
       " '_ironpython_sys_version_parser',\n",
       " '_java_getprop',\n",
       " '_libc_search',\n",
       " '_mac_ver_xml',\n",
       " '_node',\n",
       " '_norm_version',\n",
       " '_platform',\n",
       " '_platform_cache',\n",
       " '_pypy_sys_version_parser',\n",
       " '_sys_version',\n",
       " '_sys_version_cache',\n",
       " '_sys_version_parser',\n",
       " '_syscmd_file',\n",
       " '_syscmd_ver',\n",
       " '_uname_cache',\n",
       " '_unknown_as_blank',\n",
       " '_ver_output',\n",
       " '_ver_stages',\n",
       " 'architecture',\n",
       " 'collections',\n",
       " 'functools',\n",
       " 'itertools',\n",
       " 'java_ver',\n",
       " 'libc_ver',\n",
       " 'mac_ver',\n",
       " 'machine',\n",
       " 'node',\n",
       " 'os',\n",
       " 'platform',\n",
       " 'processor',\n",
       " 'python_branch',\n",
       " 'python_build',\n",
       " 'python_compiler',\n",
       " 'python_implementation',\n",
       " 'python_revision',\n",
       " 'python_version',\n",
       " 'python_version_tuple',\n",
       " 're',\n",
       " 'release',\n",
       " 'subprocess',\n",
       " 'sys',\n",
       " 'system',\n",
       " 'system_alias',\n",
       " 'uname',\n",
       " 'uname_result',\n",
       " 'version',\n",
       " 'win32_edition',\n",
       " 'win32_is_iot',\n",
       " 'win32_ver']"
      ]
     },
     "execution_count": 109,
     "metadata": {},
     "output_type": "execute_result"
    }
   ],
   "source": [
    "# built-in modules\n",
    "import platform\n",
    "x=platform.system()\n",
    "x\n",
    "y=dir(platform)\n",
    "y"
   ]
  },
  {
   "cell_type": "code",
   "execution_count": null,
   "id": "00347f74-e1ab-40df-8bb5-b9ea6d5adf5b",
   "metadata": {},
   "outputs": [],
   "source": [
    "# create mymodule with one function and one dictionary\n",
    "def greeting(name):\n",
    "  print(\"Hello, \" + name)\n",
    "\n",
    "person1 = {\n",
    "  \"name\": \"John\",\n",
    "  \"age\": 36,\n",
    "  \"country\": \"Norway\"\n",
    "}"
   ]
  },
  {
   "cell_type": "code",
   "execution_count": null,
   "id": "2c31ec6b-8d9d-4f56-b956-cd60f46aaf05",
   "metadata": {},
   "outputs": [],
   "source": [
    "# just retreive dictionary from the module\n",
    "from mymodule import person1\n",
    "print (person1[\"age\"])"
   ]
  },
  {
   "cell_type": "markdown",
   "id": "a15ab27a-b0e5-4b27-a6a5-32ee0345e7da",
   "metadata": {},
   "source": [
    "# Python Datetime"
   ]
  },
  {
   "cell_type": "code",
   "execution_count": 116,
   "id": "3755d421-c51e-4b25-b58e-c1e61e289426",
   "metadata": {},
   "outputs": [],
   "source": [
    "import datetime as datetime"
   ]
  },
  {
   "cell_type": "code",
   "execution_count": 117,
   "id": "a30287f0-de39-4459-ba09-cfe7569d5eab",
   "metadata": {},
   "outputs": [
    {
     "data": {
      "text/plain": [
       "datetime.datetime(2023, 1, 8, 17, 3, 40, 138273)"
      ]
     },
     "execution_count": 117,
     "metadata": {},
     "output_type": "execute_result"
    }
   ],
   "source": [
    "x = datetime.datetime.now()\n",
    "x"
   ]
  },
  {
   "cell_type": "code",
   "execution_count": 118,
   "id": "0d8bf40e-8368-420a-aa24-98355fe96154",
   "metadata": {},
   "outputs": [
    {
     "name": "stdout",
     "output_type": "stream",
     "text": [
      "2023\n",
      "Sunday\n"
     ]
    }
   ],
   "source": [
    "print(x.year)\n",
    "print(x.strftime(\"%A\"))"
   ]
  },
  {
   "cell_type": "code",
   "execution_count": 120,
   "id": "db98ac36-bf14-4781-b395-a7c10e9a83d6",
   "metadata": {},
   "outputs": [
    {
     "name": "stdout",
     "output_type": "stream",
     "text": [
      "year: 2023\n",
      "month: 01\n",
      "day: 08\n",
      "time: 17:04:04\n",
      "date and time: 01/08/2023, 17:04:04\n"
     ]
    }
   ],
   "source": [
    "now = datetime.datetime.now() # current date and time\n",
    "\n",
    "year = now.strftime(\"%Y\")\n",
    "print(\"year:\", year)\n",
    "\n",
    "month = now.strftime(\"%m\")\n",
    "print(\"month:\", month)\n",
    "\n",
    "day = now.strftime(\"%d\")\n",
    "print(\"day:\", day)\n",
    "\n",
    "time = now.strftime(\"%H:%M:%S\")\n",
    "print(\"time:\", time)\n",
    "\n",
    "date_time = now.strftime(\"%m/%d/%Y, %H:%M:%S\")\n",
    "print(\"date and time:\",date_time)\t"
   ]
  },
  {
   "cell_type": "code",
   "execution_count": 121,
   "id": "03bff001-c57a-4c90-985c-1d8f2fd63c0e",
   "metadata": {},
   "outputs": [
    {
     "data": {
      "text/plain": [
       "datetime.datetime(2020, 12, 25, 0, 0)"
      ]
     },
     "execution_count": 121,
     "metadata": {},
     "output_type": "execute_result"
    }
   ],
   "source": [
    "newx = datetime.datetime(2020,12,25)\n",
    "newx"
   ]
  },
  {
   "cell_type": "code",
   "execution_count": 123,
   "id": "fdd0860e-5120-4c77-a90c-a0a4a1a21037",
   "metadata": {},
   "outputs": [
    {
     "data": {
      "text/plain": [
       "'December'"
      ]
     },
     "execution_count": 123,
     "metadata": {},
     "output_type": "execute_result"
    }
   ],
   "source": [
    "newx.strftime(\"%B\")"
   ]
  },
  {
   "cell_type": "markdown",
   "id": "73a341e1-db40-4e78-9784-32d011f06f2b",
   "metadata": {},
   "source": [
    "# Built-in Math Functions"
   ]
  },
  {
   "cell_type": "code",
   "execution_count": 124,
   "id": "738162a6-a3e0-4ab8-ad41-83474898058e",
   "metadata": {},
   "outputs": [
    {
     "name": "stdout",
     "output_type": "stream",
     "text": [
      "5 25\n"
     ]
    }
   ],
   "source": [
    "x = min(5,10,25)\n",
    "y = max(5,10,25)\n",
    "print(x,y)"
   ]
  },
  {
   "cell_type": "code",
   "execution_count": 125,
   "id": "0f5ffc98-e196-40c9-8e3c-785b416f7ca8",
   "metadata": {},
   "outputs": [
    {
     "data": {
      "text/plain": [
       "13.2"
      ]
     },
     "execution_count": 125,
     "metadata": {},
     "output_type": "execute_result"
    }
   ],
   "source": [
    "x = abs(-13.2)\n",
    "x"
   ]
  },
  {
   "cell_type": "code",
   "execution_count": 127,
   "id": "1079f590-c998-4859-83ce-7e1e77098aad",
   "metadata": {},
   "outputs": [
    {
     "data": {
      "text/plain": [
       "8"
      ]
     },
     "execution_count": 127,
     "metadata": {},
     "output_type": "execute_result"
    }
   ],
   "source": [
    "x = pow(2,3)\n",
    "x"
   ]
  },
  {
   "cell_type": "code",
   "execution_count": 128,
   "id": "930df2f4-6621-47e5-bb2e-c338508a7497",
   "metadata": {},
   "outputs": [
    {
     "data": {
      "text/plain": [
       "8.0"
      ]
     },
     "execution_count": 128,
     "metadata": {},
     "output_type": "execute_result"
    }
   ],
   "source": [
    "import math\n",
    "math.sqrt(64)"
   ]
  },
  {
   "cell_type": "code",
   "execution_count": 131,
   "id": "737341d6-596b-4422-85a0-ab4d24e49240",
   "metadata": {},
   "outputs": [
    {
     "data": {
      "text/plain": [
       "1"
      ]
     },
     "execution_count": 131,
     "metadata": {},
     "output_type": "execute_result"
    }
   ],
   "source": [
    "math.ceil(1.4) #rounds upwards to its nearest integer (올림)\n",
    "math.floor(1.4) #rounds downwards to its nearest integer (내림)"
   ]
  },
  {
   "cell_type": "markdown",
   "id": "98ad7a3e-4a64-402a-8408-20a51d65ea3c",
   "metadata": {},
   "source": [
    "# Parse JSON"
   ]
  },
  {
   "cell_type": "code",
   "execution_count": 132,
   "id": "f7827ca1-666d-4553-bfcf-1a058e404492",
   "metadata": {},
   "outputs": [
    {
     "name": "stdout",
     "output_type": "stream",
     "text": [
      "30\n"
     ]
    }
   ],
   "source": [
    "# load json : json.loads()\n",
    "import json\n",
    "\n",
    "# some JSON:\n",
    "x =  '{ \"name\":\"John\", \"age\":30, \"city\":\"New York\"}'\n",
    "\n",
    "# parse x:\n",
    "y = json.loads(x)\n",
    "\n",
    "# the result is a Python dictionary:\n",
    "print(y[\"age\"])"
   ]
  },
  {
   "cell_type": "code",
   "execution_count": 133,
   "id": "44d5d921-bde2-47b7-bb1e-27109663acb1",
   "metadata": {},
   "outputs": [
    {
     "name": "stdout",
     "output_type": "stream",
     "text": [
      "{\"name\": \"John\", \"age\": 30, \"city\": \"New York\"}\n"
     ]
    }
   ],
   "source": [
    "# convert python to json : json.dumps()\n",
    "# convert many types like dict, list, tuple, string, int, float, True, None..\n",
    "\n",
    "# a Python object (dict):\n",
    "x = {\n",
    "  \"name\": \"John\",\n",
    "  \"age\": 30,\n",
    "  \"city\": \"New York\"\n",
    "}\n",
    "\n",
    "# convert into JSON:\n",
    "y = json.dumps(x)\n",
    "\n",
    "# the result is a JSON string:\n",
    "print(y)"
   ]
  },
  {
   "cell_type": "code",
   "execution_count": 134,
   "id": "45f23289-4f18-4601-bb96-ba2d921a7461",
   "metadata": {},
   "outputs": [],
   "source": [
    "x = {\n",
    "  \"name\": \"John\",\n",
    "  \"age\": 30,\n",
    "  \"married\": True,\n",
    "  \"divorced\": False,\n",
    "  \"children\": (\"Ann\",\"Billy\"),\n",
    "  \"pets\": None,\n",
    "  \"cars\": [\n",
    "    {\"model\": \"BMW 230\", \"mpg\": 27.5},\n",
    "    {\"model\": \"Ford Edge\", \"mpg\": 24.1}\n",
    "  ]\n",
    "}"
   ]
  },
  {
   "cell_type": "code",
   "execution_count": 135,
   "id": "9c1cbcb0-3aa2-4fe4-8021-a99ee4908a2a",
   "metadata": {},
   "outputs": [
    {
     "data": {
      "text/plain": [
       "'{\\n    \"name\": \"John\",\\n    \"age\": 30,\\n    \"married\": true,\\n    \"divorced\": false,\\n    \"children\": [\\n        \"Ann\",\\n        \"Billy\"\\n    ],\\n    \"pets\": null,\\n    \"cars\": [\\n        {\\n            \"model\": \"BMW 230\",\\n            \"mpg\": 27.5\\n        },\\n        {\\n            \"model\": \"Ford Edge\",\\n            \"mpg\": 24.1\\n        }\\n    ]\\n}'"
      ]
     },
     "execution_count": 135,
     "metadata": {},
     "output_type": "execute_result"
    }
   ],
   "source": [
    "# indent parameter to define #of indents(specifies the spaces that are used at the beginning of a line)\n",
    "json.dumps(x, indent=4)"
   ]
  },
  {
   "cell_type": "code",
   "execution_count": 136,
   "id": "b9f59411-bd9c-4b48-8207-3539e776fe22",
   "metadata": {},
   "outputs": [
    {
     "data": {
      "text/plain": [
       "'{\\n    \"name\" = \"John\". \\n    \"age\" = 30. \\n    \"married\" = true. \\n    \"divorced\" = false. \\n    \"children\" = [\\n        \"Ann\". \\n        \"Billy\"\\n    ]. \\n    \"pets\" = null. \\n    \"cars\" = [\\n        {\\n            \"model\" = \"BMW 230\". \\n            \"mpg\" = 27.5\\n        }. \\n        {\\n            \"model\" = \"Ford Edge\". \\n            \"mpg\" = 24.1\\n        }\\n    ]\\n}'"
      ]
     },
     "execution_count": 136,
     "metadata": {},
     "output_type": "execute_result"
    }
   ],
   "source": [
    "json.dumps(x, indent=4, separators=(\". \", \" = \"))"
   ]
  },
  {
   "cell_type": "code",
   "execution_count": 137,
   "id": "12950478-221d-474b-a660-68d530f3a7ca",
   "metadata": {},
   "outputs": [
    {
     "data": {
      "text/plain": [
       "'{\\n    \"age\": 30,\\n    \"cars\": [\\n        {\\n            \"model\": \"BMW 230\",\\n            \"mpg\": 27.5\\n        },\\n        {\\n            \"model\": \"Ford Edge\",\\n            \"mpg\": 24.1\\n        }\\n    ],\\n    \"children\": [\\n        \"Ann\",\\n        \"Billy\"\\n    ],\\n    \"divorced\": false,\\n    \"married\": true,\\n    \"name\": \"John\",\\n    \"pets\": null\\n}'"
      ]
     },
     "execution_count": 137,
     "metadata": {},
     "output_type": "execute_result"
    }
   ],
   "source": [
    "json.dumps(x, indent=4, sort_keys=True)"
   ]
  },
  {
   "cell_type": "markdown",
   "id": "b5494932-ec45-4e0f-94ea-689d9bdec34b",
   "metadata": {},
   "source": [
    "# Python RegEx Module"
   ]
  },
  {
   "cell_type": "code",
   "execution_count": 140,
   "id": "21976eb9-d4b7-4db8-8ed2-c5f6cdc2c834",
   "metadata": {},
   "outputs": [
    {
     "data": {
      "text/plain": [
       "<re.Match object; span=(0, 17), match='The rain in Spain'>"
      ]
     },
     "execution_count": 140,
     "metadata": {},
     "output_type": "execute_result"
    }
   ],
   "source": [
    "# Check if the string starts with \"The\" and ends with \"Spain\":\n",
    "# findall, search, split, sub..\n",
    "# https://www.w3schools.com/python/python_regex.asp\n",
    "import re\n",
    "txt = \"The rain in Spain\"\n",
    "x = re.search(\"^The.*Spain$\", txt)\n",
    "\n",
    "if x:\n",
    "  print(\"YES! We have a match!\")\n",
    "else:\n",
    "  print(\"No match\")"
   ]
  },
  {
   "cell_type": "code",
   "execution_count": 141,
   "id": "90bedc64-29a1-459a-8edb-259d7548dcd9",
   "metadata": {},
   "outputs": [
    {
     "name": "stdout",
     "output_type": "stream",
     "text": [
      "['ai', 'ai']\n"
     ]
    }
   ],
   "source": [
    "y = re.findall(\"ai\", txt)\n",
    "print(y)"
   ]
  },
  {
   "cell_type": "code",
   "execution_count": 142,
   "id": "8b59ebd5-194a-4fe1-ac8d-9f73df8248e3",
   "metadata": {},
   "outputs": [
    {
     "name": "stdout",
     "output_type": "stream",
     "text": [
      "[]\n"
     ]
    }
   ],
   "source": [
    "z = re.findall(\"Portugal\", txt)\n",
    "print(z)"
   ]
  },
  {
   "cell_type": "code",
   "execution_count": 143,
   "id": "547ec8e8-c16c-4f62-9447-2a79cf6190a8",
   "metadata": {},
   "outputs": [
    {
     "name": "stdout",
     "output_type": "stream",
     "text": [
      "The9rain9in9Spain\n"
     ]
    }
   ],
   "source": [
    "import re\n",
    "\n",
    "#Replace all white-space characters with the digit \"9\":\n",
    "\n",
    "txt = \"The rain in Spain\"\n",
    "x = re.sub(\"\\s\", \"9\", txt)\n",
    "print(x)"
   ]
  },
  {
   "cell_type": "markdown",
   "id": "cbb0f4ed-454c-478c-8e13-ca896a45e705",
   "metadata": {},
   "source": [
    "# Exception handling"
   ]
  },
  {
   "cell_type": "code",
   "execution_count": 146,
   "id": "c89221fe-a5af-4b62-9380-fd08999d8282",
   "metadata": {},
   "outputs": [
    {
     "name": "stdout",
     "output_type": "stream",
     "text": [
      "An exception occurred\n"
     ]
    }
   ],
   "source": [
    "try:\n",
    "    print(somevalue)\n",
    "except:\n",
    "    print(\"An exception occurred\")"
   ]
  },
  {
   "cell_type": "code",
   "execution_count": 148,
   "id": "f3bae601-3430-47c5-902d-6222bf2c40ed",
   "metadata": {},
   "outputs": [
    {
     "name": "stdout",
     "output_type": "stream",
     "text": [
      "Variable 'somevalue' is not defined\n"
     ]
    }
   ],
   "source": [
    "try:\n",
    "  print(somevalue)\n",
    "except NameError:\n",
    "  print(\"Variable 'somevalue' is not defined\")\n",
    "except:\n",
    "  print(\"Something else went wrong\")"
   ]
  },
  {
   "cell_type": "code",
   "execution_count": 149,
   "id": "799d4824-d5d7-4266-8a84-929bd92af812",
   "metadata": {},
   "outputs": [
    {
     "name": "stdout",
     "output_type": "stream",
     "text": [
      "Hello\n",
      "Nonthing went wrong\n"
     ]
    }
   ],
   "source": [
    "try:\n",
    "    print(\"Hello\")\n",
    "except:\n",
    "    print(\"Something went wrong\") # way of handling error\n",
    "else:\n",
    "    print(\"Nonthing went wrong\") # when there is no error"
   ]
  },
  {
   "cell_type": "code",
   "execution_count": 150,
   "id": "7372a162-bbdd-48d5-acb8-db4470550576",
   "metadata": {},
   "outputs": [
    {
     "name": "stdout",
     "output_type": "stream",
     "text": [
      "The9rain9in9Spain\n",
      "The 'try except' is finished\n"
     ]
    }
   ],
   "source": [
    "try:\n",
    "  print(x)\n",
    "except:\n",
    "  print(\"Something went wrong\")\n",
    "finally:\n",
    "  print(\"The 'try except' is finished\") # regardless if the try raises an error or not"
   ]
  },
  {
   "cell_type": "code",
   "execution_count": 152,
   "id": "79b5d398-618b-4411-9439-72ada8d83ffe",
   "metadata": {},
   "outputs": [
    {
     "ename": "Exception",
     "evalue": "Sorry, no numbers below zero",
     "output_type": "error",
     "traceback": [
      "\u001b[0;31m---------------------------------------------------------------------------\u001b[0m",
      "\u001b[0;31mException\u001b[0m                                 Traceback (most recent call last)",
      "\u001b[0;32m/var/folders/0m/966_8tjn5pddy9gxt6rqdwh00000gn/T/ipykernel_10306/2961569276.py\u001b[0m in \u001b[0;36m<module>\u001b[0;34m\u001b[0m\n\u001b[1;32m      3\u001b[0m \u001b[0;34m\u001b[0m\u001b[0m\n\u001b[1;32m      4\u001b[0m \u001b[0;32mif\u001b[0m \u001b[0mx\u001b[0m \u001b[0;34m<\u001b[0m \u001b[0;36m0\u001b[0m\u001b[0;34m:\u001b[0m\u001b[0;34m\u001b[0m\u001b[0;34m\u001b[0m\u001b[0m\n\u001b[0;32m----> 5\u001b[0;31m     \u001b[0;32mraise\u001b[0m \u001b[0mException\u001b[0m\u001b[0;34m(\u001b[0m\u001b[0;34m\"Sorry, no numbers below zero\"\u001b[0m\u001b[0;34m)\u001b[0m\u001b[0;34m\u001b[0m\u001b[0;34m\u001b[0m\u001b[0m\n\u001b[0m",
      "\u001b[0;31mException\u001b[0m: Sorry, no numbers below zero"
     ]
    }
   ],
   "source": [
    "# in r error or stop(, \"error message\")\n",
    "x = -1\n",
    "\n",
    "if x < 0:\n",
    "    raise Exception(\"Sorry, no numbers below zero\")"
   ]
  },
  {
   "cell_type": "code",
   "execution_count": 154,
   "id": "41d6591c-ce22-4a29-a611-f2e869554842",
   "metadata": {},
   "outputs": [
    {
     "ename": "TypeError",
     "evalue": "Only integers are allowed",
     "output_type": "error",
     "traceback": [
      "\u001b[0;31m---------------------------------------------------------------------------\u001b[0m",
      "\u001b[0;31mTypeError\u001b[0m                                 Traceback (most recent call last)",
      "\u001b[0;32m/var/folders/0m/966_8tjn5pddy9gxt6rqdwh00000gn/T/ipykernel_10306/1129330155.py\u001b[0m in \u001b[0;36m<module>\u001b[0;34m\u001b[0m\n\u001b[1;32m      2\u001b[0m \u001b[0;34m\u001b[0m\u001b[0m\n\u001b[1;32m      3\u001b[0m \u001b[0;32mif\u001b[0m \u001b[0;32mnot\u001b[0m \u001b[0mtype\u001b[0m\u001b[0;34m(\u001b[0m\u001b[0mx\u001b[0m\u001b[0;34m)\u001b[0m \u001b[0;32mis\u001b[0m \u001b[0mint\u001b[0m\u001b[0;34m:\u001b[0m\u001b[0;34m\u001b[0m\u001b[0;34m\u001b[0m\u001b[0m\n\u001b[0;32m----> 4\u001b[0;31m     \u001b[0;32mraise\u001b[0m \u001b[0mTypeError\u001b[0m\u001b[0;34m(\u001b[0m\u001b[0;34m\"Only integers are allowed\"\u001b[0m\u001b[0;34m)\u001b[0m\u001b[0;34m\u001b[0m\u001b[0;34m\u001b[0m\u001b[0m\n\u001b[0m",
      "\u001b[0;31mTypeError\u001b[0m: Only integers are allowed"
     ]
    }
   ],
   "source": [
    "x = \"hello\"\n",
    "\n",
    "if not type(x) is int:\n",
    "    raise TypeError(\"Only integers are allowed\")"
   ]
  }
 ],
 "metadata": {
  "kernelspec": {
   "display_name": "Python 3 (ipykernel)",
   "language": "python",
   "name": "python3"
  },
  "language_info": {
   "codemirror_mode": {
    "name": "ipython",
    "version": 3
   },
   "file_extension": ".py",
   "mimetype": "text/x-python",
   "name": "python",
   "nbconvert_exporter": "python",
   "pygments_lexer": "ipython3",
   "version": "3.9.13"
  }
 },
 "nbformat": 4,
 "nbformat_minor": 5
}
