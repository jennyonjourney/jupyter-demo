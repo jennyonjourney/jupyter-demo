{
 "cells": [
  {
   "cell_type": "markdown",
   "id": "69b8067b-1e71-4119-9383-08ce01d620a7",
   "metadata": {},
   "source": [
    "# Scikit-learn"
   ]
  },
  {
   "cell_type": "code",
   "execution_count": 115,
   "id": "9fd74899-3c64-4dd8-96a4-da54fe0b918d",
   "metadata": {},
   "outputs": [],
   "source": [
    "import pandas as pd\n",
    "import numpy as np\n",
    "import matplotlib as mpl #rarely use mpl directly\n",
    "import matplotlib.pyplot as plt #rather using pyplot more\n",
    "import seaborn as sns"
   ]
  },
  {
   "cell_type": "code",
   "execution_count": 6,
   "id": "05e58d8d-8535-41e5-b53c-8da2f00b6ac5",
   "metadata": {},
   "outputs": [
    {
     "name": "stdout",
     "output_type": "stream",
     "text": [
      "   volume  area  weight cover\n",
      "1     885   382     800    hb\n",
      "2    1016   468     950    hb\n",
      "3    1125   387    1050    hb\n",
      "4     239   371     350    hb\n",
      "5     701   371     750    hb\n"
     ]
    }
   ],
   "source": [
    "url = \"https://raw.githubusercontent.com/jennyonjourney/jupyter-demo/main/daag_books.csv\"\n",
    "books = pd.read_csv(url, index_col=0)\n",
    "print(books.head(5))"
   ]
  },
  {
   "cell_type": "code",
   "execution_count": 10,
   "id": "6f2fe706-65a7-4513-85e0-20d8e99480dc",
   "metadata": {},
   "outputs": [
    {
     "data": {
      "text/plain": [
       "<seaborn.axisgrid.FacetGrid at 0x7f93d23dd8e0>"
      ]
     },
     "execution_count": 10,
     "metadata": {},
     "output_type": "execute_result"
    },
    {
     "data": {
      "image/png": "[encoded data removed]",
      "text/plain": [
       "<Figure size 567.75x500 with 1 Axes>"
      ]
     },
     "metadata": {},
     "output_type": "display_data"
    }
   ],
   "source": [
    "sns.relplot(data=books, x=\"volume\",y=\"weight\",hue=\"cover\")"
   ]
  },
  {
   "cell_type": "markdown",
   "id": "a831ce66-1c7f-4c5d-898a-86b633f3b2fd",
   "metadata": {},
   "source": [
    "## Linear regression"
   ]
  },
  {
   "cell_type": "code",
   "execution_count": 11,
   "id": "4f8378e0-f453-4e2e-9e0c-340c6c92aaf9",
   "metadata": {},
   "outputs": [],
   "source": [
    "from sklearn.linear_model import LinearRegression"
   ]
  },
  {
   "cell_type": "code",
   "execution_count": 20,
   "id": "0ad8468d-27bb-4f94-9a4a-2c5c8ae62546",
   "metadata": {},
   "outputs": [
    {
     "data": {
      "text/plain": [
       "array([0.70863714])"
      ]
     },
     "execution_count": 20,
     "metadata": {},
     "output_type": "execute_result"
    }
   ],
   "source": [
    "# input : np array (2d)\n",
    "lm = LinearRegression()\n",
    "m = lm.fit(\n",
    "    X = books[[\"volume\"]], #np.arrage(books.volume) won't work!!!\n",
    "    y = books.weight\n",
    ")\n",
    "m.coef_ ; lm_coef_ # lm and m are labels for the same object"
   ]
  },
  {
   "cell_type": "code",
   "execution_count": 15,
   "id": "4e59be0d-7961-48ff-9071-603400334049",
   "metadata": {},
   "outputs": [
    {
     "data": {
      "text/plain": [
       "107.679310613766"
      ]
     },
     "execution_count": 15,
     "metadata": {},
     "output_type": "execute_result"
    }
   ],
   "source": [
    "m.intercept_ ; lm.intercept_"
   ]
  },
  {
   "cell_type": "code",
   "execution_count": 23,
   "id": "6dfcc14d-b73a-4680-a35e-2c57ef2dfb7a",
   "metadata": {},
   "outputs": [
    {
     "data": {
      "text/plain": [
       "LinearRegression()"
      ]
     },
     "execution_count": 23,
     "metadata": {},
     "output_type": "execute_result"
    }
   ],
   "source": [
    "lm.fit(\n",
    "    X = np.array(books.volume).reshape(-1,1),\n",
    "    y = books.weight\n",
    ")"
   ]
  },
  {
   "cell_type": "code",
   "execution_count": 24,
   "id": "b43ebcd7-2bfc-492f-870b-66e31cd0fbfd",
   "metadata": {},
   "outputs": [
    {
     "data": {
      "text/plain": [
       "{'copy_X': True,\n",
       " 'fit_intercept': True,\n",
       " 'n_jobs': None,\n",
       " 'normalize': 'deprecated',\n",
       " 'positive': False}"
      ]
     },
     "execution_count": 24,
     "metadata": {},
     "output_type": "execute_result"
    }
   ],
   "source": [
    "lm.get_params()\n",
    "# lm.set_params(fit_intercept = False) then intercept is not shown"
   ]
  },
  {
   "cell_type": "code",
   "execution_count": 25,
   "id": "f55c5a2a-df32-4d35-b45b-6a9ba983915d",
   "metadata": {},
   "outputs": [
    {
     "name": "stderr",
     "output_type": "stream",
     "text": [
      "/Users/kyungeunjeon/opt/anaconda3/lib/python3.9/site-packages/sklearn/base.py:443: UserWarning: X has feature names, but LinearRegression was fitted without feature names\n",
      "  warnings.warn(\n"
     ]
    },
    {
     "data": {
      "text/plain": [
       "array([ 734.8231825 ,  827.65464828,  904.89609691,  277.04358788,\n",
       "        604.43394812,  561.91571951,  977.88572267,  399.63781368,\n",
       "        783.01050825,  766.0032168 , 1164.96592852,  404.59827369,\n",
       "        823.40282542,  529.31841092,  840.41011686])"
      ]
     },
     "execution_count": 25,
     "metadata": {},
     "output_type": "execute_result"
    }
   ],
   "source": [
    "lm.predict(X=books[[\"volume\"]])"
   ]
  },
  {
   "cell_type": "code",
   "execution_count": 26,
   "id": "7052d869-425b-4d18-b4dc-250bbd09ce07",
   "metadata": {},
   "outputs": [
    {
     "name": "stderr",
     "output_type": "stream",
     "text": [
      "/Users/kyungeunjeon/opt/anaconda3/lib/python3.9/site-packages/sklearn/base.py:443: UserWarning: X has feature names, but LinearRegression was fitted without feature names\n",
      "  warnings.warn(\n"
     ]
    },
    {
     "data": {
      "text/html": [
       "<div>\n",
       "<style scoped>\n",
       "    .dataframe tbody tr th:only-of-type {\n",
       "        vertical-align: middle;\n",
       "    }\n",
       "\n",
       "    .dataframe tbody tr th {\n",
       "        vertical-align: top;\n",
       "    }\n",
       "\n",
       "    .dataframe thead th {\n",
       "        text-align: right;\n",
       "    }\n",
       "</style>\n",
       "<table border=\"1\" class=\"dataframe\">\n",
       "  <thead>\n",
       "    <tr style=\"text-align: right;\">\n",
       "      <th></th>\n",
       "      <th>volume</th>\n",
       "      <th>area</th>\n",
       "      <th>weight</th>\n",
       "      <th>cover</th>\n",
       "      <th>weight_lm_pred</th>\n",
       "    </tr>\n",
       "  </thead>\n",
       "  <tbody>\n",
       "    <tr>\n",
       "      <th>1</th>\n",
       "      <td>885</td>\n",
       "      <td>382</td>\n",
       "      <td>800</td>\n",
       "      <td>hb</td>\n",
       "      <td>734.823182</td>\n",
       "    </tr>\n",
       "    <tr>\n",
       "      <th>2</th>\n",
       "      <td>1016</td>\n",
       "      <td>468</td>\n",
       "      <td>950</td>\n",
       "      <td>hb</td>\n",
       "      <td>827.654648</td>\n",
       "    </tr>\n",
       "    <tr>\n",
       "      <th>3</th>\n",
       "      <td>1125</td>\n",
       "      <td>387</td>\n",
       "      <td>1050</td>\n",
       "      <td>hb</td>\n",
       "      <td>904.896097</td>\n",
       "    </tr>\n",
       "    <tr>\n",
       "      <th>4</th>\n",
       "      <td>239</td>\n",
       "      <td>371</td>\n",
       "      <td>350</td>\n",
       "      <td>hb</td>\n",
       "      <td>277.043588</td>\n",
       "    </tr>\n",
       "    <tr>\n",
       "      <th>5</th>\n",
       "      <td>701</td>\n",
       "      <td>371</td>\n",
       "      <td>750</td>\n",
       "      <td>hb</td>\n",
       "      <td>604.433948</td>\n",
       "    </tr>\n",
       "    <tr>\n",
       "      <th>6</th>\n",
       "      <td>641</td>\n",
       "      <td>367</td>\n",
       "      <td>600</td>\n",
       "      <td>hb</td>\n",
       "      <td>561.915720</td>\n",
       "    </tr>\n",
       "    <tr>\n",
       "      <th>7</th>\n",
       "      <td>1228</td>\n",
       "      <td>396</td>\n",
       "      <td>1075</td>\n",
       "      <td>hb</td>\n",
       "      <td>977.885723</td>\n",
       "    </tr>\n",
       "    <tr>\n",
       "      <th>8</th>\n",
       "      <td>412</td>\n",
       "      <td>0</td>\n",
       "      <td>250</td>\n",
       "      <td>pb</td>\n",
       "      <td>399.637814</td>\n",
       "    </tr>\n",
       "    <tr>\n",
       "      <th>9</th>\n",
       "      <td>953</td>\n",
       "      <td>0</td>\n",
       "      <td>700</td>\n",
       "      <td>pb</td>\n",
       "      <td>783.010508</td>\n",
       "    </tr>\n",
       "    <tr>\n",
       "      <th>10</th>\n",
       "      <td>929</td>\n",
       "      <td>0</td>\n",
       "      <td>650</td>\n",
       "      <td>pb</td>\n",
       "      <td>766.003217</td>\n",
       "    </tr>\n",
       "    <tr>\n",
       "      <th>11</th>\n",
       "      <td>1492</td>\n",
       "      <td>0</td>\n",
       "      <td>975</td>\n",
       "      <td>pb</td>\n",
       "      <td>1164.965929</td>\n",
       "    </tr>\n",
       "    <tr>\n",
       "      <th>12</th>\n",
       "      <td>419</td>\n",
       "      <td>0</td>\n",
       "      <td>350</td>\n",
       "      <td>pb</td>\n",
       "      <td>404.598274</td>\n",
       "    </tr>\n",
       "    <tr>\n",
       "      <th>13</th>\n",
       "      <td>1010</td>\n",
       "      <td>0</td>\n",
       "      <td>950</td>\n",
       "      <td>pb</td>\n",
       "      <td>823.402825</td>\n",
       "    </tr>\n",
       "    <tr>\n",
       "      <th>14</th>\n",
       "      <td>595</td>\n",
       "      <td>0</td>\n",
       "      <td>425</td>\n",
       "      <td>pb</td>\n",
       "      <td>529.318411</td>\n",
       "    </tr>\n",
       "    <tr>\n",
       "      <th>15</th>\n",
       "      <td>1034</td>\n",
       "      <td>0</td>\n",
       "      <td>725</td>\n",
       "      <td>pb</td>\n",
       "      <td>840.410117</td>\n",
       "    </tr>\n",
       "  </tbody>\n",
       "</table>\n",
       "</div>"
      ],
      "text/plain": [
       "    volume  area  weight cover  weight_lm_pred\n",
       "1      885   382     800    hb      734.823182\n",
       "2     1016   468     950    hb      827.654648\n",
       "3     1125   387    1050    hb      904.896097\n",
       "4      239   371     350    hb      277.043588\n",
       "5      701   371     750    hb      604.433948\n",
       "6      641   367     600    hb      561.915720\n",
       "7     1228   396    1075    hb      977.885723\n",
       "8      412     0     250    pb      399.637814\n",
       "9      953     0     700    pb      783.010508\n",
       "10     929     0     650    pb      766.003217\n",
       "11    1492     0     975    pb     1164.965929\n",
       "12     419     0     350    pb      404.598274\n",
       "13    1010     0     950    pb      823.402825\n",
       "14     595     0     425    pb      529.318411\n",
       "15    1034     0     725    pb      840.410117"
      ]
     },
     "execution_count": 26,
     "metadata": {},
     "output_type": "execute_result"
    }
   ],
   "source": [
    "books[\"weight_lm_pred\"] = lm.predict(X=books[[\"volume\"]])\n",
    "books"
   ]
  },
  {
   "cell_type": "code",
   "execution_count": 27,
   "id": "b2c7cad4-e9f3-4dc7-b4e7-795bc4d92e1e",
   "metadata": {},
   "outputs": [
    {
     "data": {
      "image/png": "[encoded data removed]",
      "text/plain": [
       "<Figure size 640x480 with 1 Axes>"
      ]
     },
     "metadata": {},
     "output_type": "display_data"
    }
   ],
   "source": [
    "plt.figure()\n",
    "sns.scatterplot(data=books, x=\"volume\", y=\"weight\", hue=\"cover\")\n",
    "sns.lineplot(data=books, x=\"volume\", y=\"weight_lm_pred\", color=\"green\")\n",
    "plt.show()"
   ]
  },
  {
   "cell_type": "markdown",
   "id": "e432f655-bd69-4fa1-b116-63a4fbdc6bab",
   "metadata": {},
   "source": [
    "### Residuals"
   ]
  },
  {
   "cell_type": "code",
   "execution_count": 28,
   "id": "d02540de-6f91-4b2c-b49a-6f07b22a5cd0",
   "metadata": {},
   "outputs": [
    {
     "data": {
      "image/png": "[encoded data removed]",
      "text/plain": [
       "<Figure size 640x480 with 1 Axes>"
      ]
     },
     "metadata": {},
     "output_type": "display_data"
    }
   ],
   "source": [
    "# get the diff (residuals)\n",
    "books[\"resid_lm_pred\"] = books[\"weight\"] - books[\"weight_lm_pred\"]\n",
    "\n",
    "# empty figure\n",
    "plt.figure(layout=\"constrained\")\n",
    "# ax graph for plotting and line\n",
    "ax = sns.scatterplot(data=books, x=\"volume\", y=\"resid_lm_pred\", hue=\"cover\")\n",
    "ax.axhline(c=\"k\", ls=\"--\", lw=1)\n",
    "plt.show()"
   ]
  },
  {
   "cell_type": "code",
   "execution_count": 29,
   "id": "1e8869a9-cbc4-45f5-b309-ac553080c853",
   "metadata": {},
   "outputs": [
    {
     "ename": "ValueError",
     "evalue": "could not convert string to float: 'hb'",
     "output_type": "error",
     "traceback": [
      "\u001b[0;31m---------------------------------------------------------------------------\u001b[0m",
      "\u001b[0;31mValueError\u001b[0m                                Traceback (most recent call last)",
      "\u001b[0;32m/var/folders/0m/966_8tjn5pddy9gxt6rqdwh00000gn/T/ipykernel_16219/3977103540.py\u001b[0m in \u001b[0;36m<module>\u001b[0;34m\u001b[0m\n\u001b[1;32m      1\u001b[0m \u001b[0;31m# categorical variables\u001b[0m\u001b[0;34m\u001b[0m\u001b[0;34m\u001b[0m\u001b[0m\n\u001b[0;32m----> 2\u001b[0;31m lm = lm.fit(\n\u001b[0m\u001b[1;32m      3\u001b[0m   \u001b[0mX\u001b[0m \u001b[0;34m=\u001b[0m \u001b[0mbooks\u001b[0m\u001b[0;34m[\u001b[0m\u001b[0;34m[\u001b[0m\u001b[0;34m\"volume\"\u001b[0m\u001b[0;34m,\u001b[0m \u001b[0;34m\"cover\"\u001b[0m\u001b[0;34m]\u001b[0m\u001b[0;34m]\u001b[0m\u001b[0;34m,\u001b[0m\u001b[0;34m\u001b[0m\u001b[0;34m\u001b[0m\u001b[0m\n\u001b[1;32m      4\u001b[0m   \u001b[0my\u001b[0m \u001b[0;34m=\u001b[0m \u001b[0mbooks\u001b[0m\u001b[0;34m.\u001b[0m\u001b[0mweight\u001b[0m\u001b[0;34m\u001b[0m\u001b[0;34m\u001b[0m\u001b[0m\n\u001b[1;32m      5\u001b[0m )\n",
      "\u001b[0;32m~/opt/anaconda3/lib/python3.9/site-packages/sklearn/linear_model/_base.py\u001b[0m in \u001b[0;36mfit\u001b[0;34m(self, X, y, sample_weight)\u001b[0m\n\u001b[1;32m    660\u001b[0m         \u001b[0maccept_sparse\u001b[0m \u001b[0;34m=\u001b[0m \u001b[0;32mFalse\u001b[0m \u001b[0;32mif\u001b[0m \u001b[0mself\u001b[0m\u001b[0;34m.\u001b[0m\u001b[0mpositive\u001b[0m \u001b[0;32melse\u001b[0m \u001b[0;34m[\u001b[0m\u001b[0;34m\"csr\"\u001b[0m\u001b[0;34m,\u001b[0m \u001b[0;34m\"csc\"\u001b[0m\u001b[0;34m,\u001b[0m \u001b[0;34m\"coo\"\u001b[0m\u001b[0;34m]\u001b[0m\u001b[0;34m\u001b[0m\u001b[0;34m\u001b[0m\u001b[0m\n\u001b[1;32m    661\u001b[0m \u001b[0;34m\u001b[0m\u001b[0m\n\u001b[0;32m--> 662\u001b[0;31m         X, y = self._validate_data(\n\u001b[0m\u001b[1;32m    663\u001b[0m             \u001b[0mX\u001b[0m\u001b[0;34m,\u001b[0m \u001b[0my\u001b[0m\u001b[0;34m,\u001b[0m \u001b[0maccept_sparse\u001b[0m\u001b[0;34m=\u001b[0m\u001b[0maccept_sparse\u001b[0m\u001b[0;34m,\u001b[0m \u001b[0my_numeric\u001b[0m\u001b[0;34m=\u001b[0m\u001b[0;32mTrue\u001b[0m\u001b[0;34m,\u001b[0m \u001b[0mmulti_output\u001b[0m\u001b[0;34m=\u001b[0m\u001b[0;32mTrue\u001b[0m\u001b[0;34m\u001b[0m\u001b[0;34m\u001b[0m\u001b[0m\n\u001b[1;32m    664\u001b[0m         )\n",
      "\u001b[0;32m~/opt/anaconda3/lib/python3.9/site-packages/sklearn/base.py\u001b[0m in \u001b[0;36m_validate_data\u001b[0;34m(self, X, y, reset, validate_separately, **check_params)\u001b[0m\n\u001b[1;32m    579\u001b[0m                 \u001b[0my\u001b[0m \u001b[0;34m=\u001b[0m \u001b[0mcheck_array\u001b[0m\u001b[0;34m(\u001b[0m\u001b[0my\u001b[0m\u001b[0;34m,\u001b[0m \u001b[0;34m**\u001b[0m\u001b[0mcheck_y_params\u001b[0m\u001b[0;34m)\u001b[0m\u001b[0;34m\u001b[0m\u001b[0;34m\u001b[0m\u001b[0m\n\u001b[1;32m    580\u001b[0m             \u001b[0;32melse\u001b[0m\u001b[0;34m:\u001b[0m\u001b[0;34m\u001b[0m\u001b[0;34m\u001b[0m\u001b[0m\n\u001b[0;32m--> 581\u001b[0;31m                 \u001b[0mX\u001b[0m\u001b[0;34m,\u001b[0m \u001b[0my\u001b[0m \u001b[0;34m=\u001b[0m \u001b[0mcheck_X_y\u001b[0m\u001b[0;34m(\u001b[0m\u001b[0mX\u001b[0m\u001b[0;34m,\u001b[0m \u001b[0my\u001b[0m\u001b[0;34m,\u001b[0m \u001b[0;34m**\u001b[0m\u001b[0mcheck_params\u001b[0m\u001b[0;34m)\u001b[0m\u001b[0;34m\u001b[0m\u001b[0;34m\u001b[0m\u001b[0m\n\u001b[0m\u001b[1;32m    582\u001b[0m             \u001b[0mout\u001b[0m \u001b[0;34m=\u001b[0m \u001b[0mX\u001b[0m\u001b[0;34m,\u001b[0m \u001b[0my\u001b[0m\u001b[0;34m\u001b[0m\u001b[0;34m\u001b[0m\u001b[0m\n\u001b[1;32m    583\u001b[0m \u001b[0;34m\u001b[0m\u001b[0m\n",
      "\u001b[0;32m~/opt/anaconda3/lib/python3.9/site-packages/sklearn/utils/validation.py\u001b[0m in \u001b[0;36mcheck_X_y\u001b[0;34m(X, y, accept_sparse, accept_large_sparse, dtype, order, copy, force_all_finite, ensure_2d, allow_nd, multi_output, ensure_min_samples, ensure_min_features, y_numeric, estimator)\u001b[0m\n\u001b[1;32m    962\u001b[0m         \u001b[0;32mraise\u001b[0m \u001b[0mValueError\u001b[0m\u001b[0;34m(\u001b[0m\u001b[0;34m\"y cannot be None\"\u001b[0m\u001b[0;34m)\u001b[0m\u001b[0;34m\u001b[0m\u001b[0;34m\u001b[0m\u001b[0m\n\u001b[1;32m    963\u001b[0m \u001b[0;34m\u001b[0m\u001b[0m\n\u001b[0;32m--> 964\u001b[0;31m     X = check_array(\n\u001b[0m\u001b[1;32m    965\u001b[0m         \u001b[0mX\u001b[0m\u001b[0;34m,\u001b[0m\u001b[0;34m\u001b[0m\u001b[0;34m\u001b[0m\u001b[0m\n\u001b[1;32m    966\u001b[0m         \u001b[0maccept_sparse\u001b[0m\u001b[0;34m=\u001b[0m\u001b[0maccept_sparse\u001b[0m\u001b[0;34m,\u001b[0m\u001b[0;34m\u001b[0m\u001b[0;34m\u001b[0m\u001b[0m\n",
      "\u001b[0;32m~/opt/anaconda3/lib/python3.9/site-packages/sklearn/utils/validation.py\u001b[0m in \u001b[0;36mcheck_array\u001b[0;34m(array, accept_sparse, accept_large_sparse, dtype, order, copy, force_all_finite, ensure_2d, allow_nd, ensure_min_samples, ensure_min_features, estimator)\u001b[0m\n\u001b[1;32m    744\u001b[0m                     \u001b[0marray\u001b[0m \u001b[0;34m=\u001b[0m \u001b[0marray\u001b[0m\u001b[0;34m.\u001b[0m\u001b[0mastype\u001b[0m\u001b[0;34m(\u001b[0m\u001b[0mdtype\u001b[0m\u001b[0;34m,\u001b[0m \u001b[0mcasting\u001b[0m\u001b[0;34m=\u001b[0m\u001b[0;34m\"unsafe\"\u001b[0m\u001b[0;34m,\u001b[0m \u001b[0mcopy\u001b[0m\u001b[0;34m=\u001b[0m\u001b[0;32mFalse\u001b[0m\u001b[0;34m)\u001b[0m\u001b[0;34m\u001b[0m\u001b[0;34m\u001b[0m\u001b[0m\n\u001b[1;32m    745\u001b[0m                 \u001b[0;32melse\u001b[0m\u001b[0;34m:\u001b[0m\u001b[0;34m\u001b[0m\u001b[0;34m\u001b[0m\u001b[0m\n\u001b[0;32m--> 746\u001b[0;31m                     \u001b[0marray\u001b[0m \u001b[0;34m=\u001b[0m \u001b[0mnp\u001b[0m\u001b[0;34m.\u001b[0m\u001b[0masarray\u001b[0m\u001b[0;34m(\u001b[0m\u001b[0marray\u001b[0m\u001b[0;34m,\u001b[0m \u001b[0morder\u001b[0m\u001b[0;34m=\u001b[0m\u001b[0morder\u001b[0m\u001b[0;34m,\u001b[0m \u001b[0mdtype\u001b[0m\u001b[0;34m=\u001b[0m\u001b[0mdtype\u001b[0m\u001b[0;34m)\u001b[0m\u001b[0;34m\u001b[0m\u001b[0;34m\u001b[0m\u001b[0m\n\u001b[0m\u001b[1;32m    747\u001b[0m             \u001b[0;32mexcept\u001b[0m \u001b[0mComplexWarning\u001b[0m \u001b[0;32mas\u001b[0m \u001b[0mcomplex_warning\u001b[0m\u001b[0;34m:\u001b[0m\u001b[0;34m\u001b[0m\u001b[0;34m\u001b[0m\u001b[0m\n\u001b[1;32m    748\u001b[0m                 raise ValueError(\n",
      "\u001b[0;32m~/opt/anaconda3/lib/python3.9/site-packages/pandas/core/generic.py\u001b[0m in \u001b[0;36m__array__\u001b[0;34m(self, dtype)\u001b[0m\n\u001b[1;32m   2062\u001b[0m \u001b[0;34m\u001b[0m\u001b[0m\n\u001b[1;32m   2063\u001b[0m     \u001b[0;32mdef\u001b[0m \u001b[0m__array__\u001b[0m\u001b[0;34m(\u001b[0m\u001b[0mself\u001b[0m\u001b[0;34m,\u001b[0m \u001b[0mdtype\u001b[0m\u001b[0;34m:\u001b[0m \u001b[0mnpt\u001b[0m\u001b[0;34m.\u001b[0m\u001b[0mDTypeLike\u001b[0m \u001b[0;34m|\u001b[0m \u001b[0;32mNone\u001b[0m \u001b[0;34m=\u001b[0m \u001b[0;32mNone\u001b[0m\u001b[0;34m)\u001b[0m \u001b[0;34m->\u001b[0m \u001b[0mnp\u001b[0m\u001b[0;34m.\u001b[0m\u001b[0mndarray\u001b[0m\u001b[0;34m:\u001b[0m\u001b[0;34m\u001b[0m\u001b[0;34m\u001b[0m\u001b[0m\n\u001b[0;32m-> 2064\u001b[0;31m         \u001b[0;32mreturn\u001b[0m \u001b[0mnp\u001b[0m\u001b[0;34m.\u001b[0m\u001b[0masarray\u001b[0m\u001b[0;34m(\u001b[0m\u001b[0mself\u001b[0m\u001b[0;34m.\u001b[0m\u001b[0m_values\u001b[0m\u001b[0;34m,\u001b[0m \u001b[0mdtype\u001b[0m\u001b[0;34m=\u001b[0m\u001b[0mdtype\u001b[0m\u001b[0;34m)\u001b[0m\u001b[0;34m\u001b[0m\u001b[0;34m\u001b[0m\u001b[0m\n\u001b[0m\u001b[1;32m   2065\u001b[0m \u001b[0;34m\u001b[0m\u001b[0m\n\u001b[1;32m   2066\u001b[0m     def __array_wrap__(\n",
      "\u001b[0;31mValueError\u001b[0m: could not convert string to float: 'hb'"
     ]
    }
   ],
   "source": [
    "# categorical variables\n",
    "lm = lm.fit(\n",
    "  X = books[[\"volume\", \"cover\"]],\n",
    "  y = books.weight\n",
    ")"
   ]
  },
  {
   "cell_type": "code",
   "execution_count": 32,
   "id": "83afc2ef-63bb-4dfc-bb03-b44b901f7261",
   "metadata": {},
   "outputs": [
    {
     "data": {
      "text/html": [
       "<div>\n",
       "<style scoped>\n",
       "    .dataframe tbody tr th:only-of-type {\n",
       "        vertical-align: middle;\n",
       "    }\n",
       "\n",
       "    .dataframe tbody tr th {\n",
       "        vertical-align: top;\n",
       "    }\n",
       "\n",
       "    .dataframe thead th {\n",
       "        text-align: right;\n",
       "    }\n",
       "</style>\n",
       "<table border=\"1\" class=\"dataframe\">\n",
       "  <thead>\n",
       "    <tr style=\"text-align: right;\">\n",
       "      <th></th>\n",
       "      <th>cover_hb</th>\n",
       "      <th>cover_pb</th>\n",
       "    </tr>\n",
       "  </thead>\n",
       "  <tbody>\n",
       "    <tr>\n",
       "      <th>1</th>\n",
       "      <td>1</td>\n",
       "      <td>0</td>\n",
       "    </tr>\n",
       "    <tr>\n",
       "      <th>2</th>\n",
       "      <td>1</td>\n",
       "      <td>0</td>\n",
       "    </tr>\n",
       "    <tr>\n",
       "      <th>3</th>\n",
       "      <td>1</td>\n",
       "      <td>0</td>\n",
       "    </tr>\n",
       "    <tr>\n",
       "      <th>4</th>\n",
       "      <td>1</td>\n",
       "      <td>0</td>\n",
       "    </tr>\n",
       "    <tr>\n",
       "      <th>5</th>\n",
       "      <td>1</td>\n",
       "      <td>0</td>\n",
       "    </tr>\n",
       "    <tr>\n",
       "      <th>6</th>\n",
       "      <td>1</td>\n",
       "      <td>0</td>\n",
       "    </tr>\n",
       "    <tr>\n",
       "      <th>7</th>\n",
       "      <td>1</td>\n",
       "      <td>0</td>\n",
       "    </tr>\n",
       "    <tr>\n",
       "      <th>8</th>\n",
       "      <td>0</td>\n",
       "      <td>1</td>\n",
       "    </tr>\n",
       "    <tr>\n",
       "      <th>9</th>\n",
       "      <td>0</td>\n",
       "      <td>1</td>\n",
       "    </tr>\n",
       "    <tr>\n",
       "      <th>10</th>\n",
       "      <td>0</td>\n",
       "      <td>1</td>\n",
       "    </tr>\n",
       "    <tr>\n",
       "      <th>11</th>\n",
       "      <td>0</td>\n",
       "      <td>1</td>\n",
       "    </tr>\n",
       "    <tr>\n",
       "      <th>12</th>\n",
       "      <td>0</td>\n",
       "      <td>1</td>\n",
       "    </tr>\n",
       "    <tr>\n",
       "      <th>13</th>\n",
       "      <td>0</td>\n",
       "      <td>1</td>\n",
       "    </tr>\n",
       "    <tr>\n",
       "      <th>14</th>\n",
       "      <td>0</td>\n",
       "      <td>1</td>\n",
       "    </tr>\n",
       "    <tr>\n",
       "      <th>15</th>\n",
       "      <td>0</td>\n",
       "      <td>1</td>\n",
       "    </tr>\n",
       "  </tbody>\n",
       "</table>\n",
       "</div>"
      ],
      "text/plain": [
       "    cover_hb  cover_pb\n",
       "1          1         0\n",
       "2          1         0\n",
       "3          1         0\n",
       "4          1         0\n",
       "5          1         0\n",
       "6          1         0\n",
       "7          1         0\n",
       "8          0         1\n",
       "9          0         1\n",
       "10         0         1\n",
       "11         0         1\n",
       "12         0         1\n",
       "13         0         1\n",
       "14         0         1\n",
       "15         0         1"
      ]
     },
     "execution_count": 32,
     "metadata": {},
     "output_type": "execute_result"
    }
   ],
   "source": [
    "pd.get_dummies(books[[\"cover\"]])"
   ]
  },
  {
   "cell_type": "code",
   "execution_count": 33,
   "id": "67add71f-5400-419e-8c23-8123c737cda3",
   "metadata": {},
   "outputs": [
    {
     "data": {
      "text/html": [
       "<div>\n",
       "<style scoped>\n",
       "    .dataframe tbody tr th:only-of-type {\n",
       "        vertical-align: middle;\n",
       "    }\n",
       "\n",
       "    .dataframe tbody tr th {\n",
       "        vertical-align: top;\n",
       "    }\n",
       "\n",
       "    .dataframe thead th {\n",
       "        text-align: right;\n",
       "    }\n",
       "</style>\n",
       "<table border=\"1\" class=\"dataframe\">\n",
       "  <thead>\n",
       "    <tr style=\"text-align: right;\">\n",
       "      <th></th>\n",
       "      <th>volume</th>\n",
       "      <th>cover_pb</th>\n",
       "    </tr>\n",
       "  </thead>\n",
       "  <tbody>\n",
       "    <tr>\n",
       "      <th>1</th>\n",
       "      <td>885</td>\n",
       "      <td>0</td>\n",
       "    </tr>\n",
       "    <tr>\n",
       "      <th>2</th>\n",
       "      <td>1016</td>\n",
       "      <td>0</td>\n",
       "    </tr>\n",
       "    <tr>\n",
       "      <th>3</th>\n",
       "      <td>1125</td>\n",
       "      <td>0</td>\n",
       "    </tr>\n",
       "    <tr>\n",
       "      <th>4</th>\n",
       "      <td>239</td>\n",
       "      <td>0</td>\n",
       "    </tr>\n",
       "    <tr>\n",
       "      <th>5</th>\n",
       "      <td>701</td>\n",
       "      <td>0</td>\n",
       "    </tr>\n",
       "    <tr>\n",
       "      <th>6</th>\n",
       "      <td>641</td>\n",
       "      <td>0</td>\n",
       "    </tr>\n",
       "    <tr>\n",
       "      <th>7</th>\n",
       "      <td>1228</td>\n",
       "      <td>0</td>\n",
       "    </tr>\n",
       "    <tr>\n",
       "      <th>8</th>\n",
       "      <td>412</td>\n",
       "      <td>1</td>\n",
       "    </tr>\n",
       "    <tr>\n",
       "      <th>9</th>\n",
       "      <td>953</td>\n",
       "      <td>1</td>\n",
       "    </tr>\n",
       "    <tr>\n",
       "      <th>10</th>\n",
       "      <td>929</td>\n",
       "      <td>1</td>\n",
       "    </tr>\n",
       "    <tr>\n",
       "      <th>11</th>\n",
       "      <td>1492</td>\n",
       "      <td>1</td>\n",
       "    </tr>\n",
       "    <tr>\n",
       "      <th>12</th>\n",
       "      <td>419</td>\n",
       "      <td>1</td>\n",
       "    </tr>\n",
       "    <tr>\n",
       "      <th>13</th>\n",
       "      <td>1010</td>\n",
       "      <td>1</td>\n",
       "    </tr>\n",
       "    <tr>\n",
       "      <th>14</th>\n",
       "      <td>595</td>\n",
       "      <td>1</td>\n",
       "    </tr>\n",
       "    <tr>\n",
       "      <th>15</th>\n",
       "      <td>1034</td>\n",
       "      <td>1</td>\n",
       "    </tr>\n",
       "  </tbody>\n",
       "</table>\n",
       "</div>"
      ],
      "text/plain": [
       "    volume  cover_pb\n",
       "1      885         0\n",
       "2     1016         0\n",
       "3     1125         0\n",
       "4      239         0\n",
       "5      701         0\n",
       "6      641         0\n",
       "7     1228         0\n",
       "8      412         1\n",
       "9      953         1\n",
       "10     929         1\n",
       "11    1492         1\n",
       "12     419         1\n",
       "13    1010         1\n",
       "14     595         1\n",
       "15    1034         1"
      ]
     },
     "execution_count": 33,
     "metadata": {},
     "output_type": "execute_result"
    }
   ],
   "source": [
    "pd.get_dummies(books[[\"volume\",\"cover\"]]) #one-hot encoding\n",
    "# drop first column : https://towardsdatascience.com/drop-first-can-hurt-your-ols-regression-models-interpretability-4ca529cfb707\n",
    "pd.get_dummies(books[[\"volume\",\"cover\"]],drop_first = True)"
   ]
  },
  {
   "cell_type": "code",
   "execution_count": 34,
   "id": "1cd8bad7-93b5-4bb7-8440-ef88160db809",
   "metadata": {},
   "outputs": [
    {
     "data": {
      "text/plain": [
       "array([  0.71795374,  92.02363569, -92.02363569])"
      ]
     },
     "execution_count": 34,
     "metadata": {},
     "output_type": "execute_result"
    }
   ],
   "source": [
    "lm = LinearRegression().fit(\n",
    "  X = pd.get_dummies(books[[\"volume\", \"cover\"]]),\n",
    "  y = books.weight\n",
    ")\n",
    "\n",
    "lm.intercept_\n",
    "lm.coef_"
   ]
  },
  {
   "cell_type": "code",
   "execution_count": 35,
   "id": "60ea92d4-6aea-4e77-83c1-02d576e52eba",
   "metadata": {},
   "outputs": [
    {
     "data": {
      "text/plain": [
       "array([   0.71795374, -184.04727138])"
      ]
     },
     "execution_count": 35,
     "metadata": {},
     "output_type": "execute_result"
    }
   ],
   "source": [
    "lm = LinearRegression().fit(\n",
    "  X = pd.get_dummies(books[[\"volume\", \"cover\"]],drop_first = True),\n",
    "  y = books.weight\n",
    ")\n",
    "\n",
    "lm.intercept_\n",
    "lm.coef_"
   ]
  },
  {
   "cell_type": "code",
   "execution_count": 37,
   "id": "13792a18-bd75-40f5-9a32-a945a8217345",
   "metadata": {},
   "outputs": [
    {
     "data": {
      "text/plain": [
       "array([   0.71795374, -184.04727138])"
      ]
     },
     "execution_count": 37,
     "metadata": {},
     "output_type": "execute_result"
    }
   ],
   "source": [
    "# Comparing it with R\n",
    "# d = read.csv('data/daag_books.csv')\n",
    "# d['cover_hb'] = ifelse(d$cover == \"hb\", 1, 0)\n",
    "# d['cover_pb'] = ifelse(d$cover == \"pb\", 1, 0)\n",
    "# (lm = lm(weight~volume+cover_hb+cover_pb, data=d))\n",
    "# summary(lm)"
   ]
  },
  {
   "cell_type": "code",
   "execution_count": 39,
   "id": "f6170de9-8179-4e96-b0a1-6cb9972eb3cd",
   "metadata": {},
   "outputs": [
    {
     "data": {
      "text/plain": [
       "array(['volume', 'cover_pb'], dtype=object)"
      ]
     },
     "execution_count": 39,
     "metadata": {},
     "output_type": "execute_result"
    }
   ],
   "source": [
    "# fit_intercept is what for? the data should be centered. & Avoiding co-linearity\n",
    "lm = LinearRegression(fit_intercept = False).fit(\n",
    "  X = pd.get_dummies(books[[\"volume\", \"cover\"]],drop_first=True),\n",
    "  y = books.weight\n",
    ")\n",
    "\n",
    "lm.intercept_\n",
    "lm.coef_\n",
    "lm.feature_names_in_"
   ]
  },
  {
   "cell_type": "markdown",
   "id": "7e11971c-fe46-4bd1-9a72-1ebc9349a2b0",
   "metadata": {},
   "source": [
    "### Preprocessors"
   ]
  },
  {
   "cell_type": "code",
   "execution_count": 40,
   "id": "63cda22b-b7fa-4aa8-9eba-6dd9be082a06",
   "metadata": {},
   "outputs": [
    {
     "data": {
      "text/plain": [
       "array([[1., 0.],\n",
       "       [1., 0.],\n",
       "       [1., 0.],\n",
       "       [1., 0.],\n",
       "       [1., 0.],\n",
       "       [1., 0.],\n",
       "       [1., 0.],\n",
       "       [0., 1.],\n",
       "       [0., 1.],\n",
       "       [0., 1.],\n",
       "       [0., 1.],\n",
       "       [0., 1.],\n",
       "       [0., 1.],\n",
       "       [0., 1.],\n",
       "       [0., 1.]])"
      ]
     },
     "execution_count": 40,
     "metadata": {},
     "output_type": "execute_result"
    }
   ],
   "source": [
    "from sklearn.preprocessing import OneHotEncoder\n",
    "enc = OneHotEncoder(sparse=False)\n",
    "enc.fit(X = books[[\"cover\"]])\n",
    "enc.transform(X = books[[\"cover\"]])"
   ]
  },
  {
   "cell_type": "code",
   "execution_count": 41,
   "id": "a6964fbb-fd12-4dd8-bef5-48abd57c77e3",
   "metadata": {},
   "outputs": [
    {
     "data": {
      "text/plain": [
       "array([[0.],\n",
       "       [0.],\n",
       "       [0.],\n",
       "       [0.],\n",
       "       [0.],\n",
       "       [0.],\n",
       "       [0.],\n",
       "       [1.],\n",
       "       [1.],\n",
       "       [1.],\n",
       "       [1.],\n",
       "       [1.],\n",
       "       [1.],\n",
       "       [1.],\n",
       "       [1.]])"
      ]
     },
     "execution_count": 41,
     "metadata": {},
     "output_type": "execute_result"
    }
   ],
   "source": [
    "enc = OneHotEncoder(sparse=False, drop=\"first\")\n",
    "enc.fit_transform(X = books[[\"cover\"]])"
   ]
  },
  {
   "cell_type": "code",
   "execution_count": 42,
   "id": "be84712f-5cee-4abb-9e5b-abd86ba35b14",
   "metadata": {},
   "outputs": [
    {
     "data": {
      "text/plain": [
       "array(['cover_pb'], dtype=object)"
      ]
     },
     "execution_count": 42,
     "metadata": {},
     "output_type": "execute_result"
    }
   ],
   "source": [
    "enc.get_feature_names_out()"
   ]
  },
  {
   "cell_type": "code",
   "execution_count": 43,
   "id": "bdbf0e26-879c-40e3-9395-bd2e298e7fcf",
   "metadata": {},
   "outputs": [
    {
     "data": {
      "text/plain": [
       "array([['hb'],\n",
       "       ['hb'],\n",
       "       ['hb'],\n",
       "       ['hb'],\n",
       "       ['hb'],\n",
       "       ['hb'],\n",
       "       ['hb'],\n",
       "       ['pb'],\n",
       "       ['pb'],\n",
       "       ['pb'],\n",
       "       ['pb'],\n",
       "       ['pb'],\n",
       "       ['pb'],\n",
       "       ['pb'],\n",
       "       ['pb']], dtype=object)"
      ]
     },
     "execution_count": 43,
     "metadata": {},
     "output_type": "execute_result"
    }
   ],
   "source": [
    "# inverse (undo) transform\n",
    "f = enc.transform(X = books[[\"cover\"]])\n",
    "enc.inverse_transform(f)"
   ]
  },
  {
   "cell_type": "code",
   "execution_count": 45,
   "id": "c1246e6c-5d4d-4775-a292-e811adfb6004",
   "metadata": {},
   "outputs": [
    {
     "data": {
      "text/html": [
       "<div>\n",
       "<style scoped>\n",
       "    .dataframe tbody tr th:only-of-type {\n",
       "        vertical-align: middle;\n",
       "    }\n",
       "\n",
       "    .dataframe tbody tr th {\n",
       "        vertical-align: top;\n",
       "    }\n",
       "\n",
       "    .dataframe thead th {\n",
       "        text-align: right;\n",
       "    }\n",
       "</style>\n",
       "<table border=\"1\" class=\"dataframe\">\n",
       "  <thead>\n",
       "    <tr style=\"text-align: right;\">\n",
       "      <th></th>\n",
       "      <th>volume_239</th>\n",
       "      <th>volume_412</th>\n",
       "      <th>volume_419</th>\n",
       "      <th>volume_595</th>\n",
       "      <th>volume_641</th>\n",
       "      <th>volume_701</th>\n",
       "      <th>volume_885</th>\n",
       "      <th>volume_929</th>\n",
       "      <th>volume_953</th>\n",
       "      <th>volume_1010</th>\n",
       "      <th>volume_1016</th>\n",
       "      <th>volume_1034</th>\n",
       "      <th>volume_1125</th>\n",
       "      <th>volume_1228</th>\n",
       "      <th>volume_1492</th>\n",
       "      <th>cover_hb</th>\n",
       "      <th>cover_pb</th>\n",
       "    </tr>\n",
       "  </thead>\n",
       "  <tbody>\n",
       "    <tr>\n",
       "      <th>0</th>\n",
       "      <td>0.0</td>\n",
       "      <td>0.0</td>\n",
       "      <td>0.0</td>\n",
       "      <td>0.0</td>\n",
       "      <td>0.0</td>\n",
       "      <td>0.0</td>\n",
       "      <td>1.0</td>\n",
       "      <td>0.0</td>\n",
       "      <td>0.0</td>\n",
       "      <td>0.0</td>\n",
       "      <td>0.0</td>\n",
       "      <td>0.0</td>\n",
       "      <td>0.0</td>\n",
       "      <td>0.0</td>\n",
       "      <td>0.0</td>\n",
       "      <td>1.0</td>\n",
       "      <td>0.0</td>\n",
       "    </tr>\n",
       "    <tr>\n",
       "      <th>1</th>\n",
       "      <td>0.0</td>\n",
       "      <td>0.0</td>\n",
       "      <td>0.0</td>\n",
       "      <td>0.0</td>\n",
       "      <td>0.0</td>\n",
       "      <td>0.0</td>\n",
       "      <td>0.0</td>\n",
       "      <td>0.0</td>\n",
       "      <td>0.0</td>\n",
       "      <td>0.0</td>\n",
       "      <td>1.0</td>\n",
       "      <td>0.0</td>\n",
       "      <td>0.0</td>\n",
       "      <td>0.0</td>\n",
       "      <td>0.0</td>\n",
       "      <td>1.0</td>\n",
       "      <td>0.0</td>\n",
       "    </tr>\n",
       "    <tr>\n",
       "      <th>2</th>\n",
       "      <td>0.0</td>\n",
       "      <td>0.0</td>\n",
       "      <td>0.0</td>\n",
       "      <td>0.0</td>\n",
       "      <td>0.0</td>\n",
       "      <td>0.0</td>\n",
       "      <td>0.0</td>\n",
       "      <td>0.0</td>\n",
       "      <td>0.0</td>\n",
       "      <td>0.0</td>\n",
       "      <td>0.0</td>\n",
       "      <td>0.0</td>\n",
       "      <td>1.0</td>\n",
       "      <td>0.0</td>\n",
       "      <td>0.0</td>\n",
       "      <td>1.0</td>\n",
       "      <td>0.0</td>\n",
       "    </tr>\n",
       "    <tr>\n",
       "      <th>3</th>\n",
       "      <td>1.0</td>\n",
       "      <td>0.0</td>\n",
       "      <td>0.0</td>\n",
       "      <td>0.0</td>\n",
       "      <td>0.0</td>\n",
       "      <td>0.0</td>\n",
       "      <td>0.0</td>\n",
       "      <td>0.0</td>\n",
       "      <td>0.0</td>\n",
       "      <td>0.0</td>\n",
       "      <td>0.0</td>\n",
       "      <td>0.0</td>\n",
       "      <td>0.0</td>\n",
       "      <td>0.0</td>\n",
       "      <td>0.0</td>\n",
       "      <td>1.0</td>\n",
       "      <td>0.0</td>\n",
       "    </tr>\n",
       "    <tr>\n",
       "      <th>4</th>\n",
       "      <td>0.0</td>\n",
       "      <td>0.0</td>\n",
       "      <td>0.0</td>\n",
       "      <td>0.0</td>\n",
       "      <td>0.0</td>\n",
       "      <td>1.0</td>\n",
       "      <td>0.0</td>\n",
       "      <td>0.0</td>\n",
       "      <td>0.0</td>\n",
       "      <td>0.0</td>\n",
       "      <td>0.0</td>\n",
       "      <td>0.0</td>\n",
       "      <td>0.0</td>\n",
       "      <td>0.0</td>\n",
       "      <td>0.0</td>\n",
       "      <td>1.0</td>\n",
       "      <td>0.0</td>\n",
       "    </tr>\n",
       "    <tr>\n",
       "      <th>5</th>\n",
       "      <td>0.0</td>\n",
       "      <td>0.0</td>\n",
       "      <td>0.0</td>\n",
       "      <td>0.0</td>\n",
       "      <td>1.0</td>\n",
       "      <td>0.0</td>\n",
       "      <td>0.0</td>\n",
       "      <td>0.0</td>\n",
       "      <td>0.0</td>\n",
       "      <td>0.0</td>\n",
       "      <td>0.0</td>\n",
       "      <td>0.0</td>\n",
       "      <td>0.0</td>\n",
       "      <td>0.0</td>\n",
       "      <td>0.0</td>\n",
       "      <td>1.0</td>\n",
       "      <td>0.0</td>\n",
       "    </tr>\n",
       "    <tr>\n",
       "      <th>6</th>\n",
       "      <td>0.0</td>\n",
       "      <td>0.0</td>\n",
       "      <td>0.0</td>\n",
       "      <td>0.0</td>\n",
       "      <td>0.0</td>\n",
       "      <td>0.0</td>\n",
       "      <td>0.0</td>\n",
       "      <td>0.0</td>\n",
       "      <td>0.0</td>\n",
       "      <td>0.0</td>\n",
       "      <td>0.0</td>\n",
       "      <td>0.0</td>\n",
       "      <td>0.0</td>\n",
       "      <td>1.0</td>\n",
       "      <td>0.0</td>\n",
       "      <td>1.0</td>\n",
       "      <td>0.0</td>\n",
       "    </tr>\n",
       "    <tr>\n",
       "      <th>7</th>\n",
       "      <td>0.0</td>\n",
       "      <td>1.0</td>\n",
       "      <td>0.0</td>\n",
       "      <td>0.0</td>\n",
       "      <td>0.0</td>\n",
       "      <td>0.0</td>\n",
       "      <td>0.0</td>\n",
       "      <td>0.0</td>\n",
       "      <td>0.0</td>\n",
       "      <td>0.0</td>\n",
       "      <td>0.0</td>\n",
       "      <td>0.0</td>\n",
       "      <td>0.0</td>\n",
       "      <td>0.0</td>\n",
       "      <td>0.0</td>\n",
       "      <td>0.0</td>\n",
       "      <td>1.0</td>\n",
       "    </tr>\n",
       "    <tr>\n",
       "      <th>8</th>\n",
       "      <td>0.0</td>\n",
       "      <td>0.0</td>\n",
       "      <td>0.0</td>\n",
       "      <td>0.0</td>\n",
       "      <td>0.0</td>\n",
       "      <td>0.0</td>\n",
       "      <td>0.0</td>\n",
       "      <td>0.0</td>\n",
       "      <td>1.0</td>\n",
       "      <td>0.0</td>\n",
       "      <td>0.0</td>\n",
       "      <td>0.0</td>\n",
       "      <td>0.0</td>\n",
       "      <td>0.0</td>\n",
       "      <td>0.0</td>\n",
       "      <td>0.0</td>\n",
       "      <td>1.0</td>\n",
       "    </tr>\n",
       "    <tr>\n",
       "      <th>9</th>\n",
       "      <td>0.0</td>\n",
       "      <td>0.0</td>\n",
       "      <td>0.0</td>\n",
       "      <td>0.0</td>\n",
       "      <td>0.0</td>\n",
       "      <td>0.0</td>\n",
       "      <td>0.0</td>\n",
       "      <td>1.0</td>\n",
       "      <td>0.0</td>\n",
       "      <td>0.0</td>\n",
       "      <td>0.0</td>\n",
       "      <td>0.0</td>\n",
       "      <td>0.0</td>\n",
       "      <td>0.0</td>\n",
       "      <td>0.0</td>\n",
       "      <td>0.0</td>\n",
       "      <td>1.0</td>\n",
       "    </tr>\n",
       "    <tr>\n",
       "      <th>10</th>\n",
       "      <td>0.0</td>\n",
       "      <td>0.0</td>\n",
       "      <td>0.0</td>\n",
       "      <td>0.0</td>\n",
       "      <td>0.0</td>\n",
       "      <td>0.0</td>\n",
       "      <td>0.0</td>\n",
       "      <td>0.0</td>\n",
       "      <td>0.0</td>\n",
       "      <td>0.0</td>\n",
       "      <td>0.0</td>\n",
       "      <td>0.0</td>\n",
       "      <td>0.0</td>\n",
       "      <td>0.0</td>\n",
       "      <td>1.0</td>\n",
       "      <td>0.0</td>\n",
       "      <td>1.0</td>\n",
       "    </tr>\n",
       "    <tr>\n",
       "      <th>11</th>\n",
       "      <td>0.0</td>\n",
       "      <td>0.0</td>\n",
       "      <td>1.0</td>\n",
       "      <td>0.0</td>\n",
       "      <td>0.0</td>\n",
       "      <td>0.0</td>\n",
       "      <td>0.0</td>\n",
       "      <td>0.0</td>\n",
       "      <td>0.0</td>\n",
       "      <td>0.0</td>\n",
       "      <td>0.0</td>\n",
       "      <td>0.0</td>\n",
       "      <td>0.0</td>\n",
       "      <td>0.0</td>\n",
       "      <td>0.0</td>\n",
       "      <td>0.0</td>\n",
       "      <td>1.0</td>\n",
       "    </tr>\n",
       "    <tr>\n",
       "      <th>12</th>\n",
       "      <td>0.0</td>\n",
       "      <td>0.0</td>\n",
       "      <td>0.0</td>\n",
       "      <td>0.0</td>\n",
       "      <td>0.0</td>\n",
       "      <td>0.0</td>\n",
       "      <td>0.0</td>\n",
       "      <td>0.0</td>\n",
       "      <td>0.0</td>\n",
       "      <td>1.0</td>\n",
       "      <td>0.0</td>\n",
       "      <td>0.0</td>\n",
       "      <td>0.0</td>\n",
       "      <td>0.0</td>\n",
       "      <td>0.0</td>\n",
       "      <td>0.0</td>\n",
       "      <td>1.0</td>\n",
       "    </tr>\n",
       "    <tr>\n",
       "      <th>13</th>\n",
       "      <td>0.0</td>\n",
       "      <td>0.0</td>\n",
       "      <td>0.0</td>\n",
       "      <td>1.0</td>\n",
       "      <td>0.0</td>\n",
       "      <td>0.0</td>\n",
       "      <td>0.0</td>\n",
       "      <td>0.0</td>\n",
       "      <td>0.0</td>\n",
       "      <td>0.0</td>\n",
       "      <td>0.0</td>\n",
       "      <td>0.0</td>\n",
       "      <td>0.0</td>\n",
       "      <td>0.0</td>\n",
       "      <td>0.0</td>\n",
       "      <td>0.0</td>\n",
       "      <td>1.0</td>\n",
       "    </tr>\n",
       "    <tr>\n",
       "      <th>14</th>\n",
       "      <td>0.0</td>\n",
       "      <td>0.0</td>\n",
       "      <td>0.0</td>\n",
       "      <td>0.0</td>\n",
       "      <td>0.0</td>\n",
       "      <td>0.0</td>\n",
       "      <td>0.0</td>\n",
       "      <td>0.0</td>\n",
       "      <td>0.0</td>\n",
       "      <td>0.0</td>\n",
       "      <td>0.0</td>\n",
       "      <td>1.0</td>\n",
       "      <td>0.0</td>\n",
       "      <td>0.0</td>\n",
       "      <td>0.0</td>\n",
       "      <td>0.0</td>\n",
       "      <td>1.0</td>\n",
       "    </tr>\n",
       "  </tbody>\n",
       "</table>\n",
       "</div>"
      ],
      "text/plain": [
       "    volume_239  volume_412  volume_419  volume_595  volume_641  volume_701  \\\n",
       "0          0.0         0.0         0.0         0.0         0.0         0.0   \n",
       "1          0.0         0.0         0.0         0.0         0.0         0.0   \n",
       "2          0.0         0.0         0.0         0.0         0.0         0.0   \n",
       "3          1.0         0.0         0.0         0.0         0.0         0.0   \n",
       "4          0.0         0.0         0.0         0.0         0.0         1.0   \n",
       "5          0.0         0.0         0.0         0.0         1.0         0.0   \n",
       "6          0.0         0.0         0.0         0.0         0.0         0.0   \n",
       "7          0.0         1.0         0.0         0.0         0.0         0.0   \n",
       "8          0.0         0.0         0.0         0.0         0.0         0.0   \n",
       "9          0.0         0.0         0.0         0.0         0.0         0.0   \n",
       "10         0.0         0.0         0.0         0.0         0.0         0.0   \n",
       "11         0.0         0.0         1.0         0.0         0.0         0.0   \n",
       "12         0.0         0.0         0.0         0.0         0.0         0.0   \n",
       "13         0.0         0.0         0.0         1.0         0.0         0.0   \n",
       "14         0.0         0.0         0.0         0.0         0.0         0.0   \n",
       "\n",
       "    volume_885  volume_929  volume_953  volume_1010  volume_1016  volume_1034  \\\n",
       "0          1.0         0.0         0.0          0.0          0.0          0.0   \n",
       "1          0.0         0.0         0.0          0.0          1.0          0.0   \n",
       "2          0.0         0.0         0.0          0.0          0.0          0.0   \n",
       "3          0.0         0.0         0.0          0.0          0.0          0.0   \n",
       "4          0.0         0.0         0.0          0.0          0.0          0.0   \n",
       "5          0.0         0.0         0.0          0.0          0.0          0.0   \n",
       "6          0.0         0.0         0.0          0.0          0.0          0.0   \n",
       "7          0.0         0.0         0.0          0.0          0.0          0.0   \n",
       "8          0.0         0.0         1.0          0.0          0.0          0.0   \n",
       "9          0.0         1.0         0.0          0.0          0.0          0.0   \n",
       "10         0.0         0.0         0.0          0.0          0.0          0.0   \n",
       "11         0.0         0.0         0.0          0.0          0.0          0.0   \n",
       "12         0.0         0.0         0.0          1.0          0.0          0.0   \n",
       "13         0.0         0.0         0.0          0.0          0.0          0.0   \n",
       "14         0.0         0.0         0.0          0.0          0.0          1.0   \n",
       "\n",
       "    volume_1125  volume_1228  volume_1492  cover_hb  cover_pb  \n",
       "0           0.0          0.0          0.0       1.0       0.0  \n",
       "1           0.0          0.0          0.0       1.0       0.0  \n",
       "2           1.0          0.0          0.0       1.0       0.0  \n",
       "3           0.0          0.0          0.0       1.0       0.0  \n",
       "4           0.0          0.0          0.0       1.0       0.0  \n",
       "5           0.0          0.0          0.0       1.0       0.0  \n",
       "6           0.0          1.0          0.0       1.0       0.0  \n",
       "7           0.0          0.0          0.0       0.0       1.0  \n",
       "8           0.0          0.0          0.0       0.0       1.0  \n",
       "9           0.0          0.0          0.0       0.0       1.0  \n",
       "10          0.0          0.0          1.0       0.0       1.0  \n",
       "11          0.0          0.0          0.0       0.0       1.0  \n",
       "12          0.0          0.0          0.0       0.0       1.0  \n",
       "13          0.0          0.0          0.0       0.0       1.0  \n",
       "14          0.0          0.0          0.0       0.0       1.0  "
      ]
     },
     "execution_count": 45,
     "metadata": {},
     "output_type": "execute_result"
    }
   ],
   "source": [
    "enc = OneHotEncoder(sparse=False)\n",
    "X = enc.fit_transform(\n",
    "  X = books[[\"volume\", \"cover\"]]\n",
    ")\n",
    "\n",
    "pd.DataFrame(\n",
    "  data=X,\n",
    "  columns = enc.get_feature_names_out()\n",
    ")\n",
    "# columna name is changed!!! not that facncy then get_dummies() \n",
    "# => need to use it only for categorical data"
   ]
  },
  {
   "cell_type": "code",
   "execution_count": 46,
   "id": "33822813-6b0c-4aa4-a9ff-d1d9f317b135",
   "metadata": {},
   "outputs": [
    {
     "data": {
      "text/plain": [
       "array([[8.850e+02, 1.000e+00, 0.000e+00],\n",
       "       [1.016e+03, 1.000e+00, 0.000e+00],\n",
       "       [1.125e+03, 1.000e+00, 0.000e+00],\n",
       "       [2.390e+02, 1.000e+00, 0.000e+00],\n",
       "       [7.010e+02, 1.000e+00, 0.000e+00],\n",
       "       [6.410e+02, 1.000e+00, 0.000e+00],\n",
       "       [1.228e+03, 1.000e+00, 0.000e+00],\n",
       "       [4.120e+02, 0.000e+00, 1.000e+00],\n",
       "       [9.530e+02, 0.000e+00, 1.000e+00],\n",
       "       [9.290e+02, 0.000e+00, 1.000e+00],\n",
       "       [1.492e+03, 0.000e+00, 1.000e+00],\n",
       "       [4.190e+02, 0.000e+00, 1.000e+00],\n",
       "       [1.010e+03, 0.000e+00, 1.000e+00],\n",
       "       [5.950e+02, 0.000e+00, 1.000e+00],\n",
       "       [1.034e+03, 0.000e+00, 1.000e+00]])"
      ]
     },
     "execution_count": 46,
     "metadata": {},
     "output_type": "execute_result"
    }
   ],
   "source": [
    "cover = OneHotEncoder(\n",
    "  sparse=False\n",
    ").fit_transform(\n",
    "  books[[\"cover\"]]\n",
    ") # full one-hot encoding\n",
    "\n",
    "X = np.c_[books.volume, cover]\n",
    "X"
   ]
  },
  {
   "cell_type": "code",
   "execution_count": 47,
   "id": "b9e6c338-b493-499a-8925-7eb0234c25c5",
   "metadata": {},
   "outputs": [
    {
     "data": {
      "text/plain": [
       "array([  0.71795374, 197.96284357,  13.91557219])"
      ]
     },
     "execution_count": 47,
     "metadata": {},
     "output_type": "execute_result"
    }
   ],
   "source": [
    "lm2 = LinearRegression(fit_intercept=False).fit(\n",
    "  X = X,\n",
    "  y = books.weight\n",
    ")\n",
    "\n",
    "lm2.coef_"
   ]
  },
  {
   "cell_type": "code",
   "execution_count": 49,
   "id": "33996b6b-316c-4a88-9862-fcf7ae428982",
   "metadata": {},
   "outputs": [
    {
     "data": {
      "text/html": [
       "<div>\n",
       "<style scoped>\n",
       "    .dataframe tbody tr th:only-of-type {\n",
       "        vertical-align: middle;\n",
       "    }\n",
       "\n",
       "    .dataframe tbody tr th {\n",
       "        vertical-align: top;\n",
       "    }\n",
       "\n",
       "    .dataframe thead th {\n",
       "        text-align: right;\n",
       "    }\n",
       "</style>\n",
       "<table border=\"1\" class=\"dataframe\">\n",
       "  <thead>\n",
       "    <tr style=\"text-align: right;\">\n",
       "      <th></th>\n",
       "      <th>volume</th>\n",
       "      <th>area</th>\n",
       "      <th>weight</th>\n",
       "      <th>cover</th>\n",
       "      <th>weight_lm_pred</th>\n",
       "      <th>resid_lm_pred</th>\n",
       "      <th>weight_lm2_pred</th>\n",
       "    </tr>\n",
       "  </thead>\n",
       "  <tbody>\n",
       "    <tr>\n",
       "      <th>1</th>\n",
       "      <td>885</td>\n",
       "      <td>382</td>\n",
       "      <td>800</td>\n",
       "      <td>hb</td>\n",
       "      <td>734.823182</td>\n",
       "      <td>65.176818</td>\n",
       "      <td>833.351907</td>\n",
       "    </tr>\n",
       "    <tr>\n",
       "      <th>2</th>\n",
       "      <td>1016</td>\n",
       "      <td>468</td>\n",
       "      <td>950</td>\n",
       "      <td>hb</td>\n",
       "      <td>827.654648</td>\n",
       "      <td>122.345352</td>\n",
       "      <td>927.403847</td>\n",
       "    </tr>\n",
       "    <tr>\n",
       "      <th>3</th>\n",
       "      <td>1125</td>\n",
       "      <td>387</td>\n",
       "      <td>1050</td>\n",
       "      <td>hb</td>\n",
       "      <td>904.896097</td>\n",
       "      <td>145.103903</td>\n",
       "      <td>1005.660805</td>\n",
       "    </tr>\n",
       "    <tr>\n",
       "      <th>4</th>\n",
       "      <td>239</td>\n",
       "      <td>371</td>\n",
       "      <td>350</td>\n",
       "      <td>hb</td>\n",
       "      <td>277.043588</td>\n",
       "      <td>72.956412</td>\n",
       "      <td>369.553788</td>\n",
       "    </tr>\n",
       "    <tr>\n",
       "      <th>5</th>\n",
       "      <td>701</td>\n",
       "      <td>371</td>\n",
       "      <td>750</td>\n",
       "      <td>hb</td>\n",
       "      <td>604.433948</td>\n",
       "      <td>145.566052</td>\n",
       "      <td>701.248418</td>\n",
       "    </tr>\n",
       "    <tr>\n",
       "      <th>6</th>\n",
       "      <td>641</td>\n",
       "      <td>367</td>\n",
       "      <td>600</td>\n",
       "      <td>hb</td>\n",
       "      <td>561.915720</td>\n",
       "      <td>38.084280</td>\n",
       "      <td>658.171193</td>\n",
       "    </tr>\n",
       "    <tr>\n",
       "      <th>7</th>\n",
       "      <td>1228</td>\n",
       "      <td>396</td>\n",
       "      <td>1075</td>\n",
       "      <td>hb</td>\n",
       "      <td>977.885723</td>\n",
       "      <td>97.114277</td>\n",
       "      <td>1079.610041</td>\n",
       "    </tr>\n",
       "    <tr>\n",
       "      <th>8</th>\n",
       "      <td>412</td>\n",
       "      <td>0</td>\n",
       "      <td>250</td>\n",
       "      <td>pb</td>\n",
       "      <td>399.637814</td>\n",
       "      <td>-149.637814</td>\n",
       "      <td>309.712515</td>\n",
       "    </tr>\n",
       "    <tr>\n",
       "      <th>9</th>\n",
       "      <td>953</td>\n",
       "      <td>0</td>\n",
       "      <td>700</td>\n",
       "      <td>pb</td>\n",
       "      <td>783.010508</td>\n",
       "      <td>-83.010508</td>\n",
       "      <td>698.125490</td>\n",
       "    </tr>\n",
       "    <tr>\n",
       "      <th>10</th>\n",
       "      <td>929</td>\n",
       "      <td>0</td>\n",
       "      <td>650</td>\n",
       "      <td>pb</td>\n",
       "      <td>766.003217</td>\n",
       "      <td>-116.003217</td>\n",
       "      <td>680.894600</td>\n",
       "    </tr>\n",
       "    <tr>\n",
       "      <th>11</th>\n",
       "      <td>1492</td>\n",
       "      <td>0</td>\n",
       "      <td>975</td>\n",
       "      <td>pb</td>\n",
       "      <td>1164.965929</td>\n",
       "      <td>-189.965929</td>\n",
       "      <td>1085.102558</td>\n",
       "    </tr>\n",
       "    <tr>\n",
       "      <th>12</th>\n",
       "      <td>419</td>\n",
       "      <td>0</td>\n",
       "      <td>350</td>\n",
       "      <td>pb</td>\n",
       "      <td>404.598274</td>\n",
       "      <td>-54.598274</td>\n",
       "      <td>314.738191</td>\n",
       "    </tr>\n",
       "    <tr>\n",
       "      <th>13</th>\n",
       "      <td>1010</td>\n",
       "      <td>0</td>\n",
       "      <td>950</td>\n",
       "      <td>pb</td>\n",
       "      <td>823.402825</td>\n",
       "      <td>126.597175</td>\n",
       "      <td>739.048853</td>\n",
       "    </tr>\n",
       "    <tr>\n",
       "      <th>14</th>\n",
       "      <td>595</td>\n",
       "      <td>0</td>\n",
       "      <td>425</td>\n",
       "      <td>pb</td>\n",
       "      <td>529.318411</td>\n",
       "      <td>-104.318411</td>\n",
       "      <td>441.098050</td>\n",
       "    </tr>\n",
       "    <tr>\n",
       "      <th>15</th>\n",
       "      <td>1034</td>\n",
       "      <td>0</td>\n",
       "      <td>725</td>\n",
       "      <td>pb</td>\n",
       "      <td>840.410117</td>\n",
       "      <td>-115.410117</td>\n",
       "      <td>756.279743</td>\n",
       "    </tr>\n",
       "  </tbody>\n",
       "</table>\n",
       "</div>"
      ],
      "text/plain": [
       "    volume  area  weight cover  weight_lm_pred  resid_lm_pred  weight_lm2_pred\n",
       "1      885   382     800    hb      734.823182      65.176818       833.351907\n",
       "2     1016   468     950    hb      827.654648     122.345352       927.403847\n",
       "3     1125   387    1050    hb      904.896097     145.103903      1005.660805\n",
       "4      239   371     350    hb      277.043588      72.956412       369.553788\n",
       "5      701   371     750    hb      604.433948     145.566052       701.248418\n",
       "6      641   367     600    hb      561.915720      38.084280       658.171193\n",
       "7     1228   396    1075    hb      977.885723      97.114277      1079.610041\n",
       "8      412     0     250    pb      399.637814    -149.637814       309.712515\n",
       "9      953     0     700    pb      783.010508     -83.010508       698.125490\n",
       "10     929     0     650    pb      766.003217    -116.003217       680.894600\n",
       "11    1492     0     975    pb     1164.965929    -189.965929      1085.102558\n",
       "12     419     0     350    pb      404.598274     -54.598274       314.738191\n",
       "13    1010     0     950    pb      823.402825     126.597175       739.048853\n",
       "14     595     0     425    pb      529.318411    -104.318411       441.098050\n",
       "15    1034     0     725    pb      840.410117    -115.410117       756.279743"
      ]
     },
     "execution_count": 49,
     "metadata": {},
     "output_type": "execute_result"
    }
   ],
   "source": [
    "books[\"weight_lm2_pred\"] = lm2.predict(X=X)\n",
    "books"
   ]
  },
  {
   "cell_type": "code",
   "execution_count": 50,
   "id": "7f121d06-202c-46ed-8d60-0c6419a6dfdc",
   "metadata": {},
   "outputs": [
    {
     "data": {
      "text/html": [
       "<div>\n",
       "<style scoped>\n",
       "    .dataframe tbody tr th:only-of-type {\n",
       "        vertical-align: middle;\n",
       "    }\n",
       "\n",
       "    .dataframe tbody tr th {\n",
       "        vertical-align: top;\n",
       "    }\n",
       "\n",
       "    .dataframe thead th {\n",
       "        text-align: right;\n",
       "    }\n",
       "</style>\n",
       "<table border=\"1\" class=\"dataframe\">\n",
       "  <thead>\n",
       "    <tr style=\"text-align: right;\">\n",
       "      <th></th>\n",
       "      <th>volume</th>\n",
       "      <th>area</th>\n",
       "      <th>weight</th>\n",
       "      <th>cover</th>\n",
       "      <th>weight_lm2_pred</th>\n",
       "    </tr>\n",
       "  </thead>\n",
       "  <tbody>\n",
       "    <tr>\n",
       "      <th>1</th>\n",
       "      <td>885</td>\n",
       "      <td>382</td>\n",
       "      <td>800</td>\n",
       "      <td>hb</td>\n",
       "      <td>833.351907</td>\n",
       "    </tr>\n",
       "    <tr>\n",
       "      <th>2</th>\n",
       "      <td>1016</td>\n",
       "      <td>468</td>\n",
       "      <td>950</td>\n",
       "      <td>hb</td>\n",
       "      <td>927.403847</td>\n",
       "    </tr>\n",
       "    <tr>\n",
       "      <th>3</th>\n",
       "      <td>1125</td>\n",
       "      <td>387</td>\n",
       "      <td>1050</td>\n",
       "      <td>hb</td>\n",
       "      <td>1005.660805</td>\n",
       "    </tr>\n",
       "    <tr>\n",
       "      <th>4</th>\n",
       "      <td>239</td>\n",
       "      <td>371</td>\n",
       "      <td>350</td>\n",
       "      <td>hb</td>\n",
       "      <td>369.553788</td>\n",
       "    </tr>\n",
       "    <tr>\n",
       "      <th>5</th>\n",
       "      <td>701</td>\n",
       "      <td>371</td>\n",
       "      <td>750</td>\n",
       "      <td>hb</td>\n",
       "      <td>701.248418</td>\n",
       "    </tr>\n",
       "    <tr>\n",
       "      <th>6</th>\n",
       "      <td>641</td>\n",
       "      <td>367</td>\n",
       "      <td>600</td>\n",
       "      <td>hb</td>\n",
       "      <td>658.171193</td>\n",
       "    </tr>\n",
       "    <tr>\n",
       "      <th>7</th>\n",
       "      <td>1228</td>\n",
       "      <td>396</td>\n",
       "      <td>1075</td>\n",
       "      <td>hb</td>\n",
       "      <td>1079.610041</td>\n",
       "    </tr>\n",
       "    <tr>\n",
       "      <th>8</th>\n",
       "      <td>412</td>\n",
       "      <td>0</td>\n",
       "      <td>250</td>\n",
       "      <td>pb</td>\n",
       "      <td>309.712515</td>\n",
       "    </tr>\n",
       "    <tr>\n",
       "      <th>9</th>\n",
       "      <td>953</td>\n",
       "      <td>0</td>\n",
       "      <td>700</td>\n",
       "      <td>pb</td>\n",
       "      <td>698.125490</td>\n",
       "    </tr>\n",
       "    <tr>\n",
       "      <th>10</th>\n",
       "      <td>929</td>\n",
       "      <td>0</td>\n",
       "      <td>650</td>\n",
       "      <td>pb</td>\n",
       "      <td>680.894600</td>\n",
       "    </tr>\n",
       "    <tr>\n",
       "      <th>11</th>\n",
       "      <td>1492</td>\n",
       "      <td>0</td>\n",
       "      <td>975</td>\n",
       "      <td>pb</td>\n",
       "      <td>1085.102558</td>\n",
       "    </tr>\n",
       "    <tr>\n",
       "      <th>12</th>\n",
       "      <td>419</td>\n",
       "      <td>0</td>\n",
       "      <td>350</td>\n",
       "      <td>pb</td>\n",
       "      <td>314.738191</td>\n",
       "    </tr>\n",
       "    <tr>\n",
       "      <th>13</th>\n",
       "      <td>1010</td>\n",
       "      <td>0</td>\n",
       "      <td>950</td>\n",
       "      <td>pb</td>\n",
       "      <td>739.048853</td>\n",
       "    </tr>\n",
       "    <tr>\n",
       "      <th>14</th>\n",
       "      <td>595</td>\n",
       "      <td>0</td>\n",
       "      <td>425</td>\n",
       "      <td>pb</td>\n",
       "      <td>441.098050</td>\n",
       "    </tr>\n",
       "    <tr>\n",
       "      <th>15</th>\n",
       "      <td>1034</td>\n",
       "      <td>0</td>\n",
       "      <td>725</td>\n",
       "      <td>pb</td>\n",
       "      <td>756.279743</td>\n",
       "    </tr>\n",
       "  </tbody>\n",
       "</table>\n",
       "</div>"
      ],
      "text/plain": [
       "    volume  area  weight cover  weight_lm2_pred\n",
       "1      885   382     800    hb       833.351907\n",
       "2     1016   468     950    hb       927.403847\n",
       "3     1125   387    1050    hb      1005.660805\n",
       "4      239   371     350    hb       369.553788\n",
       "5      701   371     750    hb       701.248418\n",
       "6      641   367     600    hb       658.171193\n",
       "7     1228   396    1075    hb      1079.610041\n",
       "8      412     0     250    pb       309.712515\n",
       "9      953     0     700    pb       698.125490\n",
       "10     929     0     650    pb       680.894600\n",
       "11    1492     0     975    pb      1085.102558\n",
       "12     419     0     350    pb       314.738191\n",
       "13    1010     0     950    pb       739.048853\n",
       "14     595     0     425    pb       441.098050\n",
       "15    1034     0     725    pb       756.279743"
      ]
     },
     "execution_count": 50,
     "metadata": {},
     "output_type": "execute_result"
    }
   ],
   "source": [
    "books.drop([\"weight_lm_pred\", \"resid_lm_pred\"], axis=1)"
   ]
  },
  {
   "cell_type": "code",
   "execution_count": 52,
   "id": "ffb2277a-6d91-4188-881b-8ead052b7dec",
   "metadata": {},
   "outputs": [
    {
     "data": {
      "image/png": "[encoded data removed]",
      "text/plain": [
       "<Figure size 640x480 with 1 Axes>"
      ]
     },
     "metadata": {},
     "output_type": "display_data"
    }
   ],
   "source": [
    "plt.figure()\n",
    "sns.scatterplot(data=books, x=\"volume\", y=\"weight\", hue=\"cover\")\n",
    "sns.lineplot(data=books, x=\"volume\", y=\"weight_lm2_pred\", hue=\"cover\")\n",
    "plt.show()"
   ]
  },
  {
   "cell_type": "code",
   "execution_count": 53,
   "id": "e87346e8-c19c-42f4-a13d-db2e49b88bf3",
   "metadata": {},
   "outputs": [
    {
     "data": {
      "image/png": "[encoded data removed]",
      "text/plain": [
       "<Figure size 640x480 with 1 Axes>"
      ]
     },
     "metadata": {},
     "output_type": "display_data"
    }
   ],
   "source": [
    "books[\"resid_lm2_pred\"] = books[\"weight\"] - books[\"weight_lm2_pred\"]\n",
    "\n",
    "plt.figure(layout=\"constrained\")\n",
    "ax = sns.scatterplot(data=books, x=\"volume\", y=\"resid_lm2_pred\", hue=\"cover\")\n",
    "ax.axhline(c=\"k\", ls=\"--\", lw=1)\n",
    "plt.show()"
   ]
  },
  {
   "cell_type": "markdown",
   "id": "4e4fae88-cc93-44fd-ba20-9d4aa4a7e493",
   "metadata": {},
   "source": [
    "## Model performance"
   ]
  },
  {
   "cell_type": "code",
   "execution_count": 55,
   "id": "06c9101c-68d9-4484-91e5-0695c63eb4ca",
   "metadata": {},
   "outputs": [],
   "source": [
    "from sklearn.metrics import mean_squared_error, r2_score"
   ]
  },
  {
   "cell_type": "code",
   "execution_count": 56,
   "id": "34d70b5b-ad25-408a-af44-3eebe7428984",
   "metadata": {},
   "outputs": [
    {
     "data": {
      "text/plain": [
       "115.38368348993234"
      ]
     },
     "execution_count": 56,
     "metadata": {},
     "output_type": "execute_result"
    }
   ],
   "source": [
    "r2_score(books.weight, books.weight_lm_pred)\n",
    "mean_squared_error(books.weight, books.weight_lm_pred) # MSE\n",
    "mean_squared_error(books.weight, books.weight_lm_pred, squared=False) # RMSE"
   ]
  },
  {
   "cell_type": "code",
   "execution_count": 57,
   "id": "b28888b2-1af8-44e3-862f-e792e366dcf1",
   "metadata": {},
   "outputs": [
    {
     "data": {
      "text/plain": [
       "69.94312276839727"
      ]
     },
     "execution_count": 57,
     "metadata": {},
     "output_type": "execute_result"
    }
   ],
   "source": [
    "r2_score(books.weight, books.weight_lm2_pred)\n",
    "mean_squared_error(books.weight, books.weight_lm2_pred) # MSE\n",
    "mean_squared_error(books.weight, books.weight_lm2_pred, squared=False) # RMSE"
   ]
  },
  {
   "cell_type": "markdown",
   "id": "ad5991d1-b620-4f5a-a45c-f70ac1f0a01d",
   "metadata": {},
   "source": [
    "### Excercise 1"
   ]
  },
  {
   "cell_type": "code",
   "execution_count": 62,
   "id": "8fa3546f-c894-4d3a-a527-e28f26ac41d2",
   "metadata": {},
   "outputs": [
    {
     "data": {
      "text/plain": [
       "1     0\n",
       "2     0\n",
       "3     0\n",
       "4     0\n",
       "5     0\n",
       "6     0\n",
       "7     0\n",
       "8     1\n",
       "9     1\n",
       "10    1\n",
       "11    1\n",
       "12    1\n",
       "13    1\n",
       "14    1\n",
       "15    1\n",
       "Name: cover_pb, dtype: uint8"
      ]
     },
     "execution_count": 62,
     "metadata": {},
     "output_type": "execute_result"
    }
   ],
   "source": [
    "books = pd.read_csv(url, index_col=0)\n",
    "cover = pd.get_dummies(books[[\"cover\"]],drop_first=True)"
   ]
  },
  {
   "cell_type": "code",
   "execution_count": 63,
   "id": "bd0a15e5-3cbd-4c14-a1f5-326609b0c554",
   "metadata": {},
   "outputs": [
    {
     "data": {
      "text/plain": [
       "array([[ 885,    0,    0],\n",
       "       [1016,    0,    0],\n",
       "       [1125,    0,    0],\n",
       "       [ 239,    0,    0],\n",
       "       [ 701,    0,    0],\n",
       "       [ 641,    0,    0],\n",
       "       [1228,    0,    0],\n",
       "       [ 412,    1,  412],\n",
       "       [ 953,    1,  953],\n",
       "       [ 929,    1,  929],\n",
       "       [1492,    1, 1492],\n",
       "       [ 419,    1,  419],\n",
       "       [1010,    1, 1010],\n",
       "       [ 595,    1,  595],\n",
       "       [1034,    1, 1034]])"
      ]
     },
     "execution_count": 63,
     "metadata": {},
     "output_type": "execute_result"
    }
   ],
   "source": [
    "X = np.c_[\n",
    "    books.volume,\n",
    "    cover.cover_pb,\n",
    "    cover.cover_pb * books.volume\n",
    "]\n",
    "X"
   ]
  },
  {
   "cell_type": "code",
   "execution_count": 64,
   "id": "ce26d190-ea8f-49f9-ae32-ea31a48855cc",
   "metadata": {},
   "outputs": [],
   "source": [
    "lm = LinearRegression().fit(X=X, y=books.weight)"
   ]
  },
  {
   "cell_type": "code",
   "execution_count": 65,
   "id": "db268f4b-cc6b-4f30-a7f1-f9cc9447f20b",
   "metadata": {},
   "outputs": [
    {
     "data": {
      "text/plain": [
       "(161.5865414110442, array([ 7.61592838e-01, -1.20214066e+02, -7.57336630e-02]))"
      ]
     },
     "execution_count": 65,
     "metadata": {},
     "output_type": "execute_result"
    }
   ],
   "source": [
    "(lm.intercept_,\n",
    "lm.coef_)"
   ]
  },
  {
   "cell_type": "markdown",
   "id": "9a5e32ea-74c1-43b7-966f-1635868add82",
   "metadata": {},
   "source": [
    "## Polynomial regression"
   ]
  },
  {
   "cell_type": "code",
   "execution_count": 70,
   "id": "5b29b5b6-301e-4f4b-ac9e-db179345b654",
   "metadata": {},
   "outputs": [
    {
     "data": {
      "text/plain": [
       "<seaborn.axisgrid.FacetGrid at 0x7f93e1d77af0>"
      ]
     },
     "execution_count": 70,
     "metadata": {},
     "output_type": "execute_result"
    },
    {
     "data": {
      "image/png": "[encoded data removed]",
      "text/plain": [
       "<Figure size 500x500 with 1 Axes>"
      ]
     },
     "metadata": {},
     "output_type": "display_data"
    }
   ],
   "source": [
    "%matplotlib inline\n",
    "df = pd.read_csv(\"https://raw.github.com/Sta663-Sp22/sta663-sp22.github.io/master/slides/data/gp.csv\")\n",
    "sns.relplot(data=df, x=\"x\", y=\"y\")"
   ]
  },
  {
   "cell_type": "code",
   "execution_count": 72,
   "id": "fc56d7ad-ca54-4417-bc73-1e194ca206de",
   "metadata": {},
   "outputs": [
    {
     "data": {
      "text/plain": [
       "array([ 2.36985684, -8.49429068, 13.95066369, -8.39215284])"
      ]
     },
     "execution_count": 72,
     "metadata": {},
     "output_type": "execute_result"
    }
   ],
   "source": [
    "X = np.c_[\n",
    "    np.ones(df.shape[0]),\n",
    "    df.x,\n",
    "    df.x**2,\n",
    "    df.x**3\n",
    "]\n",
    "\n",
    "plm = LinearRegression(fit_intercept = False).fit(X=X, y=df.y)\n",
    "\n",
    "plm.coef_"
   ]
  },
  {
   "cell_type": "code",
   "execution_count": 73,
   "id": "06e1e8ba-44e7-4c86-987f-060027dd518a",
   "metadata": {},
   "outputs": [
    {
     "data": {
      "image/png": "[encoded data removed]",
      "text/plain": [
       "<Figure size 640x480 with 1 Axes>"
      ]
     },
     "metadata": {},
     "output_type": "display_data"
    }
   ],
   "source": [
    "df[\"y_pred\"] = plm.predict(X=X)\n",
    "plt.figure(layout=\"constrained\")\n",
    "sns.scatterplot(data=df, x=\"x\", y=\"y\")\n",
    "sns.lineplot(data=df, x=\"x\", y=\"y_pred\", color=\"k\")\n",
    "plt.show()"
   ]
  },
  {
   "cell_type": "code",
   "execution_count": 74,
   "id": "0f68eb17-6dd0-4434-b1f3-ddf0caaea873",
   "metadata": {},
   "outputs": [
    {
     "data": {
      "text/plain": [
       "array(['1', 'x0', 'x0^2', 'x0^3'], dtype=object)"
      ]
     },
     "execution_count": 74,
     "metadata": {},
     "output_type": "execute_result"
    }
   ],
   "source": [
    "from sklearn.preprocessing import PolynomialFeatures\n",
    "X = np.array(range(6)).reshape(-1,1)\n",
    "pf = PolynomialFeatures(degree=3)\n",
    "pf.fit(X)\n",
    "pf.transform(X)\n",
    "pf.get_feature_names_out()"
   ]
  },
  {
   "cell_type": "code",
   "execution_count": 75,
   "id": "5c30b669-d5f9-40a6-9956-8b34300cca1b",
   "metadata": {},
   "outputs": [
    {
     "data": {
      "text/plain": [
       "array(['x0', 'x1', 'x0^2', 'x0 x1', 'x1^2', 'x0^3', 'x0^2 x1', 'x0 x1^2',\n",
       "       'x1^3'], dtype=object)"
      ]
     },
     "execution_count": 75,
     "metadata": {},
     "output_type": "execute_result"
    }
   ],
   "source": [
    "X.reshape(-1, 2)\n",
    "\n",
    "pf = PolynomialFeatures(degree=3, include_bias=False)\n",
    "pf.fit_transform(X.reshape(-1, 2))\n",
    "pf.get_feature_names_out()"
   ]
  },
  {
   "cell_type": "code",
   "execution_count": 77,
   "id": "4746bc13-e31a-4a43-80ca-a8e3d452eb28",
   "metadata": {},
   "outputs": [
    {
     "data": {
      "text/plain": [
       "0.5208157900621084"
      ]
     },
     "execution_count": 77,
     "metadata": {},
     "output_type": "execute_result"
    }
   ],
   "source": [
    "def poly_model(X, y, degree):\n",
    "    X  = PolynomialFeatures(\n",
    "        degree=degree, include_bias=False\n",
    "        ).fit_transform(X=X)\n",
    "    y_pred = LinearRegression().fit(X=X, y=y).predict(X)\n",
    "    return mean_squared_error(y, y_pred, squared=False)\n",
    "\n",
    "poly_model(X = df[[\"x\"]], y = df.y, degree = 2)\n",
    "poly_model(X = df[[\"x\"]], y = df.y, degree = 3)"
   ]
  },
  {
   "cell_type": "code",
   "execution_count": 78,
   "id": "7d734653-8c0f-4777-a6c2-fc7109ebec03",
   "metadata": {},
   "outputs": [
    {
     "data": {
      "text/plain": [
       "<seaborn.axisgrid.FacetGrid at 0x7f93d3eb85b0>"
      ]
     },
     "execution_count": 78,
     "metadata": {},
     "output_type": "execute_result"
    },
    {
     "data": {
      "image/png": "[encoded data removed]",
      "text/plain": [
       "<Figure size 500x500 with 1 Axes>"
      ]
     },
     "metadata": {},
     "output_type": "display_data"
    }
   ],
   "source": [
    "degrees = range(1,11)\n",
    "rmses = [poly_model(X=df[[\"x\"]], y=df.y, degree=d) \n",
    "         for d in degrees]\n",
    "sns.relplot(x=degrees, y=rmses)"
   ]
  },
  {
   "cell_type": "markdown",
   "id": "5ff8bf8f-118d-4d43-8bad-4dc7a6321027",
   "metadata": {},
   "source": [
    "## Pipelines"
   ]
  },
  {
   "cell_type": "code",
   "execution_count": 79,
   "id": "587707c1-8ff1-4068-a1ee-cff1737a120a",
   "metadata": {},
   "outputs": [
    {
     "data": {
      "text/plain": [
       "Pipeline(steps=[('polynomialfeatures', PolynomialFeatures(degree=4)),\n",
       "                ('linearregression', LinearRegression())])"
      ]
     },
     "execution_count": 79,
     "metadata": {},
     "output_type": "execute_result"
    }
   ],
   "source": [
    "# https://zephyrus1111.tistory.com/254\n",
    "\n",
    "from sklearn.pipeline import make_pipeline\n",
    "\n",
    "p = make_pipeline(\n",
    "    PolynomialFeatures(degree=4),\n",
    "    LinearRegression()\n",
    ")\n",
    "\n",
    "p"
   ]
  },
  {
   "cell_type": "code",
   "execution_count": 84,
   "id": "ea48d51e-b7f7-4bc7-9b1b-8873e0afe3e4",
   "metadata": {},
   "outputs": [
    {
     "data": {
      "text/plain": [
       "Pipeline(steps=[('polynomialfeatures', PolynomialFeatures(degree=4)),\n",
       "                ('linearregression', LinearRegression())])"
      ]
     },
     "execution_count": 84,
     "metadata": {},
     "output_type": "execute_result"
    }
   ],
   "source": [
    "p = p.fit(X = df[[\"x\"]], y = df.y)\n",
    "p"
   ]
  },
  {
   "cell_type": "code",
   "execution_count": 85,
   "id": "877ba5ab-c8fb-4292-a80d-1810076b555c",
   "metadata": {},
   "outputs": [
    {
     "data": {
      "image/png": "[encoded data removed]",
      "text/plain": [
       "<Figure size 640x480 with 1 Axes>"
      ]
     },
     "metadata": {},
     "output_type": "display_data"
    }
   ],
   "source": [
    "p.predict(X = df[[\"x\"]])\n",
    "plt.figure(layout=\"constrained\")\n",
    "sns.scatterplot(data=df, x=\"x\", y=\"y\")\n",
    "sns.lineplot(x=df.x, y=p.predict(X = df[[\"x\"]]), color=\"k\")\n",
    "plt.show()"
   ]
  },
  {
   "cell_type": "code",
   "execution_count": 86,
   "id": "537adf34-4b90-46cb-883b-54337a31ce2a",
   "metadata": {},
   "outputs": [
    {
     "ename": "AttributeError",
     "evalue": "'Pipeline' object has no attribute 'coef_'",
     "output_type": "error",
     "traceback": [
      "\u001b[0;31m---------------------------------------------------------------------------\u001b[0m",
      "\u001b[0;31mAttributeError\u001b[0m                            Traceback (most recent call last)",
      "\u001b[0;32m/var/folders/0m/966_8tjn5pddy9gxt6rqdwh00000gn/T/ipykernel_16219/134630012.py\u001b[0m in \u001b[0;36m<module>\u001b[0;34m\u001b[0m\n\u001b[0;32m----> 1\u001b[0;31m \u001b[0mp\u001b[0m\u001b[0;34m.\u001b[0m\u001b[0mcoef_\u001b[0m\u001b[0;34m\u001b[0m\u001b[0;34m\u001b[0m\u001b[0m\n\u001b[0m",
      "\u001b[0;31mAttributeError\u001b[0m: 'Pipeline' object has no attribute 'coef_'"
     ]
    }
   ],
   "source": [
    "p.coef_"
   ]
  },
  {
   "cell_type": "code",
   "execution_count": 87,
   "id": "b325cdc0-c2c9-4dfc-a971-d301b97da48f",
   "metadata": {},
   "outputs": [
    {
     "data": {
      "text/plain": [
       "[('polynomialfeatures', PolynomialFeatures(degree=4)),\n",
       " ('linearregression', LinearRegression())]"
      ]
     },
     "execution_count": 87,
     "metadata": {},
     "output_type": "execute_result"
    }
   ],
   "source": [
    "p.named_steps[\"linearregression\"].intercept_\n",
    "p.steps[1][1].coef_\n",
    "p.steps"
   ]
  },
  {
   "cell_type": "code",
   "execution_count": 88,
   "id": "e0495b12-c661-4c88-ac01-df8fe7e65ae2",
   "metadata": {},
   "outputs": [
    {
     "data": {
      "text/plain": [
       "array(['1', 'x', 'x^2', 'x^3', 'x^4'], dtype=object)"
      ]
     },
     "execution_count": 88,
     "metadata": {},
     "output_type": "execute_result"
    }
   ],
   "source": [
    "p.steps[0][1].get_feature_names_out()"
   ]
  },
  {
   "cell_type": "code",
   "execution_count": 90,
   "id": "6be75f66-7867-46b2-91cf-e27f45689595",
   "metadata": {},
   "outputs": [
    {
     "data": {
      "text/plain": [
       "array([  1.61366366,   7.39051417, -57.67175293, 102.72227443,\n",
       "       -55.38181361])"
      ]
     },
     "execution_count": 90,
     "metadata": {},
     "output_type": "execute_result"
    }
   ],
   "source": [
    "p.named_steps[\"linearregression\"].get_params()\n",
    "p.named_steps[\"linearregression\"].set_params(fit_intercept=False)\n",
    "p.fit(X = df[[\"x\"]], y = df.y)\n",
    "p.named_steps[\"linearregression\"].intercept_\n",
    "p.named_steps[\"linearregression\"].coef_"
   ]
  },
  {
   "cell_type": "markdown",
   "id": "4c007296-d3df-4716-88e8-a88cf8a9b982",
   "metadata": {},
   "source": [
    "### Tuning parameter"
   ]
  },
  {
   "cell_type": "code",
   "execution_count": 91,
   "id": "e57a48e9-b7fc-4fce-8a4f-bcc6c1d20c1c",
   "metadata": {},
   "outputs": [
    {
     "data": {
      "text/plain": [
       "GridSearchCV(cv=KFold(n_splits=5, random_state=None, shuffle=True),\n",
       "             estimator=Pipeline(steps=[('polynomialfeatures',\n",
       "                                        PolynomialFeatures()),\n",
       "                                       ('linearregression',\n",
       "                                        LinearRegression(fit_intercept=False))]),\n",
       "             param_grid={'polynomialfeatures__degree': range(1, 11)},\n",
       "             scoring='neg_root_mean_squared_error')"
      ]
     },
     "execution_count": 91,
     "metadata": {},
     "output_type": "execute_result"
    }
   ],
   "source": [
    "# built in automated tuning\n",
    "from sklearn.model_selection import GridSearchCV, KFold\n",
    "\n",
    "p = make_pipeline(\n",
    "    PolynomialFeatures(include_bias=True),\n",
    "    LinearRegression(fit_intercept=False)\n",
    ")\n",
    "\n",
    "grid_search = GridSearchCV(\n",
    "  estimator = p, \n",
    "  param_grid = {\"polynomialfeatures__degree\": range(1,11)},\n",
    "  scoring = \"neg_root_mean_squared_error\",\n",
    "  cv = KFold(shuffle=True)\n",
    ")\n",
    "\n",
    "grid_search"
   ]
  },
  {
   "cell_type": "markdown",
   "id": "fe947c8b-2bae-4eb9-a103-bc383f829135",
   "metadata": {},
   "source": [
    "# Scikit-learn : Cross-validation & hyper parameter tuning"
   ]
  },
  {
   "cell_type": "code",
   "execution_count": 92,
   "id": "1bb63fd3-0de5-4b84-b021-3e86ffd6e0dc",
   "metadata": {},
   "outputs": [
    {
     "data": {
      "text/plain": [
       "array([[ 0.12100717,  1.        ,  0.        ],\n",
       "       [ 0.51996539,  1.        ,  0.        ],\n",
       "       [ 0.85192299,  1.        ,  0.        ],\n",
       "       [-1.84637457,  1.        ,  0.        ],\n",
       "       [-0.43936162,  1.        ,  0.        ],\n",
       "       [-0.62209057,  1.        ,  0.        ],\n",
       "       [ 1.1656077 ,  1.        ,  0.        ],\n",
       "       [-1.31950608,  0.        ,  1.        ],\n",
       "       [ 0.32809999,  0.        ,  1.        ],\n",
       "       [ 0.25500841,  0.        ,  1.        ],\n",
       "       [ 1.9696151 ,  0.        ,  1.        ],\n",
       "       [-1.2981877 ,  0.        ,  1.        ],\n",
       "       [ 0.5016925 ,  0.        ,  1.        ],\n",
       "       [-0.76218277,  0.        ,  1.        ],\n",
       "       [ 0.57478408,  0.        ,  1.        ]])"
      ]
     },
     "execution_count": 92,
     "metadata": {},
     "output_type": "execute_result"
    }
   ],
   "source": [
    "# column transformer for easy pipeline\n",
    "from sklearn.compose import make_column_transformer\n",
    "from sklearn.preprocessing import StandardScaler, OneHotEncoder\n",
    "\n",
    "ct = make_column_transformer(\n",
    "  (StandardScaler(), [\"volume\"]),\n",
    "  (OneHotEncoder(), [\"cover\"]),\n",
    ").fit(\n",
    "  books\n",
    ")\n",
    "ct.get_feature_names_out()\n",
    "ct.transform(books)"
   ]
  },
  {
   "cell_type": "code",
   "execution_count": null,
   "id": "2c8b991a-7db8-441c-afd3-f247e53615c5",
   "metadata": {},
   "outputs": [],
   "source": [
    "# drop not necessary columns\n",
    "ct = make_column_transformer(\n",
    "  (StandardScaler(), [\"volume\"]),\n",
    "  (OneHotEncoder(), [\"cover\"]),\n",
    "  remainder = \"passthrough\"\n",
    ").fit(\n",
    "  books\n",
    ")"
   ]
  },
  {
   "cell_type": "code",
   "execution_count": 93,
   "id": "89f5565e-487c-4cb2-8162-78a9fdde9237",
   "metadata": {},
   "outputs": [
    {
     "data": {
      "text/plain": [
       "array([[ 0.12100717,  1.01279431,  0.35935849,  1.        ,  0.        ],\n",
       "       [ 0.51996539,  1.45004486,  0.93689893,  1.        ,  0.        ],\n",
       "       [ 0.85192299,  1.03821585,  1.32192589,  1.        ,  0.        ],\n",
       "       [-1.84637457,  0.95686691, -1.37326282,  1.        ,  0.        ],\n",
       "       [-0.43936162,  0.95686691,  0.16684502,  1.        ,  0.        ],\n",
       "       [-0.62209057,  0.93652968, -0.41069542,  1.        ,  0.        ],\n",
       "       [ 1.1656077 ,  1.08397463,  1.41818263,  1.        ,  0.        ],\n",
       "       [-1.31950608, -0.92941164, -1.75828978,  0.        ,  1.        ],\n",
       "       [ 0.32809999, -0.92941164, -0.02566846,  0.        ,  1.        ],\n",
       "       [ 0.25500841, -0.92941164, -0.21818194,  0.        ,  1.        ],\n",
       "       [ 1.9696151 , -0.92941164,  1.03315567,  0.        ,  1.        ],\n",
       "       [-1.2981877 , -0.92941164, -1.37326282,  0.        ,  1.        ],\n",
       "       [ 0.5016925 , -0.92941164,  0.93689893,  0.        ,  1.        ],\n",
       "       [-0.76218277, -0.92941164, -1.0844926 ,  0.        ,  1.        ],\n",
       "       [ 0.57478408, -0.92941164,  0.07058828,  0.        ,  1.        ]])"
      ]
     },
     "execution_count": 93,
     "metadata": {},
     "output_type": "execute_result"
    }
   ],
   "source": [
    "# column selection\n",
    "from sklearn.compose import make_column_selector\n",
    "ct = make_column_transformer(\n",
    "  ( StandardScaler(), \n",
    "    make_column_selector(dtype_include=np.number)),\n",
    "  ( OneHotEncoder(), \n",
    "    make_column_selector(dtype_include=[object, bool]))\n",
    ")\n",
    "\n",
    "ct.fit_transform(books)"
   ]
  },
  {
   "cell_type": "markdown",
   "id": "96bf527a-1eac-4d62-9ca9-c60e0ca78843",
   "metadata": {},
   "source": [
    "### hw2 ridge regression data"
   ]
  },
  {
   "cell_type": "code",
   "execution_count": 95,
   "id": "d5ee7450-79f6-429a-8a95-484a703d1b48",
   "metadata": {},
   "outputs": [
    {
     "data": {
      "text/html": [
       "<div>\n",
       "<style scoped>\n",
       "    .dataframe tbody tr th:only-of-type {\n",
       "        vertical-align: middle;\n",
       "    }\n",
       "\n",
       "    .dataframe tbody tr th {\n",
       "        vertical-align: top;\n",
       "    }\n",
       "\n",
       "    .dataframe thead th {\n",
       "        text-align: right;\n",
       "    }\n",
       "</style>\n",
       "<table border=\"1\" class=\"dataframe\">\n",
       "  <thead>\n",
       "    <tr style=\"text-align: right;\">\n",
       "      <th></th>\n",
       "      <th>y</th>\n",
       "      <th>x1</th>\n",
       "      <th>x2</th>\n",
       "      <th>x3</th>\n",
       "      <th>x4</th>\n",
       "      <th>x5</th>\n",
       "    </tr>\n",
       "  </thead>\n",
       "  <tbody>\n",
       "    <tr>\n",
       "      <th>0</th>\n",
       "      <td>-0.151710</td>\n",
       "      <td>0.353658</td>\n",
       "      <td>1.633932</td>\n",
       "      <td>0.553257</td>\n",
       "      <td>1.415731</td>\n",
       "      <td>A</td>\n",
       "    </tr>\n",
       "    <tr>\n",
       "      <th>1</th>\n",
       "      <td>3.579895</td>\n",
       "      <td>1.311354</td>\n",
       "      <td>1.457500</td>\n",
       "      <td>0.072879</td>\n",
       "      <td>0.330330</td>\n",
       "      <td>B</td>\n",
       "    </tr>\n",
       "    <tr>\n",
       "      <th>2</th>\n",
       "      <td>0.768329</td>\n",
       "      <td>-0.744034</td>\n",
       "      <td>0.710362</td>\n",
       "      <td>-0.246941</td>\n",
       "      <td>0.008825</td>\n",
       "      <td>B</td>\n",
       "    </tr>\n",
       "    <tr>\n",
       "      <th>3</th>\n",
       "      <td>7.788646</td>\n",
       "      <td>0.806624</td>\n",
       "      <td>-0.228695</td>\n",
       "      <td>0.408348</td>\n",
       "      <td>-2.481624</td>\n",
       "      <td>B</td>\n",
       "    </tr>\n",
       "    <tr>\n",
       "      <th>4</th>\n",
       "      <td>1.394327</td>\n",
       "      <td>0.837430</td>\n",
       "      <td>-1.091535</td>\n",
       "      <td>-0.860979</td>\n",
       "      <td>-0.810492</td>\n",
       "      <td>A</td>\n",
       "    </tr>\n",
       "    <tr>\n",
       "      <th>...</th>\n",
       "      <td>...</td>\n",
       "      <td>...</td>\n",
       "      <td>...</td>\n",
       "      <td>...</td>\n",
       "      <td>...</td>\n",
       "      <td>...</td>\n",
       "    </tr>\n",
       "    <tr>\n",
       "      <th>495</th>\n",
       "      <td>-0.204932</td>\n",
       "      <td>-0.385814</td>\n",
       "      <td>-0.130371</td>\n",
       "      <td>-0.046242</td>\n",
       "      <td>0.004914</td>\n",
       "      <td>A</td>\n",
       "    </tr>\n",
       "    <tr>\n",
       "      <th>496</th>\n",
       "      <td>0.541988</td>\n",
       "      <td>0.845885</td>\n",
       "      <td>0.045291</td>\n",
       "      <td>0.171596</td>\n",
       "      <td>0.332869</td>\n",
       "      <td>A</td>\n",
       "    </tr>\n",
       "    <tr>\n",
       "      <th>497</th>\n",
       "      <td>-1.402627</td>\n",
       "      <td>-1.071672</td>\n",
       "      <td>-1.716487</td>\n",
       "      <td>-0.319496</td>\n",
       "      <td>-1.163740</td>\n",
       "      <td>C</td>\n",
       "    </tr>\n",
       "    <tr>\n",
       "      <th>498</th>\n",
       "      <td>-0.043645</td>\n",
       "      <td>1.744800</td>\n",
       "      <td>-0.010161</td>\n",
       "      <td>0.422594</td>\n",
       "      <td>0.772606</td>\n",
       "      <td>A</td>\n",
       "    </tr>\n",
       "    <tr>\n",
       "      <th>499</th>\n",
       "      <td>-1.550276</td>\n",
       "      <td>0.910775</td>\n",
       "      <td>-1.675396</td>\n",
       "      <td>1.921238</td>\n",
       "      <td>-0.232189</td>\n",
       "      <td>B</td>\n",
       "    </tr>\n",
       "  </tbody>\n",
       "</table>\n",
       "<p>500 rows × 6 columns</p>\n",
       "</div>"
      ],
      "text/plain": [
       "            y        x1        x2        x3        x4 x5\n",
       "0   -0.151710  0.353658  1.633932  0.553257  1.415731  A\n",
       "1    3.579895  1.311354  1.457500  0.072879  0.330330  B\n",
       "2    0.768329 -0.744034  0.710362 -0.246941  0.008825  B\n",
       "3    7.788646  0.806624 -0.228695  0.408348 -2.481624  B\n",
       "4    1.394327  0.837430 -1.091535 -0.860979 -0.810492  A\n",
       "..        ...       ...       ...       ...       ... ..\n",
       "495 -0.204932 -0.385814 -0.130371 -0.046242  0.004914  A\n",
       "496  0.541988  0.845885  0.045291  0.171596  0.332869  A\n",
       "497 -1.402627 -1.071672 -1.716487 -0.319496 -1.163740  C\n",
       "498 -0.043645  1.744800 -0.010161  0.422594  0.772606  A\n",
       "499 -1.550276  0.910775 -1.675396  1.921238 -0.232189  B\n",
       "\n",
       "[500 rows x 6 columns]"
      ]
     },
     "execution_count": 95,
     "metadata": {},
     "output_type": "execute_result"
    }
   ],
   "source": [
    "d = pd.read_csv(\"https://raw.github.com/Sta663-Sp22/sta663-sp22.github.io/master/slides/data/ridge.csv\")\n",
    "d"
   ]
  },
  {
   "cell_type": "code",
   "execution_count": 96,
   "id": "761f9d55-c6e1-47df-8ca2-1c4d10fa2abb",
   "metadata": {},
   "outputs": [
    {
     "data": {
      "text/html": [
       "<div>\n",
       "<style scoped>\n",
       "    .dataframe tbody tr th:only-of-type {\n",
       "        vertical-align: middle;\n",
       "    }\n",
       "\n",
       "    .dataframe tbody tr th {\n",
       "        vertical-align: top;\n",
       "    }\n",
       "\n",
       "    .dataframe thead th {\n",
       "        text-align: right;\n",
       "    }\n",
       "</style>\n",
       "<table border=\"1\" class=\"dataframe\">\n",
       "  <thead>\n",
       "    <tr style=\"text-align: right;\">\n",
       "      <th></th>\n",
       "      <th>y</th>\n",
       "      <th>x1</th>\n",
       "      <th>x2</th>\n",
       "      <th>x3</th>\n",
       "      <th>x4</th>\n",
       "      <th>x5_A</th>\n",
       "      <th>x5_B</th>\n",
       "      <th>x5_C</th>\n",
       "      <th>x5_D</th>\n",
       "    </tr>\n",
       "  </thead>\n",
       "  <tbody>\n",
       "    <tr>\n",
       "      <th>0</th>\n",
       "      <td>-0.151710</td>\n",
       "      <td>0.353658</td>\n",
       "      <td>1.633932</td>\n",
       "      <td>0.553257</td>\n",
       "      <td>1.415731</td>\n",
       "      <td>1</td>\n",
       "      <td>0</td>\n",
       "      <td>0</td>\n",
       "      <td>0</td>\n",
       "    </tr>\n",
       "    <tr>\n",
       "      <th>1</th>\n",
       "      <td>3.579895</td>\n",
       "      <td>1.311354</td>\n",
       "      <td>1.457500</td>\n",
       "      <td>0.072879</td>\n",
       "      <td>0.330330</td>\n",
       "      <td>0</td>\n",
       "      <td>1</td>\n",
       "      <td>0</td>\n",
       "      <td>0</td>\n",
       "    </tr>\n",
       "    <tr>\n",
       "      <th>2</th>\n",
       "      <td>0.768329</td>\n",
       "      <td>-0.744034</td>\n",
       "      <td>0.710362</td>\n",
       "      <td>-0.246941</td>\n",
       "      <td>0.008825</td>\n",
       "      <td>0</td>\n",
       "      <td>1</td>\n",
       "      <td>0</td>\n",
       "      <td>0</td>\n",
       "    </tr>\n",
       "    <tr>\n",
       "      <th>3</th>\n",
       "      <td>7.788646</td>\n",
       "      <td>0.806624</td>\n",
       "      <td>-0.228695</td>\n",
       "      <td>0.408348</td>\n",
       "      <td>-2.481624</td>\n",
       "      <td>0</td>\n",
       "      <td>1</td>\n",
       "      <td>0</td>\n",
       "      <td>0</td>\n",
       "    </tr>\n",
       "    <tr>\n",
       "      <th>4</th>\n",
       "      <td>1.394327</td>\n",
       "      <td>0.837430</td>\n",
       "      <td>-1.091535</td>\n",
       "      <td>-0.860979</td>\n",
       "      <td>-0.810492</td>\n",
       "      <td>1</td>\n",
       "      <td>0</td>\n",
       "      <td>0</td>\n",
       "      <td>0</td>\n",
       "    </tr>\n",
       "    <tr>\n",
       "      <th>...</th>\n",
       "      <td>...</td>\n",
       "      <td>...</td>\n",
       "      <td>...</td>\n",
       "      <td>...</td>\n",
       "      <td>...</td>\n",
       "      <td>...</td>\n",
       "      <td>...</td>\n",
       "      <td>...</td>\n",
       "      <td>...</td>\n",
       "    </tr>\n",
       "    <tr>\n",
       "      <th>495</th>\n",
       "      <td>-0.204932</td>\n",
       "      <td>-0.385814</td>\n",
       "      <td>-0.130371</td>\n",
       "      <td>-0.046242</td>\n",
       "      <td>0.004914</td>\n",
       "      <td>1</td>\n",
       "      <td>0</td>\n",
       "      <td>0</td>\n",
       "      <td>0</td>\n",
       "    </tr>\n",
       "    <tr>\n",
       "      <th>496</th>\n",
       "      <td>0.541988</td>\n",
       "      <td>0.845885</td>\n",
       "      <td>0.045291</td>\n",
       "      <td>0.171596</td>\n",
       "      <td>0.332869</td>\n",
       "      <td>1</td>\n",
       "      <td>0</td>\n",
       "      <td>0</td>\n",
       "      <td>0</td>\n",
       "    </tr>\n",
       "    <tr>\n",
       "      <th>497</th>\n",
       "      <td>-1.402627</td>\n",
       "      <td>-1.071672</td>\n",
       "      <td>-1.716487</td>\n",
       "      <td>-0.319496</td>\n",
       "      <td>-1.163740</td>\n",
       "      <td>0</td>\n",
       "      <td>0</td>\n",
       "      <td>1</td>\n",
       "      <td>0</td>\n",
       "    </tr>\n",
       "    <tr>\n",
       "      <th>498</th>\n",
       "      <td>-0.043645</td>\n",
       "      <td>1.744800</td>\n",
       "      <td>-0.010161</td>\n",
       "      <td>0.422594</td>\n",
       "      <td>0.772606</td>\n",
       "      <td>1</td>\n",
       "      <td>0</td>\n",
       "      <td>0</td>\n",
       "      <td>0</td>\n",
       "    </tr>\n",
       "    <tr>\n",
       "      <th>499</th>\n",
       "      <td>-1.550276</td>\n",
       "      <td>0.910775</td>\n",
       "      <td>-1.675396</td>\n",
       "      <td>1.921238</td>\n",
       "      <td>-0.232189</td>\n",
       "      <td>0</td>\n",
       "      <td>1</td>\n",
       "      <td>0</td>\n",
       "      <td>0</td>\n",
       "    </tr>\n",
       "  </tbody>\n",
       "</table>\n",
       "<p>500 rows × 9 columns</p>\n",
       "</div>"
      ],
      "text/plain": [
       "            y        x1        x2        x3        x4  x5_A  x5_B  x5_C  x5_D\n",
       "0   -0.151710  0.353658  1.633932  0.553257  1.415731     1     0     0     0\n",
       "1    3.579895  1.311354  1.457500  0.072879  0.330330     0     1     0     0\n",
       "2    0.768329 -0.744034  0.710362 -0.246941  0.008825     0     1     0     0\n",
       "3    7.788646  0.806624 -0.228695  0.408348 -2.481624     0     1     0     0\n",
       "4    1.394327  0.837430 -1.091535 -0.860979 -0.810492     1     0     0     0\n",
       "..        ...       ...       ...       ...       ...   ...   ...   ...   ...\n",
       "495 -0.204932 -0.385814 -0.130371 -0.046242  0.004914     1     0     0     0\n",
       "496  0.541988  0.845885  0.045291  0.171596  0.332869     1     0     0     0\n",
       "497 -1.402627 -1.071672 -1.716487 -0.319496 -1.163740     0     0     1     0\n",
       "498 -0.043645  1.744800 -0.010161  0.422594  0.772606     1     0     0     0\n",
       "499 -1.550276  0.910775 -1.675396  1.921238 -0.232189     0     1     0     0\n",
       "\n",
       "[500 rows x 9 columns]"
      ]
     },
     "execution_count": 96,
     "metadata": {},
     "output_type": "execute_result"
    }
   ],
   "source": [
    "d = pd.get_dummies(d)\n",
    "d"
   ]
  },
  {
   "cell_type": "markdown",
   "id": "8aa24e34-a624-4616-a888-e70001123a46",
   "metadata": {},
   "source": [
    "## Ridge regression "
   ]
  },
  {
   "cell_type": "code",
   "execution_count": 98,
   "id": "725333fd-7b26-41a0-9b16-0ba9a3d1f909",
   "metadata": {},
   "outputs": [
    {
     "name": "stdout",
     "output_type": "stream",
     "text": [
      "rg coef:  [ 9.78094427e-01  1.96214789e+00  1.72468416e-03 -2.94457278e+00\n",
      "  4.55579498e-01  9.00081205e-02 -2.81934999e-01  7.97808337e-01]\n",
      "lm coef:  [ 9.95049976e-01  2.00761962e+00  2.31665882e-03 -3.00088386e+00\n",
      "  4.93293037e-01  1.01926957e-01 -2.94125938e-01  1.00855936e+00]\n"
     ]
    }
   ],
   "source": [
    "from sklearn.linear_model import Ridge, LinearRegression\n",
    "X, y = d.drop([\"y\"], axis=1), d.y #X is the d table after removing independent variable\n",
    "rg = Ridge(fit_intercept=False, alpha=10).fit(X,y)\n",
    "lm = LinearRegression(fit_intercept=False).fit(X,y)\n",
    "print(\"rg coef: \", rg.coef_)\n",
    "print(\"lm coef: \", lm.coef_)"
   ]
  },
  {
   "cell_type": "code",
   "execution_count": 100,
   "id": "4db997ac-ba7a-412d-ae2a-50c8c61a487b",
   "metadata": {},
   "outputs": [
    {
     "name": "stdout",
     "output_type": "stream",
     "text": [
      "0.019101431349883527\n",
      "0.009872435924102052\n"
     ]
    }
   ],
   "source": [
    "print(mean_squared_error(y, rg.predict(X)))\n",
    "print(mean_squared_error(y, lm.predict(X)))"
   ]
  },
  {
   "cell_type": "markdown",
   "id": "c1aa0ffa-4a53-4280-89b9-b2f0d82ca6e0",
   "metadata": {},
   "source": [
    "## Test-Train split"
   ]
  },
  {
   "cell_type": "code",
   "execution_count": 101,
   "id": "5f8d083b-e13d-4199-8ebd-6ddee037f06d",
   "metadata": {},
   "outputs": [],
   "source": [
    "from sklearn.model_selection import train_test_split\n",
    "X_train, X_test, y_train, y_test = train_test_split(X, y, test_size=0.2, random_state=1234)"
   ]
  },
  {
   "cell_type": "code",
   "execution_count": 103,
   "id": "204db834-6f20-4993-b53b-629c90d74a8b",
   "metadata": {},
   "outputs": [
    {
     "name": "stdout",
     "output_type": "stream",
     "text": [
      "(500, 8)\n",
      "(400, 8)\n",
      "(100, 8)\n",
      "(500,)\n",
      "(400,)\n",
      "(100,)\n"
     ]
    }
   ],
   "source": [
    "print(X.shape)\n",
    "print(X_train.shape)\n",
    "print(X_test.shape)\n",
    "print(y.shape)\n",
    "print(y_train.shape)\n",
    "print(y_test.shape)"
   ]
  },
  {
   "cell_type": "code",
   "execution_count": 104,
   "id": "50462128-a9dc-4fc6-8d5e-75f32ac53921",
   "metadata": {},
   "outputs": [
    {
     "data": {
      "text/html": [
       "<div>\n",
       "<style scoped>\n",
       "    .dataframe tbody tr th:only-of-type {\n",
       "        vertical-align: middle;\n",
       "    }\n",
       "\n",
       "    .dataframe tbody tr th {\n",
       "        vertical-align: top;\n",
       "    }\n",
       "\n",
       "    .dataframe thead th {\n",
       "        text-align: right;\n",
       "    }\n",
       "</style>\n",
       "<table border=\"1\" class=\"dataframe\">\n",
       "  <thead>\n",
       "    <tr style=\"text-align: right;\">\n",
       "      <th></th>\n",
       "      <th>alpha</th>\n",
       "      <th>train_rmse</th>\n",
       "      <th>test_rmse</th>\n",
       "    </tr>\n",
       "  </thead>\n",
       "  <tbody>\n",
       "    <tr>\n",
       "      <th>0</th>\n",
       "      <td>0.010000</td>\n",
       "      <td>0.097568</td>\n",
       "      <td>0.106985</td>\n",
       "    </tr>\n",
       "    <tr>\n",
       "      <th>1</th>\n",
       "      <td>0.010723</td>\n",
       "      <td>0.097568</td>\n",
       "      <td>0.106984</td>\n",
       "    </tr>\n",
       "    <tr>\n",
       "      <th>2</th>\n",
       "      <td>0.011498</td>\n",
       "      <td>0.097568</td>\n",
       "      <td>0.106984</td>\n",
       "    </tr>\n",
       "    <tr>\n",
       "      <th>3</th>\n",
       "      <td>0.012328</td>\n",
       "      <td>0.097568</td>\n",
       "      <td>0.106983</td>\n",
       "    </tr>\n",
       "    <tr>\n",
       "      <th>4</th>\n",
       "      <td>0.013219</td>\n",
       "      <td>0.097568</td>\n",
       "      <td>0.106983</td>\n",
       "    </tr>\n",
       "    <tr>\n",
       "      <th>...</th>\n",
       "      <td>...</td>\n",
       "      <td>...</td>\n",
       "      <td>...</td>\n",
       "    </tr>\n",
       "    <tr>\n",
       "      <th>95</th>\n",
       "      <td>7.564633</td>\n",
       "      <td>0.126990</td>\n",
       "      <td>0.129414</td>\n",
       "    </tr>\n",
       "    <tr>\n",
       "      <th>96</th>\n",
       "      <td>8.111308</td>\n",
       "      <td>0.130591</td>\n",
       "      <td>0.132458</td>\n",
       "    </tr>\n",
       "    <tr>\n",
       "      <th>97</th>\n",
       "      <td>8.697490</td>\n",
       "      <td>0.134568</td>\n",
       "      <td>0.135838</td>\n",
       "    </tr>\n",
       "    <tr>\n",
       "      <th>98</th>\n",
       "      <td>9.326033</td>\n",
       "      <td>0.138950</td>\n",
       "      <td>0.139581</td>\n",
       "    </tr>\n",
       "    <tr>\n",
       "      <th>99</th>\n",
       "      <td>10.000000</td>\n",
       "      <td>0.143764</td>\n",
       "      <td>0.143715</td>\n",
       "    </tr>\n",
       "  </tbody>\n",
       "</table>\n",
       "<p>100 rows × 3 columns</p>\n",
       "</div>"
      ],
      "text/plain": [
       "        alpha  train_rmse  test_rmse\n",
       "0    0.010000    0.097568   0.106985\n",
       "1    0.010723    0.097568   0.106984\n",
       "2    0.011498    0.097568   0.106984\n",
       "3    0.012328    0.097568   0.106983\n",
       "4    0.013219    0.097568   0.106983\n",
       "..        ...         ...        ...\n",
       "95   7.564633    0.126990   0.129414\n",
       "96   8.111308    0.130591   0.132458\n",
       "97   8.697490    0.134568   0.135838\n",
       "98   9.326033    0.138950   0.139581\n",
       "99  10.000000    0.143764   0.143715\n",
       "\n",
       "[100 rows x 3 columns]"
      ]
     },
     "execution_count": 104,
     "metadata": {},
     "output_type": "execute_result"
    }
   ],
   "source": [
    "alpha = np.logspace(-2,1, 100)\n",
    "train_rmse = []\n",
    "test_rmse = []\n",
    "\n",
    "for a in alpha:\n",
    "    rg = Ridge(alpha=a).fit(X_train, y_train)\n",
    "    \n",
    "    train_rmse.append( \n",
    "      mean_squared_error(y_train, rg.predict(X_train), squared=False) \n",
    "    )\n",
    "    test_rmse.append( \n",
    "      mean_squared_error(y_test, rg.predict(X_test), squared=False) \n",
    "    )\n",
    "\n",
    "res = pd.DataFrame(data = {\"alpha\": alpha, \"train_rmse\": train_rmse, \"test_rmse\": test_rmse})\n",
    "res"
   ]
  },
  {
   "cell_type": "code",
   "execution_count": 105,
   "id": "96dce140-cb1d-4e5c-bea0-cb789a0f3cba",
   "metadata": {},
   "outputs": [
    {
     "data": {
      "text/plain": [
       "<seaborn.axisgrid.FacetGrid at 0x7f93e25871c0>"
      ]
     },
     "execution_count": 105,
     "metadata": {},
     "output_type": "execute_result"
    },
    {
     "data": {
      "image/png": "[encoded data removed]",
      "text/plain": [
       "<Figure size 624.125x500 with 1 Axes>"
      ]
     },
     "metadata": {},
     "output_type": "display_data"
    }
   ],
   "source": [
    "g = sns.relplot(x=\"alpha\", y=\"value\", hue=\"variable\", data = pd.melt(res, id_vars=[\"alpha\"]))\n",
    "g.set(xscale=\"log\")\n",
    "# find the minimum value in test_rmse (orange)"
   ]
  },
  {
   "cell_type": "code",
   "execution_count": 106,
   "id": "b9cb2af8-f813-434b-b3da-eeb13aea98ae",
   "metadata": {},
   "outputs": [
    {
     "data": {
      "text/html": [
       "<div>\n",
       "<style scoped>\n",
       "    .dataframe tbody tr th:only-of-type {\n",
       "        vertical-align: middle;\n",
       "    }\n",
       "\n",
       "    .dataframe tbody tr th {\n",
       "        vertical-align: top;\n",
       "    }\n",
       "\n",
       "    .dataframe thead th {\n",
       "        text-align: right;\n",
       "    }\n",
       "</style>\n",
       "<table border=\"1\" class=\"dataframe\">\n",
       "  <thead>\n",
       "    <tr style=\"text-align: right;\">\n",
       "      <th></th>\n",
       "      <th>alpha</th>\n",
       "      <th>train_rmse</th>\n",
       "      <th>test_rmse</th>\n",
       "    </tr>\n",
       "  </thead>\n",
       "  <tbody>\n",
       "    <tr>\n",
       "      <th>0</th>\n",
       "      <td>0.01</td>\n",
       "      <td>0.097568</td>\n",
       "      <td>0.106985</td>\n",
       "    </tr>\n",
       "  </tbody>\n",
       "</table>\n",
       "</div>"
      ],
      "text/plain": [
       "   alpha  train_rmse  test_rmse\n",
       "0   0.01    0.097568   0.106985"
      ]
     },
     "execution_count": 106,
     "metadata": {},
     "output_type": "execute_result"
    }
   ],
   "source": [
    "min_i = np.argmin(res.train_rmse)\n",
    "min_i\n",
    "\n",
    "res.iloc[[min_i],:]"
   ]
  },
  {
   "cell_type": "code",
   "execution_count": 107,
   "id": "8f47086f-bf4f-4624-80d8-91a97f96a78d",
   "metadata": {},
   "outputs": [
    {
     "data": {
      "text/html": [
       "<div>\n",
       "<style scoped>\n",
       "    .dataframe tbody tr th:only-of-type {\n",
       "        vertical-align: middle;\n",
       "    }\n",
       "\n",
       "    .dataframe tbody tr th {\n",
       "        vertical-align: top;\n",
       "    }\n",
       "\n",
       "    .dataframe thead th {\n",
       "        text-align: right;\n",
       "    }\n",
       "</style>\n",
       "<table border=\"1\" class=\"dataframe\">\n",
       "  <thead>\n",
       "    <tr style=\"text-align: right;\">\n",
       "      <th></th>\n",
       "      <th>alpha</th>\n",
       "      <th>train_rmse</th>\n",
       "      <th>test_rmse</th>\n",
       "    </tr>\n",
       "  </thead>\n",
       "  <tbody>\n",
       "    <tr>\n",
       "      <th>58</th>\n",
       "      <td>0.572237</td>\n",
       "      <td>0.097787</td>\n",
       "      <td>0.1068</td>\n",
       "    </tr>\n",
       "  </tbody>\n",
       "</table>\n",
       "</div>"
      ],
      "text/plain": [
       "       alpha  train_rmse  test_rmse\n",
       "58  0.572237    0.097787     0.1068"
      ]
     },
     "execution_count": 107,
     "metadata": {},
     "output_type": "execute_result"
    }
   ],
   "source": [
    "min_i = np.argmin(res.test_rmse)\n",
    "min_i\n",
    "\n",
    "res.iloc[[min_i],:]"
   ]
  },
  {
   "cell_type": "markdown",
   "id": "7d2bb363-0274-444f-bbdc-dd7c76d0a58d",
   "metadata": {},
   "source": [
    "## k-fold validation"
   ]
  },
  {
   "cell_type": "code",
   "execution_count": 108,
   "id": "4ce63dbd-4771-4722-ab14-701a7753f340",
   "metadata": {},
   "outputs": [
    {
     "data": {
      "text/plain": [
       "array([-0.09363885, -0.09995222, -0.1047411 , -0.10272958, -0.10596871])"
      ]
     },
     "execution_count": 108,
     "metadata": {},
     "output_type": "execute_result"
    }
   ],
   "source": [
    "from sklearn.model_selection import cross_val_score\n",
    "# score : negative mse = inverse concept of mean squared error\n",
    "cross_val_score(\n",
    "  Ridge(alpha=0.59, fit_intercept=False), \n",
    "  X, y, \n",
    "  cv=5, \n",
    "  scoring=\"neg_root_mean_squared_error\"\n",
    ")"
   ]
  },
  {
   "cell_type": "code",
   "execution_count": 109,
   "id": "ef6fd85e-b759-451a-ac29-86ac671cf28e",
   "metadata": {},
   "outputs": [
    {
     "name": "stdout",
     "output_type": "stream",
     "text": [
      "Train: [2 3 4 5 6 7 8 9] | test: [0 1]\n",
      "Train: [0 1 4 5 6 7 8 9] | test: [2 3]\n",
      "Train: [0 1 2 3 6 7 8 9] | test: [4 5]\n",
      "Train: [0 1 2 3 4 5 8 9] | test: [6 7]\n",
      "Train: [0 1 2 3 4 5 6 7] | test: [8 9]\n"
     ]
    }
   ],
   "source": [
    "ex = pd.DataFrame(data = list(range(10)), columns=[\"x\"])\n",
    "\n",
    "cv = KFold(5)\n",
    "for train, test in cv.split(ex):\n",
    "    print(f'Train: {train} | test: {test}')"
   ]
  },
  {
   "cell_type": "code",
   "execution_count": 111,
   "id": "b5fa6004-3c0a-45ae-9a1c-90155ca6ea04",
   "metadata": {},
   "outputs": [
    {
     "name": "stdout",
     "output_type": "stream",
     "text": [
      "Train: [2 3 4 5 6 7 8 9] | test: [0 1]\n",
      "Train: [0 1 4 5 6 7 8 9] | test: [2 3]\n",
      "Train: [0 1 2 3 6 7 8 9] | test: [4 5]\n",
      "Train: [0 1 2 3 4 5 8 9] | test: [6 7]\n",
      "Train: [0 1 2 3 4 5 6 7] | test: [8 9]\n"
     ]
    }
   ],
   "source": [
    "v = KFold(5, shuffle=True, random_state=1234)\n",
    "for train, test in cv.split(ex):\n",
    "    print(f'Train: {train} | test: {test}')"
   ]
  },
  {
   "cell_type": "code",
   "execution_count": 112,
   "id": "7d714a0f-7b38-4aac-8933-7d6244006268",
   "metadata": {},
   "outputs": [
    {
     "data": {
      "text/html": [
       "<div>\n",
       "<style scoped>\n",
       "    .dataframe tbody tr th:only-of-type {\n",
       "        vertical-align: middle;\n",
       "    }\n",
       "\n",
       "    .dataframe tbody tr th {\n",
       "        vertical-align: top;\n",
       "    }\n",
       "\n",
       "    .dataframe thead th {\n",
       "        text-align: right;\n",
       "    }\n",
       "</style>\n",
       "<table border=\"1\" class=\"dataframe\">\n",
       "  <thead>\n",
       "    <tr style=\"text-align: right;\">\n",
       "      <th></th>\n",
       "      <th>alpha</th>\n",
       "      <th>mean_rmse</th>\n",
       "      <th>fold1</th>\n",
       "      <th>fold2</th>\n",
       "      <th>fold3</th>\n",
       "      <th>fold4</th>\n",
       "      <th>fold5</th>\n",
       "    </tr>\n",
       "  </thead>\n",
       "  <tbody>\n",
       "    <tr>\n",
       "      <th>0</th>\n",
       "      <td>0.010000</td>\n",
       "      <td>0.101257</td>\n",
       "      <td>0.106979</td>\n",
       "      <td>0.103691</td>\n",
       "      <td>0.102288</td>\n",
       "      <td>0.101130</td>\n",
       "      <td>0.092195</td>\n",
       "    </tr>\n",
       "    <tr>\n",
       "      <th>1</th>\n",
       "      <td>0.012690</td>\n",
       "      <td>0.101257</td>\n",
       "      <td>0.106976</td>\n",
       "      <td>0.103692</td>\n",
       "      <td>0.102292</td>\n",
       "      <td>0.101129</td>\n",
       "      <td>0.092194</td>\n",
       "    </tr>\n",
       "    <tr>\n",
       "      <th>2</th>\n",
       "      <td>0.016103</td>\n",
       "      <td>0.101256</td>\n",
       "      <td>0.106971</td>\n",
       "      <td>0.103692</td>\n",
       "      <td>0.102298</td>\n",
       "      <td>0.101126</td>\n",
       "      <td>0.092194</td>\n",
       "    </tr>\n",
       "    <tr>\n",
       "      <th>3</th>\n",
       "      <td>0.020434</td>\n",
       "      <td>0.101256</td>\n",
       "      <td>0.106966</td>\n",
       "      <td>0.103693</td>\n",
       "      <td>0.102306</td>\n",
       "      <td>0.101123</td>\n",
       "      <td>0.092193</td>\n",
       "    </tr>\n",
       "    <tr>\n",
       "      <th>4</th>\n",
       "      <td>0.025929</td>\n",
       "      <td>0.101256</td>\n",
       "      <td>0.106959</td>\n",
       "      <td>0.103694</td>\n",
       "      <td>0.102316</td>\n",
       "      <td>0.101120</td>\n",
       "      <td>0.092191</td>\n",
       "    </tr>\n",
       "    <tr>\n",
       "      <th>5</th>\n",
       "      <td>0.032903</td>\n",
       "      <td>0.101256</td>\n",
       "      <td>0.106951</td>\n",
       "      <td>0.103696</td>\n",
       "      <td>0.102328</td>\n",
       "      <td>0.101116</td>\n",
       "      <td>0.092190</td>\n",
       "    </tr>\n",
       "    <tr>\n",
       "      <th>6</th>\n",
       "      <td>0.041753</td>\n",
       "      <td>0.101256</td>\n",
       "      <td>0.106940</td>\n",
       "      <td>0.103698</td>\n",
       "      <td>0.102344</td>\n",
       "      <td>0.101110</td>\n",
       "      <td>0.092188</td>\n",
       "    </tr>\n",
       "    <tr>\n",
       "      <th>7</th>\n",
       "      <td>0.052983</td>\n",
       "      <td>0.101256</td>\n",
       "      <td>0.106927</td>\n",
       "      <td>0.103701</td>\n",
       "      <td>0.102365</td>\n",
       "      <td>0.101104</td>\n",
       "      <td>0.092186</td>\n",
       "    </tr>\n",
       "    <tr>\n",
       "      <th>8</th>\n",
       "      <td>0.067234</td>\n",
       "      <td>0.101257</td>\n",
       "      <td>0.106911</td>\n",
       "      <td>0.103704</td>\n",
       "      <td>0.102391</td>\n",
       "      <td>0.101096</td>\n",
       "      <td>0.092184</td>\n",
       "    </tr>\n",
       "    <tr>\n",
       "      <th>9</th>\n",
       "      <td>0.085317</td>\n",
       "      <td>0.101259</td>\n",
       "      <td>0.106890</td>\n",
       "      <td>0.103709</td>\n",
       "      <td>0.102426</td>\n",
       "      <td>0.101088</td>\n",
       "      <td>0.092181</td>\n",
       "    </tr>\n",
       "    <tr>\n",
       "      <th>10</th>\n",
       "      <td>0.108264</td>\n",
       "      <td>0.101262</td>\n",
       "      <td>0.106865</td>\n",
       "      <td>0.103716</td>\n",
       "      <td>0.102471</td>\n",
       "      <td>0.101078</td>\n",
       "      <td>0.092178</td>\n",
       "    </tr>\n",
       "    <tr>\n",
       "      <th>11</th>\n",
       "      <td>0.137382</td>\n",
       "      <td>0.101267</td>\n",
       "      <td>0.106835</td>\n",
       "      <td>0.103725</td>\n",
       "      <td>0.102529</td>\n",
       "      <td>0.101069</td>\n",
       "      <td>0.092176</td>\n",
       "    </tr>\n",
       "    <tr>\n",
       "      <th>12</th>\n",
       "      <td>0.174333</td>\n",
       "      <td>0.101276</td>\n",
       "      <td>0.106800</td>\n",
       "      <td>0.103739</td>\n",
       "      <td>0.102607</td>\n",
       "      <td>0.101060</td>\n",
       "      <td>0.092174</td>\n",
       "    </tr>\n",
       "    <tr>\n",
       "      <th>13</th>\n",
       "      <td>0.221222</td>\n",
       "      <td>0.101291</td>\n",
       "      <td>0.106758</td>\n",
       "      <td>0.103758</td>\n",
       "      <td>0.102710</td>\n",
       "      <td>0.101055</td>\n",
       "      <td>0.092175</td>\n",
       "    </tr>\n",
       "    <tr>\n",
       "      <th>14</th>\n",
       "      <td>0.280722</td>\n",
       "      <td>0.101317</td>\n",
       "      <td>0.106712</td>\n",
       "      <td>0.103786</td>\n",
       "      <td>0.102848</td>\n",
       "      <td>0.101059</td>\n",
       "      <td>0.092180</td>\n",
       "    </tr>\n",
       "    <tr>\n",
       "      <th>15</th>\n",
       "      <td>0.356225</td>\n",
       "      <td>0.101360</td>\n",
       "      <td>0.106663</td>\n",
       "      <td>0.103828</td>\n",
       "      <td>0.103036</td>\n",
       "      <td>0.101078</td>\n",
       "      <td>0.092193</td>\n",
       "    </tr>\n",
       "    <tr>\n",
       "      <th>16</th>\n",
       "      <td>0.452035</td>\n",
       "      <td>0.101430</td>\n",
       "      <td>0.106617</td>\n",
       "      <td>0.103890</td>\n",
       "      <td>0.103293</td>\n",
       "      <td>0.101128</td>\n",
       "      <td>0.092221</td>\n",
       "    </tr>\n",
       "    <tr>\n",
       "      <th>17</th>\n",
       "      <td>0.573615</td>\n",
       "      <td>0.101544</td>\n",
       "      <td>0.106584</td>\n",
       "      <td>0.103984</td>\n",
       "      <td>0.103650</td>\n",
       "      <td>0.101229</td>\n",
       "      <td>0.092273</td>\n",
       "    </tr>\n",
       "    <tr>\n",
       "      <th>18</th>\n",
       "      <td>0.727895</td>\n",
       "      <td>0.101729</td>\n",
       "      <td>0.106580</td>\n",
       "      <td>0.104128</td>\n",
       "      <td>0.104149</td>\n",
       "      <td>0.101420</td>\n",
       "      <td>0.092367</td>\n",
       "    </tr>\n",
       "    <tr>\n",
       "      <th>19</th>\n",
       "      <td>0.923671</td>\n",
       "      <td>0.102026</td>\n",
       "      <td>0.106639</td>\n",
       "      <td>0.104348</td>\n",
       "      <td>0.104856</td>\n",
       "      <td>0.101757</td>\n",
       "      <td>0.092530</td>\n",
       "    </tr>\n",
       "    <tr>\n",
       "      <th>20</th>\n",
       "      <td>1.172102</td>\n",
       "      <td>0.102501</td>\n",
       "      <td>0.106809</td>\n",
       "      <td>0.104690</td>\n",
       "      <td>0.105864</td>\n",
       "      <td>0.102334</td>\n",
       "      <td>0.092805</td>\n",
       "    </tr>\n",
       "    <tr>\n",
       "      <th>21</th>\n",
       "      <td>1.487352</td>\n",
       "      <td>0.103253</td>\n",
       "      <td>0.107174</td>\n",
       "      <td>0.105220</td>\n",
       "      <td>0.107314</td>\n",
       "      <td>0.103295</td>\n",
       "      <td>0.093263</td>\n",
       "    </tr>\n",
       "    <tr>\n",
       "      <th>22</th>\n",
       "      <td>1.887392</td>\n",
       "      <td>0.104436</td>\n",
       "      <td>0.107863</td>\n",
       "      <td>0.106045</td>\n",
       "      <td>0.109403</td>\n",
       "      <td>0.104858</td>\n",
       "      <td>0.094011</td>\n",
       "    </tr>\n",
       "    <tr>\n",
       "      <th>23</th>\n",
       "      <td>2.395027</td>\n",
       "      <td>0.106274</td>\n",
       "      <td>0.109072</td>\n",
       "      <td>0.107328</td>\n",
       "      <td>0.112413</td>\n",
       "      <td>0.107341</td>\n",
       "      <td>0.095216</td>\n",
       "    </tr>\n",
       "    <tr>\n",
       "      <th>24</th>\n",
       "      <td>3.039195</td>\n",
       "      <td>0.109091</td>\n",
       "      <td>0.111089</td>\n",
       "      <td>0.109319</td>\n",
       "      <td>0.116727</td>\n",
       "      <td>0.111193</td>\n",
       "      <td>0.097129</td>\n",
       "    </tr>\n",
       "    <tr>\n",
       "      <th>25</th>\n",
       "      <td>3.856620</td>\n",
       "      <td>0.113335</td>\n",
       "      <td>0.114315</td>\n",
       "      <td>0.112385</td>\n",
       "      <td>0.122847</td>\n",
       "      <td>0.117013</td>\n",
       "      <td>0.100112</td>\n",
       "    </tr>\n",
       "    <tr>\n",
       "      <th>26</th>\n",
       "      <td>4.893901</td>\n",
       "      <td>0.119591</td>\n",
       "      <td>0.119283</td>\n",
       "      <td>0.117056</td>\n",
       "      <td>0.131401</td>\n",
       "      <td>0.125546</td>\n",
       "      <td>0.104671</td>\n",
       "    </tr>\n",
       "    <tr>\n",
       "      <th>27</th>\n",
       "      <td>6.210169</td>\n",
       "      <td>0.128590</td>\n",
       "      <td>0.126646</td>\n",
       "      <td>0.124055</td>\n",
       "      <td>0.143126</td>\n",
       "      <td>0.137655</td>\n",
       "      <td>0.111470</td>\n",
       "    </tr>\n",
       "    <tr>\n",
       "      <th>28</th>\n",
       "      <td>7.880463</td>\n",
       "      <td>0.141185</td>\n",
       "      <td>0.137154</td>\n",
       "      <td>0.134319</td>\n",
       "      <td>0.158849</td>\n",
       "      <td>0.154271</td>\n",
       "      <td>0.121333</td>\n",
       "    </tr>\n",
       "    <tr>\n",
       "      <th>29</th>\n",
       "      <td>10.000000</td>\n",
       "      <td>0.158324</td>\n",
       "      <td>0.151609</td>\n",
       "      <td>0.148984</td>\n",
       "      <td>0.179465</td>\n",
       "      <td>0.176352</td>\n",
       "      <td>0.135209</td>\n",
       "    </tr>\n",
       "  </tbody>\n",
       "</table>\n",
       "</div>"
      ],
      "text/plain": [
       "        alpha  mean_rmse     fold1     fold2     fold3     fold4     fold5\n",
       "0    0.010000   0.101257  0.106979  0.103691  0.102288  0.101130  0.092195\n",
       "1    0.012690   0.101257  0.106976  0.103692  0.102292  0.101129  0.092194\n",
       "2    0.016103   0.101256  0.106971  0.103692  0.102298  0.101126  0.092194\n",
       "3    0.020434   0.101256  0.106966  0.103693  0.102306  0.101123  0.092193\n",
       "4    0.025929   0.101256  0.106959  0.103694  0.102316  0.101120  0.092191\n",
       "5    0.032903   0.101256  0.106951  0.103696  0.102328  0.101116  0.092190\n",
       "6    0.041753   0.101256  0.106940  0.103698  0.102344  0.101110  0.092188\n",
       "7    0.052983   0.101256  0.106927  0.103701  0.102365  0.101104  0.092186\n",
       "8    0.067234   0.101257  0.106911  0.103704  0.102391  0.101096  0.092184\n",
       "9    0.085317   0.101259  0.106890  0.103709  0.102426  0.101088  0.092181\n",
       "10   0.108264   0.101262  0.106865  0.103716  0.102471  0.101078  0.092178\n",
       "11   0.137382   0.101267  0.106835  0.103725  0.102529  0.101069  0.092176\n",
       "12   0.174333   0.101276  0.106800  0.103739  0.102607  0.101060  0.092174\n",
       "13   0.221222   0.101291  0.106758  0.103758  0.102710  0.101055  0.092175\n",
       "14   0.280722   0.101317  0.106712  0.103786  0.102848  0.101059  0.092180\n",
       "15   0.356225   0.101360  0.106663  0.103828  0.103036  0.101078  0.092193\n",
       "16   0.452035   0.101430  0.106617  0.103890  0.103293  0.101128  0.092221\n",
       "17   0.573615   0.101544  0.106584  0.103984  0.103650  0.101229  0.092273\n",
       "18   0.727895   0.101729  0.106580  0.104128  0.104149  0.101420  0.092367\n",
       "19   0.923671   0.102026  0.106639  0.104348  0.104856  0.101757  0.092530\n",
       "20   1.172102   0.102501  0.106809  0.104690  0.105864  0.102334  0.092805\n",
       "21   1.487352   0.103253  0.107174  0.105220  0.107314  0.103295  0.093263\n",
       "22   1.887392   0.104436  0.107863  0.106045  0.109403  0.104858  0.094011\n",
       "23   2.395027   0.106274  0.109072  0.107328  0.112413  0.107341  0.095216\n",
       "24   3.039195   0.109091  0.111089  0.109319  0.116727  0.111193  0.097129\n",
       "25   3.856620   0.113335  0.114315  0.112385  0.122847  0.117013  0.100112\n",
       "26   4.893901   0.119591  0.119283  0.117056  0.131401  0.125546  0.104671\n",
       "27   6.210169   0.128590  0.126646  0.124055  0.143126  0.137655  0.111470\n",
       "28   7.880463   0.141185  0.137154  0.134319  0.158849  0.154271  0.121333\n",
       "29  10.000000   0.158324  0.151609  0.148984  0.179465  0.176352  0.135209"
      ]
     },
     "execution_count": 112,
     "metadata": {},
     "output_type": "execute_result"
    }
   ],
   "source": [
    "alpha = np.logspace(-2,1, 30)\n",
    "test_mean_rmse = []\n",
    "test_rmse = []\n",
    "cv = KFold(n_splits=5, shuffle=True, random_state=1234)\n",
    "\n",
    "for a in alpha:\n",
    "    rg = Ridge(fit_intercept=False, alpha=a).fit(X_train, y_train)\n",
    "    \n",
    "    scores = -1 * cross_val_score(\n",
    "      rg, X, y, \n",
    "      cv = cv, \n",
    "      scoring=\"neg_root_mean_squared_error\"\n",
    "    )\n",
    "    test_mean_rmse.append(np.mean(scores))\n",
    "    test_rmse.append(scores)\n",
    "\n",
    "res = pd.DataFrame(\n",
    "    data = np.c_[alpha, test_mean_rmse, test_rmse],\n",
    "    columns = [\"alpha\", \"mean_rmse\"] + [\"fold\" + str(i) for i in range(1,6) ]\n",
    ")\n",
    "res"
   ]
  },
  {
   "cell_type": "code",
   "execution_count": 113,
   "id": "142a2fe3-665c-4534-98a7-20d74764486a",
   "metadata": {},
   "outputs": [
    {
     "data": {
      "text/plain": [
       "<seaborn.axisgrid.FacetGrid at 0x7f93e2877f40>"
      ]
     },
     "execution_count": 113,
     "metadata": {},
     "output_type": "execute_result"
    },
    {
     "data": {
      "image/png": "[encoded data removed]",
      "text/plain": [
       "<Figure size 631x500 with 1 Axes>"
      ]
     },
     "metadata": {},
     "output_type": "display_data"
    }
   ],
   "source": [
    "g = sns.relplot(x=\"alpha\", y=\"value\", hue=\"variable\", data=res.melt(id_vars=[\"alpha\"]), marker=\"o\", kind=\"line\")\n",
    "g.set(xscale=\"log\")"
   ]
  },
  {
   "cell_type": "code",
   "execution_count": null,
   "id": "58e8638b-4335-4651-bdae-5a5c3b63f1f6",
   "metadata": {},
   "outputs": [],
   "source": [
    "i = res.drop(\n",
    "  [\"alpha\"], axis=1\n",
    ").agg(\n",
    "  np.argmin\n",
    ").to_numpy()\n",
    "\n",
    "i = np.sort(np.unique(i))\n",
    "\n",
    "res.iloc[ i, : ]"
   ]
  },
  {
   "cell_type": "code",
   "execution_count": 114,
   "id": "e675c17f-0fd0-419f-b58c-01d62361f7e5",
   "metadata": {},
   "outputs": [
    {
     "ename": "NameError",
     "evalue": "name 'sklearn' is not defined",
     "output_type": "error",
     "traceback": [
      "\u001b[0;31m---------------------------------------------------------------------------\u001b[0m",
      "\u001b[0;31mNameError\u001b[0m                                 Traceback (most recent call last)",
      "\u001b[0;32m/var/folders/0m/966_8tjn5pddy9gxt6rqdwh00000gn/T/ipykernel_16219/1276840858.py\u001b[0m in \u001b[0;36m<module>\u001b[0;34m\u001b[0m\n\u001b[1;32m      1\u001b[0m np.array( sorted(\n\u001b[0;32m----> 2\u001b[0;31m   \u001b[0msklearn\u001b[0m\u001b[0;34m.\u001b[0m\u001b[0mmetrics\u001b[0m\u001b[0;34m.\u001b[0m\u001b[0mSCORERS\u001b[0m\u001b[0;34m.\u001b[0m\u001b[0mkeys\u001b[0m\u001b[0;34m(\u001b[0m\u001b[0;34m)\u001b[0m\u001b[0;34m\u001b[0m\u001b[0;34m\u001b[0m\u001b[0m\n\u001b[0m\u001b[1;32m      3\u001b[0m ) )\n",
      "\u001b[0;31mNameError\u001b[0m: name 'sklearn' is not defined"
     ]
    }
   ],
   "source": [
    "np.array( sorted(\n",
    "  sklearn.metrics.SCORERS.keys()\n",
    ") )"
   ]
  },
  {
   "cell_type": "code",
   "execution_count": 117,
   "id": "757f5196-e931-4360-9974-9e1344fbe07f",
   "metadata": {},
   "outputs": [],
   "source": [
    "from sklearn.model_selection import GridSearchCV\n",
    "\n",
    "gs = GridSearchCV(\n",
    "  Ridge(fit_intercept=False),\n",
    "  {\"alpha\": np.logspace(-2, 1, 30)},\n",
    "  cv = KFold(5, shuffle=True, random_state=1234),\n",
    "  scoring = \"neg_root_mean_squared_error\"\n",
    ").fit(\n",
    "  X, y\n",
    ")"
   ]
  },
  {
   "cell_type": "code",
   "execution_count": 119,
   "id": "19ec5d1d-f6be-47cd-b30c-65d8f95838bd",
   "metadata": {},
   "outputs": [
    {
     "data": {
      "text/plain": [
       "array([ 9.94994054e-01,  2.00746835e+00,  2.31191242e-03, -3.00069733e+00,\n",
       "        4.93160501e-01,  1.01885074e-01, -2.94083502e-01,  1.00766853e+00])"
      ]
     },
     "execution_count": 119,
     "metadata": {},
     "output_type": "execute_result"
    }
   ],
   "source": [
    "gs.best_index_\n",
    "gs.best_params_\n",
    "gs.best_score_\n",
    "gs.best_estimator_\n",
    "gs.best_estimator_.coef_\n",
    "#gs.best_estimator_.predict(X)"
   ]
  },
  {
   "cell_type": "code",
   "execution_count": 120,
   "id": "8b9bb4a5-1a7a-4de9-8637-a3cb90a447a8",
   "metadata": {},
   "outputs": [
    {
     "data": {
      "text/plain": [
       "array([0.00216022, 0.00202088, 0.00143876, 0.00151763, 0.00133801,\n",
       "       0.00158725, 0.00153713, 0.00128336, 0.00134363, 0.00128369,\n",
       "       0.00127606, 0.0013382 , 0.00127568, 0.00134773, 0.00127902,\n",
       "       0.00126901, 0.00136352, 0.00129037, 0.00128269, 0.00127187,\n",
       "       0.00126901, 0.00127158, 0.00126863, 0.00126638, 0.00131712,\n",
       "       0.00128379, 0.00126486, 0.00125294, 0.00124769, 0.00124726])"
      ]
     },
     "execution_count": 120,
     "metadata": {},
     "output_type": "execute_result"
    }
   ],
   "source": [
    "gs.cv_results_.keys()\n",
    "gs.cv_results_[\"param_alpha\"]\n",
    "gs.cv_results_[\"mean_test_score\"]\n",
    "gs.cv_results_[\"mean_fit_time\"]"
   ]
  },
  {
   "cell_type": "code",
   "execution_count": 121,
   "id": "da7a9b77-c7c4-4003-84ff-e0950c63713d",
   "metadata": {},
   "outputs": [
    {
     "data": {
      "image/png": "[encoded data removed]",
      "text/plain": [
       "<Figure size 640x480 with 1 Axes>"
      ]
     },
     "metadata": {},
     "output_type": "display_data"
    }
   ],
   "source": [
    "alpha = np.array(gs.cv_results_[\"param_alpha\"],dtype=\"float64\")\n",
    "score = -gs.cv_results_[\"mean_test_score\"]\n",
    "score_std = gs.cv_results_[\"std_test_score\"]\n",
    "n_folds = gs.cv.get_n_splits()\n",
    "\n",
    "plt.figure(layout=\"constrained\")\n",
    "\n",
    "ax = sns.lineplot(x=alpha, y=score)\n",
    "ax.set_xscale(\"log\")\n",
    "\n",
    "plt.fill_between(\n",
    "  x = alpha,\n",
    "  y1 = score + 1.96*score_std / np.sqrt(n_folds),\n",
    "  y2 = score - 1.96*score_std / np.sqrt(n_folds),\n",
    "  alpha = 0.2\n",
    ")\n",
    "\n",
    "plt.show()"
   ]
  },
  {
   "cell_type": "markdown",
   "id": "9eeb9576-4105-4756-a223-6bb5b532d938",
   "metadata": {},
   "source": [
    "### Ridge traceplot"
   ]
  },
  {
   "cell_type": "code",
   "execution_count": 122,
   "id": "54a58088-5727-47de-8f21-bac07e8e8497",
   "metadata": {},
   "outputs": [
    {
     "data": {
      "text/html": [
       "<div>\n",
       "<style scoped>\n",
       "    .dataframe tbody tr th:only-of-type {\n",
       "        vertical-align: middle;\n",
       "    }\n",
       "\n",
       "    .dataframe tbody tr th {\n",
       "        vertical-align: top;\n",
       "    }\n",
       "\n",
       "    .dataframe thead th {\n",
       "        text-align: right;\n",
       "    }\n",
       "</style>\n",
       "<table border=\"1\" class=\"dataframe\">\n",
       "  <thead>\n",
       "    <tr style=\"text-align: right;\">\n",
       "      <th></th>\n",
       "      <th>x1</th>\n",
       "      <th>x2</th>\n",
       "      <th>x3</th>\n",
       "      <th>x4</th>\n",
       "      <th>x5_A</th>\n",
       "      <th>x5_B</th>\n",
       "      <th>x5_C</th>\n",
       "      <th>x5_D</th>\n",
       "      <th>alpha</th>\n",
       "    </tr>\n",
       "  </thead>\n",
       "  <tbody>\n",
       "    <tr>\n",
       "      <th>0</th>\n",
       "      <td>0.995032</td>\n",
       "      <td>2.007574</td>\n",
       "      <td>0.002317</td>\n",
       "      <td>-3.000828</td>\n",
       "      <td>0.165900</td>\n",
       "      <td>-0.225440</td>\n",
       "      <td>-0.621467</td>\n",
       "      <td>0.681007</td>\n",
       "      <td>0.010000</td>\n",
       "    </tr>\n",
       "    <tr>\n",
       "      <th>1</th>\n",
       "      <td>0.995030</td>\n",
       "      <td>2.007568</td>\n",
       "      <td>0.002317</td>\n",
       "      <td>-3.000821</td>\n",
       "      <td>0.165903</td>\n",
       "      <td>-0.225435</td>\n",
       "      <td>-0.621458</td>\n",
       "      <td>0.680990</td>\n",
       "      <td>0.011233</td>\n",
       "    </tr>\n",
       "    <tr>\n",
       "      <th>2</th>\n",
       "      <td>0.995027</td>\n",
       "      <td>2.007562</td>\n",
       "      <td>0.002317</td>\n",
       "      <td>-3.000813</td>\n",
       "      <td>0.165905</td>\n",
       "      <td>-0.225428</td>\n",
       "      <td>-0.621448</td>\n",
       "      <td>0.680971</td>\n",
       "      <td>0.012619</td>\n",
       "    </tr>\n",
       "    <tr>\n",
       "      <th>3</th>\n",
       "      <td>0.995024</td>\n",
       "      <td>2.007555</td>\n",
       "      <td>0.002317</td>\n",
       "      <td>-3.000804</td>\n",
       "      <td>0.165909</td>\n",
       "      <td>-0.225421</td>\n",
       "      <td>-0.621437</td>\n",
       "      <td>0.680949</td>\n",
       "      <td>0.014175</td>\n",
       "    </tr>\n",
       "    <tr>\n",
       "      <th>4</th>\n",
       "      <td>0.995021</td>\n",
       "      <td>2.007547</td>\n",
       "      <td>0.002317</td>\n",
       "      <td>-3.000794</td>\n",
       "      <td>0.165912</td>\n",
       "      <td>-0.225413</td>\n",
       "      <td>-0.621424</td>\n",
       "      <td>0.680925</td>\n",
       "      <td>0.015923</td>\n",
       "    </tr>\n",
       "    <tr>\n",
       "      <th>...</th>\n",
       "      <td>...</td>\n",
       "      <td>...</td>\n",
       "      <td>...</td>\n",
       "      <td>...</td>\n",
       "      <td>...</td>\n",
       "      <td>...</td>\n",
       "      <td>...</td>\n",
       "      <td>...</td>\n",
       "      <td>...</td>\n",
       "    </tr>\n",
       "    <tr>\n",
       "      <th>95</th>\n",
       "      <td>0.464132</td>\n",
       "      <td>0.796323</td>\n",
       "      <td>0.025934</td>\n",
       "      <td>-1.347516</td>\n",
       "      <td>0.046700</td>\n",
       "      <td>-0.022499</td>\n",
       "      <td>-0.101339</td>\n",
       "      <td>0.077138</td>\n",
       "      <td>628.029144</td>\n",
       "    </tr>\n",
       "    <tr>\n",
       "      <th>96</th>\n",
       "      <td>0.435572</td>\n",
       "      <td>0.740631</td>\n",
       "      <td>0.025662</td>\n",
       "      <td>-1.261824</td>\n",
       "      <td>0.042058</td>\n",
       "      <td>-0.020376</td>\n",
       "      <td>-0.092306</td>\n",
       "      <td>0.070625</td>\n",
       "      <td>705.480231</td>\n",
       "    </tr>\n",
       "    <tr>\n",
       "      <th>97</th>\n",
       "      <td>0.407421</td>\n",
       "      <td>0.686644</td>\n",
       "      <td>0.025218</td>\n",
       "      <td>-1.177716</td>\n",
       "      <td>0.037789</td>\n",
       "      <td>-0.018419</td>\n",
       "      <td>-0.083926</td>\n",
       "      <td>0.064556</td>\n",
       "      <td>792.482898</td>\n",
       "    </tr>\n",
       "    <tr>\n",
       "      <th>98</th>\n",
       "      <td>0.379853</td>\n",
       "      <td>0.634638</td>\n",
       "      <td>0.024615</td>\n",
       "      <td>-1.095694</td>\n",
       "      <td>0.033883</td>\n",
       "      <td>-0.016620</td>\n",
       "      <td>-0.076176</td>\n",
       "      <td>0.058912</td>\n",
       "      <td>890.215085</td>\n",
       "    </tr>\n",
       "    <tr>\n",
       "      <th>99</th>\n",
       "      <td>0.353029</td>\n",
       "      <td>0.584846</td>\n",
       "      <td>0.023870</td>\n",
       "      <td>-1.016210</td>\n",
       "      <td>0.030327</td>\n",
       "      <td>-0.014971</td>\n",
       "      <td>-0.069031</td>\n",
       "      <td>0.053676</td>\n",
       "      <td>1000.000000</td>\n",
       "    </tr>\n",
       "  </tbody>\n",
       "</table>\n",
       "<p>100 rows × 9 columns</p>\n",
       "</div>"
      ],
      "text/plain": [
       "          x1        x2        x3        x4      x5_A      x5_B      x5_C  \\\n",
       "0   0.995032  2.007574  0.002317 -3.000828  0.165900 -0.225440 -0.621467   \n",
       "1   0.995030  2.007568  0.002317 -3.000821  0.165903 -0.225435 -0.621458   \n",
       "2   0.995027  2.007562  0.002317 -3.000813  0.165905 -0.225428 -0.621448   \n",
       "3   0.995024  2.007555  0.002317 -3.000804  0.165909 -0.225421 -0.621437   \n",
       "4   0.995021  2.007547  0.002317 -3.000794  0.165912 -0.225413 -0.621424   \n",
       "..       ...       ...       ...       ...       ...       ...       ...   \n",
       "95  0.464132  0.796323  0.025934 -1.347516  0.046700 -0.022499 -0.101339   \n",
       "96  0.435572  0.740631  0.025662 -1.261824  0.042058 -0.020376 -0.092306   \n",
       "97  0.407421  0.686644  0.025218 -1.177716  0.037789 -0.018419 -0.083926   \n",
       "98  0.379853  0.634638  0.024615 -1.095694  0.033883 -0.016620 -0.076176   \n",
       "99  0.353029  0.584846  0.023870 -1.016210  0.030327 -0.014971 -0.069031   \n",
       "\n",
       "        x5_D        alpha  \n",
       "0   0.681007     0.010000  \n",
       "1   0.680990     0.011233  \n",
       "2   0.680971     0.012619  \n",
       "3   0.680949     0.014175  \n",
       "4   0.680925     0.015923  \n",
       "..       ...          ...  \n",
       "95  0.077138   628.029144  \n",
       "96  0.070625   705.480231  \n",
       "97  0.064556   792.482898  \n",
       "98  0.058912   890.215085  \n",
       "99  0.053676  1000.000000  \n",
       "\n",
       "[100 rows x 9 columns]"
      ]
     },
     "execution_count": 122,
     "metadata": {},
     "output_type": "execute_result"
    }
   ],
   "source": [
    "alpha = np.logspace(-2,3, 100)\n",
    "betas = []\n",
    "\n",
    "for a in alpha:\n",
    "    rg = Ridge(alpha=a).fit(X, y)\n",
    "    \n",
    "    betas.append(rg.coef_)\n",
    "\n",
    "res = pd.DataFrame(\n",
    "  data = betas, columns = rg.feature_names_in_\n",
    ").assign(\n",
    "  alpha = alpha  \n",
    ")\n",
    "\n",
    "res"
   ]
  },
  {
   "cell_type": "code",
   "execution_count": 123,
   "id": "c907c543-b228-4ed6-a38f-ec1837308e19",
   "metadata": {},
   "outputs": [
    {
     "data": {
      "text/plain": [
       "<seaborn.axisgrid.FacetGrid at 0x7f93d3cbda60>"
      ]
     },
     "execution_count": 123,
     "metadata": {},
     "output_type": "execute_result"
    },
    {
     "data": {
      "image/png": "[encoded data removed]",
      "text/plain": [
       "<Figure size 1084.88x500 with 1 Axes>"
      ]
     },
     "metadata": {},
     "output_type": "display_data"
    }
   ],
   "source": [
    "g = sns.relplot(\n",
    "  data = res.melt(id_vars=\"alpha\", value_name=\"coef values\", var_name=\"feature\"),\n",
    "  x = \"alpha\", y = \"coef values\", hue = \"feature\",\n",
    "  kind = \"line\", aspect=2\n",
    ")\n",
    "g.set(xscale=\"log\")"
   ]
  }
 ],
 "metadata": {
  "kernelspec": {
   "display_name": "Python 3 (ipykernel)",
   "language": "python",
   "name": "python3"
  },
  "language_info": {
   "codemirror_mode": {
    "name": "ipython",
    "version": 3
   },
   "file_extension": ".py",
   "mimetype": "text/x-python",
   "name": "python",
   "nbconvert_exporter": "python",
   "pygments_lexer": "ipython3",
   "version": "3.9.13"
  }
 },
 "nbformat": 4,
 "nbformat_minor": 5
}
