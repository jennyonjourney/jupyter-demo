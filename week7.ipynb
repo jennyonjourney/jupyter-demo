{
 "cells": [
  {
   "cell_type": "markdown",
   "id": "69b8067b-1e71-4119-9383-08ce01d620a7",
   "metadata": {},
   "source": [
    "# Scikit-learn"
   ]
  },
  {
   "cell_type": "code",
   "execution_count": 9,
   "id": "9fd74899-3c64-4dd8-96a4-da54fe0b918d",
   "metadata": {},
   "outputs": [],
   "source": [
    "import pandas as pd\n",
    "import numpy as np\n",
    "import matplotlib as mpl #rarely use mpl directly\n",
    "import matplotlib.pyplot as plt #rather using pyplot more\n",
    "import seaborn as sns"
   ]
  },
  {
   "cell_type": "code",
   "execution_count": 6,
   "id": "05e58d8d-8535-41e5-b53c-8da2f00b6ac5",
   "metadata": {},
   "outputs": [
    {
     "name": "stdout",
     "output_type": "stream",
     "text": [
      "   volume  area  weight cover\n",
      "1     885   382     800    hb\n",
      "2    1016   468     950    hb\n",
      "3    1125   387    1050    hb\n",
      "4     239   371     350    hb\n",
      "5     701   371     750    hb\n"
     ]
    }
   ],
   "source": [
    "url = \"https://raw.githubusercontent.com/jennyonjourney/jupyter-demo/main/daag_books.csv\"\n",
    "books = pd.read_csv(url, index_col=0)\n",
    "print(books.head(5))"
   ]
  },
  {
   "cell_type": "code",
   "execution_count": 10,
   "id": "6f2fe706-65a7-4513-85e0-20d8e99480dc",
   "metadata": {},
   "outputs": [
    {
     "data": {
      "text/plain": [
       "<seaborn.axisgrid.FacetGrid at 0x7f93d23dd8e0>"
      ]
     },
     "execution_count": 10,
     "metadata": {},
     "output_type": "execute_result"
    },
    {
     "data": {
      "image/png": "[encoded data removed]",
      "text/plain": [
       "<Figure size 567.75x500 with 1 Axes>"
      ]
     },
     "metadata": {},
     "output_type": "display_data"
    }
   ],
   "source": [
    "sns.relplot(data=books, x=\"volume\",y=\"weight\",hue=\"cover\")"
   ]
  },
  {
   "cell_type": "markdown",
   "id": "a831ce66-1c7f-4c5d-898a-86b633f3b2fd",
   "metadata": {},
   "source": [
    "## Linear regression"
   ]
  },
  {
   "cell_type": "code",
   "execution_count": 11,
   "id": "4f8378e0-f453-4e2e-9e0c-340c6c92aaf9",
   "metadata": {},
   "outputs": [],
   "source": [
    "from sklearn.linear_model import LinearRegression"
   ]
  },
  {
   "cell_type": "code",
   "execution_count": 20,
   "id": "0ad8468d-27bb-4f94-9a4a-2c5c8ae62546",
   "metadata": {},
   "outputs": [
    {
     "data": {
      "text/plain": [
       "array([0.70863714])"
      ]
     },
     "execution_count": 20,
     "metadata": {},
     "output_type": "execute_result"
    }
   ],
   "source": [
    "# input : np array (2d)\n",
    "lm = LinearRegression()\n",
    "m = lm.fit(\n",
    "    X = books[[\"volume\"]], #np.arrage(books.volume) won't work!!!\n",
    "    y = books.weight\n",
    ")\n",
    "m.coef_ ; lm_coef_ # lm and m are labels for the same object"
   ]
  },
  {
   "cell_type": "code",
   "execution_count": 15,
   "id": "4e59be0d-7961-48ff-9071-603400334049",
   "metadata": {},
   "outputs": [
    {
     "data": {
      "text/plain": [
       "107.679310613766"
      ]
     },
     "execution_count": 15,
     "metadata": {},
     "output_type": "execute_result"
    }
   ],
   "source": [
    "m.intercept_ ; lm.intercept_"
   ]
  },
  {
   "cell_type": "code",
   "execution_count": 23,
   "id": "6dfcc14d-b73a-4680-a35e-2c57ef2dfb7a",
   "metadata": {},
   "outputs": [
    {
     "data": {
      "text/plain": [
       "LinearRegression()"
      ]
     },
     "execution_count": 23,
     "metadata": {},
     "output_type": "execute_result"
    }
   ],
   "source": [
    "lm.fit(\n",
    "    X = np.array(books.volume).reshape(-1,1),\n",
    "    y = books.weight\n",
    ")"
   ]
  },
  {
   "cell_type": "code",
   "execution_count": 24,
   "id": "b43ebcd7-2bfc-492f-870b-66e31cd0fbfd",
   "metadata": {},
   "outputs": [
    {
     "data": {
      "text/plain": [
       "{'copy_X': True,\n",
       " 'fit_intercept': True,\n",
       " 'n_jobs': None,\n",
       " 'normalize': 'deprecated',\n",
       " 'positive': False}"
      ]
     },
     "execution_count": 24,
     "metadata": {},
     "output_type": "execute_result"
    }
   ],
   "source": [
    "lm.get_params()\n",
    "# lm.set_params(fit_intercept = False) then intercept is not shown"
   ]
  },
  {
   "cell_type": "code",
   "execution_count": 25,
   "id": "f55c5a2a-df32-4d35-b45b-6a9ba983915d",
   "metadata": {},
   "outputs": [
    {
     "name": "stderr",
     "output_type": "stream",
     "text": [
      "/Users/kyungeunjeon/opt/anaconda3/lib/python3.9/site-packages/sklearn/base.py:443: UserWarning: X has feature names, but LinearRegression was fitted without feature names\n",
      "  warnings.warn(\n"
     ]
    },
    {
     "data": {
      "text/plain": [
       "array([ 734.8231825 ,  827.65464828,  904.89609691,  277.04358788,\n",
       "        604.43394812,  561.91571951,  977.88572267,  399.63781368,\n",
       "        783.01050825,  766.0032168 , 1164.96592852,  404.59827369,\n",
       "        823.40282542,  529.31841092,  840.41011686])"
      ]
     },
     "execution_count": 25,
     "metadata": {},
     "output_type": "execute_result"
    }
   ],
   "source": [
    "lm.predict(X=books[[\"volume\"]])"
   ]
  },
  {
   "cell_type": "code",
   "execution_count": 26,
   "id": "7052d869-425b-4d18-b4dc-250bbd09ce07",
   "metadata": {},
   "outputs": [
    {
     "name": "stderr",
     "output_type": "stream",
     "text": [
      "/Users/kyungeunjeon/opt/anaconda3/lib/python3.9/site-packages/sklearn/base.py:443: UserWarning: X has feature names, but LinearRegression was fitted without feature names\n",
      "  warnings.warn(\n"
     ]
    },
    {
     "data": {
      "text/html": [
       "<div>\n",
       "<style scoped>\n",
       "    .dataframe tbody tr th:only-of-type {\n",
       "        vertical-align: middle;\n",
       "    }\n",
       "\n",
       "    .dataframe tbody tr th {\n",
       "        vertical-align: top;\n",
       "    }\n",
       "\n",
       "    .dataframe thead th {\n",
       "        text-align: right;\n",
       "    }\n",
       "</style>\n",
       "<table border=\"1\" class=\"dataframe\">\n",
       "  <thead>\n",
       "    <tr style=\"text-align: right;\">\n",
       "      <th></th>\n",
       "      <th>volume</th>\n",
       "      <th>area</th>\n",
       "      <th>weight</th>\n",
       "      <th>cover</th>\n",
       "      <th>weight_lm_pred</th>\n",
       "    </tr>\n",
       "  </thead>\n",
       "  <tbody>\n",
       "    <tr>\n",
       "      <th>1</th>\n",
       "      <td>885</td>\n",
       "      <td>382</td>\n",
       "      <td>800</td>\n",
       "      <td>hb</td>\n",
       "      <td>734.823182</td>\n",
       "    </tr>\n",
       "    <tr>\n",
       "      <th>2</th>\n",
       "      <td>1016</td>\n",
       "      <td>468</td>\n",
       "      <td>950</td>\n",
       "      <td>hb</td>\n",
       "      <td>827.654648</td>\n",
       "    </tr>\n",
       "    <tr>\n",
       "      <th>3</th>\n",
       "      <td>1125</td>\n",
       "      <td>387</td>\n",
       "      <td>1050</td>\n",
       "      <td>hb</td>\n",
       "      <td>904.896097</td>\n",
       "    </tr>\n",
       "    <tr>\n",
       "      <th>4</th>\n",
       "      <td>239</td>\n",
       "      <td>371</td>\n",
       "      <td>350</td>\n",
       "      <td>hb</td>\n",
       "      <td>277.043588</td>\n",
       "    </tr>\n",
       "    <tr>\n",
       "      <th>5</th>\n",
       "      <td>701</td>\n",
       "      <td>371</td>\n",
       "      <td>750</td>\n",
       "      <td>hb</td>\n",
       "      <td>604.433948</td>\n",
       "    </tr>\n",
       "    <tr>\n",
       "      <th>6</th>\n",
       "      <td>641</td>\n",
       "      <td>367</td>\n",
       "      <td>600</td>\n",
       "      <td>hb</td>\n",
       "      <td>561.915720</td>\n",
       "    </tr>\n",
       "    <tr>\n",
       "      <th>7</th>\n",
       "      <td>1228</td>\n",
       "      <td>396</td>\n",
       "      <td>1075</td>\n",
       "      <td>hb</td>\n",
       "      <td>977.885723</td>\n",
       "    </tr>\n",
       "    <tr>\n",
       "      <th>8</th>\n",
       "      <td>412</td>\n",
       "      <td>0</td>\n",
       "      <td>250</td>\n",
       "      <td>pb</td>\n",
       "      <td>399.637814</td>\n",
       "    </tr>\n",
       "    <tr>\n",
       "      <th>9</th>\n",
       "      <td>953</td>\n",
       "      <td>0</td>\n",
       "      <td>700</td>\n",
       "      <td>pb</td>\n",
       "      <td>783.010508</td>\n",
       "    </tr>\n",
       "    <tr>\n",
       "      <th>10</th>\n",
       "      <td>929</td>\n",
       "      <td>0</td>\n",
       "      <td>650</td>\n",
       "      <td>pb</td>\n",
       "      <td>766.003217</td>\n",
       "    </tr>\n",
       "    <tr>\n",
       "      <th>11</th>\n",
       "      <td>1492</td>\n",
       "      <td>0</td>\n",
       "      <td>975</td>\n",
       "      <td>pb</td>\n",
       "      <td>1164.965929</td>\n",
       "    </tr>\n",
       "    <tr>\n",
       "      <th>12</th>\n",
       "      <td>419</td>\n",
       "      <td>0</td>\n",
       "      <td>350</td>\n",
       "      <td>pb</td>\n",
       "      <td>404.598274</td>\n",
       "    </tr>\n",
       "    <tr>\n",
       "      <th>13</th>\n",
       "      <td>1010</td>\n",
       "      <td>0</td>\n",
       "      <td>950</td>\n",
       "      <td>pb</td>\n",
       "      <td>823.402825</td>\n",
       "    </tr>\n",
       "    <tr>\n",
       "      <th>14</th>\n",
       "      <td>595</td>\n",
       "      <td>0</td>\n",
       "      <td>425</td>\n",
       "      <td>pb</td>\n",
       "      <td>529.318411</td>\n",
       "    </tr>\n",
       "    <tr>\n",
       "      <th>15</th>\n",
       "      <td>1034</td>\n",
       "      <td>0</td>\n",
       "      <td>725</td>\n",
       "      <td>pb</td>\n",
       "      <td>840.410117</td>\n",
       "    </tr>\n",
       "  </tbody>\n",
       "</table>\n",
       "</div>"
      ],
      "text/plain": [
       "    volume  area  weight cover  weight_lm_pred\n",
       "1      885   382     800    hb      734.823182\n",
       "2     1016   468     950    hb      827.654648\n",
       "3     1125   387    1050    hb      904.896097\n",
       "4      239   371     350    hb      277.043588\n",
       "5      701   371     750    hb      604.433948\n",
       "6      641   367     600    hb      561.915720\n",
       "7     1228   396    1075    hb      977.885723\n",
       "8      412     0     250    pb      399.637814\n",
       "9      953     0     700    pb      783.010508\n",
       "10     929     0     650    pb      766.003217\n",
       "11    1492     0     975    pb     1164.965929\n",
       "12     419     0     350    pb      404.598274\n",
       "13    1010     0     950    pb      823.402825\n",
       "14     595     0     425    pb      529.318411\n",
       "15    1034     0     725    pb      840.410117"
      ]
     },
     "execution_count": 26,
     "metadata": {},
     "output_type": "execute_result"
    }
   ],
   "source": [
    "books[\"weight_lm_pred\"] = lm.predict(X=books[[\"volume\"]])\n",
    "books"
   ]
  },
  {
   "cell_type": "code",
   "execution_count": 27,
   "id": "b2c7cad4-e9f3-4dc7-b4e7-795bc4d92e1e",
   "metadata": {},
   "outputs": [
    {
     "data": {
      "image/png": "[encoded data removed]",
      "text/plain": [
       "<Figure size 640x480 with 1 Axes>"
      ]
     },
     "metadata": {},
     "output_type": "display_data"
    }
   ],
   "source": [
    "plt.figure()\n",
    "sns.scatterplot(data=books, x=\"volume\", y=\"weight\", hue=\"cover\")\n",
    "sns.lineplot(data=books, x=\"volume\", y=\"weight_lm_pred\", color=\"green\")\n",
    "plt.show()"
   ]
  },
  {
   "cell_type": "markdown",
   "id": "e432f655-bd69-4fa1-b116-63a4fbdc6bab",
   "metadata": {},
   "source": [
    "### Residuals"
   ]
  },
  {
   "cell_type": "code",
   "execution_count": 28,
   "id": "d02540de-6f91-4b2c-b49a-6f07b22a5cd0",
   "metadata": {},
   "outputs": [
    {
     "data": {
      "image/png": "[encoded data removed]",
      "text/plain": [
       "<Figure size 640x480 with 1 Axes>"
      ]
     },
     "metadata": {},
     "output_type": "display_data"
    }
   ],
   "source": [
    "# get the diff (residuals)\n",
    "books[\"resid_lm_pred\"] = books[\"weight\"] - books[\"weight_lm_pred\"]\n",
    "\n",
    "# empty figure\n",
    "plt.figure(layout=\"constrained\")\n",
    "# ax graph for plotting and line\n",
    "ax = sns.scatterplot(data=books, x=\"volume\", y=\"resid_lm_pred\", hue=\"cover\")\n",
    "ax.axhline(c=\"k\", ls=\"--\", lw=1)\n",
    "plt.show()"
   ]
  },
  {
   "cell_type": "code",
   "execution_count": 29,
   "id": "1e8869a9-cbc4-45f5-b309-ac553080c853",
   "metadata": {},
   "outputs": [
    {
     "ename": "ValueError",
     "evalue": "could not convert string to float: 'hb'",
     "output_type": "error",
     "traceback": [
      "\u001b[0;31m---------------------------------------------------------------------------\u001b[0m",
      "\u001b[0;31mValueError\u001b[0m                                Traceback (most recent call last)",
      "\u001b[0;32m/var/folders/0m/966_8tjn5pddy9gxt6rqdwh00000gn/T/ipykernel_16219/3977103540.py\u001b[0m in \u001b[0;36m<module>\u001b[0;34m\u001b[0m\n\u001b[1;32m      1\u001b[0m \u001b[0;31m# categorical variables\u001b[0m\u001b[0;34m\u001b[0m\u001b[0;34m\u001b[0m\u001b[0m\n\u001b[0;32m----> 2\u001b[0;31m lm = lm.fit(\n\u001b[0m\u001b[1;32m      3\u001b[0m   \u001b[0mX\u001b[0m \u001b[0;34m=\u001b[0m \u001b[0mbooks\u001b[0m\u001b[0;34m[\u001b[0m\u001b[0;34m[\u001b[0m\u001b[0;34m\"volume\"\u001b[0m\u001b[0;34m,\u001b[0m \u001b[0;34m\"cover\"\u001b[0m\u001b[0;34m]\u001b[0m\u001b[0;34m]\u001b[0m\u001b[0;34m,\u001b[0m\u001b[0;34m\u001b[0m\u001b[0;34m\u001b[0m\u001b[0m\n\u001b[1;32m      4\u001b[0m   \u001b[0my\u001b[0m \u001b[0;34m=\u001b[0m \u001b[0mbooks\u001b[0m\u001b[0;34m.\u001b[0m\u001b[0mweight\u001b[0m\u001b[0;34m\u001b[0m\u001b[0;34m\u001b[0m\u001b[0m\n\u001b[1;32m      5\u001b[0m )\n",
      "\u001b[0;32m~/opt/anaconda3/lib/python3.9/site-packages/sklearn/linear_model/_base.py\u001b[0m in \u001b[0;36mfit\u001b[0;34m(self, X, y, sample_weight)\u001b[0m\n\u001b[1;32m    660\u001b[0m         \u001b[0maccept_sparse\u001b[0m \u001b[0;34m=\u001b[0m \u001b[0;32mFalse\u001b[0m \u001b[0;32mif\u001b[0m \u001b[0mself\u001b[0m\u001b[0;34m.\u001b[0m\u001b[0mpositive\u001b[0m \u001b[0;32melse\u001b[0m \u001b[0;34m[\u001b[0m\u001b[0;34m\"csr\"\u001b[0m\u001b[0;34m,\u001b[0m \u001b[0;34m\"csc\"\u001b[0m\u001b[0;34m,\u001b[0m \u001b[0;34m\"coo\"\u001b[0m\u001b[0;34m]\u001b[0m\u001b[0;34m\u001b[0m\u001b[0;34m\u001b[0m\u001b[0m\n\u001b[1;32m    661\u001b[0m \u001b[0;34m\u001b[0m\u001b[0m\n\u001b[0;32m--> 662\u001b[0;31m         X, y = self._validate_data(\n\u001b[0m\u001b[1;32m    663\u001b[0m             \u001b[0mX\u001b[0m\u001b[0;34m,\u001b[0m \u001b[0my\u001b[0m\u001b[0;34m,\u001b[0m \u001b[0maccept_sparse\u001b[0m\u001b[0;34m=\u001b[0m\u001b[0maccept_sparse\u001b[0m\u001b[0;34m,\u001b[0m \u001b[0my_numeric\u001b[0m\u001b[0;34m=\u001b[0m\u001b[0;32mTrue\u001b[0m\u001b[0;34m,\u001b[0m \u001b[0mmulti_output\u001b[0m\u001b[0;34m=\u001b[0m\u001b[0;32mTrue\u001b[0m\u001b[0;34m\u001b[0m\u001b[0;34m\u001b[0m\u001b[0m\n\u001b[1;32m    664\u001b[0m         )\n",
      "\u001b[0;32m~/opt/anaconda3/lib/python3.9/site-packages/sklearn/base.py\u001b[0m in \u001b[0;36m_validate_data\u001b[0;34m(self, X, y, reset, validate_separately, **check_params)\u001b[0m\n\u001b[1;32m    579\u001b[0m                 \u001b[0my\u001b[0m \u001b[0;34m=\u001b[0m \u001b[0mcheck_array\u001b[0m\u001b[0;34m(\u001b[0m\u001b[0my\u001b[0m\u001b[0;34m,\u001b[0m \u001b[0;34m**\u001b[0m\u001b[0mcheck_y_params\u001b[0m\u001b[0;34m)\u001b[0m\u001b[0;34m\u001b[0m\u001b[0;34m\u001b[0m\u001b[0m\n\u001b[1;32m    580\u001b[0m             \u001b[0;32melse\u001b[0m\u001b[0;34m:\u001b[0m\u001b[0;34m\u001b[0m\u001b[0;34m\u001b[0m\u001b[0m\n\u001b[0;32m--> 581\u001b[0;31m                 \u001b[0mX\u001b[0m\u001b[0;34m,\u001b[0m \u001b[0my\u001b[0m \u001b[0;34m=\u001b[0m \u001b[0mcheck_X_y\u001b[0m\u001b[0;34m(\u001b[0m\u001b[0mX\u001b[0m\u001b[0;34m,\u001b[0m \u001b[0my\u001b[0m\u001b[0;34m,\u001b[0m \u001b[0;34m**\u001b[0m\u001b[0mcheck_params\u001b[0m\u001b[0;34m)\u001b[0m\u001b[0;34m\u001b[0m\u001b[0;34m\u001b[0m\u001b[0m\n\u001b[0m\u001b[1;32m    582\u001b[0m             \u001b[0mout\u001b[0m \u001b[0;34m=\u001b[0m \u001b[0mX\u001b[0m\u001b[0;34m,\u001b[0m \u001b[0my\u001b[0m\u001b[0;34m\u001b[0m\u001b[0;34m\u001b[0m\u001b[0m\n\u001b[1;32m    583\u001b[0m \u001b[0;34m\u001b[0m\u001b[0m\n",
      "\u001b[0;32m~/opt/anaconda3/lib/python3.9/site-packages/sklearn/utils/validation.py\u001b[0m in \u001b[0;36mcheck_X_y\u001b[0;34m(X, y, accept_sparse, accept_large_sparse, dtype, order, copy, force_all_finite, ensure_2d, allow_nd, multi_output, ensure_min_samples, ensure_min_features, y_numeric, estimator)\u001b[0m\n\u001b[1;32m    962\u001b[0m         \u001b[0;32mraise\u001b[0m \u001b[0mValueError\u001b[0m\u001b[0;34m(\u001b[0m\u001b[0;34m\"y cannot be None\"\u001b[0m\u001b[0;34m)\u001b[0m\u001b[0;34m\u001b[0m\u001b[0;34m\u001b[0m\u001b[0m\n\u001b[1;32m    963\u001b[0m \u001b[0;34m\u001b[0m\u001b[0m\n\u001b[0;32m--> 964\u001b[0;31m     X = check_array(\n\u001b[0m\u001b[1;32m    965\u001b[0m         \u001b[0mX\u001b[0m\u001b[0;34m,\u001b[0m\u001b[0;34m\u001b[0m\u001b[0;34m\u001b[0m\u001b[0m\n\u001b[1;32m    966\u001b[0m         \u001b[0maccept_sparse\u001b[0m\u001b[0;34m=\u001b[0m\u001b[0maccept_sparse\u001b[0m\u001b[0;34m,\u001b[0m\u001b[0;34m\u001b[0m\u001b[0;34m\u001b[0m\u001b[0m\n",
      "\u001b[0;32m~/opt/anaconda3/lib/python3.9/site-packages/sklearn/utils/validation.py\u001b[0m in \u001b[0;36mcheck_array\u001b[0;34m(array, accept_sparse, accept_large_sparse, dtype, order, copy, force_all_finite, ensure_2d, allow_nd, ensure_min_samples, ensure_min_features, estimator)\u001b[0m\n\u001b[1;32m    744\u001b[0m                     \u001b[0marray\u001b[0m \u001b[0;34m=\u001b[0m \u001b[0marray\u001b[0m\u001b[0;34m.\u001b[0m\u001b[0mastype\u001b[0m\u001b[0;34m(\u001b[0m\u001b[0mdtype\u001b[0m\u001b[0;34m,\u001b[0m \u001b[0mcasting\u001b[0m\u001b[0;34m=\u001b[0m\u001b[0;34m\"unsafe\"\u001b[0m\u001b[0;34m,\u001b[0m \u001b[0mcopy\u001b[0m\u001b[0;34m=\u001b[0m\u001b[0;32mFalse\u001b[0m\u001b[0;34m)\u001b[0m\u001b[0;34m\u001b[0m\u001b[0;34m\u001b[0m\u001b[0m\n\u001b[1;32m    745\u001b[0m                 \u001b[0;32melse\u001b[0m\u001b[0;34m:\u001b[0m\u001b[0;34m\u001b[0m\u001b[0;34m\u001b[0m\u001b[0m\n\u001b[0;32m--> 746\u001b[0;31m                     \u001b[0marray\u001b[0m \u001b[0;34m=\u001b[0m \u001b[0mnp\u001b[0m\u001b[0;34m.\u001b[0m\u001b[0masarray\u001b[0m\u001b[0;34m(\u001b[0m\u001b[0marray\u001b[0m\u001b[0;34m,\u001b[0m \u001b[0morder\u001b[0m\u001b[0;34m=\u001b[0m\u001b[0morder\u001b[0m\u001b[0;34m,\u001b[0m \u001b[0mdtype\u001b[0m\u001b[0;34m=\u001b[0m\u001b[0mdtype\u001b[0m\u001b[0;34m)\u001b[0m\u001b[0;34m\u001b[0m\u001b[0;34m\u001b[0m\u001b[0m\n\u001b[0m\u001b[1;32m    747\u001b[0m             \u001b[0;32mexcept\u001b[0m \u001b[0mComplexWarning\u001b[0m \u001b[0;32mas\u001b[0m \u001b[0mcomplex_warning\u001b[0m\u001b[0;34m:\u001b[0m\u001b[0;34m\u001b[0m\u001b[0;34m\u001b[0m\u001b[0m\n\u001b[1;32m    748\u001b[0m                 raise ValueError(\n",
      "\u001b[0;32m~/opt/anaconda3/lib/python3.9/site-packages/pandas/core/generic.py\u001b[0m in \u001b[0;36m__array__\u001b[0;34m(self, dtype)\u001b[0m\n\u001b[1;32m   2062\u001b[0m \u001b[0;34m\u001b[0m\u001b[0m\n\u001b[1;32m   2063\u001b[0m     \u001b[0;32mdef\u001b[0m \u001b[0m__array__\u001b[0m\u001b[0;34m(\u001b[0m\u001b[0mself\u001b[0m\u001b[0;34m,\u001b[0m \u001b[0mdtype\u001b[0m\u001b[0;34m:\u001b[0m \u001b[0mnpt\u001b[0m\u001b[0;34m.\u001b[0m\u001b[0mDTypeLike\u001b[0m \u001b[0;34m|\u001b[0m \u001b[0;32mNone\u001b[0m \u001b[0;34m=\u001b[0m \u001b[0;32mNone\u001b[0m\u001b[0;34m)\u001b[0m \u001b[0;34m->\u001b[0m \u001b[0mnp\u001b[0m\u001b[0;34m.\u001b[0m\u001b[0mndarray\u001b[0m\u001b[0;34m:\u001b[0m\u001b[0;34m\u001b[0m\u001b[0;34m\u001b[0m\u001b[0m\n\u001b[0;32m-> 2064\u001b[0;31m         \u001b[0;32mreturn\u001b[0m \u001b[0mnp\u001b[0m\u001b[0;34m.\u001b[0m\u001b[0masarray\u001b[0m\u001b[0;34m(\u001b[0m\u001b[0mself\u001b[0m\u001b[0;34m.\u001b[0m\u001b[0m_values\u001b[0m\u001b[0;34m,\u001b[0m \u001b[0mdtype\u001b[0m\u001b[0;34m=\u001b[0m\u001b[0mdtype\u001b[0m\u001b[0;34m)\u001b[0m\u001b[0;34m\u001b[0m\u001b[0;34m\u001b[0m\u001b[0m\n\u001b[0m\u001b[1;32m   2065\u001b[0m \u001b[0;34m\u001b[0m\u001b[0m\n\u001b[1;32m   2066\u001b[0m     def __array_wrap__(\n",
      "\u001b[0;31mValueError\u001b[0m: could not convert string to float: 'hb'"
     ]
    }
   ],
   "source": [
    "# categorical variables\n",
    "lm = lm.fit(\n",
    "  X = books[[\"volume\", \"cover\"]],\n",
    "  y = books.weight\n",
    ")"
   ]
  },
  {
   "cell_type": "code",
   "execution_count": 32,
   "id": "83afc2ef-63bb-4dfc-bb03-b44b901f7261",
   "metadata": {},
   "outputs": [
    {
     "data": {
      "text/html": [
       "<div>\n",
       "<style scoped>\n",
       "    .dataframe tbody tr th:only-of-type {\n",
       "        vertical-align: middle;\n",
       "    }\n",
       "\n",
       "    .dataframe tbody tr th {\n",
       "        vertical-align: top;\n",
       "    }\n",
       "\n",
       "    .dataframe thead th {\n",
       "        text-align: right;\n",
       "    }\n",
       "</style>\n",
       "<table border=\"1\" class=\"dataframe\">\n",
       "  <thead>\n",
       "    <tr style=\"text-align: right;\">\n",
       "      <th></th>\n",
       "      <th>cover_hb</th>\n",
       "      <th>cover_pb</th>\n",
       "    </tr>\n",
       "  </thead>\n",
       "  <tbody>\n",
       "    <tr>\n",
       "      <th>1</th>\n",
       "      <td>1</td>\n",
       "      <td>0</td>\n",
       "    </tr>\n",
       "    <tr>\n",
       "      <th>2</th>\n",
       "      <td>1</td>\n",
       "      <td>0</td>\n",
       "    </tr>\n",
       "    <tr>\n",
       "      <th>3</th>\n",
       "      <td>1</td>\n",
       "      <td>0</td>\n",
       "    </tr>\n",
       "    <tr>\n",
       "      <th>4</th>\n",
       "      <td>1</td>\n",
       "      <td>0</td>\n",
       "    </tr>\n",
       "    <tr>\n",
       "      <th>5</th>\n",
       "      <td>1</td>\n",
       "      <td>0</td>\n",
       "    </tr>\n",
       "    <tr>\n",
       "      <th>6</th>\n",
       "      <td>1</td>\n",
       "      <td>0</td>\n",
       "    </tr>\n",
       "    <tr>\n",
       "      <th>7</th>\n",
       "      <td>1</td>\n",
       "      <td>0</td>\n",
       "    </tr>\n",
       "    <tr>\n",
       "      <th>8</th>\n",
       "      <td>0</td>\n",
       "      <td>1</td>\n",
       "    </tr>\n",
       "    <tr>\n",
       "      <th>9</th>\n",
       "      <td>0</td>\n",
       "      <td>1</td>\n",
       "    </tr>\n",
       "    <tr>\n",
       "      <th>10</th>\n",
       "      <td>0</td>\n",
       "      <td>1</td>\n",
       "    </tr>\n",
       "    <tr>\n",
       "      <th>11</th>\n",
       "      <td>0</td>\n",
       "      <td>1</td>\n",
       "    </tr>\n",
       "    <tr>\n",
       "      <th>12</th>\n",
       "      <td>0</td>\n",
       "      <td>1</td>\n",
       "    </tr>\n",
       "    <tr>\n",
       "      <th>13</th>\n",
       "      <td>0</td>\n",
       "      <td>1</td>\n",
       "    </tr>\n",
       "    <tr>\n",
       "      <th>14</th>\n",
       "      <td>0</td>\n",
       "      <td>1</td>\n",
       "    </tr>\n",
       "    <tr>\n",
       "      <th>15</th>\n",
       "      <td>0</td>\n",
       "      <td>1</td>\n",
       "    </tr>\n",
       "  </tbody>\n",
       "</table>\n",
       "</div>"
      ],
      "text/plain": [
       "    cover_hb  cover_pb\n",
       "1          1         0\n",
       "2          1         0\n",
       "3          1         0\n",
       "4          1         0\n",
       "5          1         0\n",
       "6          1         0\n",
       "7          1         0\n",
       "8          0         1\n",
       "9          0         1\n",
       "10         0         1\n",
       "11         0         1\n",
       "12         0         1\n",
       "13         0         1\n",
       "14         0         1\n",
       "15         0         1"
      ]
     },
     "execution_count": 32,
     "metadata": {},
     "output_type": "execute_result"
    }
   ],
   "source": [
    "pd.get_dummies(books[[\"cover\"]])"
   ]
  },
  {
   "cell_type": "code",
   "execution_count": 33,
   "id": "67add71f-5400-419e-8c23-8123c737cda3",
   "metadata": {},
   "outputs": [
    {
     "data": {
      "text/html": [
       "<div>\n",
       "<style scoped>\n",
       "    .dataframe tbody tr th:only-of-type {\n",
       "        vertical-align: middle;\n",
       "    }\n",
       "\n",
       "    .dataframe tbody tr th {\n",
       "        vertical-align: top;\n",
       "    }\n",
       "\n",
       "    .dataframe thead th {\n",
       "        text-align: right;\n",
       "    }\n",
       "</style>\n",
       "<table border=\"1\" class=\"dataframe\">\n",
       "  <thead>\n",
       "    <tr style=\"text-align: right;\">\n",
       "      <th></th>\n",
       "      <th>volume</th>\n",
       "      <th>cover_pb</th>\n",
       "    </tr>\n",
       "  </thead>\n",
       "  <tbody>\n",
       "    <tr>\n",
       "      <th>1</th>\n",
       "      <td>885</td>\n",
       "      <td>0</td>\n",
       "    </tr>\n",
       "    <tr>\n",
       "      <th>2</th>\n",
       "      <td>1016</td>\n",
       "      <td>0</td>\n",
       "    </tr>\n",
       "    <tr>\n",
       "      <th>3</th>\n",
       "      <td>1125</td>\n",
       "      <td>0</td>\n",
       "    </tr>\n",
       "    <tr>\n",
       "      <th>4</th>\n",
       "      <td>239</td>\n",
       "      <td>0</td>\n",
       "    </tr>\n",
       "    <tr>\n",
       "      <th>5</th>\n",
       "      <td>701</td>\n",
       "      <td>0</td>\n",
       "    </tr>\n",
       "    <tr>\n",
       "      <th>6</th>\n",
       "      <td>641</td>\n",
       "      <td>0</td>\n",
       "    </tr>\n",
       "    <tr>\n",
       "      <th>7</th>\n",
       "      <td>1228</td>\n",
       "      <td>0</td>\n",
       "    </tr>\n",
       "    <tr>\n",
       "      <th>8</th>\n",
       "      <td>412</td>\n",
       "      <td>1</td>\n",
       "    </tr>\n",
       "    <tr>\n",
       "      <th>9</th>\n",
       "      <td>953</td>\n",
       "      <td>1</td>\n",
       "    </tr>\n",
       "    <tr>\n",
       "      <th>10</th>\n",
       "      <td>929</td>\n",
       "      <td>1</td>\n",
       "    </tr>\n",
       "    <tr>\n",
       "      <th>11</th>\n",
       "      <td>1492</td>\n",
       "      <td>1</td>\n",
       "    </tr>\n",
       "    <tr>\n",
       "      <th>12</th>\n",
       "      <td>419</td>\n",
       "      <td>1</td>\n",
       "    </tr>\n",
       "    <tr>\n",
       "      <th>13</th>\n",
       "      <td>1010</td>\n",
       "      <td>1</td>\n",
       "    </tr>\n",
       "    <tr>\n",
       "      <th>14</th>\n",
       "      <td>595</td>\n",
       "      <td>1</td>\n",
       "    </tr>\n",
       "    <tr>\n",
       "      <th>15</th>\n",
       "      <td>1034</td>\n",
       "      <td>1</td>\n",
       "    </tr>\n",
       "  </tbody>\n",
       "</table>\n",
       "</div>"
      ],
      "text/plain": [
       "    volume  cover_pb\n",
       "1      885         0\n",
       "2     1016         0\n",
       "3     1125         0\n",
       "4      239         0\n",
       "5      701         0\n",
       "6      641         0\n",
       "7     1228         0\n",
       "8      412         1\n",
       "9      953         1\n",
       "10     929         1\n",
       "11    1492         1\n",
       "12     419         1\n",
       "13    1010         1\n",
       "14     595         1\n",
       "15    1034         1"
      ]
     },
     "execution_count": 33,
     "metadata": {},
     "output_type": "execute_result"
    }
   ],
   "source": [
    "pd.get_dummies(books[[\"volume\",\"cover\"]]) #one-hot encoding\n",
    "# drop first column : https://towardsdatascience.com/drop-first-can-hurt-your-ols-regression-models-interpretability-4ca529cfb707\n",
    "pd.get_dummies(books[[\"volume\",\"cover\"]],drop_first = True)"
   ]
  },
  {
   "cell_type": "code",
   "execution_count": 34,
   "id": "1cd8bad7-93b5-4bb7-8440-ef88160db809",
   "metadata": {},
   "outputs": [
    {
     "data": {
      "text/plain": [
       "array([  0.71795374,  92.02363569, -92.02363569])"
      ]
     },
     "execution_count": 34,
     "metadata": {},
     "output_type": "execute_result"
    }
   ],
   "source": [
    "lm = LinearRegression().fit(\n",
    "  X = pd.get_dummies(books[[\"volume\", \"cover\"]]),\n",
    "  y = books.weight\n",
    ")\n",
    "\n",
    "lm.intercept_\n",
    "lm.coef_"
   ]
  },
  {
   "cell_type": "code",
   "execution_count": 35,
   "id": "60ea92d4-6aea-4e77-83c1-02d576e52eba",
   "metadata": {},
   "outputs": [
    {
     "data": {
      "text/plain": [
       "array([   0.71795374, -184.04727138])"
      ]
     },
     "execution_count": 35,
     "metadata": {},
     "output_type": "execute_result"
    }
   ],
   "source": [
    "lm = LinearRegression().fit(\n",
    "  X = pd.get_dummies(books[[\"volume\", \"cover\"]],drop_first = True),\n",
    "  y = books.weight\n",
    ")\n",
    "\n",
    "lm.intercept_\n",
    "lm.coef_"
   ]
  },
  {
   "cell_type": "code",
   "execution_count": 37,
   "id": "13792a18-bd75-40f5-9a32-a945a8217345",
   "metadata": {},
   "outputs": [
    {
     "data": {
      "text/plain": [
       "array([   0.71795374, -184.04727138])"
      ]
     },
     "execution_count": 37,
     "metadata": {},
     "output_type": "execute_result"
    }
   ],
   "source": [
    "# Comparing it with R\n",
    "# d = read.csv('data/daag_books.csv')\n",
    "# d['cover_hb'] = ifelse(d$cover == \"hb\", 1, 0)\n",
    "# d['cover_pb'] = ifelse(d$cover == \"pb\", 1, 0)\n",
    "# (lm = lm(weight~volume+cover_hb+cover_pb, data=d))\n",
    "# summary(lm)"
   ]
  },
  {
   "cell_type": "code",
   "execution_count": 39,
   "id": "f6170de9-8179-4e96-b0a1-6cb9972eb3cd",
   "metadata": {},
   "outputs": [
    {
     "data": {
      "text/plain": [
       "array(['volume', 'cover_pb'], dtype=object)"
      ]
     },
     "execution_count": 39,
     "metadata": {},
     "output_type": "execute_result"
    }
   ],
   "source": [
    "# fit_intercept is what for? the data should be centered. & Avoiding co-linearity\n",
    "lm = LinearRegression(fit_intercept = False).fit(\n",
    "  X = pd.get_dummies(books[[\"volume\", \"cover\"]],drop_first=True),\n",
    "  y = books.weight\n",
    ")\n",
    "\n",
    "lm.intercept_\n",
    "lm.coef_\n",
    "lm.feature_names_in_"
   ]
  },
  {
   "cell_type": "markdown",
   "id": "7e11971c-fe46-4bd1-9a72-1ebc9349a2b0",
   "metadata": {},
   "source": [
    "### Preprocessors"
   ]
  },
  {
   "cell_type": "code",
   "execution_count": 40,
   "id": "63cda22b-b7fa-4aa8-9eba-6dd9be082a06",
   "metadata": {},
   "outputs": [
    {
     "data": {
      "text/plain": [
       "array([[1., 0.],\n",
       "       [1., 0.],\n",
       "       [1., 0.],\n",
       "       [1., 0.],\n",
       "       [1., 0.],\n",
       "       [1., 0.],\n",
       "       [1., 0.],\n",
       "       [0., 1.],\n",
       "       [0., 1.],\n",
       "       [0., 1.],\n",
       "       [0., 1.],\n",
       "       [0., 1.],\n",
       "       [0., 1.],\n",
       "       [0., 1.],\n",
       "       [0., 1.]])"
      ]
     },
     "execution_count": 40,
     "metadata": {},
     "output_type": "execute_result"
    }
   ],
   "source": [
    "from sklearn.preprocessing import OneHotEncoder\n",
    "enc = OneHotEncoder(sparse=False)\n",
    "enc.fit(X = books[[\"cover\"]])\n",
    "enc.transform(X = books[[\"cover\"]])"
   ]
  },
  {
   "cell_type": "code",
   "execution_count": 41,
   "id": "a6964fbb-fd12-4dd8-bef5-48abd57c77e3",
   "metadata": {},
   "outputs": [
    {
     "data": {
      "text/plain": [
       "array([[0.],\n",
       "       [0.],\n",
       "       [0.],\n",
       "       [0.],\n",
       "       [0.],\n",
       "       [0.],\n",
       "       [0.],\n",
       "       [1.],\n",
       "       [1.],\n",
       "       [1.],\n",
       "       [1.],\n",
       "       [1.],\n",
       "       [1.],\n",
       "       [1.],\n",
       "       [1.]])"
      ]
     },
     "execution_count": 41,
     "metadata": {},
     "output_type": "execute_result"
    }
   ],
   "source": [
    "enc = OneHotEncoder(sparse=False, drop=\"first\")\n",
    "enc.fit_transform(X = books[[\"cover\"]])"
   ]
  },
  {
   "cell_type": "code",
   "execution_count": 42,
   "id": "be84712f-5cee-4abb-9e5b-abd86ba35b14",
   "metadata": {},
   "outputs": [
    {
     "data": {
      "text/plain": [
       "array(['cover_pb'], dtype=object)"
      ]
     },
     "execution_count": 42,
     "metadata": {},
     "output_type": "execute_result"
    }
   ],
   "source": [
    "enc.get_feature_names_out()"
   ]
  },
  {
   "cell_type": "code",
   "execution_count": 43,
   "id": "bdbf0e26-879c-40e3-9395-bd2e298e7fcf",
   "metadata": {},
   "outputs": [
    {
     "data": {
      "text/plain": [
       "array([['hb'],\n",
       "       ['hb'],\n",
       "       ['hb'],\n",
       "       ['hb'],\n",
       "       ['hb'],\n",
       "       ['hb'],\n",
       "       ['hb'],\n",
       "       ['pb'],\n",
       "       ['pb'],\n",
       "       ['pb'],\n",
       "       ['pb'],\n",
       "       ['pb'],\n",
       "       ['pb'],\n",
       "       ['pb'],\n",
       "       ['pb']], dtype=object)"
      ]
     },
     "execution_count": 43,
     "metadata": {},
     "output_type": "execute_result"
    }
   ],
   "source": [
    "# inverse (undo) transform\n",
    "f = enc.transform(X = books[[\"cover\"]])\n",
    "enc.inverse_transform(f)"
   ]
  },
  {
   "cell_type": "code",
   "execution_count": 45,
   "id": "c1246e6c-5d4d-4775-a292-e811adfb6004",
   "metadata": {},
   "outputs": [
    {
     "data": {
      "text/html": [
       "<div>\n",
       "<style scoped>\n",
       "    .dataframe tbody tr th:only-of-type {\n",
       "        vertical-align: middle;\n",
       "    }\n",
       "\n",
       "    .dataframe tbody tr th {\n",
       "        vertical-align: top;\n",
       "    }\n",
       "\n",
       "    .dataframe thead th {\n",
       "        text-align: right;\n",
       "    }\n",
       "</style>\n",
       "<table border=\"1\" class=\"dataframe\">\n",
       "  <thead>\n",
       "    <tr style=\"text-align: right;\">\n",
       "      <th></th>\n",
       "      <th>volume_239</th>\n",
       "      <th>volume_412</th>\n",
       "      <th>volume_419</th>\n",
       "      <th>volume_595</th>\n",
       "      <th>volume_641</th>\n",
       "      <th>volume_701</th>\n",
       "      <th>volume_885</th>\n",
       "      <th>volume_929</th>\n",
       "      <th>volume_953</th>\n",
       "      <th>volume_1010</th>\n",
       "      <th>volume_1016</th>\n",
       "      <th>volume_1034</th>\n",
       "      <th>volume_1125</th>\n",
       "      <th>volume_1228</th>\n",
       "      <th>volume_1492</th>\n",
       "      <th>cover_hb</th>\n",
       "      <th>cover_pb</th>\n",
       "    </tr>\n",
       "  </thead>\n",
       "  <tbody>\n",
       "    <tr>\n",
       "      <th>0</th>\n",
       "      <td>0.0</td>\n",
       "      <td>0.0</td>\n",
       "      <td>0.0</td>\n",
       "      <td>0.0</td>\n",
       "      <td>0.0</td>\n",
       "      <td>0.0</td>\n",
       "      <td>1.0</td>\n",
       "      <td>0.0</td>\n",
       "      <td>0.0</td>\n",
       "      <td>0.0</td>\n",
       "      <td>0.0</td>\n",
       "      <td>0.0</td>\n",
       "      <td>0.0</td>\n",
       "      <td>0.0</td>\n",
       "      <td>0.0</td>\n",
       "      <td>1.0</td>\n",
       "      <td>0.0</td>\n",
       "    </tr>\n",
       "    <tr>\n",
       "      <th>1</th>\n",
       "      <td>0.0</td>\n",
       "      <td>0.0</td>\n",
       "      <td>0.0</td>\n",
       "      <td>0.0</td>\n",
       "      <td>0.0</td>\n",
       "      <td>0.0</td>\n",
       "      <td>0.0</td>\n",
       "      <td>0.0</td>\n",
       "      <td>0.0</td>\n",
       "      <td>0.0</td>\n",
       "      <td>1.0</td>\n",
       "      <td>0.0</td>\n",
       "      <td>0.0</td>\n",
       "      <td>0.0</td>\n",
       "      <td>0.0</td>\n",
       "      <td>1.0</td>\n",
       "      <td>0.0</td>\n",
       "    </tr>\n",
       "    <tr>\n",
       "      <th>2</th>\n",
       "      <td>0.0</td>\n",
       "      <td>0.0</td>\n",
       "      <td>0.0</td>\n",
       "      <td>0.0</td>\n",
       "      <td>0.0</td>\n",
       "      <td>0.0</td>\n",
       "      <td>0.0</td>\n",
       "      <td>0.0</td>\n",
       "      <td>0.0</td>\n",
       "      <td>0.0</td>\n",
       "      <td>0.0</td>\n",
       "      <td>0.0</td>\n",
       "      <td>1.0</td>\n",
       "      <td>0.0</td>\n",
       "      <td>0.0</td>\n",
       "      <td>1.0</td>\n",
       "      <td>0.0</td>\n",
       "    </tr>\n",
       "    <tr>\n",
       "      <th>3</th>\n",
       "      <td>1.0</td>\n",
       "      <td>0.0</td>\n",
       "      <td>0.0</td>\n",
       "      <td>0.0</td>\n",
       "      <td>0.0</td>\n",
       "      <td>0.0</td>\n",
       "      <td>0.0</td>\n",
       "      <td>0.0</td>\n",
       "      <td>0.0</td>\n",
       "      <td>0.0</td>\n",
       "      <td>0.0</td>\n",
       "      <td>0.0</td>\n",
       "      <td>0.0</td>\n",
       "      <td>0.0</td>\n",
       "      <td>0.0</td>\n",
       "      <td>1.0</td>\n",
       "      <td>0.0</td>\n",
       "    </tr>\n",
       "    <tr>\n",
       "      <th>4</th>\n",
       "      <td>0.0</td>\n",
       "      <td>0.0</td>\n",
       "      <td>0.0</td>\n",
       "      <td>0.0</td>\n",
       "      <td>0.0</td>\n",
       "      <td>1.0</td>\n",
       "      <td>0.0</td>\n",
       "      <td>0.0</td>\n",
       "      <td>0.0</td>\n",
       "      <td>0.0</td>\n",
       "      <td>0.0</td>\n",
       "      <td>0.0</td>\n",
       "      <td>0.0</td>\n",
       "      <td>0.0</td>\n",
       "      <td>0.0</td>\n",
       "      <td>1.0</td>\n",
       "      <td>0.0</td>\n",
       "    </tr>\n",
       "    <tr>\n",
       "      <th>5</th>\n",
       "      <td>0.0</td>\n",
       "      <td>0.0</td>\n",
       "      <td>0.0</td>\n",
       "      <td>0.0</td>\n",
       "      <td>1.0</td>\n",
       "      <td>0.0</td>\n",
       "      <td>0.0</td>\n",
       "      <td>0.0</td>\n",
       "      <td>0.0</td>\n",
       "      <td>0.0</td>\n",
       "      <td>0.0</td>\n",
       "      <td>0.0</td>\n",
       "      <td>0.0</td>\n",
       "      <td>0.0</td>\n",
       "      <td>0.0</td>\n",
       "      <td>1.0</td>\n",
       "      <td>0.0</td>\n",
       "    </tr>\n",
       "    <tr>\n",
       "      <th>6</th>\n",
       "      <td>0.0</td>\n",
       "      <td>0.0</td>\n",
       "      <td>0.0</td>\n",
       "      <td>0.0</td>\n",
       "      <td>0.0</td>\n",
       "      <td>0.0</td>\n",
       "      <td>0.0</td>\n",
       "      <td>0.0</td>\n",
       "      <td>0.0</td>\n",
       "      <td>0.0</td>\n",
       "      <td>0.0</td>\n",
       "      <td>0.0</td>\n",
       "      <td>0.0</td>\n",
       "      <td>1.0</td>\n",
       "      <td>0.0</td>\n",
       "      <td>1.0</td>\n",
       "      <td>0.0</td>\n",
       "    </tr>\n",
       "    <tr>\n",
       "      <th>7</th>\n",
       "      <td>0.0</td>\n",
       "      <td>1.0</td>\n",
       "      <td>0.0</td>\n",
       "      <td>0.0</td>\n",
       "      <td>0.0</td>\n",
       "      <td>0.0</td>\n",
       "      <td>0.0</td>\n",
       "      <td>0.0</td>\n",
       "      <td>0.0</td>\n",
       "      <td>0.0</td>\n",
       "      <td>0.0</td>\n",
       "      <td>0.0</td>\n",
       "      <td>0.0</td>\n",
       "      <td>0.0</td>\n",
       "      <td>0.0</td>\n",
       "      <td>0.0</td>\n",
       "      <td>1.0</td>\n",
       "    </tr>\n",
       "    <tr>\n",
       "      <th>8</th>\n",
       "      <td>0.0</td>\n",
       "      <td>0.0</td>\n",
       "      <td>0.0</td>\n",
       "      <td>0.0</td>\n",
       "      <td>0.0</td>\n",
       "      <td>0.0</td>\n",
       "      <td>0.0</td>\n",
       "      <td>0.0</td>\n",
       "      <td>1.0</td>\n",
       "      <td>0.0</td>\n",
       "      <td>0.0</td>\n",
       "      <td>0.0</td>\n",
       "      <td>0.0</td>\n",
       "      <td>0.0</td>\n",
       "      <td>0.0</td>\n",
       "      <td>0.0</td>\n",
       "      <td>1.0</td>\n",
       "    </tr>\n",
       "    <tr>\n",
       "      <th>9</th>\n",
       "      <td>0.0</td>\n",
       "      <td>0.0</td>\n",
       "      <td>0.0</td>\n",
       "      <td>0.0</td>\n",
       "      <td>0.0</td>\n",
       "      <td>0.0</td>\n",
       "      <td>0.0</td>\n",
       "      <td>1.0</td>\n",
       "      <td>0.0</td>\n",
       "      <td>0.0</td>\n",
       "      <td>0.0</td>\n",
       "      <td>0.0</td>\n",
       "      <td>0.0</td>\n",
       "      <td>0.0</td>\n",
       "      <td>0.0</td>\n",
       "      <td>0.0</td>\n",
       "      <td>1.0</td>\n",
       "    </tr>\n",
       "    <tr>\n",
       "      <th>10</th>\n",
       "      <td>0.0</td>\n",
       "      <td>0.0</td>\n",
       "      <td>0.0</td>\n",
       "      <td>0.0</td>\n",
       "      <td>0.0</td>\n",
       "      <td>0.0</td>\n",
       "      <td>0.0</td>\n",
       "      <td>0.0</td>\n",
       "      <td>0.0</td>\n",
       "      <td>0.0</td>\n",
       "      <td>0.0</td>\n",
       "      <td>0.0</td>\n",
       "      <td>0.0</td>\n",
       "      <td>0.0</td>\n",
       "      <td>1.0</td>\n",
       "      <td>0.0</td>\n",
       "      <td>1.0</td>\n",
       "    </tr>\n",
       "    <tr>\n",
       "      <th>11</th>\n",
       "      <td>0.0</td>\n",
       "      <td>0.0</td>\n",
       "      <td>1.0</td>\n",
       "      <td>0.0</td>\n",
       "      <td>0.0</td>\n",
       "      <td>0.0</td>\n",
       "      <td>0.0</td>\n",
       "      <td>0.0</td>\n",
       "      <td>0.0</td>\n",
       "      <td>0.0</td>\n",
       "      <td>0.0</td>\n",
       "      <td>0.0</td>\n",
       "      <td>0.0</td>\n",
       "      <td>0.0</td>\n",
       "      <td>0.0</td>\n",
       "      <td>0.0</td>\n",
       "      <td>1.0</td>\n",
       "    </tr>\n",
       "    <tr>\n",
       "      <th>12</th>\n",
       "      <td>0.0</td>\n",
       "      <td>0.0</td>\n",
       "      <td>0.0</td>\n",
       "      <td>0.0</td>\n",
       "      <td>0.0</td>\n",
       "      <td>0.0</td>\n",
       "      <td>0.0</td>\n",
       "      <td>0.0</td>\n",
       "      <td>0.0</td>\n",
       "      <td>1.0</td>\n",
       "      <td>0.0</td>\n",
       "      <td>0.0</td>\n",
       "      <td>0.0</td>\n",
       "      <td>0.0</td>\n",
       "      <td>0.0</td>\n",
       "      <td>0.0</td>\n",
       "      <td>1.0</td>\n",
       "    </tr>\n",
       "    <tr>\n",
       "      <th>13</th>\n",
       "      <td>0.0</td>\n",
       "      <td>0.0</td>\n",
       "      <td>0.0</td>\n",
       "      <td>1.0</td>\n",
       "      <td>0.0</td>\n",
       "      <td>0.0</td>\n",
       "      <td>0.0</td>\n",
       "      <td>0.0</td>\n",
       "      <td>0.0</td>\n",
       "      <td>0.0</td>\n",
       "      <td>0.0</td>\n",
       "      <td>0.0</td>\n",
       "      <td>0.0</td>\n",
       "      <td>0.0</td>\n",
       "      <td>0.0</td>\n",
       "      <td>0.0</td>\n",
       "      <td>1.0</td>\n",
       "    </tr>\n",
       "    <tr>\n",
       "      <th>14</th>\n",
       "      <td>0.0</td>\n",
       "      <td>0.0</td>\n",
       "      <td>0.0</td>\n",
       "      <td>0.0</td>\n",
       "      <td>0.0</td>\n",
       "      <td>0.0</td>\n",
       "      <td>0.0</td>\n",
       "      <td>0.0</td>\n",
       "      <td>0.0</td>\n",
       "      <td>0.0</td>\n",
       "      <td>0.0</td>\n",
       "      <td>1.0</td>\n",
       "      <td>0.0</td>\n",
       "      <td>0.0</td>\n",
       "      <td>0.0</td>\n",
       "      <td>0.0</td>\n",
       "      <td>1.0</td>\n",
       "    </tr>\n",
       "  </tbody>\n",
       "</table>\n",
       "</div>"
      ],
      "text/plain": [
       "    volume_239  volume_412  volume_419  volume_595  volume_641  volume_701  \\\n",
       "0          0.0         0.0         0.0         0.0         0.0         0.0   \n",
       "1          0.0         0.0         0.0         0.0         0.0         0.0   \n",
       "2          0.0         0.0         0.0         0.0         0.0         0.0   \n",
       "3          1.0         0.0         0.0         0.0         0.0         0.0   \n",
       "4          0.0         0.0         0.0         0.0         0.0         1.0   \n",
       "5          0.0         0.0         0.0         0.0         1.0         0.0   \n",
       "6          0.0         0.0         0.0         0.0         0.0         0.0   \n",
       "7          0.0         1.0         0.0         0.0         0.0         0.0   \n",
       "8          0.0         0.0         0.0         0.0         0.0         0.0   \n",
       "9          0.0         0.0         0.0         0.0         0.0         0.0   \n",
       "10         0.0         0.0         0.0         0.0         0.0         0.0   \n",
       "11         0.0         0.0         1.0         0.0         0.0         0.0   \n",
       "12         0.0         0.0         0.0         0.0         0.0         0.0   \n",
       "13         0.0         0.0         0.0         1.0         0.0         0.0   \n",
       "14         0.0         0.0         0.0         0.0         0.0         0.0   \n",
       "\n",
       "    volume_885  volume_929  volume_953  volume_1010  volume_1016  volume_1034  \\\n",
       "0          1.0         0.0         0.0          0.0          0.0          0.0   \n",
       "1          0.0         0.0         0.0          0.0          1.0          0.0   \n",
       "2          0.0         0.0         0.0          0.0          0.0          0.0   \n",
       "3          0.0         0.0         0.0          0.0          0.0          0.0   \n",
       "4          0.0         0.0         0.0          0.0          0.0          0.0   \n",
       "5          0.0         0.0         0.0          0.0          0.0          0.0   \n",
       "6          0.0         0.0         0.0          0.0          0.0          0.0   \n",
       "7          0.0         0.0         0.0          0.0          0.0          0.0   \n",
       "8          0.0         0.0         1.0          0.0          0.0          0.0   \n",
       "9          0.0         1.0         0.0          0.0          0.0          0.0   \n",
       "10         0.0         0.0         0.0          0.0          0.0          0.0   \n",
       "11         0.0         0.0         0.0          0.0          0.0          0.0   \n",
       "12         0.0         0.0         0.0          1.0          0.0          0.0   \n",
       "13         0.0         0.0         0.0          0.0          0.0          0.0   \n",
       "14         0.0         0.0         0.0          0.0          0.0          1.0   \n",
       "\n",
       "    volume_1125  volume_1228  volume_1492  cover_hb  cover_pb  \n",
       "0           0.0          0.0          0.0       1.0       0.0  \n",
       "1           0.0          0.0          0.0       1.0       0.0  \n",
       "2           1.0          0.0          0.0       1.0       0.0  \n",
       "3           0.0          0.0          0.0       1.0       0.0  \n",
       "4           0.0          0.0          0.0       1.0       0.0  \n",
       "5           0.0          0.0          0.0       1.0       0.0  \n",
       "6           0.0          1.0          0.0       1.0       0.0  \n",
       "7           0.0          0.0          0.0       0.0       1.0  \n",
       "8           0.0          0.0          0.0       0.0       1.0  \n",
       "9           0.0          0.0          0.0       0.0       1.0  \n",
       "10          0.0          0.0          1.0       0.0       1.0  \n",
       "11          0.0          0.0          0.0       0.0       1.0  \n",
       "12          0.0          0.0          0.0       0.0       1.0  \n",
       "13          0.0          0.0          0.0       0.0       1.0  \n",
       "14          0.0          0.0          0.0       0.0       1.0  "
      ]
     },
     "execution_count": 45,
     "metadata": {},
     "output_type": "execute_result"
    }
   ],
   "source": [
    "enc = OneHotEncoder(sparse=False)\n",
    "X = enc.fit_transform(\n",
    "  X = books[[\"volume\", \"cover\"]]\n",
    ")\n",
    "\n",
    "pd.DataFrame(\n",
    "  data=X,\n",
    "  columns = enc.get_feature_names_out()\n",
    ")\n",
    "# columna name is changed!!! not that facncy then get_dummies() \n",
    "# => need to use it only for categorical data"
   ]
  },
  {
   "cell_type": "code",
   "execution_count": 46,
   "id": "33822813-6b0c-4aa4-a9ff-d1d9f317b135",
   "metadata": {},
   "outputs": [
    {
     "data": {
      "text/plain": [
       "array([[8.850e+02, 1.000e+00, 0.000e+00],\n",
       "       [1.016e+03, 1.000e+00, 0.000e+00],\n",
       "       [1.125e+03, 1.000e+00, 0.000e+00],\n",
       "       [2.390e+02, 1.000e+00, 0.000e+00],\n",
       "       [7.010e+02, 1.000e+00, 0.000e+00],\n",
       "       [6.410e+02, 1.000e+00, 0.000e+00],\n",
       "       [1.228e+03, 1.000e+00, 0.000e+00],\n",
       "       [4.120e+02, 0.000e+00, 1.000e+00],\n",
       "       [9.530e+02, 0.000e+00, 1.000e+00],\n",
       "       [9.290e+02, 0.000e+00, 1.000e+00],\n",
       "       [1.492e+03, 0.000e+00, 1.000e+00],\n",
       "       [4.190e+02, 0.000e+00, 1.000e+00],\n",
       "       [1.010e+03, 0.000e+00, 1.000e+00],\n",
       "       [5.950e+02, 0.000e+00, 1.000e+00],\n",
       "       [1.034e+03, 0.000e+00, 1.000e+00]])"
      ]
     },
     "execution_count": 46,
     "metadata": {},
     "output_type": "execute_result"
    }
   ],
   "source": [
    "cover = OneHotEncoder(\n",
    "  sparse=False\n",
    ").fit_transform(\n",
    "  books[[\"cover\"]]\n",
    ") # full one-hot encoding\n",
    "\n",
    "X = np.c_[books.volume, cover]\n",
    "X"
   ]
  },
  {
   "cell_type": "code",
   "execution_count": 47,
   "id": "b9e6c338-b493-499a-8925-7eb0234c25c5",
   "metadata": {},
   "outputs": [
    {
     "data": {
      "text/plain": [
       "array([  0.71795374, 197.96284357,  13.91557219])"
      ]
     },
     "execution_count": 47,
     "metadata": {},
     "output_type": "execute_result"
    }
   ],
   "source": [
    "lm2 = LinearRegression(fit_intercept=False).fit(\n",
    "  X = X,\n",
    "  y = books.weight\n",
    ")\n",
    "\n",
    "lm2.coef_"
   ]
  },
  {
   "cell_type": "code",
   "execution_count": 49,
   "id": "33996b6b-316c-4a88-9862-fcf7ae428982",
   "metadata": {},
   "outputs": [
    {
     "data": {
      "text/html": [
       "<div>\n",
       "<style scoped>\n",
       "    .dataframe tbody tr th:only-of-type {\n",
       "        vertical-align: middle;\n",
       "    }\n",
       "\n",
       "    .dataframe tbody tr th {\n",
       "        vertical-align: top;\n",
       "    }\n",
       "\n",
       "    .dataframe thead th {\n",
       "        text-align: right;\n",
       "    }\n",
       "</style>\n",
       "<table border=\"1\" class=\"dataframe\">\n",
       "  <thead>\n",
       "    <tr style=\"text-align: right;\">\n",
       "      <th></th>\n",
       "      <th>volume</th>\n",
       "      <th>area</th>\n",
       "      <th>weight</th>\n",
       "      <th>cover</th>\n",
       "      <th>weight_lm_pred</th>\n",
       "      <th>resid_lm_pred</th>\n",
       "      <th>weight_lm2_pred</th>\n",
       "    </tr>\n",
       "  </thead>\n",
       "  <tbody>\n",
       "    <tr>\n",
       "      <th>1</th>\n",
       "      <td>885</td>\n",
       "      <td>382</td>\n",
       "      <td>800</td>\n",
       "      <td>hb</td>\n",
       "      <td>734.823182</td>\n",
       "      <td>65.176818</td>\n",
       "      <td>833.351907</td>\n",
       "    </tr>\n",
       "    <tr>\n",
       "      <th>2</th>\n",
       "      <td>1016</td>\n",
       "      <td>468</td>\n",
       "      <td>950</td>\n",
       "      <td>hb</td>\n",
       "      <td>827.654648</td>\n",
       "      <td>122.345352</td>\n",
       "      <td>927.403847</td>\n",
       "    </tr>\n",
       "    <tr>\n",
       "      <th>3</th>\n",
       "      <td>1125</td>\n",
       "      <td>387</td>\n",
       "      <td>1050</td>\n",
       "      <td>hb</td>\n",
       "      <td>904.896097</td>\n",
       "      <td>145.103903</td>\n",
       "      <td>1005.660805</td>\n",
       "    </tr>\n",
       "    <tr>\n",
       "      <th>4</th>\n",
       "      <td>239</td>\n",
       "      <td>371</td>\n",
       "      <td>350</td>\n",
       "      <td>hb</td>\n",
       "      <td>277.043588</td>\n",
       "      <td>72.956412</td>\n",
       "      <td>369.553788</td>\n",
       "    </tr>\n",
       "    <tr>\n",
       "      <th>5</th>\n",
       "      <td>701</td>\n",
       "      <td>371</td>\n",
       "      <td>750</td>\n",
       "      <td>hb</td>\n",
       "      <td>604.433948</td>\n",
       "      <td>145.566052</td>\n",
       "      <td>701.248418</td>\n",
       "    </tr>\n",
       "    <tr>\n",
       "      <th>6</th>\n",
       "      <td>641</td>\n",
       "      <td>367</td>\n",
       "      <td>600</td>\n",
       "      <td>hb</td>\n",
       "      <td>561.915720</td>\n",
       "      <td>38.084280</td>\n",
       "      <td>658.171193</td>\n",
       "    </tr>\n",
       "    <tr>\n",
       "      <th>7</th>\n",
       "      <td>1228</td>\n",
       "      <td>396</td>\n",
       "      <td>1075</td>\n",
       "      <td>hb</td>\n",
       "      <td>977.885723</td>\n",
       "      <td>97.114277</td>\n",
       "      <td>1079.610041</td>\n",
       "    </tr>\n",
       "    <tr>\n",
       "      <th>8</th>\n",
       "      <td>412</td>\n",
       "      <td>0</td>\n",
       "      <td>250</td>\n",
       "      <td>pb</td>\n",
       "      <td>399.637814</td>\n",
       "      <td>-149.637814</td>\n",
       "      <td>309.712515</td>\n",
       "    </tr>\n",
       "    <tr>\n",
       "      <th>9</th>\n",
       "      <td>953</td>\n",
       "      <td>0</td>\n",
       "      <td>700</td>\n",
       "      <td>pb</td>\n",
       "      <td>783.010508</td>\n",
       "      <td>-83.010508</td>\n",
       "      <td>698.125490</td>\n",
       "    </tr>\n",
       "    <tr>\n",
       "      <th>10</th>\n",
       "      <td>929</td>\n",
       "      <td>0</td>\n",
       "      <td>650</td>\n",
       "      <td>pb</td>\n",
       "      <td>766.003217</td>\n",
       "      <td>-116.003217</td>\n",
       "      <td>680.894600</td>\n",
       "    </tr>\n",
       "    <tr>\n",
       "      <th>11</th>\n",
       "      <td>1492</td>\n",
       "      <td>0</td>\n",
       "      <td>975</td>\n",
       "      <td>pb</td>\n",
       "      <td>1164.965929</td>\n",
       "      <td>-189.965929</td>\n",
       "      <td>1085.102558</td>\n",
       "    </tr>\n",
       "    <tr>\n",
       "      <th>12</th>\n",
       "      <td>419</td>\n",
       "      <td>0</td>\n",
       "      <td>350</td>\n",
       "      <td>pb</td>\n",
       "      <td>404.598274</td>\n",
       "      <td>-54.598274</td>\n",
       "      <td>314.738191</td>\n",
       "    </tr>\n",
       "    <tr>\n",
       "      <th>13</th>\n",
       "      <td>1010</td>\n",
       "      <td>0</td>\n",
       "      <td>950</td>\n",
       "      <td>pb</td>\n",
       "      <td>823.402825</td>\n",
       "      <td>126.597175</td>\n",
       "      <td>739.048853</td>\n",
       "    </tr>\n",
       "    <tr>\n",
       "      <th>14</th>\n",
       "      <td>595</td>\n",
       "      <td>0</td>\n",
       "      <td>425</td>\n",
       "      <td>pb</td>\n",
       "      <td>529.318411</td>\n",
       "      <td>-104.318411</td>\n",
       "      <td>441.098050</td>\n",
       "    </tr>\n",
       "    <tr>\n",
       "      <th>15</th>\n",
       "      <td>1034</td>\n",
       "      <td>0</td>\n",
       "      <td>725</td>\n",
       "      <td>pb</td>\n",
       "      <td>840.410117</td>\n",
       "      <td>-115.410117</td>\n",
       "      <td>756.279743</td>\n",
       "    </tr>\n",
       "  </tbody>\n",
       "</table>\n",
       "</div>"
      ],
      "text/plain": [
       "    volume  area  weight cover  weight_lm_pred  resid_lm_pred  weight_lm2_pred\n",
       "1      885   382     800    hb      734.823182      65.176818       833.351907\n",
       "2     1016   468     950    hb      827.654648     122.345352       927.403847\n",
       "3     1125   387    1050    hb      904.896097     145.103903      1005.660805\n",
       "4      239   371     350    hb      277.043588      72.956412       369.553788\n",
       "5      701   371     750    hb      604.433948     145.566052       701.248418\n",
       "6      641   367     600    hb      561.915720      38.084280       658.171193\n",
       "7     1228   396    1075    hb      977.885723      97.114277      1079.610041\n",
       "8      412     0     250    pb      399.637814    -149.637814       309.712515\n",
       "9      953     0     700    pb      783.010508     -83.010508       698.125490\n",
       "10     929     0     650    pb      766.003217    -116.003217       680.894600\n",
       "11    1492     0     975    pb     1164.965929    -189.965929      1085.102558\n",
       "12     419     0     350    pb      404.598274     -54.598274       314.738191\n",
       "13    1010     0     950    pb      823.402825     126.597175       739.048853\n",
       "14     595     0     425    pb      529.318411    -104.318411       441.098050\n",
       "15    1034     0     725    pb      840.410117    -115.410117       756.279743"
      ]
     },
     "execution_count": 49,
     "metadata": {},
     "output_type": "execute_result"
    }
   ],
   "source": [
    "books[\"weight_lm2_pred\"] = lm2.predict(X=X)\n",
    "books"
   ]
  },
  {
   "cell_type": "code",
   "execution_count": 50,
   "id": "7f121d06-202c-46ed-8d60-0c6419a6dfdc",
   "metadata": {},
   "outputs": [
    {
     "data": {
      "text/html": [
       "<div>\n",
       "<style scoped>\n",
       "    .dataframe tbody tr th:only-of-type {\n",
       "        vertical-align: middle;\n",
       "    }\n",
       "\n",
       "    .dataframe tbody tr th {\n",
       "        vertical-align: top;\n",
       "    }\n",
       "\n",
       "    .dataframe thead th {\n",
       "        text-align: right;\n",
       "    }\n",
       "</style>\n",
       "<table border=\"1\" class=\"dataframe\">\n",
       "  <thead>\n",
       "    <tr style=\"text-align: right;\">\n",
       "      <th></th>\n",
       "      <th>volume</th>\n",
       "      <th>area</th>\n",
       "      <th>weight</th>\n",
       "      <th>cover</th>\n",
       "      <th>weight_lm2_pred</th>\n",
       "    </tr>\n",
       "  </thead>\n",
       "  <tbody>\n",
       "    <tr>\n",
       "      <th>1</th>\n",
       "      <td>885</td>\n",
       "      <td>382</td>\n",
       "      <td>800</td>\n",
       "      <td>hb</td>\n",
       "      <td>833.351907</td>\n",
       "    </tr>\n",
       "    <tr>\n",
       "      <th>2</th>\n",
       "      <td>1016</td>\n",
       "      <td>468</td>\n",
       "      <td>950</td>\n",
       "      <td>hb</td>\n",
       "      <td>927.403847</td>\n",
       "    </tr>\n",
       "    <tr>\n",
       "      <th>3</th>\n",
       "      <td>1125</td>\n",
       "      <td>387</td>\n",
       "      <td>1050</td>\n",
       "      <td>hb</td>\n",
       "      <td>1005.660805</td>\n",
       "    </tr>\n",
       "    <tr>\n",
       "      <th>4</th>\n",
       "      <td>239</td>\n",
       "      <td>371</td>\n",
       "      <td>350</td>\n",
       "      <td>hb</td>\n",
       "      <td>369.553788</td>\n",
       "    </tr>\n",
       "    <tr>\n",
       "      <th>5</th>\n",
       "      <td>701</td>\n",
       "      <td>371</td>\n",
       "      <td>750</td>\n",
       "      <td>hb</td>\n",
       "      <td>701.248418</td>\n",
       "    </tr>\n",
       "    <tr>\n",
       "      <th>6</th>\n",
       "      <td>641</td>\n",
       "      <td>367</td>\n",
       "      <td>600</td>\n",
       "      <td>hb</td>\n",
       "      <td>658.171193</td>\n",
       "    </tr>\n",
       "    <tr>\n",
       "      <th>7</th>\n",
       "      <td>1228</td>\n",
       "      <td>396</td>\n",
       "      <td>1075</td>\n",
       "      <td>hb</td>\n",
       "      <td>1079.610041</td>\n",
       "    </tr>\n",
       "    <tr>\n",
       "      <th>8</th>\n",
       "      <td>412</td>\n",
       "      <td>0</td>\n",
       "      <td>250</td>\n",
       "      <td>pb</td>\n",
       "      <td>309.712515</td>\n",
       "    </tr>\n",
       "    <tr>\n",
       "      <th>9</th>\n",
       "      <td>953</td>\n",
       "      <td>0</td>\n",
       "      <td>700</td>\n",
       "      <td>pb</td>\n",
       "      <td>698.125490</td>\n",
       "    </tr>\n",
       "    <tr>\n",
       "      <th>10</th>\n",
       "      <td>929</td>\n",
       "      <td>0</td>\n",
       "      <td>650</td>\n",
       "      <td>pb</td>\n",
       "      <td>680.894600</td>\n",
       "    </tr>\n",
       "    <tr>\n",
       "      <th>11</th>\n",
       "      <td>1492</td>\n",
       "      <td>0</td>\n",
       "      <td>975</td>\n",
       "      <td>pb</td>\n",
       "      <td>1085.102558</td>\n",
       "    </tr>\n",
       "    <tr>\n",
       "      <th>12</th>\n",
       "      <td>419</td>\n",
       "      <td>0</td>\n",
       "      <td>350</td>\n",
       "      <td>pb</td>\n",
       "      <td>314.738191</td>\n",
       "    </tr>\n",
       "    <tr>\n",
       "      <th>13</th>\n",
       "      <td>1010</td>\n",
       "      <td>0</td>\n",
       "      <td>950</td>\n",
       "      <td>pb</td>\n",
       "      <td>739.048853</td>\n",
       "    </tr>\n",
       "    <tr>\n",
       "      <th>14</th>\n",
       "      <td>595</td>\n",
       "      <td>0</td>\n",
       "      <td>425</td>\n",
       "      <td>pb</td>\n",
       "      <td>441.098050</td>\n",
       "    </tr>\n",
       "    <tr>\n",
       "      <th>15</th>\n",
       "      <td>1034</td>\n",
       "      <td>0</td>\n",
       "      <td>725</td>\n",
       "      <td>pb</td>\n",
       "      <td>756.279743</td>\n",
       "    </tr>\n",
       "  </tbody>\n",
       "</table>\n",
       "</div>"
      ],
      "text/plain": [
       "    volume  area  weight cover  weight_lm2_pred\n",
       "1      885   382     800    hb       833.351907\n",
       "2     1016   468     950    hb       927.403847\n",
       "3     1125   387    1050    hb      1005.660805\n",
       "4      239   371     350    hb       369.553788\n",
       "5      701   371     750    hb       701.248418\n",
       "6      641   367     600    hb       658.171193\n",
       "7     1228   396    1075    hb      1079.610041\n",
       "8      412     0     250    pb       309.712515\n",
       "9      953     0     700    pb       698.125490\n",
       "10     929     0     650    pb       680.894600\n",
       "11    1492     0     975    pb      1085.102558\n",
       "12     419     0     350    pb       314.738191\n",
       "13    1010     0     950    pb       739.048853\n",
       "14     595     0     425    pb       441.098050\n",
       "15    1034     0     725    pb       756.279743"
      ]
     },
     "execution_count": 50,
     "metadata": {},
     "output_type": "execute_result"
    }
   ],
   "source": [
    "books.drop([\"weight_lm_pred\", \"resid_lm_pred\"], axis=1)"
   ]
  },
  {
   "cell_type": "code",
   "execution_count": 52,
   "id": "ffb2277a-6d91-4188-881b-8ead052b7dec",
   "metadata": {},
   "outputs": [
    {
     "data": {
      "image/png": "[encoded data removed]",
      "text/plain": [
       "<Figure size 640x480 with 1 Axes>"
      ]
     },
     "metadata": {},
     "output_type": "display_data"
    }
   ],
   "source": [
    "plt.figure()\n",
    "sns.scatterplot(data=books, x=\"volume\", y=\"weight\", hue=\"cover\")\n",
    "sns.lineplot(data=books, x=\"volume\", y=\"weight_lm2_pred\", hue=\"cover\")\n",
    "plt.show()"
   ]
  },
  {
   "cell_type": "code",
   "execution_count": 53,
   "id": "e87346e8-c19c-42f4-a13d-db2e49b88bf3",
   "metadata": {},
   "outputs": [
    {
     "data": {
      "image/png": "[encoded data removed]",
      "text/plain": [
       "<Figure size 640x480 with 1 Axes>"
      ]
     },
     "metadata": {},
     "output_type": "display_data"
    }
   ],
   "source": [
    "books[\"resid_lm2_pred\"] = books[\"weight\"] - books[\"weight_lm2_pred\"]\n",
    "\n",
    "plt.figure(layout=\"constrained\")\n",
    "ax = sns.scatterplot(data=books, x=\"volume\", y=\"resid_lm2_pred\", hue=\"cover\")\n",
    "ax.axhline(c=\"k\", ls=\"--\", lw=1)\n",
    "plt.show()"
   ]
  },
  {
   "cell_type": "markdown",
   "id": "4e4fae88-cc93-44fd-ba20-9d4aa4a7e493",
   "metadata": {},
   "source": [
    "## Model performance"
   ]
  },
  {
   "cell_type": "code",
   "execution_count": 55,
   "id": "06c9101c-68d9-4484-91e5-0695c63eb4ca",
   "metadata": {},
   "outputs": [],
   "source": [
    "from sklearn.metrics import mean_squared_error, r2_score"
   ]
  },
  {
   "cell_type": "code",
   "execution_count": 56,
   "id": "34d70b5b-ad25-408a-af44-3eebe7428984",
   "metadata": {},
   "outputs": [
    {
     "data": {
      "text/plain": [
       "115.38368348993234"
      ]
     },
     "execution_count": 56,
     "metadata": {},
     "output_type": "execute_result"
    }
   ],
   "source": [
    "r2_score(books.weight, books.weight_lm_pred)\n",
    "mean_squared_error(books.weight, books.weight_lm_pred) # MSE\n",
    "mean_squared_error(books.weight, books.weight_lm_pred, squared=False) # RMSE"
   ]
  },
  {
   "cell_type": "code",
   "execution_count": 57,
   "id": "b28888b2-1af8-44e3-862f-e792e366dcf1",
   "metadata": {},
   "outputs": [
    {
     "data": {
      "text/plain": [
       "69.94312276839727"
      ]
     },
     "execution_count": 57,
     "metadata": {},
     "output_type": "execute_result"
    }
   ],
   "source": [
    "r2_score(books.weight, books.weight_lm2_pred)\n",
    "mean_squared_error(books.weight, books.weight_lm2_pred) # MSE\n",
    "mean_squared_error(books.weight, books.weight_lm2_pred, squared=False) # RMSE"
   ]
  },
  {
   "cell_type": "markdown",
   "id": "ad5991d1-b620-4f5a-a45c-f70ac1f0a01d",
   "metadata": {},
   "source": [
    "### Excercise 1"
   ]
  },
  {
   "cell_type": "code",
   "execution_count": 62,
   "id": "8fa3546f-c894-4d3a-a527-e28f26ac41d2",
   "metadata": {},
   "outputs": [
    {
     "data": {
      "text/plain": [
       "1     0\n",
       "2     0\n",
       "3     0\n",
       "4     0\n",
       "5     0\n",
       "6     0\n",
       "7     0\n",
       "8     1\n",
       "9     1\n",
       "10    1\n",
       "11    1\n",
       "12    1\n",
       "13    1\n",
       "14    1\n",
       "15    1\n",
       "Name: cover_pb, dtype: uint8"
      ]
     },
     "execution_count": 62,
     "metadata": {},
     "output_type": "execute_result"
    }
   ],
   "source": [
    "books = pd.read_csv(url, index_col=0)\n",
    "cover = pd.get_dummies(books[[\"cover\"]],drop_first=True)"
   ]
  },
  {
   "cell_type": "code",
   "execution_count": 63,
   "id": "bd0a15e5-3cbd-4c14-a1f5-326609b0c554",
   "metadata": {},
   "outputs": [
    {
     "data": {
      "text/plain": [
       "array([[ 885,    0,    0],\n",
       "       [1016,    0,    0],\n",
       "       [1125,    0,    0],\n",
       "       [ 239,    0,    0],\n",
       "       [ 701,    0,    0],\n",
       "       [ 641,    0,    0],\n",
       "       [1228,    0,    0],\n",
       "       [ 412,    1,  412],\n",
       "       [ 953,    1,  953],\n",
       "       [ 929,    1,  929],\n",
       "       [1492,    1, 1492],\n",
       "       [ 419,    1,  419],\n",
       "       [1010,    1, 1010],\n",
       "       [ 595,    1,  595],\n",
       "       [1034,    1, 1034]])"
      ]
     },
     "execution_count": 63,
     "metadata": {},
     "output_type": "execute_result"
    }
   ],
   "source": [
    "X = np.c_[\n",
    "    books.volume,\n",
    "    cover.cover_pb,\n",
    "    cover.cover_pb * books.volume\n",
    "]\n",
    "X"
   ]
  },
  {
   "cell_type": "code",
   "execution_count": 64,
   "id": "ce26d190-ea8f-49f9-ae32-ea31a48855cc",
   "metadata": {},
   "outputs": [],
   "source": [
    "lm = LinearRegression().fit(X=X, y=books.weight)"
   ]
  },
  {
   "cell_type": "code",
   "execution_count": 65,
   "id": "db268f4b-cc6b-4f30-a7f1-f9cc9447f20b",
   "metadata": {},
   "outputs": [
    {
     "data": {
      "text/plain": [
       "(161.5865414110442, array([ 7.61592838e-01, -1.20214066e+02, -7.57336630e-02]))"
      ]
     },
     "execution_count": 65,
     "metadata": {},
     "output_type": "execute_result"
    }
   ],
   "source": [
    "(lm.intercept_,\n",
    "lm.coef_)"
   ]
  },
  {
   "cell_type": "markdown",
   "id": "9a5e32ea-74c1-43b7-966f-1635868add82",
   "metadata": {},
   "source": [
    "## Polynomial regression"
   ]
  },
  {
   "cell_type": "code",
   "execution_count": 70,
   "id": "5b29b5b6-301e-4f4b-ac9e-db179345b654",
   "metadata": {},
   "outputs": [
    {
     "data": {
      "text/plain": [
       "<seaborn.axisgrid.FacetGrid at 0x7f93e1d77af0>"
      ]
     },
     "execution_count": 70,
     "metadata": {},
     "output_type": "execute_result"
    },
    {
     "data": {
      "image/png": "[encoded data removed]",
      "text/plain": [
       "<Figure size 500x500 with 1 Axes>"
      ]
     },
     "metadata": {},
     "output_type": "display_data"
    }
   ],
   "source": [
    "%matplotlib inline\n",
    "df = pd.read_csv(\"https://raw.github.com/Sta663-Sp22/sta663-sp22.github.io/master/slides/data/gp.csv\")\n",
    "sns.relplot(data=df, x=\"x\", y=\"y\")"
   ]
  },
  {
   "cell_type": "code",
   "execution_count": 72,
   "id": "fc56d7ad-ca54-4417-bc73-1e194ca206de",
   "metadata": {},
   "outputs": [
    {
     "data": {
      "text/plain": [
       "array([ 2.36985684, -8.49429068, 13.95066369, -8.39215284])"
      ]
     },
     "execution_count": 72,
     "metadata": {},
     "output_type": "execute_result"
    }
   ],
   "source": [
    "X = np.c_[\n",
    "    np.ones(df.shape[0]),\n",
    "    df.x,\n",
    "    df.x**2,\n",
    "    df.x**3\n",
    "]\n",
    "\n",
    "plm = LinearRegression(fit_intercept = False).fit(X=X, y=df.y)\n",
    "\n",
    "plm.coef_"
   ]
  },
  {
   "cell_type": "code",
   "execution_count": 73,
   "id": "06e1e8ba-44e7-4c86-987f-060027dd518a",
   "metadata": {},
   "outputs": [
    {
     "data": {
      "image/png": "[encoded data removed]",
      "text/plain": [
       "<Figure size 640x480 with 1 Axes>"
      ]
     },
     "metadata": {},
     "output_type": "display_data"
    }
   ],
   "source": [
    "df[\"y_pred\"] = plm.predict(X=X)\n",
    "plt.figure(layout=\"constrained\")\n",
    "sns.scatterplot(data=df, x=\"x\", y=\"y\")\n",
    "sns.lineplot(data=df, x=\"x\", y=\"y_pred\", color=\"k\")\n",
    "plt.show()"
   ]
  },
  {
   "cell_type": "code",
   "execution_count": 74,
   "id": "0f68eb17-6dd0-4434-b1f3-ddf0caaea873",
   "metadata": {},
   "outputs": [
    {
     "data": {
      "text/plain": [
       "array(['1', 'x0', 'x0^2', 'x0^3'], dtype=object)"
      ]
     },
     "execution_count": 74,
     "metadata": {},
     "output_type": "execute_result"
    }
   ],
   "source": [
    "from sklearn.preprocessing import PolynomialFeatures\n",
    "X = np.array(range(6)).reshape(-1,1)\n",
    "pf = PolynomialFeatures(degree=3)\n",
    "pf.fit(X)\n",
    "pf.transform(X)\n",
    "pf.get_feature_names_out()"
   ]
  },
  {
   "cell_type": "code",
   "execution_count": 75,
   "id": "5c30b669-d5f9-40a6-9956-8b34300cca1b",
   "metadata": {},
   "outputs": [
    {
     "data": {
      "text/plain": [
       "array(['x0', 'x1', 'x0^2', 'x0 x1', 'x1^2', 'x0^3', 'x0^2 x1', 'x0 x1^2',\n",
       "       'x1^3'], dtype=object)"
      ]
     },
     "execution_count": 75,
     "metadata": {},
     "output_type": "execute_result"
    }
   ],
   "source": [
    "X.reshape(-1, 2)\n",
    "\n",
    "pf = PolynomialFeatures(degree=3, include_bias=False)\n",
    "pf.fit_transform(X.reshape(-1, 2))\n",
    "pf.get_feature_names_out()"
   ]
  },
  {
   "cell_type": "code",
   "execution_count": 77,
   "id": "4746bc13-e31a-4a43-80ca-a8e3d452eb28",
   "metadata": {},
   "outputs": [
    {
     "data": {
      "text/plain": [
       "0.5208157900621084"
      ]
     },
     "execution_count": 77,
     "metadata": {},
     "output_type": "execute_result"
    }
   ],
   "source": [
    "def poly_model(X, y, degree):\n",
    "    X  = PolynomialFeatures(\n",
    "        degree=degree, include_bias=False\n",
    "        ).fit_transform(X=X)\n",
    "    y_pred = LinearRegression().fit(X=X, y=y).predict(X)\n",
    "    return mean_squared_error(y, y_pred, squared=False)\n",
    "\n",
    "poly_model(X = df[[\"x\"]], y = df.y, degree = 2)\n",
    "poly_model(X = df[[\"x\"]], y = df.y, degree = 3)"
   ]
  },
  {
   "cell_type": "code",
   "execution_count": 78,
   "id": "7d734653-8c0f-4777-a6c2-fc7109ebec03",
   "metadata": {},
   "outputs": [
    {
     "data": {
      "text/plain": [
       "<seaborn.axisgrid.FacetGrid at 0x7f93d3eb85b0>"
      ]
     },
     "execution_count": 78,
     "metadata": {},
     "output_type": "execute_result"
    },
    {
     "data": {
      "image/png": "[encoded data removed]",
      "text/plain": [
       "<Figure size 500x500 with 1 Axes>"
      ]
     },
     "metadata": {},
     "output_type": "display_data"
    }
   ],
   "source": [
    "degrees = range(1,11)\n",
    "rmses = [poly_model(X=df[[\"x\"]], y=df.y, degree=d) \n",
    "         for d in degrees]\n",
    "sns.relplot(x=degrees, y=rmses)"
   ]
  },
  {
   "cell_type": "markdown",
   "id": "5ff8bf8f-118d-4d43-8bad-4dc7a6321027",
   "metadata": {},
   "source": [
    "## Pipelines"
   ]
  },
  {
   "cell_type": "code",
   "execution_count": 79,
   "id": "587707c1-8ff1-4068-a1ee-cff1737a120a",
   "metadata": {},
   "outputs": [
    {
     "data": {
      "text/plain": [
       "Pipeline(steps=[('polynomialfeatures', PolynomialFeatures(degree=4)),\n",
       "                ('linearregression', LinearRegression())])"
      ]
     },
     "execution_count": 79,
     "metadata": {},
     "output_type": "execute_result"
    }
   ],
   "source": [
    "# https://zephyrus1111.tistory.com/254\n",
    "\n",
    "from sklearn.pipeline import make_pipeline\n",
    "\n",
    "p = make_pipeline(\n",
    "    PolynomialFeatures(degree=4),\n",
    "    LinearRegression()\n",
    ")\n",
    "\n",
    "p"
   ]
  },
  {
   "cell_type": "code",
   "execution_count": 84,
   "id": "ea48d51e-b7f7-4bc7-9b1b-8873e0afe3e4",
   "metadata": {},
   "outputs": [
    {
     "data": {
      "text/plain": [
       "Pipeline(steps=[('polynomialfeatures', PolynomialFeatures(degree=4)),\n",
       "                ('linearregression', LinearRegression())])"
      ]
     },
     "execution_count": 84,
     "metadata": {},
     "output_type": "execute_result"
    }
   ],
   "source": [
    "p = p.fit(X = df[[\"x\"]], y = df.y)\n",
    "p"
   ]
  },
  {
   "cell_type": "code",
   "execution_count": 85,
   "id": "877ba5ab-c8fb-4292-a80d-1810076b555c",
   "metadata": {},
   "outputs": [
    {
     "data": {
      "image/png": "[encoded data removed]",
      "text/plain": [
       "<Figure size 640x480 with 1 Axes>"
      ]
     },
     "metadata": {},
     "output_type": "display_data"
    }
   ],
   "source": [
    "p.predict(X = df[[\"x\"]])\n",
    "plt.figure(layout=\"constrained\")\n",
    "sns.scatterplot(data=df, x=\"x\", y=\"y\")\n",
    "sns.lineplot(x=df.x, y=p.predict(X = df[[\"x\"]]), color=\"k\")\n",
    "plt.show()"
   ]
  },
  {
   "cell_type": "code",
   "execution_count": 86,
   "id": "537adf34-4b90-46cb-883b-54337a31ce2a",
   "metadata": {},
   "outputs": [
    {
     "ename": "AttributeError",
     "evalue": "'Pipeline' object has no attribute 'coef_'",
     "output_type": "error",
     "traceback": [
      "\u001b[0;31m---------------------------------------------------------------------------\u001b[0m",
      "\u001b[0;31mAttributeError\u001b[0m                            Traceback (most recent call last)",
      "\u001b[0;32m/var/folders/0m/966_8tjn5pddy9gxt6rqdwh00000gn/T/ipykernel_16219/134630012.py\u001b[0m in \u001b[0;36m<module>\u001b[0;34m\u001b[0m\n\u001b[0;32m----> 1\u001b[0;31m \u001b[0mp\u001b[0m\u001b[0;34m.\u001b[0m\u001b[0mcoef_\u001b[0m\u001b[0;34m\u001b[0m\u001b[0;34m\u001b[0m\u001b[0m\n\u001b[0m",
      "\u001b[0;31mAttributeError\u001b[0m: 'Pipeline' object has no attribute 'coef_'"
     ]
    }
   ],
   "source": [
    "p.coef_"
   ]
  },
  {
   "cell_type": "code",
   "execution_count": 87,
   "id": "b325cdc0-c2c9-4dfc-a971-d301b97da48f",
   "metadata": {},
   "outputs": [
    {
     "data": {
      "text/plain": [
       "[('polynomialfeatures', PolynomialFeatures(degree=4)),\n",
       " ('linearregression', LinearRegression())]"
      ]
     },
     "execution_count": 87,
     "metadata": {},
     "output_type": "execute_result"
    }
   ],
   "source": [
    "p.named_steps[\"linearregression\"].intercept_\n",
    "p.steps[1][1].coef_\n",
    "p.steps"
   ]
  },
  {
   "cell_type": "code",
   "execution_count": 88,
   "id": "e0495b12-c661-4c88-ac01-df8fe7e65ae2",
   "metadata": {},
   "outputs": [
    {
     "data": {
      "text/plain": [
       "array(['1', 'x', 'x^2', 'x^3', 'x^4'], dtype=object)"
      ]
     },
     "execution_count": 88,
     "metadata": {},
     "output_type": "execute_result"
    }
   ],
   "source": [
    "p.steps[0][1].get_feature_names_out()"
   ]
  },
  {
   "cell_type": "code",
   "execution_count": 90,
   "id": "6be75f66-7867-46b2-91cf-e27f45689595",
   "metadata": {},
   "outputs": [
    {
     "data": {
      "text/plain": [
       "array([  1.61366366,   7.39051417, -57.67175293, 102.72227443,\n",
       "       -55.38181361])"
      ]
     },
     "execution_count": 90,
     "metadata": {},
     "output_type": "execute_result"
    }
   ],
   "source": [
    "p.named_steps[\"linearregression\"].get_params()\n",
    "p.named_steps[\"linearregression\"].set_params(fit_intercept=False)\n",
    "p.fit(X = df[[\"x\"]], y = df.y)\n",
    "p.named_steps[\"linearregression\"].intercept_\n",
    "p.named_steps[\"linearregression\"].coef_"
   ]
  },
  {
   "cell_type": "markdown",
   "id": "4c007296-d3df-4716-88e8-a88cf8a9b982",
   "metadata": {},
   "source": [
    "### Tuning parameter"
   ]
  },
  {
   "cell_type": "code",
   "execution_count": 91,
   "id": "e57a48e9-b7fc-4fce-8a4f-bcc6c1d20c1c",
   "metadata": {},
   "outputs": [
    {
     "data": {
      "text/plain": [
       "GridSearchCV(cv=KFold(n_splits=5, random_state=None, shuffle=True),\n",
       "             estimator=Pipeline(steps=[('polynomialfeatures',\n",
       "                                        PolynomialFeatures()),\n",
       "                                       ('linearregression',\n",
       "                                        LinearRegression(fit_intercept=False))]),\n",
       "             param_grid={'polynomialfeatures__degree': range(1, 11)},\n",
       "             scoring='neg_root_mean_squared_error')"
      ]
     },
     "execution_count": 91,
     "metadata": {},
     "output_type": "execute_result"
    }
   ],
   "source": [
    "# built in automated tuning\n",
    "from sklearn.model_selection import GridSearchCV, KFold\n",
    "\n",
    "p = make_pipeline(\n",
    "    PolynomialFeatures(include_bias=True),\n",
    "    LinearRegression(fit_intercept=False)\n",
    ")\n",
    "\n",
    "grid_search = GridSearchCV(\n",
    "  estimator = p, \n",
    "  param_grid = {\"polynomialfeatures__degree\": range(1,11)},\n",
    "  scoring = \"neg_root_mean_squared_error\",\n",
    "  cv = KFold(shuffle=True)\n",
    ")\n",
    "\n",
    "grid_search"
   ]
  }
 ],
 "metadata": {
  "kernelspec": {
   "display_name": "Python 3 (ipykernel)",
   "language": "python",
   "name": "python3"
  },
  "language_info": {
   "codemirror_mode": {
    "name": "ipython",
    "version": 3
   },
   "file_extension": ".py",
   "mimetype": "text/x-python",
   "name": "python",
   "nbconvert_exporter": "python",
   "pygments_lexer": "ipython3",
   "version": "3.9.13"
  }
 },
 "nbformat": 4,
 "nbformat_minor": 5
}
